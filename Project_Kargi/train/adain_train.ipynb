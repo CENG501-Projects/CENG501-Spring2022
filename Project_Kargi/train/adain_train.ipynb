{
  "cells": [
    {
      "cell_type": "code",
      "execution_count": null,
      "metadata": {
        "colab": {
          "base_uri": "https://localhost:8080/",
          "height": 1000,
          "resources": {
            "http://localhost:8080/nbextensions/google.colab/files.js": {
              "data": "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",
              "headers": [
                [
                  "content-type",
                  "application/javascript"
                ]
              ],
              "ok": true,
              "status": 200,
              "status_text": ""
            }
          }
        },
        "id": "EvKpfH69kil_",
        "outputId": "6b61bce3-7c9a-4f0f-8578-4f813b594806"
      },
      "outputs": [
        {
          "output_type": "stream",
          "name": "stdout",
          "text": [
            "Looking in indexes: https://pypi.org/simple, https://us-python.pkg.dev/colab-wheels/public/simple/\n",
            "Requirement already satisfied: kaggle in /usr/local/lib/python3.7/dist-packages (1.5.12)\n",
            "Requirement already satisfied: certifi in /usr/local/lib/python3.7/dist-packages (from kaggle) (2022.6.15)\n",
            "Requirement already satisfied: python-dateutil in /usr/local/lib/python3.7/dist-packages (from kaggle) (2.8.2)\n",
            "Requirement already satisfied: tqdm in /usr/local/lib/python3.7/dist-packages (from kaggle) (4.64.0)\n",
            "Requirement already satisfied: urllib3 in /usr/local/lib/python3.7/dist-packages (from kaggle) (1.24.3)\n",
            "Requirement already satisfied: requests in /usr/local/lib/python3.7/dist-packages (from kaggle) (2.23.0)\n",
            "Requirement already satisfied: six>=1.10 in /usr/local/lib/python3.7/dist-packages (from kaggle) (1.15.0)\n",
            "Requirement already satisfied: python-slugify in /usr/local/lib/python3.7/dist-packages (from kaggle) (6.1.2)\n",
            "Requirement already satisfied: text-unidecode>=1.3 in /usr/local/lib/python3.7/dist-packages (from python-slugify->kaggle) (1.3)\n",
            "Requirement already satisfied: chardet<4,>=3.0.2 in /usr/local/lib/python3.7/dist-packages (from requests->kaggle) (3.0.4)\n",
            "Requirement already satisfied: idna<3,>=2.5 in /usr/local/lib/python3.7/dist-packages (from requests->kaggle) (2.10)\n"
          ]
        },
        {
          "output_type": "display_data",
          "data": {
            "text/plain": [
              "<IPython.core.display.HTML object>"
            ],
            "text/html": [
              "\n",
              "     <input type=\"file\" id=\"files-5ba1e05c-99d7-4a9e-96b2-4d19c43545b4\" name=\"files[]\" multiple disabled\n",
              "        style=\"border:none\" />\n",
              "     <output id=\"result-5ba1e05c-99d7-4a9e-96b2-4d19c43545b4\">\n",
              "      Upload widget is only available when the cell has been executed in the\n",
              "      current browser session. Please rerun this cell to enable.\n",
              "      </output>\n",
              "      <script src=\"/nbextensions/google.colab/files.js\"></script> "
            ]
          },
          "metadata": {}
        },
        {
          "output_type": "stream",
          "name": "stdout",
          "text": [
            "Saving kaggle.json to kaggle.json\n",
            "User uploaded file \"kaggle.json\" with length 65 bytes\n",
            "Warning: Your Kaggle API key is readable by other users on this system! To fix this, you can run 'chmod 600 /root/.kaggle/kaggle.json'\n",
            "Downloading train.zip to /content\n",
            "100% 36.0G/36.0G [04:58<00:00, 209MB/s]\n",
            "100% 36.0G/36.0G [04:58<00:00, 129MB/s]\n",
            "Found existing installation: kaggle 1.5.12\n",
            "Uninstalling kaggle-1.5.12:\n",
            "  Successfully uninstalled kaggle-1.5.12\n",
            "\n",
            "Usage:   \n",
            "  pip3 install [options] <requirement specifier> [package-index-options] ...\n",
            "  pip3 install [options] -r <requirements file> [package-index-options] ...\n",
            "  pip3 install [options] [-e] <vcs project url> ...\n",
            "  pip3 install [options] [-e] <local project path> ...\n",
            "  pip3 install [options] <archive url/path> ...\n",
            "\n",
            "no such option: -u\n",
            "Looking in indexes: https://pypi.org/simple, https://us-python.pkg.dev/colab-wheels/public/simple/\n",
            "Collecting kaggle==1.5.6\n",
            "  Downloading kaggle-1.5.6.tar.gz (58 kB)\n",
            "\u001b[K     |████████████████████████████████| 58 kB 4.2 MB/s \n",
            "\u001b[?25hRequirement already satisfied: urllib3<1.25,>=1.21.1 in /usr/local/lib/python3.7/dist-packages (from kaggle==1.5.6) (1.24.3)\n",
            "Requirement already satisfied: six>=1.10 in /usr/local/lib/python3.7/dist-packages (from kaggle==1.5.6) (1.15.0)\n",
            "Requirement already satisfied: certifi in /usr/local/lib/python3.7/dist-packages (from kaggle==1.5.6) (2022.6.15)\n",
            "Requirement already satisfied: python-dateutil in /usr/local/lib/python3.7/dist-packages (from kaggle==1.5.6) (2.8.2)\n",
            "Requirement already satisfied: requests in /usr/local/lib/python3.7/dist-packages (from kaggle==1.5.6) (2.23.0)\n",
            "Requirement already satisfied: tqdm in /usr/local/lib/python3.7/dist-packages (from kaggle==1.5.6) (4.64.0)\n",
            "Requirement already satisfied: python-slugify in /usr/local/lib/python3.7/dist-packages (from kaggle==1.5.6) (6.1.2)\n",
            "Requirement already satisfied: text-unidecode>=1.3 in /usr/local/lib/python3.7/dist-packages (from python-slugify->kaggle==1.5.6) (1.3)\n",
            "Requirement already satisfied: chardet<4,>=3.0.2 in /usr/local/lib/python3.7/dist-packages (from requests->kaggle==1.5.6) (3.0.4)\n",
            "Requirement already satisfied: idna<3,>=2.5 in /usr/local/lib/python3.7/dist-packages (from requests->kaggle==1.5.6) (2.10)\n",
            "Building wheels for collected packages: kaggle\n",
            "  Building wheel for kaggle (setup.py) ... \u001b[?25l\u001b[?25hdone\n",
            "  Created wheel for kaggle: filename=kaggle-1.5.6-py3-none-any.whl size=72858 sha256=f1b29e138f58e4752a5d296780efcf50a71ed638e64f9ac51c66cd8bf648b03a\n",
            "  Stored in directory: /root/.cache/pip/wheels/aa/e7/e7/eb3c3d514c33294d77ddd5a856bdd58dc9c1fabbed59a02a2b\n",
            "Successfully built kaggle\n",
            "Installing collected packages: kaggle\n",
            "Successfully installed kaggle-1.5.6\n",
            "Warning: Your Kaggle API key is readable by other users on this system! To fix this, you can run 'chmod 600 /root/.kaggle/kaggle.json'\n",
            "Kaggle API 1.5.6\n",
            "--2022-06-24 14:49:08--  http://images.cocodataset.org/zips/train2014.zip\n",
            "Resolving images.cocodataset.org (images.cocodataset.org)... 52.217.9.100\n",
            "Connecting to images.cocodataset.org (images.cocodataset.org)|52.217.9.100|:80... connected.\n",
            "HTTP request sent, awaiting response... 200 OK\n",
            "Length: 13510573713 (13G) [application/zip]\n",
            "Saving to: ‘train2014.zip’\n",
            "\n",
            "train2014.zip       100%[===================>]  12.58G  45.0MB/s    in 4m 46s  \n",
            "\n",
            "2022-06-24 14:53:54 (45.1 MB/s) - ‘train2014.zip’ saved [13510573713/13510573713]\n",
            "\n",
            "Looking in indexes: https://pypi.org/simple, https://us-python.pkg.dev/colab-wheels/public/simple/\n",
            "Requirement already satisfied: tqdm in /usr/local/lib/python3.7/dist-packages (4.64.0)\n",
            "Looking in indexes: https://pypi.org/simple, https://us-python.pkg.dev/colab-wheels/public/simple/\n",
            "Collecting TensorboardX\n",
            "  Downloading tensorboardX-2.5.1-py2.py3-none-any.whl (125 kB)\n",
            "\u001b[K     |████████████████████████████████| 125 kB 7.6 MB/s \n",
            "\u001b[?25hRequirement already satisfied: protobuf<=3.20.1,>=3.8.0 in /usr/local/lib/python3.7/dist-packages (from TensorboardX) (3.17.3)\n",
            "Requirement already satisfied: numpy in /usr/local/lib/python3.7/dist-packages (from TensorboardX) (1.21.6)\n",
            "Requirement already satisfied: six>=1.9 in /usr/local/lib/python3.7/dist-packages (from protobuf<=3.20.1,>=3.8.0->TensorboardX) (1.15.0)\n",
            "Installing collected packages: TensorboardX\n",
            "Successfully installed TensorboardX-2.5.1\n"
          ]
        }
      ],
      "source": [
        "!pip install kaggle\n",
        "from google.colab import files\n",
        "\n",
        "\n",
        "uploaded = files.upload()\n",
        "\n",
        "# Upload your kaggle.json here...\n",
        "for fn in uploaded.keys():\n",
        "  print('User uploaded file \"{name}\" with length {length} bytes'.format(\n",
        "      name=fn, length=len(uploaded[fn])))\n",
        "\n",
        "!mkdir -p ~/.kaggle\n",
        "!cp kaggle.json ~/.kaggle\n",
        "\n",
        "!kaggle competitions download painter-by-numbers -f train.zip\n",
        "!pip uninstall -y kaggle\n",
        "!pip install -upgrade pip\n",
        "!pip install kaggle==1.5.6\n",
        "!kaggle -v\n",
        "\n",
        "!wget http://images.cocodataset.org/zips/train2014.zip\n",
        "\n",
        "!unzip -q train.zip\n",
        "!unzip -q train2014.zip\n",
        "\n",
        "!rm train.zip\n",
        "!rm train2014.zip\n",
        "\n",
        "!pip3 install tqdm\n",
        "!pip3 install TensorboardX\n",
        "\n",
        "!mkdir experiments\n",
        "!mkdir logs"
      ]
    },
    {
      "cell_type": "code",
      "execution_count": null,
      "metadata": {
        "colab": {
          "base_uri": "https://localhost:8080/"
        },
        "id": "Gh6E2WPBlc4X",
        "outputId": "77580968-075a-43ed-c4b0-9ceefa46d8b3"
      },
      "outputs": [
        {
          "output_type": "stream",
          "name": "stdout",
          "text": [
            "\u001b[K     |████████████████████████████████| 1.8 MB 8.6 MB/s \n",
            "\u001b[K     |████████████████████████████████| 145 kB 48.3 MB/s \n",
            "\u001b[K     |████████████████████████████████| 181 kB 41.5 MB/s \n",
            "\u001b[K     |████████████████████████████████| 63 kB 1.8 MB/s \n",
            "\u001b[?25h  Building wheel for pathtools (setup.py) ... \u001b[?25l\u001b[?25hdone\n"
          ]
        },
        {
          "output_type": "stream",
          "name": "stderr",
          "text": [
            "\u001b[34m\u001b[1mwandb\u001b[0m: W&B API key is configured. Use \u001b[1m`wandb login --relogin`\u001b[0m to force relogin\n",
            "\u001b[34m\u001b[1mwandb\u001b[0m: \u001b[33mWARNING\u001b[0m If you're specifying your api key in code, ensure this code is not shared publicly.\n",
            "\u001b[34m\u001b[1mwandb\u001b[0m: \u001b[33mWARNING\u001b[0m Consider setting the WANDB_API_KEY environment variable, or running `wandb login` from the command line.\n",
            "\u001b[34m\u001b[1mwandb\u001b[0m: Appending key for api.wandb.ai to your netrc file: /root/.netrc\n"
          ]
        },
        {
          "output_type": "execute_result",
          "data": {
            "text/plain": [
              "True"
            ]
          },
          "metadata": {},
          "execution_count": 2
        }
      ],
      "source": [
        "!pip install wandb -qqq\n",
        "\n",
        "import wandb\n",
        "\n",
        "wandb.login(key = \"39d47fc12447fe95973c3385625ab036bdcb121c\")"
      ]
    },
    {
      "cell_type": "code",
      "execution_count": null,
      "metadata": {
        "colab": {
          "base_uri": "https://localhost:8080/",
          "height": 1000,
          "referenced_widgets": [
            "d3d297cc12d94b708d8ad3080fefc5d6",
            "cbc2892171ee406f944bf4b9d1e10e88",
            "8a0b62f5dce94d10b439c7c580dc78a8",
            "7bbc6a45a8204d1099757f2541214875",
            "e8b40930f1904e6cafe775b415f86bd1",
            "9a7db2a6a9f943b2bcba6fa5c87daa7f",
            "b5e15e697b5147ad82b1526aacf9e1db",
            "536adad547ea41af89b0c82f918dc3d3"
          ]
        },
        "id": "T84vob58ktLX",
        "outputId": "e4bb7ce8-ebf4-40cf-f0f8-c69da3815fc2"
      },
      "outputs": [
        {
          "output_type": "stream",
          "name": "stderr",
          "text": [
            "\u001b[34m\u001b[1mwandb\u001b[0m: Currently logged in as: \u001b[33mkbora\u001b[0m (\u001b[33mdeep-bora\u001b[0m). Use \u001b[1m`wandb login --relogin`\u001b[0m to force relogin\n"
          ]
        },
        {
          "output_type": "display_data",
          "data": {
            "text/plain": [
              "<IPython.core.display.HTML object>"
            ],
            "text/html": [
              "Tracking run with wandb version 0.12.19"
            ]
          },
          "metadata": {}
        },
        {
          "output_type": "display_data",
          "data": {
            "text/plain": [
              "<IPython.core.display.HTML object>"
            ],
            "text/html": [
              "Run data is saved locally in <code>/content/wandb/run-20220624_150408-fg15xklu</code>"
            ]
          },
          "metadata": {}
        },
        {
          "output_type": "display_data",
          "data": {
            "text/plain": [
              "<IPython.core.display.HTML object>"
            ],
            "text/html": [
              "Syncing run <strong><a href=\"https://wandb.ai/deep-bora/adain-original/runs/fg15xklu\" target=\"_blank\">sunny-jazz-5</a></strong> to <a href=\"https://wandb.ai/deep-bora/adain-original\" target=\"_blank\">Weights & Biases</a> (<a href=\"https://wandb.me/run\" target=\"_blank\">docs</a>)<br/>"
            ]
          },
          "metadata": {}
        },
        {
          "output_type": "stream",
          "name": "stderr",
          "text": [
            "\r  0%|          | 0/50000 [00:00<?, ?it/s]/usr/local/lib/python3.7/dist-packages/torch/nn/functional.py:780: UserWarning: Note that order of the arguments: ceil_mode and return_indices will changeto match the args list in nn.MaxPool2d in a future release.\n",
            "  warnings.warn(\"Note that order of the arguments: ceil_mode and return_indices will change\"\n",
            "  0%|          | 1/50000 [00:02<33:11:21,  2.39s/it]"
          ]
        },
        {
          "output_type": "stream",
          "name": "stdout",
          "text": [
            "loss_c : 1.3328452110290527  loss_s : 3.4575376510620117  loss : 4.7903828620910645\n"
          ]
        },
        {
          "output_type": "stream",
          "name": "stderr",
          "text": [
            "  0%|          | 101/50000 [00:48<6:34:58,  2.11it/s]"
          ]
        },
        {
          "output_type": "stream",
          "name": "stdout",
          "text": [
            "loss_c : 1.785341501235962  loss_s : 5.8962507247924805  loss : 7.681591987609863\n"
          ]
        },
        {
          "output_type": "stream",
          "name": "stderr",
          "text": [
            "  0%|          | 201/50000 [01:31<6:29:32,  2.13it/s]"
          ]
        },
        {
          "output_type": "stream",
          "name": "stdout",
          "text": [
            "loss_c : 1.079535961151123  loss_s : 2.721123695373535  loss : 3.800659656524658\n"
          ]
        },
        {
          "output_type": "stream",
          "name": "stderr",
          "text": [
            "  1%|          | 301/50000 [02:14<4:52:49,  2.83it/s]"
          ]
        },
        {
          "output_type": "stream",
          "name": "stdout",
          "text": [
            "loss_c : 1.2529884576797485  loss_s : 4.834934234619141  loss : 6.0879225730896\n"
          ]
        },
        {
          "output_type": "stream",
          "name": "stderr",
          "text": [
            "  1%|          | 401/50000 [02:59<7:48:54,  1.76it/s]"
          ]
        },
        {
          "output_type": "stream",
          "name": "stdout",
          "text": [
            "loss_c : 1.3178389072418213  loss_s : 3.622633457183838  loss : 4.940472602844238\n"
          ]
        },
        {
          "output_type": "stream",
          "name": "stderr",
          "text": [
            "  1%|          | 501/50000 [03:43<6:39:09,  2.07it/s]"
          ]
        },
        {
          "output_type": "stream",
          "name": "stdout",
          "text": [
            "loss_c : 1.2957959175109863  loss_s : 4.025735855102539  loss : 5.321531772613525\n"
          ]
        },
        {
          "output_type": "stream",
          "name": "stderr",
          "text": [
            "  1%|          | 601/50000 [04:28<8:16:35,  1.66it/s]"
          ]
        },
        {
          "output_type": "stream",
          "name": "stdout",
          "text": [
            "loss_c : 1.6212178468704224  loss_s : 4.878610610961914  loss : 6.499828338623047\n"
          ]
        },
        {
          "output_type": "stream",
          "name": "stderr",
          "text": [
            "  1%|▏         | 701/50000 [05:09<5:50:38,  2.34it/s]"
          ]
        },
        {
          "output_type": "stream",
          "name": "stdout",
          "text": [
            "loss_c : 1.567317008972168  loss_s : 6.1835150718688965  loss : 7.7508320808410645\n"
          ]
        },
        {
          "output_type": "stream",
          "name": "stderr",
          "text": [
            "  2%|▏         | 801/50000 [05:53<5:05:31,  2.68it/s]"
          ]
        },
        {
          "output_type": "stream",
          "name": "stdout",
          "text": [
            "loss_c : 0.8460803031921387  loss_s : 3.5156333446502686  loss : 4.361713409423828\n"
          ]
        },
        {
          "output_type": "stream",
          "name": "stderr",
          "text": [
            "  2%|▏         | 901/50000 [06:35<5:14:25,  2.60it/s]"
          ]
        },
        {
          "output_type": "stream",
          "name": "stdout",
          "text": [
            "loss_c : 1.7764335870742798  loss_s : 3.751209020614624  loss : 5.527642726898193\n"
          ]
        },
        {
          "output_type": "stream",
          "name": "stderr",
          "text": [
            "  2%|▏         | 1001/50000 [07:21<5:43:55,  2.37it/s]"
          ]
        },
        {
          "output_type": "stream",
          "name": "stdout",
          "text": [
            "loss_c : 0.8316515684127808  loss_s : 2.8859620094299316  loss : 3.717613697052002\n"
          ]
        },
        {
          "output_type": "stream",
          "name": "stderr",
          "text": [
            "  2%|▏         | 1101/50000 [08:06<5:50:18,  2.33it/s]"
          ]
        },
        {
          "output_type": "stream",
          "name": "stdout",
          "text": [
            "loss_c : 1.4978046417236328  loss_s : 3.1556363105773926  loss : 4.653440952301025\n"
          ]
        },
        {
          "output_type": "stream",
          "name": "stderr",
          "text": [
            "  2%|▏         | 1201/50000 [08:46<5:37:44,  2.41it/s]"
          ]
        },
        {
          "output_type": "stream",
          "name": "stdout",
          "text": [
            "loss_c : 1.5956130027770996  loss_s : 3.965287446975708  loss : 5.560900688171387\n"
          ]
        },
        {
          "output_type": "stream",
          "name": "stderr",
          "text": [
            "  3%|▎         | 1301/50000 [09:35<4:55:32,  2.75it/s]"
          ]
        },
        {
          "output_type": "stream",
          "name": "stdout",
          "text": [
            "loss_c : 1.4221937656402588  loss_s : 3.940277099609375  loss : 5.362470626831055\n"
          ]
        },
        {
          "output_type": "stream",
          "name": "stderr",
          "text": [
            "  3%|▎         | 1401/50000 [10:18<6:18:11,  2.14it/s]"
          ]
        },
        {
          "output_type": "stream",
          "name": "stdout",
          "text": [
            "loss_c : 1.4600236415863037  loss_s : 4.032313823699951  loss : 5.492337226867676\n"
          ]
        },
        {
          "output_type": "stream",
          "name": "stderr",
          "text": [
            "  3%|▎         | 1501/50000 [11:01<7:43:10,  1.75it/s]"
          ]
        },
        {
          "output_type": "stream",
          "name": "stdout",
          "text": [
            "loss_c : 1.0782793760299683  loss_s : 2.259474277496338  loss : 3.3377537727355957\n"
          ]
        },
        {
          "output_type": "stream",
          "name": "stderr",
          "text": [
            "  3%|▎         | 1601/50000 [11:48<8:12:59,  1.64it/s]"
          ]
        },
        {
          "output_type": "stream",
          "name": "stdout",
          "text": [
            "loss_c : 1.647134780883789  loss_s : 3.9797372817993164  loss : 5.6268720626831055\n"
          ]
        },
        {
          "output_type": "stream",
          "name": "stderr",
          "text": [
            "  3%|▎         | 1701/50000 [12:30<3:58:31,  3.37it/s]"
          ]
        },
        {
          "output_type": "stream",
          "name": "stdout",
          "text": [
            "loss_c : 1.0575971603393555  loss_s : 2.457977533340454  loss : 3.5155746936798096\n"
          ]
        },
        {
          "output_type": "stream",
          "name": "stderr",
          "text": [
            "  4%|▎         | 1801/50000 [13:14<6:21:00,  2.11it/s]"
          ]
        },
        {
          "output_type": "stream",
          "name": "stdout",
          "text": [
            "loss_c : 1.5365889072418213  loss_s : 5.850160121917725  loss : 7.386749267578125\n"
          ]
        },
        {
          "output_type": "stream",
          "name": "stderr",
          "text": [
            "  4%|▍         | 1901/50000 [13:58<4:58:59,  2.68it/s]"
          ]
        },
        {
          "output_type": "stream",
          "name": "stdout",
          "text": [
            "loss_c : 1.862657070159912  loss_s : 6.611940860748291  loss : 8.474597930908203\n"
          ]
        },
        {
          "output_type": "stream",
          "name": "stderr",
          "text": [
            "  4%|▍         | 2001/50000 [14:47<7:02:53,  1.89it/s]"
          ]
        },
        {
          "output_type": "stream",
          "name": "stdout",
          "text": [
            "loss_c : 0.8753575682640076  loss_s : 3.116933822631836  loss : 3.9922914505004883\n"
          ]
        },
        {
          "output_type": "stream",
          "name": "stderr",
          "text": [
            "  4%|▍         | 2101/50000 [15:33<5:24:17,  2.46it/s]"
          ]
        },
        {
          "output_type": "stream",
          "name": "stdout",
          "text": [
            "loss_c : 0.9981194734573364  loss_s : 2.293894052505493  loss : 3.292013645172119\n"
          ]
        },
        {
          "output_type": "stream",
          "name": "stderr",
          "text": [
            "  4%|▍         | 2201/50000 [16:19<6:21:06,  2.09it/s]"
          ]
        },
        {
          "output_type": "stream",
          "name": "stdout",
          "text": [
            "loss_c : 1.7750828266143799  loss_s : 3.865663528442383  loss : 5.640746116638184\n"
          ]
        },
        {
          "output_type": "stream",
          "name": "stderr",
          "text": [
            "  5%|▍         | 2301/50000 [17:03<6:10:41,  2.14it/s]"
          ]
        },
        {
          "output_type": "stream",
          "name": "stdout",
          "text": [
            "loss_c : 1.3565762042999268  loss_s : 3.8053295612335205  loss : 5.161905765533447\n"
          ]
        },
        {
          "output_type": "stream",
          "name": "stderr",
          "text": [
            "  5%|▍         | 2401/50000 [17:47<5:00:29,  2.64it/s]"
          ]
        },
        {
          "output_type": "stream",
          "name": "stdout",
          "text": [
            "loss_c : 1.5848220586776733  loss_s : 3.483642101287842  loss : 5.068464279174805\n"
          ]
        },
        {
          "output_type": "stream",
          "name": "stderr",
          "text": [
            "  5%|▌         | 2501/50000 [18:29<5:36:03,  2.36it/s]"
          ]
        },
        {
          "output_type": "stream",
          "name": "stdout",
          "text": [
            "loss_c : 1.6624996662139893  loss_s : 5.431725978851318  loss : 7.094225883483887\n"
          ]
        },
        {
          "output_type": "stream",
          "name": "stderr",
          "text": [
            "  5%|▌         | 2601/50000 [19:30<10:08:41,  1.30it/s]"
          ]
        },
        {
          "output_type": "stream",
          "name": "stdout",
          "text": [
            "loss_c : 1.5432029962539673  loss_s : 7.652050971984863  loss : 9.1952543258667\n"
          ]
        },
        {
          "output_type": "stream",
          "name": "stderr",
          "text": [
            "  5%|▌         | 2701/50000 [20:16<6:38:38,  1.98it/s]"
          ]
        },
        {
          "output_type": "stream",
          "name": "stdout",
          "text": [
            "loss_c : 0.8101046085357666  loss_s : 2.0627193450927734  loss : 2.87282395362854\n"
          ]
        },
        {
          "output_type": "stream",
          "name": "stderr",
          "text": [
            "  6%|▌         | 2801/50000 [21:04<5:39:18,  2.32it/s]"
          ]
        },
        {
          "output_type": "stream",
          "name": "stdout",
          "text": [
            "loss_c : 1.2958401441574097  loss_s : 3.1986117362976074  loss : 4.494451999664307\n"
          ]
        },
        {
          "output_type": "stream",
          "name": "stderr",
          "text": [
            "  6%|▌         | 2901/50000 [21:50<7:17:50,  1.79it/s]"
          ]
        },
        {
          "output_type": "stream",
          "name": "stdout",
          "text": [
            "loss_c : 1.4474884271621704  loss_s : 2.9200544357299805  loss : 4.367542743682861\n"
          ]
        },
        {
          "output_type": "stream",
          "name": "stderr",
          "text": [
            "  6%|▌         | 3001/50000 [22:34<6:04:08,  2.15it/s]"
          ]
        },
        {
          "output_type": "stream",
          "name": "stdout",
          "text": [
            "loss_c : 1.3175214529037476  loss_s : 4.207736968994141  loss : 5.525258541107178\n"
          ]
        },
        {
          "output_type": "stream",
          "name": "stderr",
          "text": [
            "  6%|▌         | 3101/50000 [23:22<5:56:50,  2.19it/s]"
          ]
        },
        {
          "output_type": "stream",
          "name": "stdout",
          "text": [
            "loss_c : 1.7580063343048096  loss_s : 4.831488609313965  loss : 6.589494705200195\n"
          ]
        },
        {
          "output_type": "stream",
          "name": "stderr",
          "text": [
            "  6%|▋         | 3201/50000 [24:07<5:20:35,  2.43it/s]"
          ]
        },
        {
          "output_type": "stream",
          "name": "stdout",
          "text": [
            "loss_c : 1.1427487134933472  loss_s : 2.730219841003418  loss : 3.8729686737060547\n"
          ]
        },
        {
          "output_type": "stream",
          "name": "stderr",
          "text": [
            "  7%|▋         | 3301/50000 [24:54<6:50:04,  1.90it/s]"
          ]
        },
        {
          "output_type": "stream",
          "name": "stdout",
          "text": [
            "loss_c : 1.4297442436218262  loss_s : 3.9310872554779053  loss : 5.360831260681152\n"
          ]
        },
        {
          "output_type": "stream",
          "name": "stderr",
          "text": [
            "  7%|▋         | 3401/50000 [25:41<5:06:06,  2.54it/s]"
          ]
        },
        {
          "output_type": "stream",
          "name": "stdout",
          "text": [
            "loss_c : 0.7499706149101257  loss_s : 1.6985262632369995  loss : 2.4484968185424805\n"
          ]
        },
        {
          "output_type": "stream",
          "name": "stderr",
          "text": [
            "  7%|▋         | 3501/50000 [26:26<4:22:27,  2.95it/s]"
          ]
        },
        {
          "output_type": "stream",
          "name": "stdout",
          "text": [
            "loss_c : 1.155309796333313  loss_s : 7.567480087280273  loss : 8.722789764404297\n"
          ]
        },
        {
          "output_type": "stream",
          "name": "stderr",
          "text": [
            "  7%|▋         | 3601/50000 [27:22<5:39:41,  2.28it/s]"
          ]
        },
        {
          "output_type": "stream",
          "name": "stdout",
          "text": [
            "loss_c : 1.3479838371276855  loss_s : 4.37794303894043  loss : 5.725926876068115\n"
          ]
        },
        {
          "output_type": "stream",
          "name": "stderr",
          "text": [
            "  7%|▋         | 3701/50000 [28:07<5:10:38,  2.48it/s]"
          ]
        },
        {
          "output_type": "stream",
          "name": "stdout",
          "text": [
            "loss_c : 0.882947564125061  loss_s : 2.4850237369537354  loss : 3.367971420288086\n"
          ]
        },
        {
          "output_type": "stream",
          "name": "stderr",
          "text": [
            "  8%|▊         | 3801/50000 [28:56<6:22:30,  2.01it/s]"
          ]
        },
        {
          "output_type": "stream",
          "name": "stdout",
          "text": [
            "loss_c : 1.569972276687622  loss_s : 4.344842433929443  loss : 5.9148149490356445\n"
          ]
        },
        {
          "output_type": "stream",
          "name": "stderr",
          "text": [
            "  8%|▊         | 3901/50000 [29:41<5:09:04,  2.49it/s]"
          ]
        },
        {
          "output_type": "stream",
          "name": "stdout",
          "text": [
            "loss_c : 1.1870431900024414  loss_s : 2.6649343967437744  loss : 3.851977586746216\n"
          ]
        },
        {
          "output_type": "stream",
          "name": "stderr",
          "text": [
            "  8%|▊         | 4001/50000 [30:25<4:00:48,  3.18it/s]"
          ]
        },
        {
          "output_type": "stream",
          "name": "stdout",
          "text": [
            "loss_c : 1.4112164974212646  loss_s : 7.315219879150391  loss : 8.726436614990234\n"
          ]
        },
        {
          "output_type": "stream",
          "name": "stderr",
          "text": [
            "  8%|▊         | 4101/50000 [31:51<4:01:03,  3.17it/s]"
          ]
        },
        {
          "output_type": "stream",
          "name": "stdout",
          "text": [
            "loss_c : 1.933866024017334  loss_s : 10.539329528808594  loss : 12.473196029663086\n"
          ]
        },
        {
          "output_type": "stream",
          "name": "stderr",
          "text": [
            "  8%|▊         | 4201/50000 [32:58<4:47:44,  2.65it/s]"
          ]
        },
        {
          "output_type": "stream",
          "name": "stdout",
          "text": [
            "loss_c : 1.8977266550064087  loss_s : 5.529806613922119  loss : 7.427533149719238\n"
          ]
        },
        {
          "output_type": "stream",
          "name": "stderr",
          "text": [
            "  9%|▊         | 4301/50000 [33:42<5:18:16,  2.39it/s]"
          ]
        },
        {
          "output_type": "stream",
          "name": "stdout",
          "text": [
            "loss_c : 0.9798827767372131  loss_s : 2.6128549575805664  loss : 3.5927376747131348\n"
          ]
        },
        {
          "output_type": "stream",
          "name": "stderr",
          "text": [
            "  9%|▉         | 4401/50000 [34:51<5:32:58,  2.28it/s]"
          ]
        },
        {
          "output_type": "stream",
          "name": "stdout",
          "text": [
            "loss_c : 1.806628704071045  loss_s : 7.081923484802246  loss : 8.888551712036133\n"
          ]
        },
        {
          "output_type": "stream",
          "name": "stderr",
          "text": [
            "  9%|▉         | 4501/50000 [35:37<7:53:46,  1.60it/s]"
          ]
        },
        {
          "output_type": "stream",
          "name": "stdout",
          "text": [
            "loss_c : 1.4200150966644287  loss_s : 3.2522220611572266  loss : 4.672237396240234\n"
          ]
        },
        {
          "output_type": "stream",
          "name": "stderr",
          "text": [
            "  9%|▉         | 4601/50000 [36:23<8:04:01,  1.56it/s]"
          ]
        },
        {
          "output_type": "stream",
          "name": "stdout",
          "text": [
            "loss_c : 1.340681791305542  loss_s : 3.3667421340942383  loss : 4.707424163818359\n"
          ]
        },
        {
          "output_type": "stream",
          "name": "stderr",
          "text": [
            "  9%|▉         | 4701/50000 [37:05<4:37:42,  2.72it/s]"
          ]
        },
        {
          "output_type": "stream",
          "name": "stdout",
          "text": [
            "loss_c : 1.5115077495574951  loss_s : 4.330380439758301  loss : 5.841888427734375\n"
          ]
        },
        {
          "output_type": "stream",
          "name": "stderr",
          "text": [
            " 10%|▉         | 4801/50000 [37:51<8:21:37,  1.50it/s] "
          ]
        },
        {
          "output_type": "stream",
          "name": "stdout",
          "text": [
            "loss_c : 1.2208948135375977  loss_s : 3.048196792602539  loss : 4.269091606140137\n"
          ]
        },
        {
          "output_type": "stream",
          "name": "stderr",
          "text": [
            " 10%|▉         | 4901/50000 [38:30<4:02:02,  3.11it/s]"
          ]
        },
        {
          "output_type": "stream",
          "name": "stdout",
          "text": [
            "loss_c : 1.6613495349884033  loss_s : 10.701116561889648  loss : 12.362465858459473\n"
          ]
        },
        {
          "output_type": "stream",
          "name": "stderr",
          "text": [
            " 10%|█         | 5001/50000 [39:12<4:40:17,  2.68it/s]"
          ]
        },
        {
          "output_type": "stream",
          "name": "stdout",
          "text": [
            "loss_c : 1.448702335357666  loss_s : 3.3831775188446045  loss : 4.831879615783691\n"
          ]
        },
        {
          "output_type": "stream",
          "name": "stderr",
          "text": [
            " 10%|█         | 5101/50000 [39:53<5:06:54,  2.44it/s]"
          ]
        },
        {
          "output_type": "stream",
          "name": "stdout",
          "text": [
            "loss_c : 1.034561038017273  loss_s : 2.5434718132019043  loss : 3.578032970428467\n"
          ]
        },
        {
          "output_type": "stream",
          "name": "stderr",
          "text": [
            " 10%|█         | 5201/50000 [40:40<4:57:40,  2.51it/s]"
          ]
        },
        {
          "output_type": "stream",
          "name": "stdout",
          "text": [
            "loss_c : 1.091118574142456  loss_s : 4.421677589416504  loss : 5.512796401977539\n"
          ]
        },
        {
          "output_type": "stream",
          "name": "stderr",
          "text": [
            " 11%|█         | 5301/50000 [41:22<5:27:34,  2.27it/s]"
          ]
        },
        {
          "output_type": "stream",
          "name": "stdout",
          "text": [
            "loss_c : 1.2955628633499146  loss_s : 6.474153518676758  loss : 7.769716262817383\n"
          ]
        },
        {
          "output_type": "stream",
          "name": "stderr",
          "text": [
            " 11%|█         | 5401/50000 [42:12<6:56:19,  1.79it/s]"
          ]
        },
        {
          "output_type": "stream",
          "name": "stdout",
          "text": [
            "loss_c : 1.4889421463012695  loss_s : 3.5071280002593994  loss : 4.99606990814209\n"
          ]
        },
        {
          "output_type": "stream",
          "name": "stderr",
          "text": [
            " 11%|█         | 5501/50000 [42:56<4:42:38,  2.62it/s]"
          ]
        },
        {
          "output_type": "stream",
          "name": "stdout",
          "text": [
            "loss_c : 1.1591486930847168  loss_s : 4.403064727783203  loss : 5.56221342086792\n"
          ]
        },
        {
          "output_type": "stream",
          "name": "stderr",
          "text": [
            " 11%|█         | 5601/50000 [43:40<4:49:24,  2.56it/s]"
          ]
        },
        {
          "output_type": "stream",
          "name": "stdout",
          "text": [
            "loss_c : 1.3621418476104736  loss_s : 4.751250267028809  loss : 6.113391876220703\n"
          ]
        },
        {
          "output_type": "stream",
          "name": "stderr",
          "text": [
            " 11%|█▏        | 5701/50000 [44:19<4:04:17,  3.02it/s]"
          ]
        },
        {
          "output_type": "stream",
          "name": "stdout",
          "text": [
            "loss_c : 1.0829272270202637  loss_s : 5.304405212402344  loss : 6.387332439422607\n"
          ]
        },
        {
          "output_type": "stream",
          "name": "stderr",
          "text": [
            " 12%|█▏        | 5801/50000 [45:04<7:12:00,  1.71it/s]"
          ]
        },
        {
          "output_type": "stream",
          "name": "stdout",
          "text": [
            "loss_c : 1.6223591566085815  loss_s : 4.506206035614014  loss : 6.128565311431885\n"
          ]
        },
        {
          "output_type": "stream",
          "name": "stderr",
          "text": [
            " 12%|█▏        | 5901/50000 [45:47<4:06:34,  2.98it/s]"
          ]
        },
        {
          "output_type": "stream",
          "name": "stdout",
          "text": [
            "loss_c : 1.6292140483856201  loss_s : 3.6794824600219727  loss : 5.308696746826172\n"
          ]
        },
        {
          "output_type": "stream",
          "name": "stderr",
          "text": [
            " 12%|█▏        | 6001/50000 [46:30<5:43:13,  2.14it/s]"
          ]
        },
        {
          "output_type": "stream",
          "name": "stdout",
          "text": [
            "loss_c : 1.3337843418121338  loss_s : 3.7050533294677734  loss : 5.038837432861328\n"
          ]
        },
        {
          "output_type": "stream",
          "name": "stderr",
          "text": [
            " 12%|█▏        | 6101/50000 [47:14<5:05:45,  2.39it/s]"
          ]
        },
        {
          "output_type": "stream",
          "name": "stdout",
          "text": [
            "loss_c : 0.8951635360717773  loss_s : 1.310845136642456  loss : 2.2060086727142334\n"
          ]
        },
        {
          "output_type": "stream",
          "name": "stderr",
          "text": [
            " 12%|█▏        | 6201/50000 [47:58<3:44:13,  3.26it/s]"
          ]
        },
        {
          "output_type": "stream",
          "name": "stdout",
          "text": [
            "loss_c : 1.3005154132843018  loss_s : 2.697437286376953  loss : 3.997952699661255\n"
          ]
        },
        {
          "output_type": "stream",
          "name": "stderr",
          "text": [
            " 13%|█▎        | 6301/50000 [48:42<5:24:51,  2.24it/s]"
          ]
        },
        {
          "output_type": "stream",
          "name": "stdout",
          "text": [
            "loss_c : 1.4073073863983154  loss_s : 3.8290905952453613  loss : 5.236397743225098\n"
          ]
        },
        {
          "output_type": "stream",
          "name": "stderr",
          "text": [
            " 13%|█▎        | 6401/50000 [49:29<5:02:47,  2.40it/s]"
          ]
        },
        {
          "output_type": "stream",
          "name": "stdout",
          "text": [
            "loss_c : 1.6746001243591309  loss_s : 4.653928756713867  loss : 6.328528881072998\n"
          ]
        },
        {
          "output_type": "stream",
          "name": "stderr",
          "text": [
            " 13%|█▎        | 6501/50000 [50:11<4:17:41,  2.81it/s]"
          ]
        },
        {
          "output_type": "stream",
          "name": "stdout",
          "text": [
            "loss_c : 1.5827291011810303  loss_s : 3.001695156097412  loss : 4.584424018859863\n"
          ]
        },
        {
          "output_type": "stream",
          "name": "stderr",
          "text": [
            " 13%|█▎        | 6601/50000 [50:57<5:02:49,  2.39it/s]"
          ]
        },
        {
          "output_type": "stream",
          "name": "stdout",
          "text": [
            "loss_c : 1.3956528902053833  loss_s : 4.06658411026001  loss : 5.4622368812561035\n"
          ]
        },
        {
          "output_type": "stream",
          "name": "stderr",
          "text": [
            " 13%|█▎        | 6701/50000 [51:39<4:09:17,  2.89it/s]"
          ]
        },
        {
          "output_type": "stream",
          "name": "stdout",
          "text": [
            "loss_c : 1.6410844326019287  loss_s : 5.725645542144775  loss : 7.366729736328125\n"
          ]
        },
        {
          "output_type": "stream",
          "name": "stderr",
          "text": [
            " 14%|█▎        | 6801/50000 [52:22<4:53:46,  2.45it/s]"
          ]
        },
        {
          "output_type": "stream",
          "name": "stdout",
          "text": [
            "loss_c : 1.2318809032440186  loss_s : 2.622999668121338  loss : 3.8548805713653564\n"
          ]
        },
        {
          "output_type": "stream",
          "name": "stderr",
          "text": [
            " 14%|█▍        | 6901/50000 [53:05<4:52:32,  2.46it/s]"
          ]
        },
        {
          "output_type": "stream",
          "name": "stdout",
          "text": [
            "loss_c : 1.2737947702407837  loss_s : 3.003666877746582  loss : 4.277461528778076\n"
          ]
        },
        {
          "output_type": "stream",
          "name": "stderr",
          "text": [
            " 14%|█▍        | 7001/50000 [53:46<3:50:53,  3.10it/s]"
          ]
        },
        {
          "output_type": "stream",
          "name": "stdout",
          "text": [
            "loss_c : 1.614838719367981  loss_s : 7.650859355926514  loss : 9.265698432922363\n"
          ]
        },
        {
          "output_type": "stream",
          "name": "stderr",
          "text": [
            " 14%|█▍        | 7101/50000 [54:30<5:19:17,  2.24it/s]"
          ]
        },
        {
          "output_type": "stream",
          "name": "stdout",
          "text": [
            "loss_c : 1.6082384586334229  loss_s : 4.693336009979248  loss : 6.30157470703125\n"
          ]
        },
        {
          "output_type": "stream",
          "name": "stderr",
          "text": [
            " 14%|█▍        | 7201/50000 [55:12<4:48:49,  2.47it/s]"
          ]
        },
        {
          "output_type": "stream",
          "name": "stdout",
          "text": [
            "loss_c : 0.816322922706604  loss_s : 2.2505249977111816  loss : 3.066847801208496\n"
          ]
        },
        {
          "output_type": "stream",
          "name": "stderr",
          "text": [
            " 15%|█▍        | 7301/50000 [55:58<4:23:01,  2.71it/s]"
          ]
        },
        {
          "output_type": "stream",
          "name": "stdout",
          "text": [
            "loss_c : 1.3527257442474365  loss_s : 4.150434494018555  loss : 5.50316047668457\n"
          ]
        },
        {
          "output_type": "stream",
          "name": "stderr",
          "text": [
            " 15%|█▍        | 7401/50000 [56:41<5:22:52,  2.20it/s]"
          ]
        },
        {
          "output_type": "stream",
          "name": "stdout",
          "text": [
            "loss_c : 1.236093521118164  loss_s : 2.738953113555908  loss : 3.9750466346740723\n"
          ]
        },
        {
          "output_type": "stream",
          "name": "stderr",
          "text": [
            " 15%|█▌        | 7501/50000 [57:25<4:42:03,  2.51it/s]"
          ]
        },
        {
          "output_type": "stream",
          "name": "stdout",
          "text": [
            "loss_c : 1.3312779664993286  loss_s : 3.72214674949646  loss : 5.053424835205078\n"
          ]
        },
        {
          "output_type": "stream",
          "name": "stderr",
          "text": [
            " 15%|█▌        | 7601/50000 [58:07<4:37:23,  2.55it/s]"
          ]
        },
        {
          "output_type": "stream",
          "name": "stdout",
          "text": [
            "loss_c : 1.66143798828125  loss_s : 4.415480136871338  loss : 6.076918125152588\n"
          ]
        },
        {
          "output_type": "stream",
          "name": "stderr",
          "text": [
            " 15%|█▌        | 7701/50000 [58:53<5:15:00,  2.24it/s]"
          ]
        },
        {
          "output_type": "stream",
          "name": "stdout",
          "text": [
            "loss_c : 1.0934815406799316  loss_s : 2.4291129112243652  loss : 3.522594451904297\n"
          ]
        },
        {
          "output_type": "stream",
          "name": "stderr",
          "text": [
            " 16%|█▌        | 7801/50000 [59:37<5:49:07,  2.01it/s]"
          ]
        },
        {
          "output_type": "stream",
          "name": "stdout",
          "text": [
            "loss_c : 0.9127196669578552  loss_s : 1.7320263385772705  loss : 2.6447460651397705\n"
          ]
        },
        {
          "output_type": "stream",
          "name": "stderr",
          "text": [
            " 16%|█▌        | 7901/50000 [1:00:19<4:43:21,  2.48it/s]"
          ]
        },
        {
          "output_type": "stream",
          "name": "stdout",
          "text": [
            "loss_c : 1.3702690601348877  loss_s : 2.431267499923706  loss : 3.8015365600585938\n"
          ]
        },
        {
          "output_type": "stream",
          "name": "stderr",
          "text": [
            " 16%|█▌        | 8001/50000 [1:01:18<4:13:43,  2.76it/s]"
          ]
        },
        {
          "output_type": "stream",
          "name": "stdout",
          "text": [
            "loss_c : 1.6560406684875488  loss_s : 6.188246726989746  loss : 7.844287395477295\n"
          ]
        },
        {
          "output_type": "stream",
          "name": "stderr",
          "text": [
            " 16%|█▌        | 8101/50000 [1:01:59<4:22:23,  2.66it/s]"
          ]
        },
        {
          "output_type": "stream",
          "name": "stdout",
          "text": [
            "loss_c : 1.107924461364746  loss_s : 4.009940147399902  loss : 5.117864608764648\n"
          ]
        },
        {
          "output_type": "stream",
          "name": "stderr",
          "text": [
            " 16%|█▋        | 8201/50000 [1:02:46<7:15:00,  1.60it/s]"
          ]
        },
        {
          "output_type": "stream",
          "name": "stdout",
          "text": [
            "loss_c : 1.8297154903411865  loss_s : 4.84340238571167  loss : 6.673117637634277\n"
          ]
        },
        {
          "output_type": "stream",
          "name": "stderr",
          "text": [
            " 17%|█▋        | 8301/50000 [1:03:30<5:23:15,  2.15it/s]"
          ]
        },
        {
          "output_type": "stream",
          "name": "stdout",
          "text": [
            "loss_c : 1.435565710067749  loss_s : 6.6569318771362305  loss : 8.092497825622559\n"
          ]
        },
        {
          "output_type": "stream",
          "name": "stderr",
          "text": [
            " 17%|█▋        | 8401/50000 [1:04:13<3:45:39,  3.07it/s]"
          ]
        },
        {
          "output_type": "stream",
          "name": "stdout",
          "text": [
            "loss_c : 1.1383121013641357  loss_s : 2.9541265964508057  loss : 4.092438697814941\n"
          ]
        },
        {
          "output_type": "stream",
          "name": "stderr",
          "text": [
            " 17%|█▋        | 8501/50000 [1:04:59<4:44:12,  2.43it/s]"
          ]
        },
        {
          "output_type": "stream",
          "name": "stdout",
          "text": [
            "loss_c : 1.9283941984176636  loss_s : 7.822642803192139  loss : 9.751036643981934\n"
          ]
        },
        {
          "output_type": "stream",
          "name": "stderr",
          "text": [
            " 17%|█▋        | 8601/50000 [1:05:44<5:28:22,  2.10it/s]"
          ]
        },
        {
          "output_type": "stream",
          "name": "stdout",
          "text": [
            "loss_c : 1.2880420684814453  loss_s : 3.746591567993164  loss : 5.034633636474609\n"
          ]
        },
        {
          "output_type": "stream",
          "name": "stderr",
          "text": [
            " 17%|█▋        | 8701/50000 [1:06:28<4:28:43,  2.56it/s]"
          ]
        },
        {
          "output_type": "stream",
          "name": "stdout",
          "text": [
            "loss_c : 1.2501063346862793  loss_s : 3.0212295055389404  loss : 4.271335601806641\n"
          ]
        },
        {
          "output_type": "stream",
          "name": "stderr",
          "text": [
            " 18%|█▊        | 8801/50000 [1:07:09<3:25:14,  3.35it/s]"
          ]
        },
        {
          "output_type": "stream",
          "name": "stdout",
          "text": [
            "loss_c : 1.2985756397247314  loss_s : 2.992380142211914  loss : 4.290955543518066\n"
          ]
        },
        {
          "output_type": "stream",
          "name": "stderr",
          "text": [
            " 18%|█▊        | 8901/50000 [1:07:58<4:12:41,  2.71it/s]"
          ]
        },
        {
          "output_type": "stream",
          "name": "stdout",
          "text": [
            "loss_c : 1.3270595073699951  loss_s : 2.582035541534424  loss : 3.909095048904419\n"
          ]
        },
        {
          "output_type": "stream",
          "name": "stderr",
          "text": [
            " 18%|█▊        | 9001/50000 [1:08:42<4:17:26,  2.65it/s]"
          ]
        },
        {
          "output_type": "stream",
          "name": "stdout",
          "text": [
            "loss_c : 1.3425581455230713  loss_s : 8.379741668701172  loss : 9.722299575805664\n"
          ]
        },
        {
          "output_type": "stream",
          "name": "stderr",
          "text": [
            " 18%|█▊        | 9101/50000 [1:09:23<3:40:31,  3.09it/s]"
          ]
        },
        {
          "output_type": "stream",
          "name": "stdout",
          "text": [
            "loss_c : 1.0143914222717285  loss_s : 2.8144216537475586  loss : 3.828813076019287\n"
          ]
        },
        {
          "output_type": "stream",
          "name": "stderr",
          "text": [
            " 18%|█▊        | 9201/50000 [1:10:07<3:23:22,  3.34it/s]"
          ]
        },
        {
          "output_type": "stream",
          "name": "stdout",
          "text": [
            "loss_c : 1.125739574432373  loss_s : 3.158565044403076  loss : 4.284304618835449\n"
          ]
        },
        {
          "output_type": "stream",
          "name": "stderr",
          "text": [
            " 19%|█▊        | 9301/50000 [1:10:50<4:36:01,  2.46it/s]"
          ]
        },
        {
          "output_type": "stream",
          "name": "stdout",
          "text": [
            "loss_c : 1.2242932319641113  loss_s : 2.7758636474609375  loss : 4.000156879425049\n"
          ]
        },
        {
          "output_type": "stream",
          "name": "stderr",
          "text": [
            " 19%|█▉        | 9401/50000 [1:11:37<4:29:53,  2.51it/s]"
          ]
        },
        {
          "output_type": "stream",
          "name": "stdout",
          "text": [
            "loss_c : 1.090996265411377  loss_s : 2.7026844024658203  loss : 3.7936806678771973\n"
          ]
        },
        {
          "output_type": "stream",
          "name": "stderr",
          "text": [
            " 19%|█▉        | 9501/50000 [1:12:22<5:20:55,  2.10it/s]"
          ]
        },
        {
          "output_type": "stream",
          "name": "stdout",
          "text": [
            "loss_c : 1.3828871250152588  loss_s : 5.14528751373291  loss : 6.52817440032959\n"
          ]
        },
        {
          "output_type": "stream",
          "name": "stderr",
          "text": [
            " 19%|█▉        | 9601/50000 [1:13:09<5:06:52,  2.19it/s]"
          ]
        },
        {
          "output_type": "stream",
          "name": "stdout",
          "text": [
            "loss_c : 0.8667632937431335  loss_s : 2.3560574054718018  loss : 3.22282075881958\n"
          ]
        },
        {
          "output_type": "stream",
          "name": "stderr",
          "text": [
            " 19%|█▉        | 9701/50000 [1:13:55<6:07:48,  1.83it/s]"
          ]
        },
        {
          "output_type": "stream",
          "name": "stdout",
          "text": [
            "loss_c : 1.2368993759155273  loss_s : 3.693199396133423  loss : 4.930098533630371\n"
          ]
        },
        {
          "output_type": "stream",
          "name": "stderr",
          "text": [
            " 20%|█▉        | 9801/50000 [1:14:41<4:11:36,  2.66it/s]"
          ]
        },
        {
          "output_type": "stream",
          "name": "stdout",
          "text": [
            "loss_c : 0.9904186129570007  loss_s : 2.0733261108398438  loss : 3.0637447834014893\n"
          ]
        },
        {
          "output_type": "stream",
          "name": "stderr",
          "text": [
            " 20%|█▉        | 9901/50000 [1:15:25<3:52:58,  2.87it/s]"
          ]
        },
        {
          "output_type": "stream",
          "name": "stdout",
          "text": [
            "loss_c : 1.1032140254974365  loss_s : 6.842779159545898  loss : 7.945993423461914\n"
          ]
        },
        {
          "output_type": "stream",
          "name": "stderr",
          "text": [
            " 20%|██        | 10001/50000 [1:16:11<6:18:02,  1.76it/s]"
          ]
        },
        {
          "output_type": "stream",
          "name": "stdout",
          "text": [
            "loss_c : 1.2784788608551025  loss_s : 4.972362995147705  loss : 6.250842094421387\n"
          ]
        },
        {
          "output_type": "stream",
          "name": "stderr",
          "text": [
            " 20%|██        | 10101/50000 [1:16:55<4:13:51,  2.62it/s]"
          ]
        },
        {
          "output_type": "stream",
          "name": "stdout",
          "text": [
            "loss_c : 1.3865382671356201  loss_s : 5.170017242431641  loss : 6.55655574798584\n"
          ]
        },
        {
          "output_type": "stream",
          "name": "stderr",
          "text": [
            " 20%|██        | 10201/50000 [1:17:38<5:36:22,  1.97it/s]"
          ]
        },
        {
          "output_type": "stream",
          "name": "stdout",
          "text": [
            "loss_c : 1.3733305931091309  loss_s : 3.0007262229919434  loss : 4.374056816101074\n"
          ]
        },
        {
          "output_type": "stream",
          "name": "stderr",
          "text": [
            " 21%|██        | 10301/50000 [1:18:43<5:31:31,  2.00it/s]"
          ]
        },
        {
          "output_type": "stream",
          "name": "stdout",
          "text": [
            "loss_c : 1.5396654605865479  loss_s : 3.7231106758117676  loss : 5.2627763748168945\n"
          ]
        },
        {
          "output_type": "stream",
          "name": "stderr",
          "text": [
            " 21%|██        | 10401/50000 [1:19:32<6:06:29,  1.80it/s]"
          ]
        },
        {
          "output_type": "stream",
          "name": "stdout",
          "text": [
            "loss_c : 1.3630385398864746  loss_s : 3.075141668319702  loss : 4.438179969787598\n"
          ]
        },
        {
          "output_type": "stream",
          "name": "stderr",
          "text": [
            " 21%|██        | 10501/50000 [1:20:20<4:37:34,  2.37it/s]"
          ]
        },
        {
          "output_type": "stream",
          "name": "stdout",
          "text": [
            "loss_c : 1.4337490797042847  loss_s : 3.2283129692077637  loss : 4.662062168121338\n"
          ]
        },
        {
          "output_type": "stream",
          "name": "stderr",
          "text": [
            " 21%|██        | 10601/50000 [1:21:07<4:34:37,  2.39it/s]"
          ]
        },
        {
          "output_type": "stream",
          "name": "stdout",
          "text": [
            "loss_c : 1.336463451385498  loss_s : 4.670557022094727  loss : 6.007020473480225\n"
          ]
        },
        {
          "output_type": "stream",
          "name": "stderr",
          "text": [
            " 21%|██▏       | 10701/50000 [1:21:53<4:06:45,  2.65it/s]"
          ]
        },
        {
          "output_type": "stream",
          "name": "stdout",
          "text": [
            "loss_c : 0.8197852969169617  loss_s : 2.473465919494629  loss : 3.2932512760162354\n"
          ]
        },
        {
          "output_type": "stream",
          "name": "stderr",
          "text": [
            " 22%|██▏       | 10801/50000 [1:22:39<3:59:52,  2.72it/s]"
          ]
        },
        {
          "output_type": "stream",
          "name": "stdout",
          "text": [
            "loss_c : 0.8798333406448364  loss_s : 1.9269475936889648  loss : 2.8067808151245117\n"
          ]
        },
        {
          "output_type": "stream",
          "name": "stderr",
          "text": [
            " 22%|██▏       | 10901/50000 [1:23:27<4:14:42,  2.56it/s]"
          ]
        },
        {
          "output_type": "stream",
          "name": "stdout",
          "text": [
            "loss_c : 1.0192363262176514  loss_s : 2.8836565017700195  loss : 3.902892827987671\n"
          ]
        },
        {
          "output_type": "stream",
          "name": "stderr",
          "text": [
            " 22%|██▏       | 11001/50000 [1:24:10<4:39:34,  2.32it/s]"
          ]
        },
        {
          "output_type": "stream",
          "name": "stdout",
          "text": [
            "loss_c : 0.8928253054618835  loss_s : 1.8456449508666992  loss : 2.7384703159332275\n"
          ]
        },
        {
          "output_type": "stream",
          "name": "stderr",
          "text": [
            " 22%|██▏       | 11101/50000 [1:24:54<4:49:26,  2.24it/s]"
          ]
        },
        {
          "output_type": "stream",
          "name": "stdout",
          "text": [
            "loss_c : 1.48097825050354  loss_s : 4.159763336181641  loss : 5.640741348266602\n"
          ]
        },
        {
          "output_type": "stream",
          "name": "stderr",
          "text": [
            " 22%|██▏       | 11201/50000 [1:25:43<5:56:01,  1.82it/s]"
          ]
        },
        {
          "output_type": "stream",
          "name": "stdout",
          "text": [
            "loss_c : 1.0684654712677002  loss_s : 2.3340744972229004  loss : 3.4025399684906006\n"
          ]
        },
        {
          "output_type": "stream",
          "name": "stderr",
          "text": [
            " 23%|██▎       | 11301/50000 [1:26:29<6:32:25,  1.64it/s]"
          ]
        },
        {
          "output_type": "stream",
          "name": "stdout",
          "text": [
            "loss_c : 1.59976327419281  loss_s : 3.614396572113037  loss : 5.214159965515137\n"
          ]
        },
        {
          "output_type": "stream",
          "name": "stderr",
          "text": [
            " 23%|██▎       | 11401/50000 [1:27:17<6:27:13,  1.66it/s]"
          ]
        },
        {
          "output_type": "stream",
          "name": "stdout",
          "text": [
            "loss_c : 1.8182082176208496  loss_s : 5.091648101806641  loss : 6.90985631942749\n"
          ]
        },
        {
          "output_type": "stream",
          "name": "stderr",
          "text": [
            " 23%|██▎       | 11501/50000 [1:28:02<5:09:49,  2.07it/s]"
          ]
        },
        {
          "output_type": "stream",
          "name": "stdout",
          "text": [
            "loss_c : 1.1656527519226074  loss_s : 2.072028636932373  loss : 3.2376813888549805\n"
          ]
        },
        {
          "output_type": "stream",
          "name": "stderr",
          "text": [
            " 23%|██▎       | 11601/50000 [1:28:52<4:51:24,  2.20it/s]"
          ]
        },
        {
          "output_type": "stream",
          "name": "stdout",
          "text": [
            "loss_c : 1.3222007751464844  loss_s : 9.923709869384766  loss : 11.24591064453125\n"
          ]
        },
        {
          "output_type": "stream",
          "name": "stderr",
          "text": [
            " 23%|██▎       | 11701/50000 [1:29:36<6:22:46,  1.67it/s]"
          ]
        },
        {
          "output_type": "stream",
          "name": "stdout",
          "text": [
            "loss_c : 1.4282934665679932  loss_s : 2.600417375564575  loss : 4.028710842132568\n"
          ]
        },
        {
          "output_type": "stream",
          "name": "stderr",
          "text": [
            " 24%|██▎       | 11801/50000 [1:30:22<4:35:16,  2.31it/s]"
          ]
        },
        {
          "output_type": "stream",
          "name": "stdout",
          "text": [
            "loss_c : 1.1229026317596436  loss_s : 3.070547580718994  loss : 4.193449974060059\n"
          ]
        },
        {
          "output_type": "stream",
          "name": "stderr",
          "text": [
            " 24%|██▍       | 11901/50000 [1:31:30<6:12:04,  1.71it/s]"
          ]
        },
        {
          "output_type": "stream",
          "name": "stdout",
          "text": [
            "loss_c : 1.521148443222046  loss_s : 5.133233070373535  loss : 6.65438175201416\n"
          ]
        },
        {
          "output_type": "stream",
          "name": "stderr",
          "text": [
            " 24%|██▍       | 12001/50000 [1:32:18<4:16:24,  2.47it/s]"
          ]
        },
        {
          "output_type": "stream",
          "name": "stdout",
          "text": [
            "loss_c : 1.1019352674484253  loss_s : 3.447542190551758  loss : 4.549477577209473\n"
          ]
        },
        {
          "output_type": "stream",
          "name": "stderr",
          "text": [
            " 24%|██▍       | 12101/50000 [1:33:03<4:06:04,  2.57it/s]"
          ]
        },
        {
          "output_type": "stream",
          "name": "stdout",
          "text": [
            "loss_c : 1.487839937210083  loss_s : 3.074760913848877  loss : 4.562601089477539\n"
          ]
        },
        {
          "output_type": "stream",
          "name": "stderr",
          "text": [
            " 24%|██▍       | 12201/50000 [1:33:52<3:41:38,  2.84it/s]"
          ]
        },
        {
          "output_type": "stream",
          "name": "stdout",
          "text": [
            "loss_c : 1.3425593376159668  loss_s : 3.933459520339966  loss : 5.276019096374512\n"
          ]
        },
        {
          "output_type": "stream",
          "name": "stderr",
          "text": [
            " 25%|██▍       | 12301/50000 [1:34:40<4:09:10,  2.52it/s]"
          ]
        },
        {
          "output_type": "stream",
          "name": "stdout",
          "text": [
            "loss_c : 1.975150227546692  loss_s : 4.360764503479004  loss : 6.335914611816406\n"
          ]
        },
        {
          "output_type": "stream",
          "name": "stderr",
          "text": [
            " 25%|██▍       | 12401/50000 [1:35:26<6:51:01,  1.52it/s]"
          ]
        },
        {
          "output_type": "stream",
          "name": "stdout",
          "text": [
            "loss_c : 1.585784912109375  loss_s : 3.830465793609619  loss : 5.416250705718994\n"
          ]
        },
        {
          "output_type": "stream",
          "name": "stderr",
          "text": [
            " 25%|██▌       | 12501/50000 [1:36:10<3:03:41,  3.40it/s]"
          ]
        },
        {
          "output_type": "stream",
          "name": "stdout",
          "text": [
            "loss_c : 1.1768250465393066  loss_s : 2.284412145614624  loss : 3.4612371921539307\n"
          ]
        },
        {
          "output_type": "stream",
          "name": "stderr",
          "text": [
            " 25%|██▌       | 12601/50000 [1:36:56<4:06:56,  2.52it/s]"
          ]
        },
        {
          "output_type": "stream",
          "name": "stdout",
          "text": [
            "loss_c : 0.9455573558807373  loss_s : 4.537271499633789  loss : 5.4828290939331055\n"
          ]
        },
        {
          "output_type": "stream",
          "name": "stderr",
          "text": [
            " 25%|██▌       | 12701/50000 [1:37:50<7:22:41,  1.40it/s]"
          ]
        },
        {
          "output_type": "stream",
          "name": "stdout",
          "text": [
            "loss_c : 1.1878104209899902  loss_s : 3.199193000793457  loss : 4.387003421783447\n"
          ]
        },
        {
          "output_type": "stream",
          "name": "stderr",
          "text": [
            " 26%|██▌       | 12801/50000 [1:39:00<4:19:00,  2.39it/s]"
          ]
        },
        {
          "output_type": "stream",
          "name": "stdout",
          "text": [
            "loss_c : 1.4101800918579102  loss_s : 4.836134910583496  loss : 6.246315002441406\n"
          ]
        },
        {
          "output_type": "stream",
          "name": "stderr",
          "text": [
            " 26%|██▌       | 12901/50000 [1:39:41<4:09:20,  2.48it/s]"
          ]
        },
        {
          "output_type": "stream",
          "name": "stdout",
          "text": [
            "loss_c : 1.5599150657653809  loss_s : 3.961210012435913  loss : 5.521124839782715\n"
          ]
        },
        {
          "output_type": "stream",
          "name": "stderr",
          "text": [
            " 26%|██▌       | 13001/50000 [1:40:26<4:20:05,  2.37it/s]"
          ]
        },
        {
          "output_type": "stream",
          "name": "stdout",
          "text": [
            "loss_c : 2.1044962406158447  loss_s : 6.212193965911865  loss : 8.316690444946289\n"
          ]
        },
        {
          "output_type": "stream",
          "name": "stderr",
          "text": [
            " 26%|██▌       | 13101/50000 [1:41:08<3:15:54,  3.14it/s]"
          ]
        },
        {
          "output_type": "stream",
          "name": "stdout",
          "text": [
            "loss_c : 1.231703519821167  loss_s : 3.110971450805664  loss : 4.34267520904541\n"
          ]
        },
        {
          "output_type": "stream",
          "name": "stderr",
          "text": [
            " 26%|██▋       | 13201/50000 [1:41:53<4:49:59,  2.11it/s]"
          ]
        },
        {
          "output_type": "stream",
          "name": "stdout",
          "text": [
            "loss_c : 1.3768031597137451  loss_s : 3.544058322906494  loss : 4.92086124420166\n"
          ]
        },
        {
          "output_type": "stream",
          "name": "stderr",
          "text": [
            " 27%|██▋       | 13301/50000 [1:42:38<5:09:39,  1.98it/s]"
          ]
        },
        {
          "output_type": "stream",
          "name": "stdout",
          "text": [
            "loss_c : 1.2944072484970093  loss_s : 3.1739907264709473  loss : 4.468398094177246\n"
          ]
        },
        {
          "output_type": "stream",
          "name": "stderr",
          "text": [
            " 27%|██▋       | 13401/50000 [1:43:25<4:44:51,  2.14it/s]"
          ]
        },
        {
          "output_type": "stream",
          "name": "stdout",
          "text": [
            "loss_c : 1.0994925498962402  loss_s : 2.8362135887145996  loss : 3.93570613861084\n"
          ]
        },
        {
          "output_type": "stream",
          "name": "stderr",
          "text": [
            " 27%|██▋       | 13501/50000 [1:44:09<4:18:36,  2.35it/s]"
          ]
        },
        {
          "output_type": "stream",
          "name": "stdout",
          "text": [
            "loss_c : 1.4223332405090332  loss_s : 7.003544807434082  loss : 8.425878524780273\n"
          ]
        },
        {
          "output_type": "stream",
          "name": "stderr",
          "text": [
            " 27%|██▋       | 13601/50000 [1:44:52<4:53:43,  2.07it/s]"
          ]
        },
        {
          "output_type": "stream",
          "name": "stdout",
          "text": [
            "loss_c : 1.4941786527633667  loss_s : 6.015601634979248  loss : 7.509780406951904\n"
          ]
        },
        {
          "output_type": "stream",
          "name": "stderr",
          "text": [
            " 27%|██▋       | 13701/50000 [1:45:39<4:43:59,  2.13it/s]"
          ]
        },
        {
          "output_type": "stream",
          "name": "stdout",
          "text": [
            "loss_c : 1.1621735095977783  loss_s : 3.3713417053222656  loss : 4.533514976501465\n"
          ]
        },
        {
          "output_type": "stream",
          "name": "stderr",
          "text": [
            " 28%|██▊       | 13801/50000 [1:46:22<3:00:09,  3.35it/s]"
          ]
        },
        {
          "output_type": "stream",
          "name": "stdout",
          "text": [
            "loss_c : 1.4947044849395752  loss_s : 4.139641761779785  loss : 5.634346008300781\n"
          ]
        },
        {
          "output_type": "stream",
          "name": "stderr",
          "text": [
            " 28%|██▊       | 13901/50000 [1:47:06<4:03:43,  2.47it/s]"
          ]
        },
        {
          "output_type": "stream",
          "name": "stdout",
          "text": [
            "loss_c : 0.9748912453651428  loss_s : 4.046778678894043  loss : 5.021669864654541\n"
          ]
        },
        {
          "output_type": "stream",
          "name": "stderr",
          "text": [
            " 28%|██▊       | 14001/50000 [1:47:49<4:38:58,  2.15it/s]"
          ]
        },
        {
          "output_type": "stream",
          "name": "stdout",
          "text": [
            "loss_c : 1.3295371532440186  loss_s : 4.692799091339111  loss : 6.022336006164551\n"
          ]
        },
        {
          "output_type": "stream",
          "name": "stderr",
          "text": [
            " 28%|██▊       | 14101/50000 [1:48:29<3:53:12,  2.57it/s]"
          ]
        },
        {
          "output_type": "stream",
          "name": "stdout",
          "text": [
            "loss_c : 1.3236188888549805  loss_s : 2.9396402835845947  loss : 4.263258934020996\n"
          ]
        },
        {
          "output_type": "stream",
          "name": "stderr",
          "text": [
            " 28%|██▊       | 14201/50000 [1:49:12<4:18:23,  2.31it/s]"
          ]
        },
        {
          "output_type": "stream",
          "name": "stdout",
          "text": [
            "loss_c : 1.3566831350326538  loss_s : 4.078488826751709  loss : 5.435172080993652\n"
          ]
        },
        {
          "output_type": "stream",
          "name": "stderr",
          "text": [
            " 29%|██▊       | 14301/50000 [1:49:55<3:56:56,  2.51it/s]"
          ]
        },
        {
          "output_type": "stream",
          "name": "stdout",
          "text": [
            "loss_c : 1.4693043231964111  loss_s : 3.6922013759613037  loss : 5.161505699157715\n"
          ]
        },
        {
          "output_type": "stream",
          "name": "stderr",
          "text": [
            " 29%|██▉       | 14401/50000 [1:50:39<5:47:08,  1.71it/s]"
          ]
        },
        {
          "output_type": "stream",
          "name": "stdout",
          "text": [
            "loss_c : 1.0325908660888672  loss_s : 2.325624465942383  loss : 3.35821533203125\n"
          ]
        },
        {
          "output_type": "stream",
          "name": "stderr",
          "text": [
            " 29%|██▉       | 14501/50000 [1:51:25<5:40:29,  1.74it/s]"
          ]
        },
        {
          "output_type": "stream",
          "name": "stdout",
          "text": [
            "loss_c : 1.2490216493606567  loss_s : 3.5461690425872803  loss : 4.795190811157227\n"
          ]
        },
        {
          "output_type": "stream",
          "name": "stderr",
          "text": [
            " 29%|██▉       | 14601/50000 [1:52:13<4:24:52,  2.23it/s]"
          ]
        },
        {
          "output_type": "stream",
          "name": "stdout",
          "text": [
            "loss_c : 1.0591740608215332  loss_s : 4.353410243988037  loss : 5.41258430480957\n"
          ]
        },
        {
          "output_type": "stream",
          "name": "stderr",
          "text": [
            " 29%|██▉       | 14701/50000 [1:52:57<3:35:07,  2.73it/s]"
          ]
        },
        {
          "output_type": "stream",
          "name": "stdout",
          "text": [
            "loss_c : 1.2182049751281738  loss_s : 3.572873115539551  loss : 4.791078090667725\n"
          ]
        },
        {
          "output_type": "stream",
          "name": "stderr",
          "text": [
            " 30%|██▉       | 14801/50000 [1:53:43<4:01:15,  2.43it/s]"
          ]
        },
        {
          "output_type": "stream",
          "name": "stdout",
          "text": [
            "loss_c : 1.207955241203308  loss_s : 2.5918169021606445  loss : 3.799772262573242\n"
          ]
        },
        {
          "output_type": "stream",
          "name": "stderr",
          "text": [
            " 30%|██▉       | 14901/50000 [1:54:33<8:29:26,  1.15it/s]"
          ]
        },
        {
          "output_type": "stream",
          "name": "stdout",
          "text": [
            "loss_c : 1.1030926704406738  loss_s : 2.787825584411621  loss : 3.890918254852295\n"
          ]
        },
        {
          "output_type": "stream",
          "name": "stderr",
          "text": [
            " 30%|███       | 15001/50000 [1:55:17<3:44:25,  2.60it/s]"
          ]
        },
        {
          "output_type": "stream",
          "name": "stdout",
          "text": [
            "loss_c : 1.1019468307495117  loss_s : 2.6686296463012695  loss : 3.7705764770507812\n"
          ]
        },
        {
          "output_type": "stream",
          "name": "stderr",
          "text": [
            " 30%|███       | 15101/50000 [1:56:04<5:38:38,  1.72it/s]"
          ]
        },
        {
          "output_type": "stream",
          "name": "stdout",
          "text": [
            "loss_c : 1.032143235206604  loss_s : 4.692817211151123  loss : 5.7249603271484375\n"
          ]
        },
        {
          "output_type": "stream",
          "name": "stderr",
          "text": [
            " 30%|███       | 15201/50000 [1:56:46<3:34:28,  2.70it/s]"
          ]
        },
        {
          "output_type": "stream",
          "name": "stdout",
          "text": [
            "loss_c : 1.506639003753662  loss_s : 3.154423475265503  loss : 4.661062240600586\n"
          ]
        },
        {
          "output_type": "stream",
          "name": "stderr",
          "text": [
            " 31%|███       | 15301/50000 [1:57:28<4:09:13,  2.32it/s]"
          ]
        },
        {
          "output_type": "stream",
          "name": "stdout",
          "text": [
            "loss_c : 1.394630789756775  loss_s : 3.201103448867798  loss : 4.595734119415283\n"
          ]
        },
        {
          "output_type": "stream",
          "name": "stderr",
          "text": [
            " 31%|███       | 15401/50000 [1:58:10<3:15:23,  2.95it/s]"
          ]
        },
        {
          "output_type": "stream",
          "name": "stdout",
          "text": [
            "loss_c : 1.4730546474456787  loss_s : 4.7318243980407715  loss : 6.204878807067871\n"
          ]
        },
        {
          "output_type": "stream",
          "name": "stderr",
          "text": [
            " 31%|███       | 15501/50000 [1:58:57<4:13:04,  2.27it/s]"
          ]
        },
        {
          "output_type": "stream",
          "name": "stdout",
          "text": [
            "loss_c : 1.3844871520996094  loss_s : 4.091806411743164  loss : 5.476293563842773\n"
          ]
        },
        {
          "output_type": "stream",
          "name": "stderr",
          "text": [
            " 31%|███       | 15601/50000 [1:59:40<4:01:08,  2.38it/s]"
          ]
        },
        {
          "output_type": "stream",
          "name": "stdout",
          "text": [
            "loss_c : 1.1747938394546509  loss_s : 2.6292319297790527  loss : 3.804025650024414\n"
          ]
        },
        {
          "output_type": "stream",
          "name": "stderr",
          "text": [
            " 31%|███▏      | 15701/50000 [2:00:23<5:16:47,  1.80it/s]"
          ]
        },
        {
          "output_type": "stream",
          "name": "stdout",
          "text": [
            "loss_c : 1.2444387674331665  loss_s : 4.016101837158203  loss : 5.26054048538208\n"
          ]
        },
        {
          "output_type": "stream",
          "name": "stderr",
          "text": [
            " 32%|███▏      | 15801/50000 [2:01:11<3:42:29,  2.56it/s]"
          ]
        },
        {
          "output_type": "stream",
          "name": "stdout",
          "text": [
            "loss_c : 1.477302074432373  loss_s : 4.573696136474609  loss : 6.050998210906982\n"
          ]
        },
        {
          "output_type": "stream",
          "name": "stderr",
          "text": [
            " 32%|███▏      | 15901/50000 [2:01:56<3:30:53,  2.69it/s]"
          ]
        },
        {
          "output_type": "stream",
          "name": "stdout",
          "text": [
            "loss_c : 1.7650063037872314  loss_s : 5.008895397186279  loss : 6.77390193939209\n"
          ]
        },
        {
          "output_type": "stream",
          "name": "stderr",
          "text": [
            " 32%|███▏      | 16001/50000 [2:02:42<4:10:10,  2.27it/s]"
          ]
        },
        {
          "output_type": "stream",
          "name": "stdout",
          "text": [
            "loss_c : 1.252191424369812  loss_s : 3.250774383544922  loss : 4.502965927124023\n"
          ]
        },
        {
          "output_type": "stream",
          "name": "stderr",
          "text": [
            " 32%|███▏      | 16101/50000 [2:03:28<4:19:39,  2.18it/s]"
          ]
        },
        {
          "output_type": "stream",
          "name": "stdout",
          "text": [
            "loss_c : 1.2658939361572266  loss_s : 4.153558731079102  loss : 5.419452667236328\n"
          ]
        },
        {
          "output_type": "stream",
          "name": "stderr",
          "text": [
            " 32%|███▏      | 16201/50000 [2:04:16<7:07:32,  1.32it/s]"
          ]
        },
        {
          "output_type": "stream",
          "name": "stdout",
          "text": [
            "loss_c : 1.561492681503296  loss_s : 5.566718578338623  loss : 7.12821102142334\n"
          ]
        },
        {
          "output_type": "stream",
          "name": "stderr",
          "text": [
            " 33%|███▎      | 16301/50000 [2:05:02<3:52:38,  2.41it/s]"
          ]
        },
        {
          "output_type": "stream",
          "name": "stdout",
          "text": [
            "loss_c : 1.640761137008667  loss_s : 4.788577556610107  loss : 6.429338455200195\n"
          ]
        },
        {
          "output_type": "stream",
          "name": "stderr",
          "text": [
            " 33%|███▎      | 16401/50000 [2:05:46<3:15:44,  2.86it/s]"
          ]
        },
        {
          "output_type": "stream",
          "name": "stdout",
          "text": [
            "loss_c : 1.680148720741272  loss_s : 4.565563201904297  loss : 6.245711803436279\n"
          ]
        },
        {
          "output_type": "stream",
          "name": "stderr",
          "text": [
            " 33%|███▎      | 16501/50000 [2:06:29<3:53:48,  2.39it/s]"
          ]
        },
        {
          "output_type": "stream",
          "name": "stdout",
          "text": [
            "loss_c : 1.4694972038269043  loss_s : 4.8393731117248535  loss : 6.308870315551758\n"
          ]
        },
        {
          "output_type": "stream",
          "name": "stderr",
          "text": [
            " 33%|███▎      | 16601/50000 [2:07:13<5:55:52,  1.56it/s]"
          ]
        },
        {
          "output_type": "stream",
          "name": "stdout",
          "text": [
            "loss_c : 1.1024727821350098  loss_s : 3.0420730113983154  loss : 4.144545555114746\n"
          ]
        },
        {
          "output_type": "stream",
          "name": "stderr",
          "text": [
            " 33%|███▎      | 16701/50000 [2:07:57<4:03:59,  2.27it/s]"
          ]
        },
        {
          "output_type": "stream",
          "name": "stdout",
          "text": [
            "loss_c : 1.1979501247406006  loss_s : 2.873735189437866  loss : 4.071685314178467\n"
          ]
        },
        {
          "output_type": "stream",
          "name": "stderr",
          "text": [
            " 34%|███▎      | 16801/50000 [2:08:40<2:57:45,  3.11it/s]"
          ]
        },
        {
          "output_type": "stream",
          "name": "stdout",
          "text": [
            "loss_c : 1.296811580657959  loss_s : 6.705143451690674  loss : 8.001955032348633\n"
          ]
        },
        {
          "output_type": "stream",
          "name": "stderr",
          "text": [
            " 34%|███▍      | 16901/50000 [2:09:29<4:27:39,  2.06it/s]"
          ]
        },
        {
          "output_type": "stream",
          "name": "stdout",
          "text": [
            "loss_c : 1.3004541397094727  loss_s : 5.602577209472656  loss : 6.903031349182129\n"
          ]
        },
        {
          "output_type": "stream",
          "name": "stderr",
          "text": [
            " 34%|███▍      | 17001/50000 [2:10:13<3:33:50,  2.57it/s]"
          ]
        },
        {
          "output_type": "stream",
          "name": "stdout",
          "text": [
            "loss_c : 1.062056303024292  loss_s : 2.198094129562378  loss : 3.26015043258667\n"
          ]
        },
        {
          "output_type": "stream",
          "name": "stderr",
          "text": [
            " 34%|███▍      | 17101/50000 [2:11:18<3:34:18,  2.56it/s]"
          ]
        },
        {
          "output_type": "stream",
          "name": "stdout",
          "text": [
            "loss_c : 1.0216903686523438  loss_s : 3.24595308303833  loss : 4.267643451690674\n"
          ]
        },
        {
          "output_type": "stream",
          "name": "stderr",
          "text": [
            " 34%|███▍      | 17201/50000 [2:12:02<4:32:42,  2.00it/s]"
          ]
        },
        {
          "output_type": "stream",
          "name": "stdout",
          "text": [
            "loss_c : 1.350684404373169  loss_s : 2.468698024749756  loss : 3.819382429122925\n"
          ]
        },
        {
          "output_type": "stream",
          "name": "stderr",
          "text": [
            " 35%|███▍      | 17301/50000 [2:12:49<3:33:59,  2.55it/s]"
          ]
        },
        {
          "output_type": "stream",
          "name": "stdout",
          "text": [
            "loss_c : 0.8958384394645691  loss_s : 2.9497437477111816  loss : 3.8455822467803955\n"
          ]
        },
        {
          "output_type": "stream",
          "name": "stderr",
          "text": [
            " 35%|███▍      | 17401/50000 [2:13:38<3:26:55,  2.63it/s]"
          ]
        },
        {
          "output_type": "stream",
          "name": "stdout",
          "text": [
            "loss_c : 1.4238884449005127  loss_s : 3.9408020973205566  loss : 5.364690780639648\n"
          ]
        },
        {
          "output_type": "stream",
          "name": "stderr",
          "text": [
            " 35%|███▌      | 17501/50000 [2:14:23<4:48:40,  1.88it/s]"
          ]
        },
        {
          "output_type": "stream",
          "name": "stdout",
          "text": [
            "loss_c : 1.0994267463684082  loss_s : 2.9362618923187256  loss : 4.035688400268555\n"
          ]
        },
        {
          "output_type": "stream",
          "name": "stderr",
          "text": [
            " 35%|███▌      | 17601/50000 [2:15:11<3:29:49,  2.57it/s]"
          ]
        },
        {
          "output_type": "stream",
          "name": "stdout",
          "text": [
            "loss_c : 1.2092311382293701  loss_s : 5.711498737335205  loss : 6.920729637145996\n"
          ]
        },
        {
          "output_type": "stream",
          "name": "stderr",
          "text": [
            " 35%|███▌      | 17701/50000 [2:15:55<3:24:41,  2.63it/s]"
          ]
        },
        {
          "output_type": "stream",
          "name": "stdout",
          "text": [
            "loss_c : 1.5930743217468262  loss_s : 4.079026699066162  loss : 5.672101020812988\n"
          ]
        },
        {
          "output_type": "stream",
          "name": "stderr",
          "text": [
            " 36%|███▌      | 17801/50000 [2:16:40<6:09:48,  1.45it/s]"
          ]
        },
        {
          "output_type": "stream",
          "name": "stdout",
          "text": [
            "loss_c : 1.31417715549469  loss_s : 5.349421501159668  loss : 6.663598537445068\n"
          ]
        },
        {
          "output_type": "stream",
          "name": "stderr",
          "text": [
            " 36%|███▌      | 17901/50000 [2:17:27<4:54:37,  1.82it/s]"
          ]
        },
        {
          "output_type": "stream",
          "name": "stdout",
          "text": [
            "loss_c : 1.1382219791412354  loss_s : 3.6420812606811523  loss : 4.780303001403809\n"
          ]
        },
        {
          "output_type": "stream",
          "name": "stderr",
          "text": [
            " 36%|███▌      | 18001/50000 [2:18:13<4:31:03,  1.97it/s]"
          ]
        },
        {
          "output_type": "stream",
          "name": "stdout",
          "text": [
            "loss_c : 1.4134987592697144  loss_s : 3.402794599533081  loss : 4.816293239593506\n"
          ]
        },
        {
          "output_type": "stream",
          "name": "stderr",
          "text": [
            " 36%|███▌      | 18101/50000 [2:18:53<3:22:13,  2.63it/s]"
          ]
        },
        {
          "output_type": "stream",
          "name": "stdout",
          "text": [
            "loss_c : 1.2413336038589478  loss_s : 9.743691444396973  loss : 10.985025405883789\n"
          ]
        },
        {
          "output_type": "stream",
          "name": "stderr",
          "text": [
            " 36%|███▋      | 18201/50000 [2:19:37<4:01:28,  2.19it/s]"
          ]
        },
        {
          "output_type": "stream",
          "name": "stdout",
          "text": [
            "loss_c : 1.0872756242752075  loss_s : 2.6743297576904297  loss : 3.7616052627563477\n"
          ]
        },
        {
          "output_type": "stream",
          "name": "stderr",
          "text": [
            " 37%|███▋      | 18301/50000 [2:20:19<4:47:19,  1.84it/s]"
          ]
        },
        {
          "output_type": "stream",
          "name": "stdout",
          "text": [
            "loss_c : 2.017014980316162  loss_s : 5.654197692871094  loss : 7.671212673187256\n"
          ]
        },
        {
          "output_type": "stream",
          "name": "stderr",
          "text": [
            " 37%|███▋      | 18401/50000 [2:21:01<3:43:02,  2.36it/s]"
          ]
        },
        {
          "output_type": "stream",
          "name": "stdout",
          "text": [
            "loss_c : 1.1765460968017578  loss_s : 3.816371202468872  loss : 4.992917060852051\n"
          ]
        },
        {
          "output_type": "stream",
          "name": "stderr",
          "text": [
            " 37%|███▋      | 18501/50000 [2:21:45<3:59:26,  2.19it/s]"
          ]
        },
        {
          "output_type": "stream",
          "name": "stdout",
          "text": [
            "loss_c : 0.7730909585952759  loss_s : 2.9429914951324463  loss : 3.7160825729370117\n"
          ]
        },
        {
          "output_type": "stream",
          "name": "stderr",
          "text": [
            " 37%|███▋      | 18601/50000 [2:22:28<7:01:20,  1.24it/s]"
          ]
        },
        {
          "output_type": "stream",
          "name": "stdout",
          "text": [
            "loss_c : 1.1931517124176025  loss_s : 3.311417579650879  loss : 4.504569053649902\n"
          ]
        },
        {
          "output_type": "stream",
          "name": "stderr",
          "text": [
            " 37%|███▋      | 18701/50000 [2:23:13<4:15:22,  2.04it/s]"
          ]
        },
        {
          "output_type": "stream",
          "name": "stdout",
          "text": [
            "loss_c : 1.0856789350509644  loss_s : 2.2180044651031494  loss : 3.303683280944824\n"
          ]
        },
        {
          "output_type": "stream",
          "name": "stderr",
          "text": [
            " 38%|███▊      | 18801/50000 [2:23:56<3:28:50,  2.49it/s]"
          ]
        },
        {
          "output_type": "stream",
          "name": "stdout",
          "text": [
            "loss_c : 1.0881623029708862  loss_s : 6.666574001312256  loss : 7.754736423492432\n"
          ]
        },
        {
          "output_type": "stream",
          "name": "stderr",
          "text": [
            " 38%|███▊      | 18901/50000 [2:24:41<7:24:03,  1.17it/s]"
          ]
        },
        {
          "output_type": "stream",
          "name": "stdout",
          "text": [
            "loss_c : 1.544434905052185  loss_s : 3.823235511779785  loss : 5.36767053604126\n"
          ]
        },
        {
          "output_type": "stream",
          "name": "stderr",
          "text": [
            " 38%|███▊      | 19001/50000 [2:25:25<3:37:01,  2.38it/s]"
          ]
        },
        {
          "output_type": "stream",
          "name": "stdout",
          "text": [
            "loss_c : 0.976543664932251  loss_s : 2.060680866241455  loss : 3.037224531173706\n"
          ]
        },
        {
          "output_type": "stream",
          "name": "stderr",
          "text": [
            " 38%|███▊      | 19101/50000 [2:26:08<2:43:39,  3.15it/s]"
          ]
        },
        {
          "output_type": "stream",
          "name": "stdout",
          "text": [
            "loss_c : 1.1228288412094116  loss_s : 3.3790171146392822  loss : 4.501845836639404\n"
          ]
        },
        {
          "output_type": "stream",
          "name": "stderr",
          "text": [
            " 38%|███▊      | 19201/50000 [2:26:51<3:32:43,  2.41it/s]"
          ]
        },
        {
          "output_type": "stream",
          "name": "stdout",
          "text": [
            "loss_c : 1.225235939025879  loss_s : 2.714385747909546  loss : 3.939621686935425\n"
          ]
        },
        {
          "output_type": "stream",
          "name": "stderr",
          "text": [
            " 39%|███▊      | 19301/50000 [2:27:34<4:36:23,  1.85it/s]"
          ]
        },
        {
          "output_type": "stream",
          "name": "stdout",
          "text": [
            "loss_c : 1.4815216064453125  loss_s : 4.205482482910156  loss : 5.687004089355469\n"
          ]
        },
        {
          "output_type": "stream",
          "name": "stderr",
          "text": [
            " 39%|███▉      | 19401/50000 [2:28:18<3:36:50,  2.35it/s]"
          ]
        },
        {
          "output_type": "stream",
          "name": "stdout",
          "text": [
            "loss_c : 1.0428111553192139  loss_s : 2.64700984954834  loss : 3.6898210048675537\n"
          ]
        },
        {
          "output_type": "stream",
          "name": "stderr",
          "text": [
            " 39%|███▉      | 19501/50000 [2:29:01<3:29:09,  2.43it/s]"
          ]
        },
        {
          "output_type": "stream",
          "name": "stdout",
          "text": [
            "loss_c : 2.02022385597229  loss_s : 5.523810386657715  loss : 7.544034004211426\n"
          ]
        },
        {
          "output_type": "stream",
          "name": "stderr",
          "text": [
            " 39%|███▉      | 19601/50000 [2:30:10<3:46:06,  2.24it/s]"
          ]
        },
        {
          "output_type": "stream",
          "name": "stdout",
          "text": [
            "loss_c : 1.542229175567627  loss_s : 5.177517890930176  loss : 6.719747066497803\n"
          ]
        },
        {
          "output_type": "stream",
          "name": "stderr",
          "text": [
            " 39%|███▉      | 19701/50000 [2:31:17<3:44:04,  2.25it/s]"
          ]
        },
        {
          "output_type": "stream",
          "name": "stdout",
          "text": [
            "loss_c : 1.0805772542953491  loss_s : 2.1370434761047363  loss : 3.217620849609375\n"
          ]
        },
        {
          "output_type": "stream",
          "name": "stderr",
          "text": [
            " 40%|███▉      | 19801/50000 [2:32:03<2:54:11,  2.89it/s]"
          ]
        },
        {
          "output_type": "stream",
          "name": "stdout",
          "text": [
            "loss_c : 1.4481539726257324  loss_s : 2.76574969291687  loss : 4.213903427124023\n"
          ]
        },
        {
          "output_type": "stream",
          "name": "stderr",
          "text": [
            " 40%|███▉      | 19901/50000 [2:32:49<3:46:52,  2.21it/s]"
          ]
        },
        {
          "output_type": "stream",
          "name": "stdout",
          "text": [
            "loss_c : 1.1865787506103516  loss_s : 2.6766204833984375  loss : 3.863199234008789\n"
          ]
        },
        {
          "output_type": "stream",
          "name": "stderr",
          "text": [
            " 40%|████      | 20001/50000 [2:33:34<5:35:56,  1.49it/s]"
          ]
        },
        {
          "output_type": "stream",
          "name": "stdout",
          "text": [
            "loss_c : 1.7630681991577148  loss_s : 6.442560195922852  loss : 8.205628395080566\n"
          ]
        },
        {
          "output_type": "stream",
          "name": "stderr",
          "text": [
            " 40%|████      | 20101/50000 [2:34:14<2:55:18,  2.84it/s]"
          ]
        },
        {
          "output_type": "stream",
          "name": "stdout",
          "text": [
            "loss_c : 1.896711826324463  loss_s : 4.297956943511963  loss : 6.194668769836426\n"
          ]
        },
        {
          "output_type": "stream",
          "name": "stderr",
          "text": [
            " 40%|████      | 20201/50000 [2:35:00<2:41:23,  3.08it/s]"
          ]
        },
        {
          "output_type": "stream",
          "name": "stdout",
          "text": [
            "loss_c : 1.2640929222106934  loss_s : 2.903219223022461  loss : 4.167312145233154\n"
          ]
        },
        {
          "output_type": "stream",
          "name": "stderr",
          "text": [
            " 41%|████      | 20301/50000 [2:35:43<4:08:07,  1.99it/s]"
          ]
        },
        {
          "output_type": "stream",
          "name": "stdout",
          "text": [
            "loss_c : 1.7890714406967163  loss_s : 4.530157566070557  loss : 6.3192291259765625\n"
          ]
        },
        {
          "output_type": "stream",
          "name": "stderr",
          "text": [
            " 41%|████      | 20401/50000 [2:36:26<4:09:22,  1.98it/s]"
          ]
        },
        {
          "output_type": "stream",
          "name": "stdout",
          "text": [
            "loss_c : 0.9430549144744873  loss_s : 7.959115982055664  loss : 8.90217113494873\n"
          ]
        },
        {
          "output_type": "stream",
          "name": "stderr",
          "text": [
            " 41%|████      | 20501/50000 [2:37:08<2:34:12,  3.19it/s]"
          ]
        },
        {
          "output_type": "stream",
          "name": "stdout",
          "text": [
            "loss_c : 1.1616729497909546  loss_s : 3.2506320476531982  loss : 4.412304878234863\n"
          ]
        },
        {
          "output_type": "stream",
          "name": "stderr",
          "text": [
            " 41%|████      | 20601/50000 [2:37:55<3:40:02,  2.23it/s]"
          ]
        },
        {
          "output_type": "stream",
          "name": "stdout",
          "text": [
            "loss_c : 1.5576438903808594  loss_s : 3.5805230140686035  loss : 5.138166904449463\n"
          ]
        },
        {
          "output_type": "stream",
          "name": "stderr",
          "text": [
            " 41%|████▏     | 20701/50000 [2:39:01<28:19:54,  3.48s/it]"
          ]
        },
        {
          "output_type": "stream",
          "name": "stdout",
          "text": [
            "loss_c : 2.00715970993042  loss_s : 4.630293369293213  loss : 6.637453079223633\n"
          ]
        },
        {
          "output_type": "stream",
          "name": "stderr",
          "text": [
            " 42%|████▏     | 20801/50000 [2:39:44<3:29:50,  2.32it/s]"
          ]
        },
        {
          "output_type": "stream",
          "name": "stdout",
          "text": [
            "loss_c : 1.3477692604064941  loss_s : 2.695490837097168  loss : 4.043260097503662\n"
          ]
        },
        {
          "output_type": "stream",
          "name": "stderr",
          "text": [
            " 42%|████▏     | 20901/50000 [2:40:28<2:41:12,  3.01it/s]"
          ]
        },
        {
          "output_type": "stream",
          "name": "stdout",
          "text": [
            "loss_c : 1.6462457180023193  loss_s : 4.821599960327148  loss : 6.467845916748047\n"
          ]
        },
        {
          "output_type": "stream",
          "name": "stderr",
          "text": [
            " 42%|████▏     | 21001/50000 [2:41:09<3:09:45,  2.55it/s]"
          ]
        },
        {
          "output_type": "stream",
          "name": "stdout",
          "text": [
            "loss_c : 1.2756729125976562  loss_s : 3.7005810737609863  loss : 4.976253986358643\n"
          ]
        },
        {
          "output_type": "stream",
          "name": "stderr",
          "text": [
            " 42%|████▏     | 21101/50000 [2:41:53<3:51:24,  2.08it/s]"
          ]
        },
        {
          "output_type": "stream",
          "name": "stdout",
          "text": [
            "loss_c : 1.3017621040344238  loss_s : 3.091296672821045  loss : 4.393058776855469\n"
          ]
        },
        {
          "output_type": "stream",
          "name": "stderr",
          "text": [
            " 42%|████▏     | 21201/50000 [2:42:38<3:40:20,  2.18it/s]"
          ]
        },
        {
          "output_type": "stream",
          "name": "stdout",
          "text": [
            "loss_c : 1.4938158988952637  loss_s : 3.5843727588653564  loss : 5.078188896179199\n"
          ]
        },
        {
          "output_type": "stream",
          "name": "stderr",
          "text": [
            " 43%|████▎     | 21301/50000 [2:43:27<3:41:33,  2.16it/s]"
          ]
        },
        {
          "output_type": "stream",
          "name": "stdout",
          "text": [
            "loss_c : 1.5772795677185059  loss_s : 4.38595724105835  loss : 5.9632368087768555\n"
          ]
        },
        {
          "output_type": "stream",
          "name": "stderr",
          "text": [
            " 43%|████▎     | 21401/50000 [2:44:10<2:41:08,  2.96it/s]"
          ]
        },
        {
          "output_type": "stream",
          "name": "stdout",
          "text": [
            "loss_c : 1.650754690170288  loss_s : 5.678388595581055  loss : 7.329143524169922\n"
          ]
        },
        {
          "output_type": "stream",
          "name": "stderr",
          "text": [
            " 43%|████▎     | 21501/50000 [2:44:55<2:50:41,  2.78it/s]"
          ]
        },
        {
          "output_type": "stream",
          "name": "stdout",
          "text": [
            "loss_c : 1.2055323123931885  loss_s : 2.6289150714874268  loss : 3.8344473838806152\n"
          ]
        },
        {
          "output_type": "stream",
          "name": "stderr",
          "text": [
            " 43%|████▎     | 21601/50000 [2:45:37<4:42:13,  1.68it/s]"
          ]
        },
        {
          "output_type": "stream",
          "name": "stdout",
          "text": [
            "loss_c : 1.7225801944732666  loss_s : 4.736732482910156  loss : 6.459312438964844\n"
          ]
        },
        {
          "output_type": "stream",
          "name": "stderr",
          "text": [
            " 43%|████▎     | 21701/50000 [2:46:23<4:27:06,  1.77it/s]"
          ]
        },
        {
          "output_type": "stream",
          "name": "stdout",
          "text": [
            "loss_c : 1.0152101516723633  loss_s : 2.146019697189331  loss : 3.1612298488616943\n"
          ]
        },
        {
          "output_type": "stream",
          "name": "stderr",
          "text": [
            " 44%|████▎     | 21801/50000 [2:47:32<3:39:59,  2.14it/s]"
          ]
        },
        {
          "output_type": "stream",
          "name": "stdout",
          "text": [
            "loss_c : 1.0704376697540283  loss_s : 3.7124805450439453  loss : 4.7829179763793945\n"
          ]
        },
        {
          "output_type": "stream",
          "name": "stderr",
          "text": [
            " 44%|████▍     | 21901/50000 [2:48:22<3:22:36,  2.31it/s]"
          ]
        },
        {
          "output_type": "stream",
          "name": "stdout",
          "text": [
            "loss_c : 1.3477728366851807  loss_s : 3.515552520751953  loss : 4.863325119018555\n"
          ]
        },
        {
          "output_type": "stream",
          "name": "stderr",
          "text": [
            " 44%|████▍     | 22001/50000 [2:49:10<2:48:18,  2.77it/s]"
          ]
        },
        {
          "output_type": "stream",
          "name": "stdout",
          "text": [
            "loss_c : 1.811523199081421  loss_s : 10.65019416809082  loss : 12.46171760559082\n"
          ]
        },
        {
          "output_type": "stream",
          "name": "stderr",
          "text": [
            " 44%|████▍     | 22101/50000 [2:50:00<3:49:50,  2.02it/s]"
          ]
        },
        {
          "output_type": "stream",
          "name": "stdout",
          "text": [
            "loss_c : 1.2111215591430664  loss_s : 2.513158082962036  loss : 3.7242796421051025\n"
          ]
        },
        {
          "output_type": "stream",
          "name": "stderr",
          "text": [
            " 44%|████▍     | 22201/50000 [2:50:44<5:00:00,  1.54it/s]"
          ]
        },
        {
          "output_type": "stream",
          "name": "stdout",
          "text": [
            "loss_c : 1.0666730403900146  loss_s : 3.5610878467559814  loss : 4.627760887145996\n"
          ]
        },
        {
          "output_type": "stream",
          "name": "stderr",
          "text": [
            " 45%|████▍     | 22301/50000 [2:51:32<3:26:11,  2.24it/s]"
          ]
        },
        {
          "output_type": "stream",
          "name": "stdout",
          "text": [
            "loss_c : 1.1280556917190552  loss_s : 2.9688305854797363  loss : 4.096886157989502\n"
          ]
        },
        {
          "output_type": "stream",
          "name": "stderr",
          "text": [
            " 45%|████▍     | 22401/50000 [2:52:15<2:38:06,  2.91it/s]"
          ]
        },
        {
          "output_type": "stream",
          "name": "stdout",
          "text": [
            "loss_c : 1.4048982858657837  loss_s : 5.799065113067627  loss : 7.203963279724121\n"
          ]
        },
        {
          "output_type": "stream",
          "name": "stderr",
          "text": [
            " 45%|████▌     | 22501/50000 [2:52:56<2:41:46,  2.83it/s]"
          ]
        },
        {
          "output_type": "stream",
          "name": "stdout",
          "text": [
            "loss_c : 1.1931066513061523  loss_s : 3.000410556793213  loss : 4.193517208099365\n"
          ]
        },
        {
          "output_type": "stream",
          "name": "stderr",
          "text": [
            " 45%|████▌     | 22601/50000 [2:53:41<2:59:56,  2.54it/s]"
          ]
        },
        {
          "output_type": "stream",
          "name": "stdout",
          "text": [
            "loss_c : 1.506852388381958  loss_s : 4.561030387878418  loss : 6.067882537841797\n"
          ]
        },
        {
          "output_type": "stream",
          "name": "stderr",
          "text": [
            " 45%|████▌     | 22701/50000 [2:54:26<3:30:51,  2.16it/s]"
          ]
        },
        {
          "output_type": "stream",
          "name": "stdout",
          "text": [
            "loss_c : 1.2971856594085693  loss_s : 2.869938850402832  loss : 4.1671247482299805\n"
          ]
        },
        {
          "output_type": "stream",
          "name": "stderr",
          "text": [
            " 46%|████▌     | 22801/50000 [2:55:29<4:42:18,  1.61it/s]"
          ]
        },
        {
          "output_type": "stream",
          "name": "stdout",
          "text": [
            "loss_c : 1.3830170631408691  loss_s : 2.695888042449951  loss : 4.07890510559082\n"
          ]
        },
        {
          "output_type": "stream",
          "name": "stderr",
          "text": [
            " 46%|████▌     | 22901/50000 [2:56:13<3:22:31,  2.23it/s]"
          ]
        },
        {
          "output_type": "stream",
          "name": "stdout",
          "text": [
            "loss_c : 1.472947359085083  loss_s : 3.074105978012085  loss : 4.547053337097168\n"
          ]
        },
        {
          "output_type": "stream",
          "name": "stderr",
          "text": [
            " 46%|████▌     | 23001/50000 [2:56:57<2:41:53,  2.78it/s]"
          ]
        },
        {
          "output_type": "stream",
          "name": "stdout",
          "text": [
            "loss_c : 1.2282580137252808  loss_s : 2.640686273574829  loss : 3.8689441680908203\n"
          ]
        },
        {
          "output_type": "stream",
          "name": "stderr",
          "text": [
            " 46%|████▌     | 23101/50000 [2:57:57<3:52:41,  1.93it/s]"
          ]
        },
        {
          "output_type": "stream",
          "name": "stdout",
          "text": [
            "loss_c : 1.2125957012176514  loss_s : 3.0627777576446533  loss : 4.275373458862305\n"
          ]
        },
        {
          "output_type": "stream",
          "name": "stderr",
          "text": [
            " 46%|████▋     | 23201/50000 [2:58:45<3:15:20,  2.29it/s]"
          ]
        },
        {
          "output_type": "stream",
          "name": "stdout",
          "text": [
            "loss_c : 1.251906394958496  loss_s : 2.5319814682006836  loss : 3.7838878631591797\n"
          ]
        },
        {
          "output_type": "stream",
          "name": "stderr",
          "text": [
            " 47%|████▋     | 23301/50000 [2:59:32<3:51:38,  1.92it/s]"
          ]
        },
        {
          "output_type": "stream",
          "name": "stdout",
          "text": [
            "loss_c : 1.5428009033203125  loss_s : 3.6381113529205322  loss : 5.180912017822266\n"
          ]
        },
        {
          "output_type": "stream",
          "name": "stderr",
          "text": [
            " 47%|████▋     | 23401/50000 [3:00:19<2:52:33,  2.57it/s]"
          ]
        },
        {
          "output_type": "stream",
          "name": "stdout",
          "text": [
            "loss_c : 1.0348806381225586  loss_s : 2.4689879417419434  loss : 3.503868579864502\n"
          ]
        },
        {
          "output_type": "stream",
          "name": "stderr",
          "text": [
            " 47%|████▋     | 23501/50000 [3:01:33<3:04:55,  2.39it/s]"
          ]
        },
        {
          "output_type": "stream",
          "name": "stdout",
          "text": [
            "loss_c : 1.2880948781967163  loss_s : 5.415401458740234  loss : 6.70349645614624\n"
          ]
        },
        {
          "output_type": "stream",
          "name": "stderr",
          "text": [
            " 47%|████▋     | 23601/50000 [3:02:17<2:42:54,  2.70it/s]"
          ]
        },
        {
          "output_type": "stream",
          "name": "stdout",
          "text": [
            "loss_c : 1.264613389968872  loss_s : 2.7838680744171143  loss : 4.048481464385986\n"
          ]
        },
        {
          "output_type": "stream",
          "name": "stderr",
          "text": [
            " 47%|████▋     | 23701/50000 [3:03:00<2:49:28,  2.59it/s]"
          ]
        },
        {
          "output_type": "stream",
          "name": "stdout",
          "text": [
            "loss_c : 1.1413898468017578  loss_s : 2.718691349029541  loss : 3.860081195831299\n"
          ]
        },
        {
          "output_type": "stream",
          "name": "stderr",
          "text": [
            " 48%|████▊     | 23801/50000 [3:04:03<2:19:40,  3.13it/s]"
          ]
        },
        {
          "output_type": "stream",
          "name": "stdout",
          "text": [
            "loss_c : 1.07993483543396  loss_s : 2.8940086364746094  loss : 3.9739434719085693\n"
          ]
        },
        {
          "output_type": "stream",
          "name": "stderr",
          "text": [
            " 48%|████▊     | 23901/50000 [3:04:47<2:58:25,  2.44it/s]"
          ]
        },
        {
          "output_type": "stream",
          "name": "stdout",
          "text": [
            "loss_c : 1.6139405965805054  loss_s : 3.593717575073242  loss : 5.207658290863037\n"
          ]
        },
        {
          "output_type": "stream",
          "name": "stderr",
          "text": [
            " 48%|████▊     | 24001/50000 [3:05:32<3:37:59,  1.99it/s]"
          ]
        },
        {
          "output_type": "stream",
          "name": "stdout",
          "text": [
            "loss_c : 1.3188402652740479  loss_s : 2.783939838409424  loss : 4.102780342102051\n"
          ]
        },
        {
          "output_type": "stream",
          "name": "stderr",
          "text": [
            " 48%|████▊     | 24101/50000 [3:06:16<4:55:24,  1.46it/s]"
          ]
        },
        {
          "output_type": "stream",
          "name": "stdout",
          "text": [
            "loss_c : 1.053696632385254  loss_s : 3.0697836875915527  loss : 4.123480319976807\n"
          ]
        },
        {
          "output_type": "stream",
          "name": "stderr",
          "text": [
            " 48%|████▊     | 24201/50000 [3:06:56<2:41:05,  2.67it/s]"
          ]
        },
        {
          "output_type": "stream",
          "name": "stdout",
          "text": [
            "loss_c : 1.3168017864227295  loss_s : 2.2984719276428223  loss : 3.6152737140655518\n"
          ]
        },
        {
          "output_type": "stream",
          "name": "stderr",
          "text": [
            " 49%|████▊     | 24301/50000 [3:07:40<3:30:26,  2.04it/s]"
          ]
        },
        {
          "output_type": "stream",
          "name": "stdout",
          "text": [
            "loss_c : 1.8027387857437134  loss_s : 3.8170347213745117  loss : 5.6197733879089355\n"
          ]
        },
        {
          "output_type": "stream",
          "name": "stderr",
          "text": [
            " 49%|████▉     | 24401/50000 [3:08:21<3:37:01,  1.97it/s]"
          ]
        },
        {
          "output_type": "stream",
          "name": "stdout",
          "text": [
            "loss_c : 1.342672348022461  loss_s : 3.567824602127075  loss : 4.910496711730957\n"
          ]
        },
        {
          "output_type": "stream",
          "name": "stderr",
          "text": [
            " 49%|████▉     | 24501/50000 [3:09:04<2:37:53,  2.69it/s]"
          ]
        },
        {
          "output_type": "stream",
          "name": "stdout",
          "text": [
            "loss_c : 0.8416821956634521  loss_s : 2.1515960693359375  loss : 2.9932782649993896\n"
          ]
        },
        {
          "output_type": "stream",
          "name": "stderr",
          "text": [
            " 49%|████▉     | 24601/50000 [3:09:45<2:12:14,  3.20it/s]"
          ]
        },
        {
          "output_type": "stream",
          "name": "stdout",
          "text": [
            "loss_c : 0.851032018661499  loss_s : 1.726470947265625  loss : 2.577502965927124\n"
          ]
        },
        {
          "output_type": "stream",
          "name": "stderr",
          "text": [
            " 49%|████▉     | 24701/50000 [3:10:28<2:12:14,  3.19it/s]"
          ]
        },
        {
          "output_type": "stream",
          "name": "stdout",
          "text": [
            "loss_c : 1.061305284500122  loss_s : 2.747392416000366  loss : 3.8086977005004883\n"
          ]
        },
        {
          "output_type": "stream",
          "name": "stderr",
          "text": [
            " 50%|████▉     | 24801/50000 [3:11:13<2:51:32,  2.45it/s]"
          ]
        },
        {
          "output_type": "stream",
          "name": "stdout",
          "text": [
            "loss_c : 1.5374441146850586  loss_s : 5.044971466064453  loss : 6.582415580749512\n"
          ]
        },
        {
          "output_type": "stream",
          "name": "stderr",
          "text": [
            " 50%|████▉     | 24901/50000 [3:11:56<2:28:49,  2.81it/s]"
          ]
        },
        {
          "output_type": "stream",
          "name": "stdout",
          "text": [
            "loss_c : 1.8537720441818237  loss_s : 9.190078735351562  loss : 11.043850898742676\n"
          ]
        },
        {
          "output_type": "stream",
          "name": "stderr",
          "text": [
            " 50%|█████     | 25001/50000 [3:12:39<3:28:16,  2.00it/s]"
          ]
        },
        {
          "output_type": "stream",
          "name": "stdout",
          "text": [
            "loss_c : 1.41409432888031  loss_s : 7.793179512023926  loss : 9.207273483276367\n"
          ]
        },
        {
          "output_type": "stream",
          "name": "stderr",
          "text": [
            " 50%|█████     | 25101/50000 [3:13:20<2:51:40,  2.42it/s]"
          ]
        },
        {
          "output_type": "stream",
          "name": "stdout",
          "text": [
            "loss_c : 1.510288953781128  loss_s : 3.278207778930664  loss : 4.788496971130371\n"
          ]
        },
        {
          "output_type": "stream",
          "name": "stderr",
          "text": [
            " 50%|█████     | 25201/50000 [3:14:06<3:04:05,  2.25it/s]"
          ]
        },
        {
          "output_type": "stream",
          "name": "stdout",
          "text": [
            "loss_c : 1.1865342855453491  loss_s : 2.634132146835327  loss : 3.8206663131713867\n"
          ]
        },
        {
          "output_type": "stream",
          "name": "stderr",
          "text": [
            " 51%|█████     | 25301/50000 [3:14:49<3:01:11,  2.27it/s]"
          ]
        },
        {
          "output_type": "stream",
          "name": "stdout",
          "text": [
            "loss_c : 1.0109976530075073  loss_s : 3.071348190307617  loss : 4.082345962524414\n"
          ]
        },
        {
          "output_type": "stream",
          "name": "stderr",
          "text": [
            " 51%|█████     | 25401/50000 [3:15:36<2:06:17,  3.25it/s]"
          ]
        },
        {
          "output_type": "stream",
          "name": "stdout",
          "text": [
            "loss_c : 1.1606577634811401  loss_s : 3.6567282676696777  loss : 4.817386150360107\n"
          ]
        },
        {
          "output_type": "stream",
          "name": "stderr",
          "text": [
            " 51%|█████     | 25501/50000 [3:16:19<3:09:19,  2.16it/s]"
          ]
        },
        {
          "output_type": "stream",
          "name": "stdout",
          "text": [
            "loss_c : 0.9831165075302124  loss_s : 2.2823729515075684  loss : 3.2654895782470703\n"
          ]
        },
        {
          "output_type": "stream",
          "name": "stderr",
          "text": [
            " 51%|█████     | 25601/50000 [3:17:03<4:23:09,  1.55it/s]"
          ]
        },
        {
          "output_type": "stream",
          "name": "stdout",
          "text": [
            "loss_c : 1.0121660232543945  loss_s : 2.092228889465332  loss : 3.1043949127197266\n"
          ]
        },
        {
          "output_type": "stream",
          "name": "stderr",
          "text": [
            " 51%|█████▏    | 25701/50000 [3:17:48<3:41:20,  1.83it/s]"
          ]
        },
        {
          "output_type": "stream",
          "name": "stdout",
          "text": [
            "loss_c : 1.0072672367095947  loss_s : 4.171802520751953  loss : 5.179069519042969\n"
          ]
        },
        {
          "output_type": "stream",
          "name": "stderr",
          "text": [
            " 52%|█████▏    | 25801/50000 [3:18:34<4:23:18,  1.53it/s]"
          ]
        },
        {
          "output_type": "stream",
          "name": "stdout",
          "text": [
            "loss_c : 1.1450481414794922  loss_s : 2.77193021774292  loss : 3.916978359222412\n"
          ]
        },
        {
          "output_type": "stream",
          "name": "stderr",
          "text": [
            " 52%|█████▏    | 25901/50000 [3:19:15<3:37:26,  1.85it/s]"
          ]
        },
        {
          "output_type": "stream",
          "name": "stdout",
          "text": [
            "loss_c : 1.1563459634780884  loss_s : 2.25596284866333  loss : 3.412308692932129\n"
          ]
        },
        {
          "output_type": "stream",
          "name": "stderr",
          "text": [
            " 52%|█████▏    | 26001/50000 [3:19:58<2:32:16,  2.63it/s]"
          ]
        },
        {
          "output_type": "stream",
          "name": "stdout",
          "text": [
            "loss_c : 1.3902029991149902  loss_s : 8.402582168579102  loss : 9.79278564453125\n"
          ]
        },
        {
          "output_type": "stream",
          "name": "stderr",
          "text": [
            " 52%|█████▏    | 26101/50000 [3:20:42<2:51:43,  2.32it/s]"
          ]
        },
        {
          "output_type": "stream",
          "name": "stdout",
          "text": [
            "loss_c : 1.5007014274597168  loss_s : 5.296904563903809  loss : 6.797605991363525\n"
          ]
        },
        {
          "output_type": "stream",
          "name": "stderr",
          "text": [
            " 52%|█████▏    | 26201/50000 [3:21:26<3:36:35,  1.83it/s]"
          ]
        },
        {
          "output_type": "stream",
          "name": "stdout",
          "text": [
            "loss_c : 1.3649306297302246  loss_s : 3.8324239253997803  loss : 5.197354316711426\n"
          ]
        },
        {
          "output_type": "stream",
          "name": "stderr",
          "text": [
            " 53%|█████▎    | 26301/50000 [3:22:07<2:17:33,  2.87it/s]"
          ]
        },
        {
          "output_type": "stream",
          "name": "stdout",
          "text": [
            "loss_c : 1.14588463306427  loss_s : 3.218114137649536  loss : 4.363998889923096\n"
          ]
        },
        {
          "output_type": "stream",
          "name": "stderr",
          "text": [
            " 53%|█████▎    | 26401/50000 [3:22:53<2:21:44,  2.78it/s]"
          ]
        },
        {
          "output_type": "stream",
          "name": "stdout",
          "text": [
            "loss_c : 1.2848474979400635  loss_s : 3.9112305641174316  loss : 5.196078300476074\n"
          ]
        },
        {
          "output_type": "stream",
          "name": "stderr",
          "text": [
            " 53%|█████▎    | 26501/50000 [3:23:35<2:21:08,  2.77it/s]"
          ]
        },
        {
          "output_type": "stream",
          "name": "stdout",
          "text": [
            "loss_c : 1.670288324356079  loss_s : 5.612296104431152  loss : 7.282584190368652\n"
          ]
        },
        {
          "output_type": "stream",
          "name": "stderr",
          "text": [
            " 53%|█████▎    | 26601/50000 [3:24:23<3:32:19,  1.84it/s]"
          ]
        },
        {
          "output_type": "stream",
          "name": "stdout",
          "text": [
            "loss_c : 1.0845916271209717  loss_s : 2.852083444595337  loss : 3.9366750717163086\n"
          ]
        },
        {
          "output_type": "stream",
          "name": "stderr",
          "text": [
            " 53%|█████▎    | 26701/50000 [3:25:08<2:15:35,  2.86it/s]"
          ]
        },
        {
          "output_type": "stream",
          "name": "stdout",
          "text": [
            "loss_c : 1.3757282495498657  loss_s : 3.48140287399292  loss : 4.857131004333496\n"
          ]
        },
        {
          "output_type": "stream",
          "name": "stderr",
          "text": [
            " 54%|█████▎    | 26801/50000 [3:25:51<2:27:37,  2.62it/s]"
          ]
        },
        {
          "output_type": "stream",
          "name": "stdout",
          "text": [
            "loss_c : 1.6608033180236816  loss_s : 5.018675327301025  loss : 6.679478645324707\n"
          ]
        },
        {
          "output_type": "stream",
          "name": "stderr",
          "text": [
            " 54%|█████▍    | 26901/50000 [3:26:35<3:10:03,  2.03it/s]"
          ]
        },
        {
          "output_type": "stream",
          "name": "stdout",
          "text": [
            "loss_c : 1.1672838926315308  loss_s : 4.161935329437256  loss : 5.329219341278076\n"
          ]
        },
        {
          "output_type": "stream",
          "name": "stderr",
          "text": [
            " 54%|█████▍    | 27001/50000 [3:27:18<2:40:11,  2.39it/s]"
          ]
        },
        {
          "output_type": "stream",
          "name": "stdout",
          "text": [
            "loss_c : 1.0437781810760498  loss_s : 3.0533008575439453  loss : 4.097079277038574\n"
          ]
        },
        {
          "output_type": "stream",
          "name": "stderr",
          "text": [
            " 54%|█████▍    | 27101/50000 [3:27:59<2:05:59,  3.03it/s]"
          ]
        },
        {
          "output_type": "stream",
          "name": "stdout",
          "text": [
            "loss_c : 1.7364120483398438  loss_s : 18.32501983642578  loss : 20.061431884765625\n"
          ]
        },
        {
          "output_type": "stream",
          "name": "stderr",
          "text": [
            " 54%|█████▍    | 27201/50000 [3:28:43<3:16:10,  1.94it/s]"
          ]
        },
        {
          "output_type": "stream",
          "name": "stdout",
          "text": [
            "loss_c : 1.2150928974151611  loss_s : 3.823619842529297  loss : 5.038712501525879\n"
          ]
        },
        {
          "output_type": "stream",
          "name": "stderr",
          "text": [
            " 55%|█████▍    | 27301/50000 [3:29:30<3:43:15,  1.69it/s]"
          ]
        },
        {
          "output_type": "stream",
          "name": "stdout",
          "text": [
            "loss_c : 1.2731316089630127  loss_s : 2.4291138648986816  loss : 3.7022454738616943\n"
          ]
        },
        {
          "output_type": "stream",
          "name": "stderr",
          "text": [
            " 55%|█████▍    | 27401/50000 [3:30:15<4:30:19,  1.39it/s]"
          ]
        },
        {
          "output_type": "stream",
          "name": "stdout",
          "text": [
            "loss_c : 1.4381074905395508  loss_s : 4.7711896896362305  loss : 6.209297180175781\n"
          ]
        },
        {
          "output_type": "stream",
          "name": "stderr",
          "text": [
            " 55%|█████▌    | 27501/50000 [3:31:00<3:20:11,  1.87it/s]"
          ]
        },
        {
          "output_type": "stream",
          "name": "stdout",
          "text": [
            "loss_c : 1.13448166847229  loss_s : 4.949550628662109  loss : 6.08403205871582\n"
          ]
        },
        {
          "output_type": "stream",
          "name": "stderr",
          "text": [
            " 55%|█████▌    | 27601/50000 [3:31:45<2:38:17,  2.36it/s]"
          ]
        },
        {
          "output_type": "stream",
          "name": "stdout",
          "text": [
            "loss_c : 0.9158304333686829  loss_s : 2.1144723892211914  loss : 3.0303027629852295\n"
          ]
        },
        {
          "output_type": "stream",
          "name": "stderr",
          "text": [
            " 55%|█████▌    | 27701/50000 [3:32:27<2:15:53,  2.73it/s]"
          ]
        },
        {
          "output_type": "stream",
          "name": "stdout",
          "text": [
            "loss_c : 1.5657157897949219  loss_s : 4.418645858764648  loss : 5.98436164855957\n"
          ]
        },
        {
          "output_type": "stream",
          "name": "stderr",
          "text": [
            " 56%|█████▌    | 27801/50000 [3:33:09<2:26:55,  2.52it/s]"
          ]
        },
        {
          "output_type": "stream",
          "name": "stdout",
          "text": [
            "loss_c : 1.6281700134277344  loss_s : 4.052346229553223  loss : 5.680516242980957\n"
          ]
        },
        {
          "output_type": "stream",
          "name": "stderr",
          "text": [
            " 56%|█████▌    | 27901/50000 [3:33:52<2:03:05,  2.99it/s]"
          ]
        },
        {
          "output_type": "stream",
          "name": "stdout",
          "text": [
            "loss_c : 1.0652925968170166  loss_s : 2.0473663806915283  loss : 3.112658977508545\n"
          ]
        },
        {
          "output_type": "stream",
          "name": "stderr",
          "text": [
            " 56%|█████▌    | 28001/50000 [3:34:35<2:20:42,  2.61it/s]"
          ]
        },
        {
          "output_type": "stream",
          "name": "stdout",
          "text": [
            "loss_c : 1.1840050220489502  loss_s : 2.994558811187744  loss : 4.178564071655273\n"
          ]
        },
        {
          "output_type": "stream",
          "name": "stderr",
          "text": [
            " 56%|█████▌    | 28101/50000 [3:35:23<2:36:11,  2.34it/s]"
          ]
        },
        {
          "output_type": "stream",
          "name": "stdout",
          "text": [
            "loss_c : 1.6485847234725952  loss_s : 5.060802459716797  loss : 6.709387302398682\n"
          ]
        },
        {
          "output_type": "stream",
          "name": "stderr",
          "text": [
            " 56%|█████▋    | 28201/50000 [3:36:07<3:04:34,  1.97it/s]"
          ]
        },
        {
          "output_type": "stream",
          "name": "stdout",
          "text": [
            "loss_c : 1.1813223361968994  loss_s : 4.917230129241943  loss : 6.098552703857422\n"
          ]
        },
        {
          "output_type": "stream",
          "name": "stderr",
          "text": [
            " 57%|█████▋    | 28301/50000 [3:36:55<2:43:06,  2.22it/s]"
          ]
        },
        {
          "output_type": "stream",
          "name": "stdout",
          "text": [
            "loss_c : 1.2398197650909424  loss_s : 2.7215447425842285  loss : 3.961364507675171\n"
          ]
        },
        {
          "output_type": "stream",
          "name": "stderr",
          "text": [
            " 57%|█████▋    | 28401/50000 [3:37:55<2:50:57,  2.11it/s]"
          ]
        },
        {
          "output_type": "stream",
          "name": "stdout",
          "text": [
            "loss_c : 1.0815191268920898  loss_s : 2.598487138748169  loss : 3.680006265640259\n"
          ]
        },
        {
          "output_type": "stream",
          "name": "stderr",
          "text": [
            " 57%|█████▋    | 28501/50000 [3:38:38<1:58:12,  3.03it/s]"
          ]
        },
        {
          "output_type": "stream",
          "name": "stdout",
          "text": [
            "loss_c : 1.3838822841644287  loss_s : 2.7879347801208496  loss : 4.171816825866699\n"
          ]
        },
        {
          "output_type": "stream",
          "name": "stderr",
          "text": [
            " 57%|█████▋    | 28601/50000 [3:39:21<2:56:19,  2.02it/s]"
          ]
        },
        {
          "output_type": "stream",
          "name": "stdout",
          "text": [
            "loss_c : 1.5101745128631592  loss_s : 4.040607929229736  loss : 5.550782203674316\n"
          ]
        },
        {
          "output_type": "stream",
          "name": "stderr",
          "text": [
            " 57%|█████▋    | 28701/50000 [3:40:06<3:47:19,  1.56it/s]"
          ]
        },
        {
          "output_type": "stream",
          "name": "stdout",
          "text": [
            "loss_c : 1.8394732475280762  loss_s : 7.913780212402344  loss : 9.753253936767578\n"
          ]
        },
        {
          "output_type": "stream",
          "name": "stderr",
          "text": [
            " 58%|█████▊    | 28801/50000 [3:40:49<3:38:20,  1.62it/s]"
          ]
        },
        {
          "output_type": "stream",
          "name": "stdout",
          "text": [
            "loss_c : 0.9194878339767456  loss_s : 2.4945740699768066  loss : 3.414062023162842\n"
          ]
        },
        {
          "output_type": "stream",
          "name": "stderr",
          "text": [
            " 58%|█████▊    | 28901/50000 [3:41:32<2:33:22,  2.29it/s]"
          ]
        },
        {
          "output_type": "stream",
          "name": "stdout",
          "text": [
            "loss_c : 1.3115572929382324  loss_s : 3.98954176902771  loss : 5.301098823547363\n"
          ]
        },
        {
          "output_type": "stream",
          "name": "stderr",
          "text": [
            " 58%|█████▊    | 29001/50000 [3:42:15<2:06:57,  2.76it/s]"
          ]
        },
        {
          "output_type": "stream",
          "name": "stdout",
          "text": [
            "loss_c : 1.2822835445404053  loss_s : 3.394831657409668  loss : 4.677115440368652\n"
          ]
        },
        {
          "output_type": "stream",
          "name": "stderr",
          "text": [
            " 58%|█████▊    | 29101/50000 [3:43:00<2:33:13,  2.27it/s]"
          ]
        },
        {
          "output_type": "stream",
          "name": "stdout",
          "text": [
            "loss_c : 1.5214145183563232  loss_s : 3.0661606788635254  loss : 4.5875749588012695\n"
          ]
        },
        {
          "output_type": "stream",
          "name": "stderr",
          "text": [
            " 58%|█████▊    | 29201/50000 [3:43:44<1:58:48,  2.92it/s]"
          ]
        },
        {
          "output_type": "stream",
          "name": "stdout",
          "text": [
            "loss_c : 1.4787635803222656  loss_s : 4.271340847015381  loss : 5.7501044273376465\n"
          ]
        },
        {
          "output_type": "stream",
          "name": "stderr",
          "text": [
            " 59%|█████▊    | 29301/50000 [3:44:28<2:26:59,  2.35it/s]"
          ]
        },
        {
          "output_type": "stream",
          "name": "stdout",
          "text": [
            "loss_c : 1.2228862047195435  loss_s : 3.7061915397644043  loss : 4.929077625274658\n"
          ]
        },
        {
          "output_type": "stream",
          "name": "stderr",
          "text": [
            " 59%|█████▉    | 29401/50000 [3:45:17<4:25:22,  1.29it/s]"
          ]
        },
        {
          "output_type": "stream",
          "name": "stdout",
          "text": [
            "loss_c : 1.3467720746994019  loss_s : 3.8034298419952393  loss : 5.150201797485352\n"
          ]
        },
        {
          "output_type": "stream",
          "name": "stderr",
          "text": [
            " 59%|█████▉    | 29501/50000 [3:45:58<2:17:37,  2.48it/s]"
          ]
        },
        {
          "output_type": "stream",
          "name": "stdout",
          "text": [
            "loss_c : 1.3330601453781128  loss_s : 3.397350549697876  loss : 4.730410575866699\n"
          ]
        },
        {
          "output_type": "stream",
          "name": "stderr",
          "text": [
            " 59%|█████▉    | 29601/50000 [3:46:43<2:56:33,  1.93it/s]"
          ]
        },
        {
          "output_type": "stream",
          "name": "stdout",
          "text": [
            "loss_c : 1.4229382276535034  loss_s : 4.119088649749756  loss : 5.542026996612549\n"
          ]
        },
        {
          "output_type": "stream",
          "name": "stderr",
          "text": [
            " 59%|█████▉    | 29701/50000 [3:47:32<2:39:03,  2.13it/s]"
          ]
        },
        {
          "output_type": "stream",
          "name": "stdout",
          "text": [
            "loss_c : 1.2633399963378906  loss_s : 3.16813325881958  loss : 4.431473255157471\n"
          ]
        },
        {
          "output_type": "stream",
          "name": "stderr",
          "text": [
            " 60%|█████▉    | 29801/50000 [3:48:13<2:14:26,  2.50it/s]"
          ]
        },
        {
          "output_type": "stream",
          "name": "stdout",
          "text": [
            "loss_c : 1.5284618139266968  loss_s : 3.7644338607788086  loss : 5.292895793914795\n"
          ]
        },
        {
          "output_type": "stream",
          "name": "stderr",
          "text": [
            " 60%|█████▉    | 29901/50000 [3:48:58<6:11:10,  1.11s/it]"
          ]
        },
        {
          "output_type": "stream",
          "name": "stdout",
          "text": [
            "loss_c : 0.9878250360488892  loss_s : 2.166494131088257  loss : 3.1543192863464355\n"
          ]
        },
        {
          "output_type": "stream",
          "name": "stderr",
          "text": [
            " 60%|██████    | 30001/50000 [3:50:01<2:22:35,  2.34it/s]"
          ]
        },
        {
          "output_type": "stream",
          "name": "stdout",
          "text": [
            "loss_c : 1.2473413944244385  loss_s : 3.2033097743988037  loss : 4.450651168823242\n"
          ]
        },
        {
          "output_type": "stream",
          "name": "stderr",
          "text": [
            " 60%|██████    | 30101/50000 [3:50:45<3:34:07,  1.55it/s]"
          ]
        },
        {
          "output_type": "stream",
          "name": "stdout",
          "text": [
            "loss_c : 1.183699369430542  loss_s : 6.636388301849365  loss : 7.820087432861328\n"
          ]
        },
        {
          "output_type": "stream",
          "name": "stderr",
          "text": [
            " 60%|██████    | 30201/50000 [3:51:31<4:18:42,  1.28it/s]"
          ]
        },
        {
          "output_type": "stream",
          "name": "stdout",
          "text": [
            "loss_c : 1.3659663200378418  loss_s : 4.211597919464111  loss : 5.577564239501953\n"
          ]
        },
        {
          "output_type": "stream",
          "name": "stderr",
          "text": [
            " 61%|██████    | 30301/50000 [3:52:14<1:47:18,  3.06it/s]"
          ]
        },
        {
          "output_type": "stream",
          "name": "stdout",
          "text": [
            "loss_c : 0.9134284257888794  loss_s : 2.2602314949035645  loss : 3.1736598014831543\n"
          ]
        },
        {
          "output_type": "stream",
          "name": "stderr",
          "text": [
            " 61%|██████    | 30401/50000 [3:52:59<2:07:45,  2.56it/s]"
          ]
        },
        {
          "output_type": "stream",
          "name": "stdout",
          "text": [
            "loss_c : 0.9764779806137085  loss_s : 1.9089884757995605  loss : 2.8854665756225586\n"
          ]
        },
        {
          "output_type": "stream",
          "name": "stderr",
          "text": [
            " 61%|██████    | 30501/50000 [3:53:43<1:55:50,  2.81it/s]"
          ]
        },
        {
          "output_type": "stream",
          "name": "stdout",
          "text": [
            "loss_c : 1.4024662971496582  loss_s : 3.1598174571990967  loss : 4.562283515930176\n"
          ]
        },
        {
          "output_type": "stream",
          "name": "stderr",
          "text": [
            " 61%|██████    | 30601/50000 [3:54:27<3:15:55,  1.65it/s]"
          ]
        },
        {
          "output_type": "stream",
          "name": "stdout",
          "text": [
            "loss_c : 1.0486334562301636  loss_s : 2.560305595397949  loss : 3.6089391708374023\n"
          ]
        },
        {
          "output_type": "stream",
          "name": "stderr",
          "text": [
            " 61%|██████▏   | 30701/50000 [3:55:07<2:24:13,  2.23it/s]"
          ]
        },
        {
          "output_type": "stream",
          "name": "stdout",
          "text": [
            "loss_c : 0.9080225229263306  loss_s : 2.396944284439087  loss : 3.304966926574707\n"
          ]
        },
        {
          "output_type": "stream",
          "name": "stderr",
          "text": [
            " 62%|██████▏   | 30801/50000 [3:55:50<1:47:39,  2.97it/s]"
          ]
        },
        {
          "output_type": "stream",
          "name": "stdout",
          "text": [
            "loss_c : 1.5873602628707886  loss_s : 4.070829391479492  loss : 5.65818977355957\n"
          ]
        },
        {
          "output_type": "stream",
          "name": "stderr",
          "text": [
            " 62%|██████▏   | 30901/50000 [3:56:32<2:40:57,  1.98it/s]"
          ]
        },
        {
          "output_type": "stream",
          "name": "stdout",
          "text": [
            "loss_c : 1.3914884328842163  loss_s : 3.933213949203491  loss : 5.324702262878418\n"
          ]
        },
        {
          "output_type": "stream",
          "name": "stderr",
          "text": [
            " 62%|██████▏   | 31001/50000 [3:57:14<2:52:39,  1.83it/s]"
          ]
        },
        {
          "output_type": "stream",
          "name": "stdout",
          "text": [
            "loss_c : 1.4134143590927124  loss_s : 4.658637523651123  loss : 6.072052001953125\n"
          ]
        },
        {
          "output_type": "stream",
          "name": "stderr",
          "text": [
            " 62%|██████▏   | 31101/50000 [3:57:56<1:43:05,  3.06it/s]"
          ]
        },
        {
          "output_type": "stream",
          "name": "stdout",
          "text": [
            "loss_c : 1.5952435731887817  loss_s : 3.3024401664733887  loss : 4.897683620452881\n"
          ]
        },
        {
          "output_type": "stream",
          "name": "stderr",
          "text": [
            " 62%|██████▏   | 31201/50000 [3:58:43<1:54:07,  2.75it/s]"
          ]
        },
        {
          "output_type": "stream",
          "name": "stdout",
          "text": [
            "loss_c : 1.7449896335601807  loss_s : 4.812809944152832  loss : 6.557799339294434\n"
          ]
        },
        {
          "output_type": "stream",
          "name": "stderr",
          "text": [
            " 63%|██████▎   | 31301/50000 [3:59:31<4:54:45,  1.06it/s]"
          ]
        },
        {
          "output_type": "stream",
          "name": "stdout",
          "text": [
            "loss_c : 1.3238624334335327  loss_s : 2.784451961517334  loss : 4.108314514160156\n"
          ]
        },
        {
          "output_type": "stream",
          "name": "stderr",
          "text": [
            " 63%|██████▎   | 31401/50000 [4:00:18<2:11:25,  2.36it/s]"
          ]
        },
        {
          "output_type": "stream",
          "name": "stdout",
          "text": [
            "loss_c : 1.1859076023101807  loss_s : 4.884868621826172  loss : 6.070775985717773\n"
          ]
        },
        {
          "output_type": "stream",
          "name": "stderr",
          "text": [
            " 63%|██████▎   | 31501/50000 [4:01:00<2:09:27,  2.38it/s]"
          ]
        },
        {
          "output_type": "stream",
          "name": "stdout",
          "text": [
            "loss_c : 1.0371441841125488  loss_s : 3.51904034614563  loss : 4.556184768676758\n"
          ]
        },
        {
          "output_type": "stream",
          "name": "stderr",
          "text": [
            " 63%|██████▎   | 31601/50000 [4:01:43<1:41:49,  3.01it/s]"
          ]
        },
        {
          "output_type": "stream",
          "name": "stdout",
          "text": [
            "loss_c : 1.508649468421936  loss_s : 4.585817337036133  loss : 6.094466686248779\n"
          ]
        },
        {
          "output_type": "stream",
          "name": "stderr",
          "text": [
            " 63%|██████▎   | 31701/50000 [4:02:24<1:57:41,  2.59it/s]"
          ]
        },
        {
          "output_type": "stream",
          "name": "stdout",
          "text": [
            "loss_c : 1.3236136436462402  loss_s : 2.8375630378723145  loss : 4.161176681518555\n"
          ]
        },
        {
          "output_type": "stream",
          "name": "stderr",
          "text": [
            " 64%|██████▎   | 31801/50000 [4:03:06<2:29:37,  2.03it/s]"
          ]
        },
        {
          "output_type": "stream",
          "name": "stdout",
          "text": [
            "loss_c : 1.48539400100708  loss_s : 5.789607048034668  loss : 7.275001049041748\n"
          ]
        },
        {
          "output_type": "stream",
          "name": "stderr",
          "text": [
            " 64%|██████▍   | 31901/50000 [4:03:46<1:46:29,  2.83it/s]"
          ]
        },
        {
          "output_type": "stream",
          "name": "stdout",
          "text": [
            "loss_c : 1.1803934574127197  loss_s : 2.886075973510742  loss : 4.066469192504883\n"
          ]
        },
        {
          "output_type": "stream",
          "name": "stderr",
          "text": [
            " 64%|██████▍   | 32001/50000 [4:04:28<2:04:59,  2.40it/s]"
          ]
        },
        {
          "output_type": "stream",
          "name": "stdout",
          "text": [
            "loss_c : 1.665102243423462  loss_s : 5.5280632972717285  loss : 7.1931657791137695\n"
          ]
        },
        {
          "output_type": "stream",
          "name": "stderr",
          "text": [
            " 64%|██████▍   | 32101/50000 [4:05:07<2:32:53,  1.95it/s]"
          ]
        },
        {
          "output_type": "stream",
          "name": "stdout",
          "text": [
            "loss_c : 1.4529225826263428  loss_s : 5.742598533630371  loss : 7.195521354675293\n"
          ]
        },
        {
          "output_type": "stream",
          "name": "stderr",
          "text": [
            " 64%|██████▍   | 32201/50000 [4:05:52<2:28:57,  1.99it/s]"
          ]
        },
        {
          "output_type": "stream",
          "name": "stdout",
          "text": [
            "loss_c : 1.6635774374008179  loss_s : 4.730796813964844  loss : 6.394374370574951\n"
          ]
        },
        {
          "output_type": "stream",
          "name": "stderr",
          "text": [
            " 65%|██████▍   | 32301/50000 [4:06:35<2:15:50,  2.17it/s]"
          ]
        },
        {
          "output_type": "stream",
          "name": "stdout",
          "text": [
            "loss_c : 1.048109769821167  loss_s : 4.408559799194336  loss : 5.456669807434082\n"
          ]
        },
        {
          "output_type": "stream",
          "name": "stderr",
          "text": [
            " 65%|██████▍   | 32401/50000 [4:07:21<1:58:38,  2.47it/s]"
          ]
        },
        {
          "output_type": "stream",
          "name": "stdout",
          "text": [
            "loss_c : 1.5319948196411133  loss_s : 4.455158233642578  loss : 5.987153053283691\n"
          ]
        },
        {
          "output_type": "stream",
          "name": "stderr",
          "text": [
            " 65%|██████▌   | 32501/50000 [4:08:04<2:16:19,  2.14it/s]"
          ]
        },
        {
          "output_type": "stream",
          "name": "stdout",
          "text": [
            "loss_c : 1.5699870586395264  loss_s : 4.128814220428467  loss : 5.698801040649414\n"
          ]
        },
        {
          "output_type": "stream",
          "name": "stderr",
          "text": [
            " 65%|██████▌   | 32601/50000 [4:08:49<1:56:51,  2.48it/s]"
          ]
        },
        {
          "output_type": "stream",
          "name": "stdout",
          "text": [
            "loss_c : 1.6378848552703857  loss_s : 8.22991943359375  loss : 9.867804527282715\n"
          ]
        },
        {
          "output_type": "stream",
          "name": "stderr",
          "text": [
            " 65%|██████▌   | 32701/50000 [4:09:31<2:37:03,  1.84it/s]"
          ]
        },
        {
          "output_type": "stream",
          "name": "stdout",
          "text": [
            "loss_c : 1.5808525085449219  loss_s : 4.920129299163818  loss : 6.50098180770874\n"
          ]
        },
        {
          "output_type": "stream",
          "name": "stderr",
          "text": [
            " 66%|██████▌   | 32801/50000 [4:10:28<1:43:29,  2.77it/s]"
          ]
        },
        {
          "output_type": "stream",
          "name": "stdout",
          "text": [
            "loss_c : 1.4243929386138916  loss_s : 3.875187635421753  loss : 5.2995805740356445\n"
          ]
        },
        {
          "output_type": "stream",
          "name": "stderr",
          "text": [
            " 66%|██████▌   | 32901/50000 [4:11:37<1:46:20,  2.68it/s]"
          ]
        },
        {
          "output_type": "stream",
          "name": "stdout",
          "text": [
            "loss_c : 1.3179361820220947  loss_s : 2.9015579223632812  loss : 4.219493865966797\n"
          ]
        },
        {
          "output_type": "stream",
          "name": "stderr",
          "text": [
            " 66%|██████▌   | 33001/50000 [4:12:20<3:36:12,  1.31it/s]"
          ]
        },
        {
          "output_type": "stream",
          "name": "stdout",
          "text": [
            "loss_c : 1.0050885677337646  loss_s : 2.6676077842712402  loss : 3.672696352005005\n"
          ]
        },
        {
          "output_type": "stream",
          "name": "stderr",
          "text": [
            " 66%|██████▌   | 33101/50000 [4:13:05<2:19:58,  2.01it/s]"
          ]
        },
        {
          "output_type": "stream",
          "name": "stdout",
          "text": [
            "loss_c : 1.322420358657837  loss_s : 3.303680181503296  loss : 4.626100540161133\n"
          ]
        },
        {
          "output_type": "stream",
          "name": "stderr",
          "text": [
            " 66%|██████▋   | 33201/50000 [4:13:50<2:28:37,  1.88it/s]"
          ]
        },
        {
          "output_type": "stream",
          "name": "stdout",
          "text": [
            "loss_c : 1.3009589910507202  loss_s : 2.420058012008667  loss : 3.7210168838500977\n"
          ]
        },
        {
          "output_type": "stream",
          "name": "stderr",
          "text": [
            " 67%|██████▋   | 33301/50000 [4:14:33<1:58:31,  2.35it/s]"
          ]
        },
        {
          "output_type": "stream",
          "name": "stdout",
          "text": [
            "loss_c : 1.0392028093338013  loss_s : 3.4547553062438965  loss : 4.493957996368408\n"
          ]
        },
        {
          "output_type": "stream",
          "name": "stderr",
          "text": [
            " 67%|██████▋   | 33401/50000 [4:15:18<2:19:28,  1.98it/s]"
          ]
        },
        {
          "output_type": "stream",
          "name": "stdout",
          "text": [
            "loss_c : 1.1884040832519531  loss_s : 5.740522861480713  loss : 6.928926944732666\n"
          ]
        },
        {
          "output_type": "stream",
          "name": "stderr",
          "text": [
            " 67%|██████▋   | 33501/50000 [4:16:00<1:23:19,  3.30it/s]"
          ]
        },
        {
          "output_type": "stream",
          "name": "stdout",
          "text": [
            "loss_c : 1.27010977268219  loss_s : 5.32451057434082  loss : 6.594620227813721\n"
          ]
        },
        {
          "output_type": "stream",
          "name": "stderr",
          "text": [
            " 67%|██████▋   | 33601/50000 [4:16:45<1:30:35,  3.02it/s]"
          ]
        },
        {
          "output_type": "stream",
          "name": "stdout",
          "text": [
            "loss_c : 1.5306832790374756  loss_s : 2.8217267990112305  loss : 4.352410316467285\n"
          ]
        },
        {
          "output_type": "stream",
          "name": "stderr",
          "text": [
            " 67%|██████▋   | 33701/50000 [4:17:27<2:13:17,  2.04it/s]"
          ]
        },
        {
          "output_type": "stream",
          "name": "stdout",
          "text": [
            "loss_c : 0.853662371635437  loss_s : 2.113609552383423  loss : 2.9672718048095703\n"
          ]
        },
        {
          "output_type": "stream",
          "name": "stderr",
          "text": [
            " 68%|██████▊   | 33801/50000 [4:18:09<1:45:34,  2.56it/s]"
          ]
        },
        {
          "output_type": "stream",
          "name": "stdout",
          "text": [
            "loss_c : 1.7848578691482544  loss_s : 4.496465682983398  loss : 6.281323432922363\n"
          ]
        },
        {
          "output_type": "stream",
          "name": "stderr",
          "text": [
            " 68%|██████▊   | 33901/50000 [4:18:59<2:32:05,  1.76it/s]"
          ]
        },
        {
          "output_type": "stream",
          "name": "stdout",
          "text": [
            "loss_c : 1.0226051807403564  loss_s : 3.548034429550171  loss : 4.570639610290527\n"
          ]
        },
        {
          "output_type": "stream",
          "name": "stderr",
          "text": [
            " 68%|██████▊   | 34001/50000 [4:19:43<1:41:23,  2.63it/s]"
          ]
        },
        {
          "output_type": "stream",
          "name": "stdout",
          "text": [
            "loss_c : 1.7486257553100586  loss_s : 4.538143157958984  loss : 6.286768913269043\n"
          ]
        },
        {
          "output_type": "stream",
          "name": "stderr",
          "text": [
            " 68%|██████▊   | 34101/50000 [4:20:45<1:31:32,  2.89it/s]"
          ]
        },
        {
          "output_type": "stream",
          "name": "stdout",
          "text": [
            "loss_c : 1.049376130104065  loss_s : 2.7450175285339355  loss : 3.794393539428711\n"
          ]
        },
        {
          "output_type": "stream",
          "name": "stderr",
          "text": [
            " 68%|██████▊   | 34201/50000 [4:21:27<1:39:57,  2.63it/s]"
          ]
        },
        {
          "output_type": "stream",
          "name": "stdout",
          "text": [
            "loss_c : 1.1372900009155273  loss_s : 2.9115147590637207  loss : 4.048804759979248\n"
          ]
        },
        {
          "output_type": "stream",
          "name": "stderr",
          "text": [
            " 69%|██████▊   | 34301/50000 [4:22:09<1:42:45,  2.55it/s]"
          ]
        },
        {
          "output_type": "stream",
          "name": "stdout",
          "text": [
            "loss_c : 1.5449144840240479  loss_s : 3.98681378364563  loss : 5.531728267669678\n"
          ]
        },
        {
          "output_type": "stream",
          "name": "stderr",
          "text": [
            " 69%|██████▉   | 34401/50000 [4:22:55<1:43:24,  2.51it/s]"
          ]
        },
        {
          "output_type": "stream",
          "name": "stdout",
          "text": [
            "loss_c : 2.373741388320923  loss_s : 8.170763969421387  loss : 10.54450511932373\n"
          ]
        },
        {
          "output_type": "stream",
          "name": "stderr",
          "text": [
            " 69%|██████▉   | 34501/50000 [4:23:38<1:35:23,  2.71it/s]"
          ]
        },
        {
          "output_type": "stream",
          "name": "stdout",
          "text": [
            "loss_c : 1.3816118240356445  loss_s : 3.349588394165039  loss : 4.731200218200684\n"
          ]
        },
        {
          "output_type": "stream",
          "name": "stderr",
          "text": [
            " 69%|██████▉   | 34601/50000 [4:24:22<1:28:14,  2.91it/s]"
          ]
        },
        {
          "output_type": "stream",
          "name": "stdout",
          "text": [
            "loss_c : 1.3482824563980103  loss_s : 4.673333644866943  loss : 6.021615982055664\n"
          ]
        },
        {
          "output_type": "stream",
          "name": "stderr",
          "text": [
            " 69%|██████▉   | 34701/50000 [4:25:07<1:58:09,  2.16it/s]"
          ]
        },
        {
          "output_type": "stream",
          "name": "stdout",
          "text": [
            "loss_c : 1.182494878768921  loss_s : 5.622249126434326  loss : 6.804743766784668\n"
          ]
        },
        {
          "output_type": "stream",
          "name": "stderr",
          "text": [
            " 70%|██████▉   | 34801/50000 [4:25:55<1:46:49,  2.37it/s]"
          ]
        },
        {
          "output_type": "stream",
          "name": "stdout",
          "text": [
            "loss_c : 1.5699694156646729  loss_s : 4.278250217437744  loss : 5.848219871520996\n"
          ]
        },
        {
          "output_type": "stream",
          "name": "stderr",
          "text": [
            " 70%|██████▉   | 34901/50000 [4:26:40<1:46:25,  2.36it/s]"
          ]
        },
        {
          "output_type": "stream",
          "name": "stdout",
          "text": [
            "loss_c : 1.4103972911834717  loss_s : 3.350923538208008  loss : 4.761321067810059\n"
          ]
        },
        {
          "output_type": "stream",
          "name": "stderr",
          "text": [
            " 70%|███████   | 35001/50000 [4:27:26<1:26:27,  2.89it/s]"
          ]
        },
        {
          "output_type": "stream",
          "name": "stdout",
          "text": [
            "loss_c : 1.648384928703308  loss_s : 4.844367504119873  loss : 6.492752552032471\n"
          ]
        },
        {
          "output_type": "stream",
          "name": "stderr",
          "text": [
            " 70%|███████   | 35101/50000 [4:28:10<2:04:24,  2.00it/s]"
          ]
        },
        {
          "output_type": "stream",
          "name": "stdout",
          "text": [
            "loss_c : 1.0666816234588623  loss_s : 3.5657472610473633  loss : 4.632429122924805\n"
          ]
        },
        {
          "output_type": "stream",
          "name": "stderr",
          "text": [
            " 70%|███████   | 35201/50000 [4:28:56<1:35:02,  2.60it/s]"
          ]
        },
        {
          "output_type": "stream",
          "name": "stdout",
          "text": [
            "loss_c : 1.3458117246627808  loss_s : 3.8597657680511475  loss : 5.205577373504639\n"
          ]
        },
        {
          "output_type": "stream",
          "name": "stderr",
          "text": [
            " 71%|███████   | 35301/50000 [4:29:42<1:45:30,  2.32it/s]"
          ]
        },
        {
          "output_type": "stream",
          "name": "stdout",
          "text": [
            "loss_c : 1.6117572784423828  loss_s : 3.543483257293701  loss : 5.155240535736084\n"
          ]
        },
        {
          "output_type": "stream",
          "name": "stderr",
          "text": [
            " 71%|███████   | 35401/50000 [4:30:27<1:24:15,  2.89it/s]"
          ]
        },
        {
          "output_type": "stream",
          "name": "stdout",
          "text": [
            "loss_c : 1.1036133766174316  loss_s : 2.8777430057525635  loss : 3.981356382369995\n"
          ]
        },
        {
          "output_type": "stream",
          "name": "stderr",
          "text": [
            " 71%|███████   | 35501/50000 [4:31:11<2:01:17,  1.99it/s]"
          ]
        },
        {
          "output_type": "stream",
          "name": "stdout",
          "text": [
            "loss_c : 1.2741373777389526  loss_s : 4.64653205871582  loss : 5.9206695556640625\n"
          ]
        },
        {
          "output_type": "stream",
          "name": "stderr",
          "text": [
            " 71%|███████   | 35601/50000 [4:31:54<1:21:57,  2.93it/s]"
          ]
        },
        {
          "output_type": "stream",
          "name": "stdout",
          "text": [
            "loss_c : 1.0216708183288574  loss_s : 2.751241683959961  loss : 3.7729125022888184\n"
          ]
        },
        {
          "output_type": "stream",
          "name": "stderr",
          "text": [
            " 71%|███████▏  | 35701/50000 [4:32:59<1:33:09,  2.56it/s]"
          ]
        },
        {
          "output_type": "stream",
          "name": "stdout",
          "text": [
            "loss_c : 1.7550631761550903  loss_s : 6.015407562255859  loss : 7.77047061920166\n"
          ]
        },
        {
          "output_type": "stream",
          "name": "stderr",
          "text": [
            " 72%|███████▏  | 35801/50000 [4:33:44<1:47:54,  2.19it/s]"
          ]
        },
        {
          "output_type": "stream",
          "name": "stdout",
          "text": [
            "loss_c : 1.3526580333709717  loss_s : 2.9524059295654297  loss : 4.3050642013549805\n"
          ]
        },
        {
          "output_type": "stream",
          "name": "stderr",
          "text": [
            " 72%|███████▏  | 35901/50000 [4:34:27<1:25:59,  2.73it/s]"
          ]
        },
        {
          "output_type": "stream",
          "name": "stdout",
          "text": [
            "loss_c : 1.5646486282348633  loss_s : 5.396908760070801  loss : 6.961557388305664\n"
          ]
        },
        {
          "output_type": "stream",
          "name": "stderr",
          "text": [
            " 72%|███████▏  | 36001/50000 [4:35:12<1:48:37,  2.15it/s]"
          ]
        },
        {
          "output_type": "stream",
          "name": "stdout",
          "text": [
            "loss_c : 1.2305032014846802  loss_s : 2.8190560340881348  loss : 4.049559116363525\n"
          ]
        },
        {
          "output_type": "stream",
          "name": "stderr",
          "text": [
            " 72%|███████▏  | 36101/50000 [4:35:55<1:24:01,  2.76it/s]"
          ]
        },
        {
          "output_type": "stream",
          "name": "stdout",
          "text": [
            "loss_c : 0.9883276224136353  loss_s : 2.857062816619873  loss : 3.8453903198242188\n"
          ]
        },
        {
          "output_type": "stream",
          "name": "stderr",
          "text": [
            " 72%|███████▏  | 36201/50000 [4:36:42<1:23:12,  2.76it/s]"
          ]
        },
        {
          "output_type": "stream",
          "name": "stdout",
          "text": [
            "loss_c : 1.1537288427352905  loss_s : 2.755401611328125  loss : 3.909130573272705\n"
          ]
        },
        {
          "output_type": "stream",
          "name": "stderr",
          "text": [
            " 73%|███████▎  | 36301/50000 [4:37:28<1:12:39,  3.14it/s]"
          ]
        },
        {
          "output_type": "stream",
          "name": "stdout",
          "text": [
            "loss_c : 1.0706067085266113  loss_s : 3.6620397567749023  loss : 4.732646465301514\n"
          ]
        },
        {
          "output_type": "stream",
          "name": "stderr",
          "text": [
            " 73%|███████▎  | 36401/50000 [4:38:13<1:58:42,  1.91it/s]"
          ]
        },
        {
          "output_type": "stream",
          "name": "stdout",
          "text": [
            "loss_c : 0.7563843131065369  loss_s : 1.7487245798110962  loss : 2.5051088333129883\n"
          ]
        },
        {
          "output_type": "stream",
          "name": "stderr",
          "text": [
            " 73%|███████▎  | 36501/50000 [4:38:56<1:56:52,  1.92it/s]"
          ]
        },
        {
          "output_type": "stream",
          "name": "stdout",
          "text": [
            "loss_c : 1.0421397686004639  loss_s : 4.340371608734131  loss : 5.382511138916016\n"
          ]
        },
        {
          "output_type": "stream",
          "name": "stderr",
          "text": [
            " 73%|███████▎  | 36601/50000 [4:39:43<1:14:37,  2.99it/s]"
          ]
        },
        {
          "output_type": "stream",
          "name": "stdout",
          "text": [
            "loss_c : 1.1698687076568604  loss_s : 2.5300943851470947  loss : 3.699963092803955\n"
          ]
        },
        {
          "output_type": "stream",
          "name": "stderr",
          "text": [
            " 73%|███████▎  | 36701/50000 [4:40:25<1:38:26,  2.25it/s]"
          ]
        },
        {
          "output_type": "stream",
          "name": "stdout",
          "text": [
            "loss_c : 1.27091383934021  loss_s : 2.877592086791992  loss : 4.148506164550781\n"
          ]
        },
        {
          "output_type": "stream",
          "name": "stderr",
          "text": [
            " 74%|███████▎  | 36801/50000 [4:41:11<1:55:38,  1.90it/s]"
          ]
        },
        {
          "output_type": "stream",
          "name": "stdout",
          "text": [
            "loss_c : 1.2788946628570557  loss_s : 3.4322638511657715  loss : 4.711158752441406\n"
          ]
        },
        {
          "output_type": "stream",
          "name": "stderr",
          "text": [
            " 74%|███████▍  | 36901/50000 [4:41:55<1:32:22,  2.36it/s]"
          ]
        },
        {
          "output_type": "stream",
          "name": "stdout",
          "text": [
            "loss_c : 1.4731736183166504  loss_s : 9.235452651977539  loss : 10.708625793457031\n"
          ]
        },
        {
          "output_type": "stream",
          "name": "stderr",
          "text": [
            " 74%|███████▍  | 37001/50000 [4:42:40<2:07:48,  1.70it/s]"
          ]
        },
        {
          "output_type": "stream",
          "name": "stdout",
          "text": [
            "loss_c : 1.5415778160095215  loss_s : 4.723977565765381  loss : 6.265555381774902\n"
          ]
        },
        {
          "output_type": "stream",
          "name": "stderr",
          "text": [
            " 74%|███████▍  | 37101/50000 [4:43:26<1:29:44,  2.40it/s]"
          ]
        },
        {
          "output_type": "stream",
          "name": "stdout",
          "text": [
            "loss_c : 1.1913275718688965  loss_s : 4.217655181884766  loss : 5.408982753753662\n"
          ]
        },
        {
          "output_type": "stream",
          "name": "stderr",
          "text": [
            " 74%|███████▍  | 37201/50000 [4:44:10<1:48:37,  1.96it/s]"
          ]
        },
        {
          "output_type": "stream",
          "name": "stdout",
          "text": [
            "loss_c : 1.240199089050293  loss_s : 4.893494606018066  loss : 6.133693695068359\n"
          ]
        },
        {
          "output_type": "stream",
          "name": "stderr",
          "text": [
            " 75%|███████▍  | 37301/50000 [4:44:52<1:22:14,  2.57it/s]"
          ]
        },
        {
          "output_type": "stream",
          "name": "stdout",
          "text": [
            "loss_c : 1.1326422691345215  loss_s : 4.3369951248168945  loss : 5.469637393951416\n"
          ]
        },
        {
          "output_type": "stream",
          "name": "stderr",
          "text": [
            " 75%|███████▍  | 37401/50000 [4:45:31<1:16:29,  2.75it/s]"
          ]
        },
        {
          "output_type": "stream",
          "name": "stdout",
          "text": [
            "loss_c : 1.0859417915344238  loss_s : 1.8433644771575928  loss : 2.9293062686920166\n"
          ]
        },
        {
          "output_type": "stream",
          "name": "stderr",
          "text": [
            " 75%|███████▌  | 37501/50000 [4:46:19<1:08:45,  3.03it/s]"
          ]
        },
        {
          "output_type": "stream",
          "name": "stdout",
          "text": [
            "loss_c : 1.06230890750885  loss_s : 2.0397303104400635  loss : 3.102039337158203\n"
          ]
        },
        {
          "output_type": "stream",
          "name": "stderr",
          "text": [
            " 75%|███████▌  | 37601/50000 [4:47:02<1:28:33,  2.33it/s]"
          ]
        },
        {
          "output_type": "stream",
          "name": "stdout",
          "text": [
            "loss_c : 1.0452173948287964  loss_s : 2.4472153186798096  loss : 3.4924325942993164\n"
          ]
        },
        {
          "output_type": "stream",
          "name": "stderr",
          "text": [
            " 75%|███████▌  | 37701/50000 [4:47:49<1:29:30,  2.29it/s]"
          ]
        },
        {
          "output_type": "stream",
          "name": "stdout",
          "text": [
            "loss_c : 1.1731806993484497  loss_s : 3.347490072250366  loss : 4.5206708908081055\n"
          ]
        },
        {
          "output_type": "stream",
          "name": "stderr",
          "text": [
            " 76%|███████▌  | 37801/50000 [4:48:37<1:42:56,  1.97it/s]"
          ]
        },
        {
          "output_type": "stream",
          "name": "stdout",
          "text": [
            "loss_c : 1.9782217741012573  loss_s : 4.312260627746582  loss : 6.290482521057129\n"
          ]
        },
        {
          "output_type": "stream",
          "name": "stderr",
          "text": [
            " 76%|███████▌  | 37901/50000 [4:49:23<1:48:11,  1.86it/s]"
          ]
        },
        {
          "output_type": "stream",
          "name": "stdout",
          "text": [
            "loss_c : 1.781861662864685  loss_s : 5.472492694854736  loss : 7.254354476928711\n"
          ]
        },
        {
          "output_type": "stream",
          "name": "stderr",
          "text": [
            " 76%|███████▌  | 38001/50000 [4:50:06<1:36:08,  2.08it/s]"
          ]
        },
        {
          "output_type": "stream",
          "name": "stdout",
          "text": [
            "loss_c : 1.3176708221435547  loss_s : 4.903257846832275  loss : 6.22092866897583\n"
          ]
        },
        {
          "output_type": "stream",
          "name": "stderr",
          "text": [
            " 76%|███████▌  | 38101/50000 [4:50:51<2:01:16,  1.64it/s]"
          ]
        },
        {
          "output_type": "stream",
          "name": "stdout",
          "text": [
            "loss_c : 0.8950852155685425  loss_s : 4.208623886108398  loss : 5.1037092208862305\n"
          ]
        },
        {
          "output_type": "stream",
          "name": "stderr",
          "text": [
            " 76%|███████▋  | 38201/50000 [4:51:35<1:01:56,  3.17it/s]"
          ]
        },
        {
          "output_type": "stream",
          "name": "stdout",
          "text": [
            "loss_c : 1.666853427886963  loss_s : 4.430350303649902  loss : 6.097203731536865\n"
          ]
        },
        {
          "output_type": "stream",
          "name": "stderr",
          "text": [
            " 77%|███████▋  | 38301/50000 [4:52:18<1:32:50,  2.10it/s]"
          ]
        },
        {
          "output_type": "stream",
          "name": "stdout",
          "text": [
            "loss_c : 0.9191278219223022  loss_s : 2.8576385974884033  loss : 3.776766300201416\n"
          ]
        },
        {
          "output_type": "stream",
          "name": "stderr",
          "text": [
            " 77%|███████▋  | 38401/50000 [4:53:04<1:27:30,  2.21it/s]"
          ]
        },
        {
          "output_type": "stream",
          "name": "stdout",
          "text": [
            "loss_c : 1.3440954685211182  loss_s : 4.00570011138916  loss : 5.349795341491699\n"
          ]
        },
        {
          "output_type": "stream",
          "name": "stderr",
          "text": [
            " 77%|███████▋  | 38501/50000 [4:53:52<1:27:50,  2.18it/s]"
          ]
        },
        {
          "output_type": "stream",
          "name": "stdout",
          "text": [
            "loss_c : 1.235832691192627  loss_s : 2.884734869003296  loss : 4.120567321777344\n"
          ]
        },
        {
          "output_type": "stream",
          "name": "stderr",
          "text": [
            " 77%|███████▋  | 38601/50000 [4:54:35<1:21:39,  2.33it/s]"
          ]
        },
        {
          "output_type": "stream",
          "name": "stdout",
          "text": [
            "loss_c : 1.455246090888977  loss_s : 4.1446685791015625  loss : 5.59991455078125\n"
          ]
        },
        {
          "output_type": "stream",
          "name": "stderr",
          "text": [
            " 77%|███████▋  | 38701/50000 [4:55:19<1:13:37,  2.56it/s]"
          ]
        },
        {
          "output_type": "stream",
          "name": "stdout",
          "text": [
            "loss_c : 1.3581968545913696  loss_s : 4.078229904174805  loss : 5.436426639556885\n"
          ]
        },
        {
          "output_type": "stream",
          "name": "stderr",
          "text": [
            " 78%|███████▊  | 38801/50000 [4:56:05<1:30:18,  2.07it/s]"
          ]
        },
        {
          "output_type": "stream",
          "name": "stdout",
          "text": [
            "loss_c : 1.515390396118164  loss_s : 4.056366920471191  loss : 5.5717573165893555\n"
          ]
        },
        {
          "output_type": "stream",
          "name": "stderr",
          "text": [
            " 78%|███████▊  | 38901/50000 [4:56:46<1:11:11,  2.60it/s]"
          ]
        },
        {
          "output_type": "stream",
          "name": "stdout",
          "text": [
            "loss_c : 1.0622788667678833  loss_s : 3.1620121002197266  loss : 4.22429084777832\n"
          ]
        },
        {
          "output_type": "stream",
          "name": "stderr",
          "text": [
            " 78%|███████▊  | 39001/50000 [4:57:30<1:12:47,  2.52it/s]"
          ]
        },
        {
          "output_type": "stream",
          "name": "stdout",
          "text": [
            "loss_c : 1.2049212455749512  loss_s : 4.533249855041504  loss : 5.738171100616455\n"
          ]
        },
        {
          "output_type": "stream",
          "name": "stderr",
          "text": [
            " 78%|███████▊  | 39101/50000 [4:58:14<1:51:25,  1.63it/s]"
          ]
        },
        {
          "output_type": "stream",
          "name": "stdout",
          "text": [
            "loss_c : 1.1902108192443848  loss_s : 2.3904013633728027  loss : 3.5806121826171875\n"
          ]
        },
        {
          "output_type": "stream",
          "name": "stderr",
          "text": [
            " 78%|███████▊  | 39201/50000 [4:59:00<1:58:00,  1.53it/s]"
          ]
        },
        {
          "output_type": "stream",
          "name": "stdout",
          "text": [
            "loss_c : 1.4602293968200684  loss_s : 5.7515788078308105  loss : 7.211808204650879\n"
          ]
        },
        {
          "output_type": "stream",
          "name": "stderr",
          "text": [
            " 79%|███████▊  | 39301/50000 [4:59:42<1:12:26,  2.46it/s]"
          ]
        },
        {
          "output_type": "stream",
          "name": "stdout",
          "text": [
            "loss_c : 1.071081519126892  loss_s : 3.1142563819885254  loss : 4.185338020324707\n"
          ]
        },
        {
          "output_type": "stream",
          "name": "stderr",
          "text": [
            " 79%|███████▉  | 39401/50000 [5:00:27<1:27:29,  2.02it/s]"
          ]
        },
        {
          "output_type": "stream",
          "name": "stdout",
          "text": [
            "loss_c : 1.5327281951904297  loss_s : 6.404142379760742  loss : 7.936870574951172\n"
          ]
        },
        {
          "output_type": "stream",
          "name": "stderr",
          "text": [
            " 79%|███████▉  | 39501/50000 [5:01:10<1:10:57,  2.47it/s]"
          ]
        },
        {
          "output_type": "stream",
          "name": "stdout",
          "text": [
            "loss_c : 0.9043669700622559  loss_s : 2.0846166610717773  loss : 2.988983631134033\n"
          ]
        },
        {
          "output_type": "stream",
          "name": "stderr",
          "text": [
            " 79%|███████▉  | 39601/50000 [5:02:15<1:25:04,  2.04it/s]"
          ]
        },
        {
          "output_type": "stream",
          "name": "stdout",
          "text": [
            "loss_c : 1.1013517379760742  loss_s : 3.148869276046753  loss : 4.250221252441406\n"
          ]
        },
        {
          "output_type": "stream",
          "name": "stderr",
          "text": [
            " 79%|███████▉  | 39701/50000 [5:03:01<1:08:35,  2.50it/s]"
          ]
        },
        {
          "output_type": "stream",
          "name": "stdout",
          "text": [
            "loss_c : 1.5112226009368896  loss_s : 2.3985984325408936  loss : 3.909821033477783\n"
          ]
        },
        {
          "output_type": "stream",
          "name": "stderr",
          "text": [
            " 80%|███████▉  | 39801/50000 [5:04:03<1:11:40,  2.37it/s]"
          ]
        },
        {
          "output_type": "stream",
          "name": "stdout",
          "text": [
            "loss_c : 1.187422275543213  loss_s : 3.765474557876587  loss : 4.952897071838379\n"
          ]
        },
        {
          "output_type": "stream",
          "name": "stderr",
          "text": [
            " 80%|███████▉  | 39901/50000 [5:04:47<1:14:59,  2.24it/s]"
          ]
        },
        {
          "output_type": "stream",
          "name": "stdout",
          "text": [
            "loss_c : 1.5380043983459473  loss_s : 5.644021034240723  loss : 7.18202543258667\n"
          ]
        },
        {
          "output_type": "stream",
          "name": "stderr",
          "text": [
            " 80%|████████  | 40001/50000 [5:05:34<1:28:20,  1.89it/s]"
          ]
        },
        {
          "output_type": "stream",
          "name": "stdout",
          "text": [
            "loss_c : 1.076615333557129  loss_s : 2.612819194793701  loss : 3.68943452835083\n"
          ]
        },
        {
          "output_type": "stream",
          "name": "stderr",
          "text": [
            " 80%|████████  | 40101/50000 [5:06:16<1:10:00,  2.36it/s]"
          ]
        },
        {
          "output_type": "stream",
          "name": "stdout",
          "text": [
            "loss_c : 1.3200074434280396  loss_s : 2.6888182163238525  loss : 4.008825778961182\n"
          ]
        },
        {
          "output_type": "stream",
          "name": "stderr",
          "text": [
            " 80%|████████  | 40201/50000 [5:07:01<1:24:24,  1.93it/s]"
          ]
        },
        {
          "output_type": "stream",
          "name": "stdout",
          "text": [
            "loss_c : 1.45131516456604  loss_s : 3.3189942836761475  loss : 4.7703094482421875\n"
          ]
        },
        {
          "output_type": "stream",
          "name": "stderr",
          "text": [
            " 81%|████████  | 40301/50000 [5:07:42<58:43,  2.75it/s]"
          ]
        },
        {
          "output_type": "stream",
          "name": "stdout",
          "text": [
            "loss_c : 1.3196913003921509  loss_s : 2.824441432952881  loss : 4.144132614135742\n"
          ]
        },
        {
          "output_type": "stream",
          "name": "stderr",
          "text": [
            " 81%|████████  | 40401/50000 [5:08:27<1:10:34,  2.27it/s]"
          ]
        },
        {
          "output_type": "stream",
          "name": "stdout",
          "text": [
            "loss_c : 1.2226284742355347  loss_s : 2.343787908554077  loss : 3.5664162635803223\n"
          ]
        },
        {
          "output_type": "stream",
          "name": "stderr",
          "text": [
            " 81%|████████  | 40501/50000 [5:09:12<1:23:03,  1.91it/s]"
          ]
        },
        {
          "output_type": "stream",
          "name": "stdout",
          "text": [
            "loss_c : 2.030735731124878  loss_s : 4.383524417877197  loss : 6.414259910583496\n"
          ]
        },
        {
          "output_type": "stream",
          "name": "stderr",
          "text": [
            " 81%|████████  | 40601/50000 [5:09:53<1:25:57,  1.82it/s]"
          ]
        },
        {
          "output_type": "stream",
          "name": "stdout",
          "text": [
            "loss_c : 1.202873945236206  loss_s : 3.4704625606536865  loss : 4.673336505889893\n"
          ]
        },
        {
          "output_type": "stream",
          "name": "stderr",
          "text": [
            " 81%|████████▏ | 40701/50000 [5:10:40<1:23:50,  1.85it/s]"
          ]
        },
        {
          "output_type": "stream",
          "name": "stdout",
          "text": [
            "loss_c : 1.4051191806793213  loss_s : 3.474094867706299  loss : 4.879214286804199\n"
          ]
        },
        {
          "output_type": "stream",
          "name": "stderr",
          "text": [
            " 82%|████████▏ | 40801/50000 [5:11:25<1:08:09,  2.25it/s]"
          ]
        },
        {
          "output_type": "stream",
          "name": "stdout",
          "text": [
            "loss_c : 1.431708812713623  loss_s : 5.741028785705566  loss : 7.1727375984191895\n"
          ]
        },
        {
          "output_type": "stream",
          "name": "stderr",
          "text": [
            " 82%|████████▏ | 40901/50000 [5:12:09<1:06:43,  2.27it/s]"
          ]
        },
        {
          "output_type": "stream",
          "name": "stdout",
          "text": [
            "loss_c : 1.3199982643127441  loss_s : 4.653868198394775  loss : 5.9738664627075195\n"
          ]
        },
        {
          "output_type": "stream",
          "name": "stderr",
          "text": [
            " 82%|████████▏ | 41001/50000 [5:12:54<54:44,  2.74it/s]  "
          ]
        },
        {
          "output_type": "stream",
          "name": "stdout",
          "text": [
            "loss_c : 1.4328157901763916  loss_s : 3.7951347827911377  loss : 5.227950572967529\n"
          ]
        },
        {
          "output_type": "stream",
          "name": "stderr",
          "text": [
            " 82%|████████▏ | 41101/50000 [5:13:39<1:02:17,  2.38it/s]"
          ]
        },
        {
          "output_type": "stream",
          "name": "stdout",
          "text": [
            "loss_c : 1.484745740890503  loss_s : 7.265820503234863  loss : 8.750566482543945\n"
          ]
        },
        {
          "output_type": "stream",
          "name": "stderr",
          "text": [
            " 82%|████████▏ | 41201/50000 [5:14:24<1:00:16,  2.43it/s]"
          ]
        },
        {
          "output_type": "stream",
          "name": "stdout",
          "text": [
            "loss_c : 1.1276021003723145  loss_s : 4.819965362548828  loss : 5.947567462921143\n"
          ]
        },
        {
          "output_type": "stream",
          "name": "stderr",
          "text": [
            " 83%|████████▎ | 41301/50000 [5:15:09<1:45:10,  1.38it/s]"
          ]
        },
        {
          "output_type": "stream",
          "name": "stdout",
          "text": [
            "loss_c : 1.4512646198272705  loss_s : 2.9220101833343506  loss : 4.373274803161621\n"
          ]
        },
        {
          "output_type": "stream",
          "name": "stderr",
          "text": [
            " 83%|████████▎ | 41401/50000 [5:15:51<56:05,  2.56it/s]  "
          ]
        },
        {
          "output_type": "stream",
          "name": "stdout",
          "text": [
            "loss_c : 1.207688570022583  loss_s : 2.9903268814086914  loss : 4.198015213012695\n"
          ]
        },
        {
          "output_type": "stream",
          "name": "stderr",
          "text": [
            " 83%|████████▎ | 41501/50000 [5:16:40<1:10:55,  2.00it/s]"
          ]
        },
        {
          "output_type": "stream",
          "name": "stdout",
          "text": [
            "loss_c : 1.1675307750701904  loss_s : 3.6506187915802  loss : 4.818149566650391\n"
          ]
        },
        {
          "output_type": "stream",
          "name": "stderr",
          "text": [
            " 83%|████████▎ | 41601/50000 [5:17:20<52:32,  2.66it/s]  "
          ]
        },
        {
          "output_type": "stream",
          "name": "stdout",
          "text": [
            "loss_c : 1.257609486579895  loss_s : 4.484605312347412  loss : 5.742214679718018\n"
          ]
        },
        {
          "output_type": "stream",
          "name": "stderr",
          "text": [
            " 83%|████████▎ | 41701/50000 [5:18:05<1:27:37,  1.58it/s]"
          ]
        },
        {
          "output_type": "stream",
          "name": "stdout",
          "text": [
            "loss_c : 0.9099982976913452  loss_s : 3.6947593688964844  loss : 4.604757785797119\n"
          ]
        },
        {
          "output_type": "stream",
          "name": "stderr",
          "text": [
            " 84%|████████▎ | 41801/50000 [5:18:51<43:54,  3.11it/s]"
          ]
        },
        {
          "output_type": "stream",
          "name": "stdout",
          "text": [
            "loss_c : 1.1246269941329956  loss_s : 4.6019606590271  loss : 5.726587772369385\n"
          ]
        },
        {
          "output_type": "stream",
          "name": "stderr",
          "text": [
            " 84%|████████▍ | 41901/50000 [5:19:39<1:21:06,  1.66it/s]"
          ]
        },
        {
          "output_type": "stream",
          "name": "stdout",
          "text": [
            "loss_c : 1.2252137660980225  loss_s : 4.7391486167907715  loss : 5.964362144470215\n"
          ]
        },
        {
          "output_type": "stream",
          "name": "stderr",
          "text": [
            " 84%|████████▍ | 42001/50000 [5:20:21<57:01,  2.34it/s]"
          ]
        },
        {
          "output_type": "stream",
          "name": "stdout",
          "text": [
            "loss_c : 1.5356810092926025  loss_s : 3.558802366256714  loss : 5.094483375549316\n"
          ]
        },
        {
          "output_type": "stream",
          "name": "stderr",
          "text": [
            " 84%|████████▍ | 42101/50000 [5:21:05<54:13,  2.43it/s]  "
          ]
        },
        {
          "output_type": "stream",
          "name": "stdout",
          "text": [
            "loss_c : 1.161922574043274  loss_s : 2.296550989151001  loss : 3.4584736824035645\n"
          ]
        },
        {
          "output_type": "stream",
          "name": "stderr",
          "text": [
            " 84%|████████▍ | 42201/50000 [5:21:53<53:36,  2.42it/s]"
          ]
        },
        {
          "output_type": "stream",
          "name": "stdout",
          "text": [
            "loss_c : 1.302228331565857  loss_s : 3.1572651863098145  loss : 4.459493637084961\n"
          ]
        },
        {
          "output_type": "stream",
          "name": "stderr",
          "text": [
            " 85%|████████▍ | 42301/50000 [5:22:39<42:46,  3.00it/s]"
          ]
        },
        {
          "output_type": "stream",
          "name": "stdout",
          "text": [
            "loss_c : 1.5401456356048584  loss_s : 3.4521756172180176  loss : 4.992321014404297\n"
          ]
        },
        {
          "output_type": "stream",
          "name": "stderr",
          "text": [
            " 85%|████████▍ | 42401/50000 [5:23:23<52:03,  2.43it/s]"
          ]
        },
        {
          "output_type": "stream",
          "name": "stdout",
          "text": [
            "loss_c : 2.0970356464385986  loss_s : 5.355856418609619  loss : 7.452892303466797\n"
          ]
        },
        {
          "output_type": "stream",
          "name": "stderr",
          "text": [
            " 85%|████████▌ | 42501/50000 [5:24:08<50:12,  2.49it/s]"
          ]
        },
        {
          "output_type": "stream",
          "name": "stdout",
          "text": [
            "loss_c : 1.5163758993148804  loss_s : 5.322732925415039  loss : 6.839108943939209\n"
          ]
        },
        {
          "output_type": "stream",
          "name": "stderr",
          "text": [
            " 85%|████████▌ | 42601/50000 [5:24:51<39:26,  3.13it/s]"
          ]
        },
        {
          "output_type": "stream",
          "name": "stdout",
          "text": [
            "loss_c : 1.012880802154541  loss_s : 3.9265499114990234  loss : 4.9394307136535645\n"
          ]
        },
        {
          "output_type": "stream",
          "name": "stderr",
          "text": [
            " 85%|████████▌ | 42701/50000 [5:25:34<46:56,  2.59it/s]"
          ]
        },
        {
          "output_type": "stream",
          "name": "stdout",
          "text": [
            "loss_c : 0.9328262805938721  loss_s : 3.0486979484558105  loss : 3.9815242290496826\n"
          ]
        },
        {
          "output_type": "stream",
          "name": "stderr",
          "text": [
            " 86%|████████▌ | 42801/50000 [5:26:36<57:47,  2.08it/s]"
          ]
        },
        {
          "output_type": "stream",
          "name": "stdout",
          "text": [
            "loss_c : 1.4418951272964478  loss_s : 5.112695217132568  loss : 6.554590225219727\n"
          ]
        },
        {
          "output_type": "stream",
          "name": "stderr",
          "text": [
            " 86%|████████▌ | 42901/50000 [5:27:22<40:31,  2.92it/s]"
          ]
        },
        {
          "output_type": "stream",
          "name": "stdout",
          "text": [
            "loss_c : 1.541717529296875  loss_s : 4.605540752410889  loss : 6.147258281707764\n"
          ]
        },
        {
          "output_type": "stream",
          "name": "stderr",
          "text": [
            " 86%|████████▌ | 43001/50000 [5:28:06<59:59,  1.94it/s]"
          ]
        },
        {
          "output_type": "stream",
          "name": "stdout",
          "text": [
            "loss_c : 1.1468157768249512  loss_s : 9.06124210357666  loss : 10.208057403564453\n"
          ]
        },
        {
          "output_type": "stream",
          "name": "stderr",
          "text": [
            " 86%|████████▌ | 43101/50000 [5:28:51<38:53,  2.96it/s]"
          ]
        },
        {
          "output_type": "stream",
          "name": "stdout",
          "text": [
            "loss_c : 1.2800278663635254  loss_s : 3.447165012359619  loss : 4.7271928787231445\n"
          ]
        },
        {
          "output_type": "stream",
          "name": "stderr",
          "text": [
            " 86%|████████▋ | 43201/50000 [5:29:37<43:17,  2.62it/s]"
          ]
        },
        {
          "output_type": "stream",
          "name": "stdout",
          "text": [
            "loss_c : 1.0384461879730225  loss_s : 4.889093399047852  loss : 5.927539825439453\n"
          ]
        },
        {
          "output_type": "stream",
          "name": "stderr",
          "text": [
            " 87%|████████▋ | 43301/50000 [5:30:22<43:07,  2.59it/s]"
          ]
        },
        {
          "output_type": "stream",
          "name": "stdout",
          "text": [
            "loss_c : 1.612551212310791  loss_s : 9.773147583007812  loss : 11.385698318481445\n"
          ]
        },
        {
          "output_type": "stream",
          "name": "stderr",
          "text": [
            " 87%|████████▋ | 43401/50000 [5:31:08<47:38,  2.31it/s]"
          ]
        },
        {
          "output_type": "stream",
          "name": "stdout",
          "text": [
            "loss_c : 1.428635597229004  loss_s : 2.789184808731079  loss : 4.217820167541504\n"
          ]
        },
        {
          "output_type": "stream",
          "name": "stderr",
          "text": [
            " 87%|████████▋ | 43501/50000 [5:31:55<45:14,  2.39it/s]"
          ]
        },
        {
          "output_type": "stream",
          "name": "stdout",
          "text": [
            "loss_c : 1.678465485572815  loss_s : 5.122029781341553  loss : 6.800495147705078\n"
          ]
        },
        {
          "output_type": "stream",
          "name": "stderr",
          "text": [
            " 87%|████████▋ | 43601/50000 [5:32:38<41:25,  2.57it/s]"
          ]
        },
        {
          "output_type": "stream",
          "name": "stdout",
          "text": [
            "loss_c : 1.698521614074707  loss_s : 4.883622646331787  loss : 6.582144260406494\n"
          ]
        },
        {
          "output_type": "stream",
          "name": "stderr",
          "text": [
            " 87%|████████▋ | 43701/50000 [5:33:25<37:44,  2.78it/s]"
          ]
        },
        {
          "output_type": "stream",
          "name": "stdout",
          "text": [
            "loss_c : 1.2718589305877686  loss_s : 2.6616883277893066  loss : 3.933547258377075\n"
          ]
        },
        {
          "output_type": "stream",
          "name": "stderr",
          "text": [
            " 88%|████████▊ | 43801/50000 [5:34:11<51:11,  2.02it/s]  "
          ]
        },
        {
          "output_type": "stream",
          "name": "stdout",
          "text": [
            "loss_c : 1.0666193962097168  loss_s : 3.1236791610717773  loss : 4.190298557281494\n"
          ]
        },
        {
          "output_type": "stream",
          "name": "stderr",
          "text": [
            " 88%|████████▊ | 43901/50000 [5:34:56<42:22,  2.40it/s]"
          ]
        },
        {
          "output_type": "stream",
          "name": "stdout",
          "text": [
            "loss_c : 1.071935772895813  loss_s : 2.605297803878784  loss : 3.6772336959838867\n"
          ]
        },
        {
          "output_type": "stream",
          "name": "stderr",
          "text": [
            " 88%|████████▊ | 44001/50000 [5:35:47<53:56,  1.85it/s]"
          ]
        },
        {
          "output_type": "stream",
          "name": "stdout",
          "text": [
            "loss_c : 1.4710898399353027  loss_s : 4.321649074554443  loss : 5.792738914489746\n"
          ]
        },
        {
          "output_type": "stream",
          "name": "stderr",
          "text": [
            " 88%|████████▊ | 44101/50000 [5:36:32<54:49,  1.79it/s]  "
          ]
        },
        {
          "output_type": "stream",
          "name": "stdout",
          "text": [
            "loss_c : 0.9505333304405212  loss_s : 2.5199203491210938  loss : 3.4704537391662598\n"
          ]
        },
        {
          "output_type": "stream",
          "name": "stderr",
          "text": [
            " 88%|████████▊ | 44201/50000 [5:37:38<1:26:47,  1.11it/s]"
          ]
        },
        {
          "output_type": "stream",
          "name": "stdout",
          "text": [
            "loss_c : 1.2931609153747559  loss_s : 3.500979423522949  loss : 4.794140338897705\n"
          ]
        },
        {
          "output_type": "stream",
          "name": "stderr",
          "text": [
            " 89%|████████▊ | 44301/50000 [5:38:24<37:51,  2.51it/s]"
          ]
        },
        {
          "output_type": "stream",
          "name": "stdout",
          "text": [
            "loss_c : 1.5138676166534424  loss_s : 4.575404167175293  loss : 6.089271545410156\n"
          ]
        },
        {
          "output_type": "stream",
          "name": "stderr",
          "text": [
            " 89%|████████▉ | 44401/50000 [5:39:11<1:00:18,  1.55it/s]"
          ]
        },
        {
          "output_type": "stream",
          "name": "stdout",
          "text": [
            "loss_c : 0.804863691329956  loss_s : 2.5341365337371826  loss : 3.3390002250671387\n"
          ]
        },
        {
          "output_type": "stream",
          "name": "stderr",
          "text": [
            " 89%|████████▉ | 44501/50000 [5:39:55<47:01,  1.95it/s]"
          ]
        },
        {
          "output_type": "stream",
          "name": "stdout",
          "text": [
            "loss_c : 1.1064350605010986  loss_s : 2.87028169631958  loss : 3.9767167568206787\n"
          ]
        },
        {
          "output_type": "stream",
          "name": "stderr",
          "text": [
            " 89%|████████▉ | 44601/50000 [5:40:43<1:06:23,  1.36it/s]"
          ]
        },
        {
          "output_type": "stream",
          "name": "stdout",
          "text": [
            "loss_c : 1.6476337909698486  loss_s : 4.872945308685303  loss : 6.5205793380737305\n"
          ]
        },
        {
          "output_type": "stream",
          "name": "stderr",
          "text": [
            " 89%|████████▉ | 44701/50000 [5:41:35<42:12,  2.09it/s]"
          ]
        },
        {
          "output_type": "stream",
          "name": "stdout",
          "text": [
            "loss_c : 1.1315842866897583  loss_s : 3.38956880569458  loss : 4.521152973175049\n"
          ]
        },
        {
          "output_type": "stream",
          "name": "stderr",
          "text": [
            " 90%|████████▉ | 44801/50000 [5:42:19<36:53,  2.35it/s]"
          ]
        },
        {
          "output_type": "stream",
          "name": "stdout",
          "text": [
            "loss_c : 1.4204330444335938  loss_s : 4.713545799255371  loss : 6.133978843688965\n"
          ]
        },
        {
          "output_type": "stream",
          "name": "stderr",
          "text": [
            " 90%|████████▉ | 44901/50000 [5:43:02<34:16,  2.48it/s]"
          ]
        },
        {
          "output_type": "stream",
          "name": "stdout",
          "text": [
            "loss_c : 1.500765085220337  loss_s : 3.6267566680908203  loss : 5.127521514892578\n"
          ]
        },
        {
          "output_type": "stream",
          "name": "stderr",
          "text": [
            " 90%|█████████ | 45001/50000 [5:43:51<40:29,  2.06it/s]"
          ]
        },
        {
          "output_type": "stream",
          "name": "stdout",
          "text": [
            "loss_c : 1.558358907699585  loss_s : 4.129915714263916  loss : 5.688274383544922\n"
          ]
        },
        {
          "output_type": "stream",
          "name": "stderr",
          "text": [
            " 90%|█████████ | 45101/50000 [5:44:37<31:42,  2.57it/s]"
          ]
        },
        {
          "output_type": "stream",
          "name": "stdout",
          "text": [
            "loss_c : 1.5885605812072754  loss_s : 5.76500129699707  loss : 7.353561878204346\n"
          ]
        },
        {
          "output_type": "stream",
          "name": "stderr",
          "text": [
            " 90%|█████████ | 45201/50000 [5:45:21<31:32,  2.54it/s]"
          ]
        },
        {
          "output_type": "stream",
          "name": "stdout",
          "text": [
            "loss_c : 1.3053722381591797  loss_s : 3.278162956237793  loss : 4.583535194396973\n"
          ]
        },
        {
          "output_type": "stream",
          "name": "stderr",
          "text": [
            " 91%|█████████ | 45301/50000 [5:46:07<37:49,  2.07it/s]"
          ]
        },
        {
          "output_type": "stream",
          "name": "stdout",
          "text": [
            "loss_c : 1.2767670154571533  loss_s : 3.5716958045959473  loss : 4.84846305847168\n"
          ]
        },
        {
          "output_type": "stream",
          "name": "stderr",
          "text": [
            " 91%|█████████ | 45401/50000 [5:46:54<35:22,  2.17it/s]"
          ]
        },
        {
          "output_type": "stream",
          "name": "stdout",
          "text": [
            "loss_c : 1.4418784379959106  loss_s : 6.461488723754883  loss : 7.903367042541504\n"
          ]
        },
        {
          "output_type": "stream",
          "name": "stderr",
          "text": [
            " 91%|█████████ | 45501/50000 [5:47:40<29:21,  2.55it/s]"
          ]
        },
        {
          "output_type": "stream",
          "name": "stdout",
          "text": [
            "loss_c : 1.5397520065307617  loss_s : 3.678790330886841  loss : 5.218542098999023\n"
          ]
        },
        {
          "output_type": "stream",
          "name": "stderr",
          "text": [
            " 91%|█████████ | 45601/50000 [5:48:44<29:40,  2.47it/s]"
          ]
        },
        {
          "output_type": "stream",
          "name": "stdout",
          "text": [
            "loss_c : 1.0528476238250732  loss_s : 2.1328439712524414  loss : 3.1856915950775146\n"
          ]
        },
        {
          "output_type": "stream",
          "name": "stderr",
          "text": [
            " 91%|█████████▏| 45701/50000 [5:49:24<33:45,  2.12it/s]"
          ]
        },
        {
          "output_type": "stream",
          "name": "stdout",
          "text": [
            "loss_c : 1.9690895080566406  loss_s : 7.973632335662842  loss : 9.94272232055664\n"
          ]
        },
        {
          "output_type": "stream",
          "name": "stderr",
          "text": [
            " 92%|█████████▏| 45801/50000 [5:50:08<38:14,  1.83it/s]"
          ]
        },
        {
          "output_type": "stream",
          "name": "stdout",
          "text": [
            "loss_c : 1.2969292402267456  loss_s : 3.164872646331787  loss : 4.461802005767822\n"
          ]
        },
        {
          "output_type": "stream",
          "name": "stderr",
          "text": [
            " 92%|█████████▏| 45901/50000 [5:50:55<32:10,  2.12it/s]"
          ]
        },
        {
          "output_type": "stream",
          "name": "stdout",
          "text": [
            "loss_c : 0.9587618112564087  loss_s : 1.8974337577819824  loss : 2.8561954498291016\n"
          ]
        },
        {
          "output_type": "stream",
          "name": "stderr",
          "text": [
            " 92%|█████████▏| 46001/50000 [5:51:37<26:21,  2.53it/s]"
          ]
        },
        {
          "output_type": "stream",
          "name": "stdout",
          "text": [
            "loss_c : 1.9498167037963867  loss_s : 5.761447906494141  loss : 7.711264610290527\n"
          ]
        },
        {
          "output_type": "stream",
          "name": "stderr",
          "text": [
            " 92%|█████████▏| 46101/50000 [5:52:22<19:40,  3.30it/s]"
          ]
        },
        {
          "output_type": "stream",
          "name": "stdout",
          "text": [
            "loss_c : 1.2053247690200806  loss_s : 3.6894609928131104  loss : 4.8947858810424805\n"
          ]
        },
        {
          "output_type": "stream",
          "name": "stderr",
          "text": [
            " 92%|█████████▏| 46201/50000 [5:53:10<27:25,  2.31it/s]"
          ]
        },
        {
          "output_type": "stream",
          "name": "stdout",
          "text": [
            "loss_c : 1.5761644840240479  loss_s : 3.8649070262908936  loss : 5.441071510314941\n"
          ]
        },
        {
          "output_type": "stream",
          "name": "stderr",
          "text": [
            " 93%|█████████▎| 46301/50000 [5:53:54<29:30,  2.09it/s]"
          ]
        },
        {
          "output_type": "stream",
          "name": "stdout",
          "text": [
            "loss_c : 1.1542521715164185  loss_s : 3.4150390625  loss : 4.569291114807129\n"
          ]
        },
        {
          "output_type": "stream",
          "name": "stderr",
          "text": [
            " 93%|█████████▎| 46401/50000 [5:54:37<34:22,  1.75it/s]"
          ]
        },
        {
          "output_type": "stream",
          "name": "stdout",
          "text": [
            "loss_c : 1.3793835639953613  loss_s : 3.990349769592285  loss : 5.3697333335876465\n"
          ]
        },
        {
          "output_type": "stream",
          "name": "stderr",
          "text": [
            " 93%|█████████▎| 46501/50000 [5:55:20<22:21,  2.61it/s]"
          ]
        },
        {
          "output_type": "stream",
          "name": "stdout",
          "text": [
            "loss_c : 1.139728307723999  loss_s : 2.531982660293579  loss : 3.671710968017578\n"
          ]
        },
        {
          "output_type": "stream",
          "name": "stderr",
          "text": [
            " 93%|█████████▎| 46601/50000 [5:56:07<36:11,  1.57it/s]"
          ]
        },
        {
          "output_type": "stream",
          "name": "stdout",
          "text": [
            "loss_c : 1.6141794919967651  loss_s : 3.261441230773926  loss : 4.8756208419799805\n"
          ]
        },
        {
          "output_type": "stream",
          "name": "stderr",
          "text": [
            " 93%|█████████▎| 46701/50000 [5:56:50<23:46,  2.31it/s]"
          ]
        },
        {
          "output_type": "stream",
          "name": "stdout",
          "text": [
            "loss_c : 1.2271183729171753  loss_s : 3.8246870040893555  loss : 5.05180549621582\n"
          ]
        },
        {
          "output_type": "stream",
          "name": "stderr",
          "text": [
            " 94%|█████████▎| 46801/50000 [5:57:39<20:03,  2.66it/s]"
          ]
        },
        {
          "output_type": "stream",
          "name": "stdout",
          "text": [
            "loss_c : 0.9987404942512512  loss_s : 2.6197595596313477  loss : 3.618499994277954\n"
          ]
        },
        {
          "output_type": "stream",
          "name": "stderr",
          "text": [
            " 94%|█████████▍| 46901/50000 [5:58:23<24:00,  2.15it/s]"
          ]
        },
        {
          "output_type": "stream",
          "name": "stdout",
          "text": [
            "loss_c : 1.7301034927368164  loss_s : 5.8115644454956055  loss : 7.541667938232422\n"
          ]
        },
        {
          "output_type": "stream",
          "name": "stderr",
          "text": [
            " 94%|█████████▍| 47001/50000 [5:59:05<16:25,  3.04it/s]"
          ]
        },
        {
          "output_type": "stream",
          "name": "stdout",
          "text": [
            "loss_c : 1.3381977081298828  loss_s : 4.067473411560059  loss : 5.405671119689941\n"
          ]
        },
        {
          "output_type": "stream",
          "name": "stderr",
          "text": [
            " 94%|█████████▍| 47101/50000 [5:59:50<20:27,  2.36it/s]"
          ]
        },
        {
          "output_type": "stream",
          "name": "stdout",
          "text": [
            "loss_c : 1.0320286750793457  loss_s : 1.7977511882781982  loss : 2.829779863357544\n"
          ]
        },
        {
          "output_type": "stream",
          "name": "stderr",
          "text": [
            " 94%|█████████▍| 47201/50000 [6:00:36<22:32,  2.07it/s]"
          ]
        },
        {
          "output_type": "stream",
          "name": "stdout",
          "text": [
            "loss_c : 1.0884876251220703  loss_s : 2.291260242462158  loss : 3.3797478675842285\n"
          ]
        },
        {
          "output_type": "stream",
          "name": "stderr",
          "text": [
            " 95%|█████████▍| 47301/50000 [6:01:21<23:57,  1.88it/s]"
          ]
        },
        {
          "output_type": "stream",
          "name": "stdout",
          "text": [
            "loss_c : 1.4705562591552734  loss_s : 3.5110864639282227  loss : 4.981642723083496\n"
          ]
        },
        {
          "output_type": "stream",
          "name": "stderr",
          "text": [
            " 95%|█████████▍| 47401/50000 [6:02:04<17:35,  2.46it/s]"
          ]
        },
        {
          "output_type": "stream",
          "name": "stdout",
          "text": [
            "loss_c : 1.4855713844299316  loss_s : 2.2529876232147217  loss : 3.7385590076446533\n"
          ]
        },
        {
          "output_type": "stream",
          "name": "stderr",
          "text": [
            " 95%|█████████▌| 47501/50000 [6:02:48<16:56,  2.46it/s]"
          ]
        },
        {
          "output_type": "stream",
          "name": "stdout",
          "text": [
            "loss_c : 1.188220739364624  loss_s : 3.353614330291748  loss : 4.541834831237793\n"
          ]
        },
        {
          "output_type": "stream",
          "name": "stderr",
          "text": [
            " 95%|█████████▌| 47601/50000 [6:03:34<14:24,  2.77it/s]"
          ]
        },
        {
          "output_type": "stream",
          "name": "stdout",
          "text": [
            "loss_c : 1.3765673637390137  loss_s : 4.886651992797852  loss : 6.263219356536865\n"
          ]
        },
        {
          "output_type": "stream",
          "name": "stderr",
          "text": [
            " 95%|█████████▌| 47701/50000 [6:04:19<14:55,  2.57it/s]"
          ]
        },
        {
          "output_type": "stream",
          "name": "stdout",
          "text": [
            "loss_c : 1.244149923324585  loss_s : 2.5381789207458496  loss : 3.7823288440704346\n"
          ]
        },
        {
          "output_type": "stream",
          "name": "stderr",
          "text": [
            " 96%|█████████▌| 47801/50000 [6:05:07<15:30,  2.36it/s]"
          ]
        },
        {
          "output_type": "stream",
          "name": "stdout",
          "text": [
            "loss_c : 1.2639951705932617  loss_s : 3.672994375228882  loss : 4.936989784240723\n"
          ]
        },
        {
          "output_type": "stream",
          "name": "stderr",
          "text": [
            " 96%|█████████▌| 47901/50000 [6:05:52<29:01,  1.21it/s]"
          ]
        },
        {
          "output_type": "stream",
          "name": "stdout",
          "text": [
            "loss_c : 1.123969316482544  loss_s : 2.562037706375122  loss : 3.686007022857666\n"
          ]
        },
        {
          "output_type": "stream",
          "name": "stderr",
          "text": [
            " 96%|█████████▌| 48001/50000 [6:06:37<16:05,  2.07it/s]"
          ]
        },
        {
          "output_type": "stream",
          "name": "stdout",
          "text": [
            "loss_c : 1.0955023765563965  loss_s : 2.6404502391815186  loss : 3.735952615737915\n"
          ]
        },
        {
          "output_type": "stream",
          "name": "stderr",
          "text": [
            " 96%|█████████▌| 48101/50000 [6:07:45<21:22,  1.48it/s]"
          ]
        },
        {
          "output_type": "stream",
          "name": "stdout",
          "text": [
            "loss_c : 1.3699287176132202  loss_s : 4.251404762268066  loss : 5.621333599090576\n"
          ]
        },
        {
          "output_type": "stream",
          "name": "stderr",
          "text": [
            " 96%|█████████▋| 48201/50000 [6:08:31<13:08,  2.28it/s]"
          ]
        },
        {
          "output_type": "stream",
          "name": "stdout",
          "text": [
            "loss_c : 1.349273920059204  loss_s : 2.3226771354675293  loss : 3.6719510555267334\n"
          ]
        },
        {
          "output_type": "stream",
          "name": "stderr",
          "text": [
            " 97%|█████████▋| 48301/50000 [6:09:17<12:23,  2.28it/s]"
          ]
        },
        {
          "output_type": "stream",
          "name": "stdout",
          "text": [
            "loss_c : 0.9083036184310913  loss_s : 2.4459097385406494  loss : 3.354213237762451\n"
          ]
        },
        {
          "output_type": "stream",
          "name": "stderr",
          "text": [
            " 97%|█████████▋| 48401/50000 [6:10:01<09:32,  2.79it/s]"
          ]
        },
        {
          "output_type": "stream",
          "name": "stdout",
          "text": [
            "loss_c : 1.4992314577102661  loss_s : 4.782510757446289  loss : 6.281742095947266\n"
          ]
        },
        {
          "output_type": "stream",
          "name": "stderr",
          "text": [
            " 97%|█████████▋| 48501/50000 [6:10:46<10:31,  2.37it/s]"
          ]
        },
        {
          "output_type": "stream",
          "name": "stdout",
          "text": [
            "loss_c : 1.6780171394348145  loss_s : 5.917543411254883  loss : 7.595560550689697\n"
          ]
        },
        {
          "output_type": "stream",
          "name": "stderr",
          "text": [
            " 97%|█████████▋| 48601/50000 [6:11:33<08:25,  2.77it/s]"
          ]
        },
        {
          "output_type": "stream",
          "name": "stdout",
          "text": [
            "loss_c : 1.6519533395767212  loss_s : 10.639484405517578  loss : 12.291438102722168\n"
          ]
        },
        {
          "output_type": "stream",
          "name": "stderr",
          "text": [
            " 97%|█████████▋| 48701/50000 [6:12:22<09:37,  2.25it/s]"
          ]
        },
        {
          "output_type": "stream",
          "name": "stdout",
          "text": [
            "loss_c : 1.413020372390747  loss_s : 4.861269950866699  loss : 6.274290084838867\n"
          ]
        },
        {
          "output_type": "stream",
          "name": "stderr",
          "text": [
            " 98%|█████████▊| 48801/50000 [6:13:06<10:22,  1.93it/s]"
          ]
        },
        {
          "output_type": "stream",
          "name": "stdout",
          "text": [
            "loss_c : 1.1145832538604736  loss_s : 3.0502519607543945  loss : 4.164834976196289\n"
          ]
        },
        {
          "output_type": "stream",
          "name": "stderr",
          "text": [
            " 98%|█████████▊| 48901/50000 [6:13:53<06:28,  2.83it/s]"
          ]
        },
        {
          "output_type": "stream",
          "name": "stdout",
          "text": [
            "loss_c : 0.9626297354698181  loss_s : 2.5303902626037598  loss : 3.4930200576782227\n"
          ]
        },
        {
          "output_type": "stream",
          "name": "stderr",
          "text": [
            " 98%|█████████▊| 49001/50000 [6:15:09<07:03,  2.36it/s]"
          ]
        },
        {
          "output_type": "stream",
          "name": "stdout",
          "text": [
            "loss_c : 0.9066867828369141  loss_s : 2.220290184020996  loss : 3.12697696685791\n"
          ]
        },
        {
          "output_type": "stream",
          "name": "stderr",
          "text": [
            " 98%|█████████▊| 49101/50000 [6:15:53<06:59,  2.15it/s]"
          ]
        },
        {
          "output_type": "stream",
          "name": "stdout",
          "text": [
            "loss_c : 1.1549956798553467  loss_s : 5.565443992614746  loss : 6.720439910888672\n"
          ]
        },
        {
          "output_type": "stream",
          "name": "stderr",
          "text": [
            " 98%|█████████▊| 49201/50000 [6:16:41<06:37,  2.01it/s]"
          ]
        },
        {
          "output_type": "stream",
          "name": "stdout",
          "text": [
            "loss_c : 1.1527280807495117  loss_s : 3.484103202819824  loss : 4.636831283569336\n"
          ]
        },
        {
          "output_type": "stream",
          "name": "stderr",
          "text": [
            " 99%|█████████▊| 49301/50000 [6:17:29<04:57,  2.35it/s]"
          ]
        },
        {
          "output_type": "stream",
          "name": "stdout",
          "text": [
            "loss_c : 1.88251531124115  loss_s : 4.967126369476318  loss : 6.849641799926758\n"
          ]
        },
        {
          "output_type": "stream",
          "name": "stderr",
          "text": [
            " 99%|█████████▉| 49401/50000 [6:18:14<03:28,  2.87it/s]"
          ]
        },
        {
          "output_type": "stream",
          "name": "stdout",
          "text": [
            "loss_c : 1.4811806678771973  loss_s : 5.241251468658447  loss : 6.7224321365356445\n"
          ]
        },
        {
          "output_type": "stream",
          "name": "stderr",
          "text": [
            " 99%|█████████▉| 49501/50000 [6:19:02<04:29,  1.85it/s]"
          ]
        },
        {
          "output_type": "stream",
          "name": "stdout",
          "text": [
            "loss_c : 1.4571313858032227  loss_s : 4.225029945373535  loss : 5.682161331176758\n"
          ]
        },
        {
          "output_type": "stream",
          "name": "stderr",
          "text": [
            " 99%|█████████▉| 49601/50000 [6:19:44<02:51,  2.32it/s]"
          ]
        },
        {
          "output_type": "stream",
          "name": "stdout",
          "text": [
            "loss_c : 1.0194346904754639  loss_s : 2.5526161193847656  loss : 3.5720508098602295\n"
          ]
        },
        {
          "output_type": "stream",
          "name": "stderr",
          "text": [
            " 99%|█████████▉| 49701/50000 [6:20:27<03:06,  1.61it/s]"
          ]
        },
        {
          "output_type": "stream",
          "name": "stdout",
          "text": [
            "loss_c : 1.2762267589569092  loss_s : 4.23593282699585  loss : 5.51215934753418\n"
          ]
        },
        {
          "output_type": "stream",
          "name": "stderr",
          "text": [
            "100%|█████████▉| 49801/50000 [6:21:13<01:23,  2.37it/s]"
          ]
        },
        {
          "output_type": "stream",
          "name": "stdout",
          "text": [
            "loss_c : 2.053999185562134  loss_s : 4.501073837280273  loss : 6.555072784423828\n"
          ]
        },
        {
          "output_type": "stream",
          "name": "stderr",
          "text": [
            "100%|█████████▉| 49901/50000 [6:21:55<00:36,  2.73it/s]"
          ]
        },
        {
          "output_type": "stream",
          "name": "stdout",
          "text": [
            "loss_c : 1.5753750801086426  loss_s : 4.980693340301514  loss : 6.556068420410156\n"
          ]
        },
        {
          "output_type": "stream",
          "name": "stderr",
          "text": [
            "100%|██████████| 50000/50000 [6:22:40<00:00,  2.18it/s]\n"
          ]
        },
        {
          "output_type": "display_data",
          "data": {
            "text/plain": [
              "<IPython.core.display.HTML object>"
            ],
            "text/html": [
              "Waiting for W&B process to finish... <strong style=\"color:green\">(success).</strong>"
            ]
          },
          "metadata": {}
        },
        {
          "output_type": "display_data",
          "data": {
            "text/plain": [
              "VBox(children=(Label(value='0.001 MB of 0.001 MB uploaded (0.000 MB deduped)\\r'), FloatProgress(value=1.0, max…"
            ],
            "application/vnd.jupyter.widget-view+json": {
              "version_major": 2,
              "version_minor": 0,
              "model_id": "d3d297cc12d94b708d8ad3080fefc5d6"
            }
          },
          "metadata": {}
        },
        {
          "output_type": "display_data",
          "data": {
            "text/plain": [
              "<IPython.core.display.HTML object>"
            ],
            "text/html": [
              "<style>\n",
              "    table.wandb td:nth-child(1) { padding: 0 10px; text-align: left ; width: auto;} td:nth-child(2) {text-align: left ; width: 100%}\n",
              "    .wandb-row { display: flex; flex-direction: row; flex-wrap: wrap; justify-content: flex-start; width: 100% }\n",
              "    .wandb-col { display: flex; flex-direction: column; flex-basis: 100%; flex: 1; padding: 10px; }\n",
              "    </style>\n",
              "<div class=\"wandb-row\"><div class=\"wandb-col\"><h3>Run history:</h3><br/><table class=\"wandb\"><tr><td>loss_content</td><td>▂▃▂▄▁▅▃▂▃▂█▂▂▅▆▂▂▂▂▂▃▁▅▂▂▂▂▆▄▁▃▁▄▂▅▂▃▃▂▂</td></tr><tr><td>loss_style</td><td>▁▂▁▃▁▂▃▁▂▂█▄█▄▆▂▁▂▂▁▂▁▃▁▂▂▁▃▄▁▂▁▂▂▃▂▃▂▂▂</td></tr><tr><td>total_loss</td><td>▁▂▁▃▁▃▃▁▂▂█▄█▄▆▂▁▁▂▁▂▁▃▁▂▂▁▃▄▁▂▁▃▂▄▂▃▂▂▂</td></tr></table><br/></div><div class=\"wandb-col\"><h3>Run summary:</h3><br/><table class=\"wandb\"><tr><td>loss_content</td><td>1.1902</td></tr><tr><td>loss_style</td><td>1.84508</td></tr><tr><td>total_loss</td><td>3.03528</td></tr></table><br/></div></div>"
            ]
          },
          "metadata": {}
        },
        {
          "output_type": "display_data",
          "data": {
            "text/plain": [
              "<IPython.core.display.HTML object>"
            ],
            "text/html": [
              "Synced <strong style=\"color:#cdcd00\">sunny-jazz-5</strong>: <a href=\"https://wandb.ai/deep-bora/adain-original/runs/fg15xklu\" target=\"_blank\">https://wandb.ai/deep-bora/adain-original/runs/fg15xklu</a><br/>Synced 5 W&B file(s), 0 media file(s), 0 artifact file(s) and 0 other file(s)"
            ]
          },
          "metadata": {}
        },
        {
          "output_type": "display_data",
          "data": {
            "text/plain": [
              "<IPython.core.display.HTML object>"
            ],
            "text/html": [
              "Find logs at: <code>./wandb/run-20220624_150408-fg15xklu/logs</code>"
            ]
          },
          "metadata": {}
        }
      ],
      "source": [
        "import torch\n",
        "\n",
        "def calc_mean_std(feat, eps=1e-5):\n",
        "    # eps is a small value added to the variance to avoid divide-by-zero.\n",
        "    size = feat.size()\n",
        "    assert (len(size) == 4)\n",
        "    N, C = size[:2]\n",
        "    feat_var = feat.view(N, C, -1).var(dim=2) + eps\n",
        "    feat_std = feat_var.sqrt().view(N, C, 1, 1)\n",
        "    feat_mean = feat.view(N, C, -1).mean(dim=2).view(N, C, 1, 1)\n",
        "    return feat_mean, feat_std\n",
        "\n",
        "\n",
        "def adain(content_feat, style_feat):\n",
        "    assert (content_feat.size()[:2] == style_feat.size()[:2])\n",
        "    size = content_feat.size()\n",
        "    style_mean, style_std = calc_mean_std(style_feat)\n",
        "    content_mean, content_std = calc_mean_std(content_feat)\n",
        "\n",
        "    normalized_feat = (content_feat - content_mean.expand(\n",
        "        size)) / content_std.expand(size)\n",
        "    return normalized_feat * style_std.expand(size) + style_mean.expand(size)\n",
        "\n",
        "\n",
        "def _calc_feat_flatten_mean_std(feat):\n",
        "    # takes 3D feat (C, H, W), return mean and std of array within channels\n",
        "    assert (feat.size()[0] == 3)\n",
        "    assert (isinstance(feat, torch.FloatTensor))\n",
        "    feat_flatten = feat.view(3, -1)\n",
        "    mean = feat_flatten.mean(dim=-1, keepdim=True)\n",
        "    std = feat_flatten.std(dim=-1, keepdim=True)\n",
        "    return feat_flatten, mean, std\n",
        "\n",
        "\n",
        "def _mat_sqrt(x):\n",
        "    U, D, V = torch.svd(x)\n",
        "    return torch.mm(torch.mm(U, D.pow(0.5).diag()), V.t())\n",
        "\n",
        "\n",
        "def coral(source, target):\n",
        "    # assume both source and target are 3D array (C, H, W)\n",
        "    # Note: flatten -> f\n",
        "\n",
        "    source_f, source_f_mean, source_f_std = _calc_feat_flatten_mean_std(source)\n",
        "    source_f_norm = (source_f - source_f_mean.expand_as(\n",
        "        source_f)) / source_f_std.expand_as(source_f)\n",
        "    source_f_cov_eye = \\\n",
        "        torch.mm(source_f_norm, source_f_norm.t()) + torch.eye(3)\n",
        "\n",
        "    target_f, target_f_mean, target_f_std = _calc_feat_flatten_mean_std(target)\n",
        "    target_f_norm = (target_f - target_f_mean.expand_as(\n",
        "        target_f)) / target_f_std.expand_as(target_f)\n",
        "    target_f_cov_eye = \\\n",
        "        torch.mm(target_f_norm, target_f_norm.t()) + torch.eye(3)\n",
        "\n",
        "    source_f_norm_transfer = torch.mm(\n",
        "        _mat_sqrt(target_f_cov_eye),\n",
        "        torch.mm(torch.inverse(_mat_sqrt(source_f_cov_eye)),\n",
        "                 source_f_norm)\n",
        "    )\n",
        "\n",
        "    source_f_transfer = source_f_norm_transfer * \\\n",
        "                        target_f_std.expand_as(source_f_norm) + \\\n",
        "                        target_f_mean.expand_as(source_f_norm)\n",
        "\n",
        "    return source_f_transfer.view(source.size())\n",
        "\n",
        "\n",
        "import numpy as np\n",
        "from torch.utils import data\n",
        "\n",
        "\n",
        "def InfiniteSampler(n):\n",
        "    # i = 0\n",
        "    i = n - 1\n",
        "    order = np.random.permutation(n)\n",
        "    while True:\n",
        "        yield order[i]\n",
        "        i += 1\n",
        "        if i >= n:\n",
        "            np.random.seed()\n",
        "            order = np.random.permutation(n)\n",
        "            i = 0\n",
        "\n",
        "\n",
        "class InfiniteSamplerWrapper(data.sampler.Sampler):\n",
        "    def __init__(self, data_source):\n",
        "        self.num_samples = len(data_source)\n",
        "\n",
        "    def __iter__(self):\n",
        "        return iter(InfiniteSampler(self.num_samples))\n",
        "\n",
        "    def __len__(self):\n",
        "        return 2 ** 31\n",
        "\n",
        "import torch.nn as nn\n",
        "\n",
        "decoder = nn.Sequential(\n",
        "    nn.ReflectionPad2d((1, 1, 1, 1)),\n",
        "    nn.Conv2d(512, 256, (3, 3)),\n",
        "    nn.ReLU(),\n",
        "    nn.Upsample(scale_factor=2, mode='nearest'),\n",
        "    nn.ReflectionPad2d((1, 1, 1, 1)),\n",
        "    nn.Conv2d(256, 256, (3, 3)),\n",
        "    nn.ReLU(),\n",
        "    nn.ReflectionPad2d((1, 1, 1, 1)),\n",
        "    nn.Conv2d(256, 256, (3, 3)),\n",
        "    nn.ReLU(),\n",
        "    nn.ReflectionPad2d((1, 1, 1, 1)),\n",
        "    nn.Conv2d(256, 256, (3, 3)),\n",
        "    nn.ReLU(),\n",
        "    nn.ReflectionPad2d((1, 1, 1, 1)),\n",
        "    nn.Conv2d(256, 128, (3, 3)),\n",
        "    nn.ReLU(),\n",
        "    nn.Upsample(scale_factor=2, mode='nearest'),\n",
        "    nn.ReflectionPad2d((1, 1, 1, 1)),\n",
        "    nn.Conv2d(128, 128, (3, 3)),\n",
        "    nn.ReLU(),\n",
        "    nn.ReflectionPad2d((1, 1, 1, 1)),\n",
        "    nn.Conv2d(128, 64, (3, 3)),\n",
        "    nn.ReLU(),\n",
        "    nn.Upsample(scale_factor=2, mode='nearest'),\n",
        "    nn.ReflectionPad2d((1, 1, 1, 1)),\n",
        "    nn.Conv2d(64, 64, (3, 3)),\n",
        "    nn.ReLU(),\n",
        "    nn.ReflectionPad2d((1, 1, 1, 1)),\n",
        "    nn.Conv2d(64, 3, (3, 3)),\n",
        ")\n",
        "\n",
        "vgg = nn.Sequential(\n",
        "    nn.Conv2d(3, 3, (1, 1)),\n",
        "    nn.ReflectionPad2d((1, 1, 1, 1)),\n",
        "    nn.Conv2d(3, 64, (3, 3)),\n",
        "    nn.ReLU(),  # relu1-1 4\n",
        "    nn.ReflectionPad2d((1, 1, 1, 1)),\n",
        "    nn.Conv2d(64, 64, (3, 3)),\n",
        "    nn.ReLU(),  # relu1-2 7\n",
        "    nn.MaxPool2d((2, 2), (2, 2), (0, 0), ceil_mode=True),\n",
        "    nn.ReflectionPad2d((1, 1, 1, 1)),\n",
        "    nn.Conv2d(64, 128, (3, 3)),\n",
        "    nn.ReLU(),  # relu2-1 11\n",
        "    nn.ReflectionPad2d((1, 1, 1, 1)),\n",
        "    nn.Conv2d(128, 128, (3, 3)),\n",
        "    nn.ReLU(),  # relu2-2 14\n",
        "    nn.MaxPool2d((2, 2), (2, 2), (0, 0), ceil_mode=True),\n",
        "    nn.ReflectionPad2d((1, 1, 1, 1)),\n",
        "    nn.Conv2d(128, 256, (3, 3)),\n",
        "    nn.ReLU(),  # relu3-1 18\n",
        "    nn.ReflectionPad2d((1, 1, 1, 1)),\n",
        "    nn.Conv2d(256, 256, (3, 3)),\n",
        "    nn.ReLU(),  # relu3-2 21\n",
        "    nn.ReflectionPad2d((1, 1, 1, 1)),\n",
        "    nn.Conv2d(256, 256, (3, 3)),\n",
        "    nn.ReLU(),  # relu3-3 24\n",
        "    nn.ReflectionPad2d((1, 1, 1, 1)),\n",
        "    nn.Conv2d(256, 256, (3, 3)),\n",
        "    nn.ReLU(),  # relu3-4 27\n",
        "    nn.MaxPool2d((2, 2), (2, 2), (0, 0), ceil_mode=True),\n",
        "    nn.ReflectionPad2d((1, 1, 1, 1)),\n",
        "    nn.Conv2d(256, 512, (3, 3)),\n",
        "    nn.ReLU(),  # relu4-1, this is the last layer used 31\n",
        "    nn.ReflectionPad2d((1, 1, 1, 1)),\n",
        "    nn.Conv2d(512, 512, (3, 3)),\n",
        "    nn.ReLU(),  # relu4-2 34\n",
        "    nn.ReflectionPad2d((1, 1, 1, 1)),\n",
        "    nn.Conv2d(512, 512, (3, 3)),\n",
        "    nn.ReLU(),  # relu4-3 37\n",
        "    nn.ReflectionPad2d((1, 1, 1, 1)),\n",
        "    nn.Conv2d(512, 512, (3, 3)),\n",
        "    nn.ReLU(),  # relu4-4 40\n",
        "    nn.MaxPool2d((2, 2), (2, 2), (0, 0), ceil_mode=True),\n",
        "    nn.ReflectionPad2d((1, 1, 1, 1)),\n",
        "    nn.Conv2d(512, 512, (3, 3)),\n",
        "    nn.ReLU(),  # relu5-1\n",
        "    nn.ReflectionPad2d((1, 1, 1, 1)),\n",
        "    nn.Conv2d(512, 512, (3, 3)),\n",
        "    nn.ReLU(),  # relu5-2\n",
        "    nn.ReflectionPad2d((1, 1, 1, 1)),\n",
        "    nn.Conv2d(512, 512, (3, 3)),\n",
        "    nn.ReLU(),  # relu5-3\n",
        "    nn.ReflectionPad2d((1, 1, 1, 1)),\n",
        "    nn.Conv2d(512, 512, (3, 3)),\n",
        "    nn.ReLU()  # relu5-4\n",
        ")\n",
        "\n",
        "\"\"\"\n",
        "def weighted_mse_loss(input,target,weights = None):\n",
        "  assert input.size() == target.size()\n",
        "  size = input.size()\n",
        "  if weights == None:\n",
        "    weights = torch.ones(size = size[0])\n",
        "\n",
        "  if len(size) == 3: # gram matrix is B,C,C\n",
        "    #print(((input - target)**2).sum(dim = (1,2)))\n",
        "    return (((input - target)**2)*weights).mean()\n",
        "\"\"\"\n",
        "\n",
        "def weighted_mse_loss(input,target,weights = None):\n",
        "  assert input.size() == target.size()\n",
        "  size = input.size()\n",
        "  if weights == None:\n",
        "    weights = torch.ones(size = size[0])\n",
        "\n",
        "  if len(size) == 3: # gram matrix is B,C,C\n",
        "    se = ((input.view(size[0],-1) - target.view(size[0],-1))**2)\n",
        "    return (se.mean(dim = 1)*weights).mean()\n",
        "\n",
        "def gram_matrix_(input, normalize =True):\n",
        "    a, b, c, d = input.size()  # a=batch size(=1)\n",
        "    # b=number of feature maps\n",
        "    # (c,d)=dimensions of a f. map (N=c*d)\n",
        "\n",
        "    v = input.view(a,b, c * d)  # resise F_XL into \\hat F_XL\n",
        "    vt = v.permute(0,2,1)\n",
        "    # C,HxW , HxW, C\n",
        "    G = v.matmul(vt)  # compute the gram product\n",
        "\n",
        "    # we 'normalize' the values of the gram matrix\n",
        "    # by dividing by the number of element in each feature maps.\n",
        "    if normalize:\n",
        "      return G.div(b * c * d)\n",
        "    else:\n",
        "      return G\n",
        "    \n",
        "\n",
        "def gram_matrix(x, normalize=True):\n",
        "    '''\n",
        "    Generate gram matrices of the representations of content and style images.\n",
        "    '''\n",
        "    (b, ch, h, w) = x.size()\n",
        "    features = x.view(b, ch, w * h)\n",
        "    features_t = features.transpose(1, 2)\n",
        "    gram = features.bmm(features_t)\n",
        "    if normalize:\n",
        "        gram /= ch * h * w\n",
        "    return gram\n",
        "\n",
        "class Net(nn.Module):\n",
        "    def __init__(self, encoder, decoder):\n",
        "        super(Net, self).__init__()\n",
        "        enc_layers = list(encoder.children())\n",
        "\n",
        "        ### Suggested feature vectors\n",
        "        self._enc_1 = nn.Sequential(*enc_layers[:7])  # input -> relu1_2\n",
        "        self._enc_2 = nn.Sequential(*enc_layers[7:14])  # relu1_2 -> relu2_2\n",
        "        self._enc_3 = nn.Sequential(*enc_layers[14:24])  # relu2_2 -> relu3_3\n",
        "        self._enc_4 = nn.Sequential(*enc_layers[24:40])  # relu3_3 -> relu4_4\n",
        "\n",
        "        self.decoder = decoder\n",
        "        self.mse_loss = nn.MSELoss()\n",
        "\n",
        "        self.enc_1 = nn.Sequential(*enc_layers[:4])  # input -> relu1_1\n",
        "        self.enc_2 = nn.Sequential(*enc_layers[4:11])  # relu1_1 -> relu2_1\n",
        "        self.enc_3 = nn.Sequential(*enc_layers[11:18])  # relu2_1 -> relu3_1\n",
        "        self.enc_4 = nn.Sequential(*enc_layers[18:31])  # relu3_1 -> relu4_1\n",
        "\n",
        "        # fix the encoder\n",
        "        for name in ['enc_1', 'enc_2', 'enc_3', 'enc_4']:\n",
        "            for param in getattr(self, name).parameters():\n",
        "                param.requires_grad = False\n",
        "\n",
        "        for name in ['_enc_1', '_enc_2', '_enc_3', '_enc_4']:\n",
        "            for param in getattr(self, name).parameters():\n",
        "                param.requires_grad = False\n",
        "\n",
        "    # extract different relus for style\n",
        "    def encode_with_intermediate(self, input, original = True ):\n",
        "        results = [input]\n",
        "\n",
        "        if(original):\n",
        "            for i in range(4):\n",
        "                func = getattr(self, 'enc_{:d}'.format(i + 1))\n",
        "                results.append(func(results[-1]))\n",
        "        else:\n",
        "            for i in range(4):\n",
        "                func = getattr(self, '_enc_{:d}'.format(i + 1))\n",
        "                results.append(func(results[-1]))\n",
        "\n",
        "        return results[1:]\n",
        "\n",
        "    # extract content as intended for \n",
        "    def encode(self, input,original = True):\n",
        "        if(original):\n",
        "            for i in range(4):\n",
        "                input = getattr(self, 'enc_{:d}'.format(i + 1))(input)\n",
        "        else:\n",
        "            for i in range(4):\n",
        "                input = getattr(self, '_enc_{:d}'.format(i + 1))(input)\n",
        "        return input\n",
        "\n",
        "    def calc_content_loss(self, input, target):\n",
        "        assert (input.size() == target.size())\n",
        "        assert (target.requires_grad is False)\n",
        "        return self.mse_loss(input, target)\n",
        "\n",
        "    def calc_style_loss(self, input, target):\n",
        "        assert (input.size() == target.size())\n",
        "        assert (target.requires_grad is False)\n",
        "        input_mean, input_std = calc_mean_std(input)\n",
        "        target_mean, target_std = calc_mean_std(target)\n",
        "        return self.mse_loss(input_mean, target_mean) + \\\n",
        "               self.mse_loss(input_std, target_std)\n",
        "        #return self.calc_ast_style_loss_normalized(input,target)\n",
        "        #return self.calc_ast_style_loss(input,target)\n",
        "\n",
        "    def calc_ast_style_loss_normalized(self, input, target):\n",
        "        G1 = gram_matrix(input, False)\n",
        "        G2 = gram_matrix(target, False).detach() # we dont need the gradient of the target\n",
        "\n",
        "        size = input.size()\n",
        "        assert(len(size) == 4)\n",
        "\n",
        "        g1_norm = torch.linalg.norm(G1,dim = (1,2))\n",
        "        g2_norm = torch.linalg.norm(G2,dim = (1,2))\n",
        "\n",
        "        size = G1.size()\n",
        "        Nl = size[1] * size[2] # Or C x C = C^2\n",
        "        normalize_term =  (torch.square(g1_norm) + torch.square(g2_norm))/Nl  #\n",
        "\n",
        "        weights = (1/normalize_term)\n",
        "        #weights = weights.view(size[0],1,1)\n",
        "        return weighted_mse_loss(G1,G2,weights)\n",
        "      \n",
        "    def calc_ast_style_loss(self, input, target):\n",
        "        \"\"\"\n",
        "        Interestingly, authors assumes that calculation of G1 and G2 is not normalized\n",
        "        This can create an issue?. For this reason, let us test for\n",
        "          1- Normalized\n",
        "          2- Unnormalized\n",
        "          3- Newly defined Normalization term\n",
        "        \"\"\"\n",
        "        G1 = gram_matrix(input)\n",
        "        G2 = gram_matrix(target).detach() # we dont need the gradient of the target\n",
        "\n",
        "        size = input.size()\n",
        "        assert(len(size) == 4)\n",
        "\n",
        "        return self.mse_loss(G1,G2)\n",
        "\n",
        "    def forward(self, content, style, alpha=1.0):\n",
        "        assert 0 <= alpha <= 1\n",
        "        style_feats = self.encode_with_intermediate(style)\n",
        "        content_feat = self.encode(content)\n",
        "        t = adain(content_feat, style_feats[-1]) # content and style must be same dimension\n",
        "        t = alpha * t + (1 - alpha) * content_feat\n",
        "\n",
        "        g_t = self.decoder(t)\n",
        "        g_t_feats = self.encode_with_intermediate(g_t)\n",
        "\n",
        "        loss_c = self.calc_content_loss(g_t_feats[-1], t)\n",
        "        loss_s = self.calc_style_loss(g_t_feats[0], style_feats[0])\n",
        "        for i in range(1, 4):\n",
        "            loss_s += self.calc_style_loss(g_t_feats[i], style_feats[i])\n",
        "        return loss_c, loss_s\n",
        "\n",
        "import argparse\n",
        "from pathlib import Path\n",
        "\n",
        "import torch\n",
        "import torch.backends.cudnn as cudnn\n",
        "import torch.nn as nn\n",
        "import torch.utils.data as data\n",
        "from PIL import Image, ImageFile\n",
        "from tensorboardX import SummaryWriter\n",
        "from torchvision import transforms\n",
        "from tqdm import tqdm\n",
        "\n",
        "cudnn.benchmark = True\n",
        "Image.MAX_IMAGE_PIXELS = None  # Disable DecompressionBombError\n",
        "# Disable OSError: image file is truncated\n",
        "ImageFile.LOAD_TRUNCATED_IMAGES = True\n",
        "\n",
        "\n",
        "def train_transform():\n",
        "    transform_list = [\n",
        "        transforms.Resize(size=(512, 512)),\n",
        "        transforms.RandomCrop(256),\n",
        "        transforms.ToTensor()\n",
        "    ]\n",
        "    return transforms.Compose(transform_list)\n",
        "\n",
        "\n",
        "class FlatFolderDataset(data.Dataset):\n",
        "    def __init__(self, root, transform):\n",
        "        super(FlatFolderDataset, self).__init__()\n",
        "        self.root = root\n",
        "        self.paths = list(Path(self.root).glob('*'))\n",
        "        self.transform = transform\n",
        "\n",
        "    def __getitem__(self, index):\n",
        "        path = self.paths[index]\n",
        "        img = Image.open(str(path)).convert('RGB')\n",
        "        img = self.transform(img)\n",
        "        return img\n",
        "\n",
        "    def __len__(self):\n",
        "        return len(self.paths)\n",
        "\n",
        "    def name(self):\n",
        "        return 'FlatFolderDataset'\n",
        "\n",
        "\n",
        "def adjust_learning_rate(optimizer, iteration_count):\n",
        "    \"\"\"Imitating the original implementation\"\"\"\n",
        "    lr = args.lr / (1.0 + args.lr_decay * iteration_count)\n",
        "    for param_group in optimizer.param_groups:\n",
        "        param_group['lr'] = lr\n",
        "\n",
        "import wandb\n",
        "\n",
        "parser = argparse.ArgumentParser()\n",
        "# Basic options\n",
        "parser.add_argument('--content_dir', type=str, default='./train2014',\n",
        "                    help='Directory path to a batch of content images')\n",
        "parser.add_argument('--style_dir', type=str, default='./train',\n",
        "                    help='Directory path to a batch of style images')\n",
        "parser.add_argument('--vgg', type=str, default='./vgg_normalised.pth')\n",
        "\n",
        "# training options\n",
        "parser.add_argument('--save_dir', default='/content/drive/MyDrive/bora/bora_sanet',\n",
        "                    help='Directory to save the model')\n",
        "parser.add_argument('--log_dir', default='./logs',\n",
        "                    help='Directory to save the log')\n",
        "parser.add_argument('--lr', type=float, default=1e-4)\n",
        "parser.add_argument('--lr_decay', type=float, default=5e-5)\n",
        "parser.add_argument('--max_iter', type=int, default=160000)\n",
        "parser.add_argument('--batch_size', type=int, default=8)\n",
        "parser.add_argument('--style_weight', type=float, default=10.0)\n",
        "parser.add_argument('--content_weight', type=float, default=1.0)\n",
        "parser.add_argument('--n_threads', type=int, default=2)\n",
        "parser.add_argument('--save_model_interval', type=int, default=10000)\n",
        "args = parser.parse_args('')\n",
        "\n",
        "\n",
        "wandb.init(project=\"adain-original\", entity=\"deep-bora\", config = args)\n",
        "\n",
        "\n",
        "\n",
        "device = torch.device('cuda')\n",
        "save_dir = Path(args.save_dir)\n",
        "save_dir.mkdir(exist_ok=True, parents=True)\n",
        "log_dir = Path(args.log_dir)\n",
        "log_dir.mkdir(exist_ok=True, parents=True)\n",
        "writer = SummaryWriter(log_dir=str(log_dir))\n",
        "\n",
        "decoder = decoder\n",
        "vgg = vgg\n",
        "\n",
        "vgg.load_state_dict(torch.load(args.vgg))\n",
        "vgg = nn.Sequential(*list(vgg.children())[:31])\n",
        "network = Net(vgg, decoder)\n",
        "network.train()\n",
        "network.to(device)\n",
        "\n",
        "content_tf = train_transform()\n",
        "style_tf = train_transform()\n",
        "\n",
        "content_dataset = FlatFolderDataset(args.content_dir, content_tf)\n",
        "style_dataset = FlatFolderDataset(args.style_dir, style_tf)\n",
        "\n",
        "content_iter = iter(data.DataLoader(\n",
        "    content_dataset, batch_size=args.batch_size,\n",
        "    sampler=InfiniteSamplerWrapper(content_dataset),\n",
        "    num_workers=args.n_threads))\n",
        "style_iter = iter(data.DataLoader(\n",
        "    style_dataset, batch_size=args.batch_size,\n",
        "    sampler=InfiniteSamplerWrapper(style_dataset),\n",
        "    num_workers=args.n_threads))\n",
        "\n",
        "optimizer = torch.optim.Adam(network.decoder.parameters(), lr=args.lr)\n",
        "\n",
        "restore = '/content/drive/MyDrive/bora/bora_sanet/decoder_original_iter_110000.pth.tar'\n",
        "start = 0\n",
        "\n",
        "if restore:\n",
        "    decoder.load_state_dict(torch.load(restore))\n",
        "    start = 110000\n",
        "\n",
        "for i in tqdm(range(start,args.max_iter)):\n",
        "    adjust_learning_rate(optimizer, iteration_count=i)\n",
        "    content_images = next(content_iter).to(device)\n",
        "    style_images = next(style_iter).to(device)\n",
        "    loss_c, loss_s = network(content_images, style_images)\n",
        "    loss_c = args.content_weight * loss_c\n",
        "    loss_s = args.style_weight * loss_s\n",
        "    loss = loss_c + loss_s\n",
        "\n",
        "    optimizer.zero_grad()\n",
        "    loss.backward()\n",
        "    optimizer.step()\n",
        "\n",
        "    if(i % 100 == 0):\n",
        "        print(f\"loss_c : {loss_c.item()}  loss_s : {loss_s.item()}  loss : {loss}\")\n",
        "    wandb.log({\"loss_content\" : loss_c.item(), \"loss_style\" : loss_s.item(), \"total_loss\" : loss.item()})\n",
        "    if (i + 1) % args.save_model_interval == 0 or (i + 1) == args.max_iter:\n",
        "        state_dict = decoder.state_dict()\n",
        "        for key in state_dict.keys():\n",
        "            state_dict[key] = state_dict[key].to(torch.device('cpu'))\n",
        "        torch.save(state_dict, save_dir /\n",
        "                   'decoder_original_iter_{:d}.pth.tar'.format(i + 1))\n",
        "        \n",
        "wandb.finish()\n",
        "writer.close()"
      ]
    },
    {
      "cell_type": "code",
      "execution_count": null,
      "metadata": {
        "id": "ou2-WIyxKMnD"
      },
      "outputs": [],
      "source": [
        ""
      ]
    }
  ],
  "metadata": {
    "accelerator": "GPU",
    "colab": {
      "collapsed_sections": [],
      "name": "Untitled0.ipynb",
      "provenance": []
    },
    "gpuClass": "standard",
    "kernelspec": {
      "display_name": "Python 3",
      "name": "python3"
    },
    "language_info": {
      "name": "python"
    },
    "widgets": {
      "application/vnd.jupyter.widget-state+json": {
        "d3d297cc12d94b708d8ad3080fefc5d6": {
          "model_module": "@jupyter-widgets/controls",
          "model_name": "VBoxModel",
          "model_module_version": "1.5.0",
          "state": {
            "_dom_classes": [],
            "_model_module": "@jupyter-widgets/controls",
            "_model_module_version": "1.5.0",
            "_model_name": "VBoxModel",
            "_view_count": null,
            "_view_module": "@jupyter-widgets/controls",
            "_view_module_version": "1.5.0",
            "_view_name": "VBoxView",
            "box_style": "",
            "children": [
              "IPY_MODEL_cbc2892171ee406f944bf4b9d1e10e88",
              "IPY_MODEL_8a0b62f5dce94d10b439c7c580dc78a8"
            ],
            "layout": "IPY_MODEL_7bbc6a45a8204d1099757f2541214875"
          }
        },
        "cbc2892171ee406f944bf4b9d1e10e88": {
          "model_module": "@jupyter-widgets/controls",
          "model_name": "LabelModel",
          "model_module_version": "1.5.0",
          "state": {
            "_dom_classes": [],
            "_model_module": "@jupyter-widgets/controls",
            "_model_module_version": "1.5.0",
            "_model_name": "LabelModel",
            "_view_count": null,
            "_view_module": "@jupyter-widgets/controls",
            "_view_module_version": "1.5.0",
            "_view_name": "LabelView",
            "description": "",
            "description_tooltip": null,
            "layout": "IPY_MODEL_e8b40930f1904e6cafe775b415f86bd1",
            "placeholder": "​",
            "style": "IPY_MODEL_9a7db2a6a9f943b2bcba6fa5c87daa7f",
            "value": "0.052 MB of 0.052 MB uploaded (0.000 MB deduped)\r"
          }
        },
        "8a0b62f5dce94d10b439c7c580dc78a8": {
          "model_module": "@jupyter-widgets/controls",
          "model_name": "FloatProgressModel",
          "model_module_version": "1.5.0",
          "state": {
            "_dom_classes": [],
            "_model_module": "@jupyter-widgets/controls",
            "_model_module_version": "1.5.0",
            "_model_name": "FloatProgressModel",
            "_view_count": null,
            "_view_module": "@jupyter-widgets/controls",
            "_view_module_version": "1.5.0",
            "_view_name": "ProgressView",
            "bar_style": "",
            "description": "",
            "description_tooltip": null,
            "layout": "IPY_MODEL_b5e15e697b5147ad82b1526aacf9e1db",
            "max": 1,
            "min": 0,
            "orientation": "horizontal",
            "style": "IPY_MODEL_536adad547ea41af89b0c82f918dc3d3",
            "value": 1
          }
        },
        "7bbc6a45a8204d1099757f2541214875": {
          "model_module": "@jupyter-widgets/base",
          "model_name": "LayoutModel",
          "model_module_version": "1.2.0",
          "state": {
            "_model_module": "@jupyter-widgets/base",
            "_model_module_version": "1.2.0",
            "_model_name": "LayoutModel",
            "_view_count": null,
            "_view_module": "@jupyter-widgets/base",
            "_view_module_version": "1.2.0",
            "_view_name": "LayoutView",
            "align_content": null,
            "align_items": null,
            "align_self": null,
            "border": null,
            "bottom": null,
            "display": null,
            "flex": null,
            "flex_flow": null,
            "grid_area": null,
            "grid_auto_columns": null,
            "grid_auto_flow": null,
            "grid_auto_rows": null,
            "grid_column": null,
            "grid_gap": null,
            "grid_row": null,
            "grid_template_areas": null,
            "grid_template_columns": null,
            "grid_template_rows": null,
            "height": null,
            "justify_content": null,
            "justify_items": null,
            "left": null,
            "margin": null,
            "max_height": null,
            "max_width": null,
            "min_height": null,
            "min_width": null,
            "object_fit": null,
            "object_position": null,
            "order": null,
            "overflow": null,
            "overflow_x": null,
            "overflow_y": null,
            "padding": null,
            "right": null,
            "top": null,
            "visibility": null,
            "width": null
          }
        },
        "e8b40930f1904e6cafe775b415f86bd1": {
          "model_module": "@jupyter-widgets/base",
          "model_name": "LayoutModel",
          "model_module_version": "1.2.0",
          "state": {
            "_model_module": "@jupyter-widgets/base",
            "_model_module_version": "1.2.0",
            "_model_name": "LayoutModel",
            "_view_count": null,
            "_view_module": "@jupyter-widgets/base",
            "_view_module_version": "1.2.0",
            "_view_name": "LayoutView",
            "align_content": null,
            "align_items": null,
            "align_self": null,
            "border": null,
            "bottom": null,
            "display": null,
            "flex": null,
            "flex_flow": null,
            "grid_area": null,
            "grid_auto_columns": null,
            "grid_auto_flow": null,
            "grid_auto_rows": null,
            "grid_column": null,
            "grid_gap": null,
            "grid_row": null,
            "grid_template_areas": null,
            "grid_template_columns": null,
            "grid_template_rows": null,
            "height": null,
            "justify_content": null,
            "justify_items": null,
            "left": null,
            "margin": null,
            "max_height": null,
            "max_width": null,
            "min_height": null,
            "min_width": null,
            "object_fit": null,
            "object_position": null,
            "order": null,
            "overflow": null,
            "overflow_x": null,
            "overflow_y": null,
            "padding": null,
            "right": null,
            "top": null,
            "visibility": null,
            "width": null
          }
        },
        "9a7db2a6a9f943b2bcba6fa5c87daa7f": {
          "model_module": "@jupyter-widgets/controls",
          "model_name": "DescriptionStyleModel",
          "model_module_version": "1.5.0",
          "state": {
            "_model_module": "@jupyter-widgets/controls",
            "_model_module_version": "1.5.0",
            "_model_name": "DescriptionStyleModel",
            "_view_count": null,
            "_view_module": "@jupyter-widgets/base",
            "_view_module_version": "1.2.0",
            "_view_name": "StyleView",
            "description_width": ""
          }
        },
        "b5e15e697b5147ad82b1526aacf9e1db": {
          "model_module": "@jupyter-widgets/base",
          "model_name": "LayoutModel",
          "model_module_version": "1.2.0",
          "state": {
            "_model_module": "@jupyter-widgets/base",
            "_model_module_version": "1.2.0",
            "_model_name": "LayoutModel",
            "_view_count": null,
            "_view_module": "@jupyter-widgets/base",
            "_view_module_version": "1.2.0",
            "_view_name": "LayoutView",
            "align_content": null,
            "align_items": null,
            "align_self": null,
            "border": null,
            "bottom": null,
            "display": null,
            "flex": null,
            "flex_flow": null,
            "grid_area": null,
            "grid_auto_columns": null,
            "grid_auto_flow": null,
            "grid_auto_rows": null,
            "grid_column": null,
            "grid_gap": null,
            "grid_row": null,
            "grid_template_areas": null,
            "grid_template_columns": null,
            "grid_template_rows": null,
            "height": null,
            "justify_content": null,
            "justify_items": null,
            "left": null,
            "margin": null,
            "max_height": null,
            "max_width": null,
            "min_height": null,
            "min_width": null,
            "object_fit": null,
            "object_position": null,
            "order": null,
            "overflow": null,
            "overflow_x": null,
            "overflow_y": null,
            "padding": null,
            "right": null,
            "top": null,
            "visibility": null,
            "width": null
          }
        },
        "536adad547ea41af89b0c82f918dc3d3": {
          "model_module": "@jupyter-widgets/controls",
          "model_name": "ProgressStyleModel",
          "model_module_version": "1.5.0",
          "state": {
            "_model_module": "@jupyter-widgets/controls",
            "_model_module_version": "1.5.0",
            "_model_name": "ProgressStyleModel",
            "_view_count": null,
            "_view_module": "@jupyter-widgets/base",
            "_view_module_version": "1.2.0",
            "_view_name": "StyleView",
            "bar_color": null,
            "description_width": ""
          }
        }
      }
    }
  },
  "nbformat": 4,
  "nbformat_minor": 0
}