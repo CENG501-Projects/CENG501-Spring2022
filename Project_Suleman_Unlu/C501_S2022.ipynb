{
 "cells": [
  {
   "cell_type": "code",
   "execution_count": null,
   "id": "fdc74bab-8bf0-4cc5-8dcd-fa95808e7207",
   "metadata": {},
   "outputs": [],
   "source": [
    "import torch \n",
    "import tensorflow as tf\n",
    "import numpy as np \n",
    "import pandas as pd\n",
    "import cv2"
   ]
  },
  {
   "cell_type": "code",
   "execution_count": null,
   "id": "0ef01b2e-520d-40f2-a358-139433a88422",
   "metadata": {},
   "outputs": [],
   "source": [
    "import segmentation_models as sm\n",
    "import keras"
   ]
  },
  {
   "cell_type": "code",
   "execution_count": null,
   "id": "96274ebb-561c-4d38-b558-42a51f58a392",
   "metadata": {},
   "outputs": [],
   "source": [
    "model = sm.Unet('resnet50', classes=1, activation='sigmoid', encoder_weights = 'imagenet') ## initializing the res u net architecture"
   ]
  },
  {
   "cell_type": "code",
   "execution_count": null,
   "id": "9a205299-3e27-48ae-92c8-4d86a77474ad",
   "metadata": {},
   "outputs": [],
   "source": [
    "##downloading the dataset\n",
    "\n",
    "!aws s3 cp --no credential required s3://spacenet-dataset/spacenet/SN2_buildings/tarballs/SN2_buildings_train_AOI_2_Vegas.tar.gz './training'\n",
    "!aws s3 cp s3://spacenet-dataset/spacenet/SN2_buildings/tarballs/AOI_2_Vegas_test_public.tar.gz './test'"
   ]
  },
  {
   "cell_type": "code",
   "execution_count": null,
   "id": "1a45562e-16ae-4ee7-b376-0d020e4a3b3c",
   "metadata": {},
   "outputs": [],
   "source": []
  }
 ],
 "metadata": {
  "kernelspec": {
   "display_name": "Python 3 (ipykernel)",
   "language": "python",
   "name": "python3"
  },
  "language_info": {
   "codemirror_mode": {
    "name": "ipython",
    "version": 3
   },
   "file_extension": ".py",
   "mimetype": "text/x-python",
   "name": "python",
   "nbconvert_exporter": "python",
   "pygments_lexer": "ipython3",
   "version": "3.9.12"
  }
 },
 "nbformat": 4,
 "nbformat_minor": 5
}
