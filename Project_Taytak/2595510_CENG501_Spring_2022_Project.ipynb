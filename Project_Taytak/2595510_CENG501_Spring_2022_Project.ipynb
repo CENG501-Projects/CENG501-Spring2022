{
  "nbformat": 4,
  "nbformat_minor": 0,
  "metadata": {
    "colab": {
      "name": "2595510 - CENG501 - Spring 2022 - Project.ipynb",
      "provenance": [],
      "collapsed_sections": []
    },
    "kernelspec": {
      "name": "python3",
      "display_name": "Python 3"
    },
    "language_info": {
      "name": "python"
    },
    "accelerator": "GPU",
    "gpuClass": "standard"
  },
  "cells": [
    {
      "cell_type": "markdown",
      "source": [
        "# 1. Task Aligned Generative Meta-learning for Zero-shot Learning (TGMZ)\n",
        "In this project, a novel method of zero-shot learning as described [here](https://ojs.aaai.org/index.php/AAAI/article/download/17057/16864) is attempted to be implemented(*). The paper was published in [AAAI-21](https://aaai.org/Conferences/AAAI-21/).\n",
        "\n",
        "(*): The paper uses certain architectures that do not have public implementations:\n",
        "* a type of generative adversarial network called Meta-conditional Generative Adversarial Network (MGAN)\n",
        "* a type of autoencoder called Task-adversarial AutoEncoder (TAE)\n",
        "\n",
        "Moreover, the papers uses four benchmark datasets: AWA1, AWA2, aPY and CUB.\n",
        "* [AWA1](https://paperswithcode.com/dataset/awa-1) is retracted due to copyright issues.\n",
        "* [AWA2](https://paperswithcode.com/dataset/awa2-1) is available.\n",
        "* [aPY](https://paperswithcode.com/dataset/apy) has parts from Yahoo and Pascal, Pascal images are unavailable.\n",
        "* [CUB](https://paperswithcode.com/dataset/cub-200-2011) is entirely unavailable.\n",
        "\n",
        "Thus,\n",
        "1. We will be working with AWA2.\n",
        "2. We will be using approximations of the architectures to the top.\n",
        "\n",
        "Therefore, we will not be able to perfectly replicate the paper's results."
      ],
      "metadata": {
        "id": "PzqL2-dxMwsH"
      }
    },
    {
      "cell_type": "code",
      "execution_count": 60,
      "metadata": {
        "id": "krIxFPZVMqml"
      },
      "outputs": [],
      "source": [
        "# Imports\n",
        "import random\n",
        "import numpy as np\n",
        "import torch\n",
        "import torch.nn as nn\n",
        "import torch.nn.functional as F\n",
        "import matplotlib.pyplot as plt\n",
        "from collections import defaultdict\n",
        "from time import time\n",
        "from tqdm import tqdm\n",
        "from scipy import io as sio\n",
        "from torch.utils.data import DataLoader\n",
        "\n",
        "# Global constants\n",
        "RANDOM_SEED = 100\n",
        "DATASET = 'AWA2'\n",
        "DEVICE = 'cuda'  # one of {'cpu', 'cuda'}\n",
        "NUMBER_OF_TASK_BATCHES = 1024\n",
        "DATA_LOADER_BATCH_SIZE = 16\n",
        "N_WAY = 8\n",
        "K_SHOT = 5\n",
        "\n",
        "# Set RNG seed\n",
        "random.seed(RANDOM_SEED)\n",
        "np.random.seed(RANDOM_SEED)\n",
        "torch.manual_seed(RANDOM_SEED)\n",
        "torch.cuda.manual_seed(RANDOM_SEED)"
      ]
    },
    {
      "cell_type": "markdown",
      "source": [
        "# 2. Organizing Data\n",
        "We will be working with the AWA2 dataset. The paper uses \"visual features\" instead of the original images themselves. AWA2 has an artifact that contains image feature vectors extracted with a pretrained ResNet-101 model and corresponding attribute, class data.\n",
        "\n",
        "Disclaimer:\n",
        "* Data loading is adapted from [this](https://gist.github.com/iclr2021-classnorm/dd0e89521be029dac63d1d8b0a2d9401) gist."
      ],
      "metadata": {
        "id": "92dWOBXFNcoC"
      }
    },
    {
      "cell_type": "code",
      "source": [
        "# Download the dataset\n",
        "%%bash\n",
        "if [ -d \"./data\" ]\n",
        "then\n",
        "  echo \"./data directory already exists.\"\n",
        "else\n",
        "  wget -q \"http://datasets.d2.mpi-inf.mpg.de/xian/xlsa17.zip\"\n",
        "  unzip -q xlsa17.zip -d ./data\n",
        "  echo \"Downloaded the feature/label set.\"\n",
        "fi"
      ],
      "metadata": {
        "id": "T6qkmJZQZ0_j",
        "colab": {
          "base_uri": "https://localhost:8080/"
        },
        "outputId": "b8fe1050-9353-4caf-9d44-cb4597e9fbc3"
      },
      "execution_count": 61,
      "outputs": [
        {
          "output_type": "stream",
          "name": "stdout",
          "text": [
            "./data directory already exists.\n"
          ]
        }
      ]
    },
    {
      "cell_type": "code",
      "source": [
        "# Load data\n",
        "DATA_DIR = f'./data/xlsa17/data/{DATASET}'\n",
        "# Load MATLAB files\n",
        "data = sio.loadmat(f'{DATA_DIR}/res101.mat')\n",
        "attrs_mat = sio.loadmat(f'{DATA_DIR}/att_splits.mat')\n",
        "# Read classes and attributes\n",
        "all_classes = [x[0] for x in attrs_mat['allclasses_names'].squeeze()]\n",
        "attrs = attrs_mat['att'].T\n",
        "# Read features and labels with one row per image\n",
        "feats = data['features'].T.astype(np.float32)\n",
        "labels = data['labels'].squeeze() - 1  # MATLAB 1-index to Python 0-index\n",
        "images = [x[0].split('/')[-1] for x in data['image_files'].squeeze()]\n",
        "# Get indices of the images that belong to a dataset\n",
        "train_idx = attrs_mat['trainval_loc'].squeeze() - 1\n",
        "test_seen_idx = attrs_mat['test_seen_loc'].squeeze() - 1\n",
        "test_unseen_idx = attrs_mat['test_unseen_loc'].squeeze() - 1\n",
        "test_idx = np.array(test_seen_idx.tolist() + test_unseen_idx.tolist())\n",
        "# Get indices of seen and unseen classes\n",
        "seen_classes = sorted(np.unique(labels[test_seen_idx]))\n",
        "unseen_classes = sorted(np.unique(labels[test_unseen_idx]))"
      ],
      "metadata": {
        "id": "ZQY5kJ9gKnsN"
      },
      "execution_count": 62,
      "outputs": []
    },
    {
      "cell_type": "code",
      "source": [
        "# Generate test dataset\n",
        "ds_test = [(feats[idx], attrs[labels[idx]], labels[idx], images[idx], all_classes[labels[idx]]) for idx in test_idx]\n",
        "\n",
        "# Read training and validation classes\n",
        "with open(f'{DATA_DIR}/trainclasses1.txt') as fp:\n",
        "  training_class_names = fp.readlines()\n",
        "  training_class_names = set([n.strip() for n in training_class_names])\n",
        "with open(f'{DATA_DIR}/valclasses1.txt') as fp:\n",
        "  validation_class_names = fp.readlines()\n",
        "  validation_class_names = set([n.strip() for n in validation_class_names])\n",
        "\n",
        "# Generate train datasets\n",
        "# We will use this to generate maps of classes to samples\n",
        "ds_train = [(feats[idx], attrs[labels[idx]], labels[idx], images[idx], all_classes[labels[idx]]) for idx in train_idx]\n",
        "train_samples = defaultdict(list)\n",
        "validate_samples = defaultdict(list)\n",
        "for sample in ds_train:\n",
        "  if sample[4] in training_class_names:\n",
        "    train_samples[sample[2]].append(sample)\n",
        "  else:\n",
        "    validate_samples[sample[2]].append(sample)"
      ],
      "metadata": {
        "id": "UvBHQc2gTuP3"
      },
      "execution_count": 63,
      "outputs": []
    },
    {
      "cell_type": "code",
      "source": [
        "def generate_task(train_map, validate_map, N, K):\n",
        "  # From each set we pick N classes and from each class we pick K samples\n",
        "  assert N <= len(train_map.keys()) and N <= len(validate_map.keys())\n",
        "  train_keys = random.sample(train_map.keys(), N)\n",
        "  validate_keys = random.sample(validate_map.keys(), N)\n",
        "  train_samples = list()\n",
        "  validate_samples = list()\n",
        "  for key in train_keys:\n",
        "    assert K <= len(train_map[key])\n",
        "    train_samples += random.sample(train_map[key], K)\n",
        "  for key in validate_keys:\n",
        "    assert K <= len(validate_map[key])\n",
        "    validate_samples += random.sample(validate_map[key], K)\n",
        "  return train_samples, validate_samples"
      ],
      "metadata": {
        "id": "bS2cqjGyT3bq"
      },
      "execution_count": 64,
      "outputs": []
    },
    {
      "cell_type": "code",
      "source": [
        "# Create a actual datasets and dataloaders\n",
        "task_set = []\n",
        "for i in range(NUMBER_OF_TASK_BATCHES):\n",
        "  t_sam, v_sam = generate_task(train_samples, validate_samples, N_WAY, K_SHOT)\n",
        "  feats = np.stack([x[0] for x in t_sam] + [x[0] for x in v_sam])\n",
        "  attrs = np.stack([x[1] for x in t_sam] + [x[1] for x in v_sam])\n",
        "  labels = np.stack([x[2] for x in t_sam] + [x[2] for x in v_sam])\n",
        "  task_set.append((torch.Tensor(feats), torch.Tensor(attrs), torch.Tensor(labels).to(torch.int64)))\n",
        "\n",
        "task_loader = DataLoader(task_set, batch_size=DATA_LOADER_BATCH_SIZE, shuffle=True)\n",
        "\n",
        "test_set = [(\n",
        "    torch.Tensor(x[0]), \n",
        "    torch.Tensor([x[1]]), \n",
        "    torch.Tensor([x[2]]).to(torch.int64), \n",
        "    F.one_hot(torch.Tensor([x[2]]).to(torch.int64), num_classes=len(all_classes)).squeeze()\n",
        "    ) for x in ds_test]\n",
        "test_loader = DataLoader(test_set, batch_size=DATA_LOADER_BATCH_SIZE)"
      ],
      "metadata": {
        "id": "36tIsRpqcnaT"
      },
      "execution_count": 65,
      "outputs": []
    },
    {
      "cell_type": "markdown",
      "source": [
        "# 3. Methodology\n",
        "\n",
        ">[TGMZ] training procedure consists of two phases: task distribution alignment and task-aligned generative zero-shot learning. The former phase aligns the diverse sampled tasks to a unified task distribution to ease the biased optimization. The latter phase synthesizes instances in the aligned distribution conditioned on attribute vectors and uses meta-learner to train the model.\n",
        "\n"
      ],
      "metadata": {
        "id": "yA1mzFfwZ9ki"
      }
    },
    {
      "cell_type": "markdown",
      "source": [
        "## 3.1. Task Distribution Alignment\n",
        "\n",
        "In this phase, we train an autoencoder to align the distribution of tasks to a unified distribution. The paper uses a special type of autoencoder called \"Task-adversarial AutoEncoder\". We will be using a standard autoencoder modified to our needs."
      ],
      "metadata": {
        "id": "T5VOS-JulPq8"
      }
    },
    {
      "cell_type": "code",
      "source": [
        "class Autoencoder(nn.Module):\n",
        "  def __init__(self, input_dim):\n",
        "    assert input_dim > 1024\n",
        "\n",
        "    super(Autoencoder, self).__init__()\n",
        "    \n",
        "    # Encoder network\n",
        "    self.encoder = nn.Sequential(\n",
        "        nn.Linear(input_dim, 1024),\n",
        "        nn.ReLU(True),\n",
        "        nn.Linear(1024, 256),\n",
        "        nn.ReLU(True),\n",
        "        nn.Linear(256, 43)  # Adds up to 128 with attr vector\n",
        "    )\n",
        "    # Decoder network\n",
        "    self.decoder = nn.Sequential(\n",
        "        nn.Linear(43, 256),\n",
        "        nn.ReLU(True),\n",
        "        nn.Linear(256, 1024),\n",
        "        nn.ReLU(True),\n",
        "        nn.Linear(1024, input_dim)\n",
        "    )\n",
        "\n",
        "  def forward(self, x):\n",
        "    \"\"\"\n",
        "    We want to return the encoding as well as the result\n",
        "    \"\"\"\n",
        "    e = self.encoder(x)\n",
        "    y = self.decoder(e)\n",
        "    return y, e"
      ],
      "metadata": {
        "id": "b3ThrMR6isP9"
      },
      "execution_count": 66,
      "outputs": []
    },
    {
      "cell_type": "code",
      "source": [
        "def train_autoencoder(model, criterion, optimizer, epochs, dataloader, verbose=True):\n",
        "  loss_history = [] \n",
        "  for epoch in range(epochs):\n",
        "    for i, data in enumerate(dataloader, 0):  \n",
        "      # Our batch:\n",
        "      inputs, attrs, labels = data\n",
        "      inputs = inputs.to(DEVICE)\n",
        "      labels = labels.to(DEVICE)\n",
        "      # zero the gradients as PyTorch accumulates them\n",
        "      optimizer.zero_grad()\n",
        "      # Obtain the scores\n",
        "      outputs, encodings = model(inputs)\n",
        "      # Calculate loss\n",
        "      loss = criterion(outputs.to(DEVICE), inputs)\n",
        "      # Backpropagate\n",
        "      loss.backward()\n",
        "      # Update the weights\n",
        "      optimizer.step()\n",
        "      loss_history.append(loss.item())\n",
        "    \n",
        "    if verbose: print(f'Epoch {epoch} / {epochs}: avg. loss of last 5 iterations {np.sum(loss_history[:-6:-1])/5}')\n",
        "\n",
        "  return loss_history"
      ],
      "metadata": {
        "id": "8wpbtC1rkGF4"
      },
      "execution_count": 67,
      "outputs": []
    },
    {
      "cell_type": "code",
      "source": [
        "# Train the autoencoder\n",
        "input_dim = 2048  # Feature vector size\n",
        "\n",
        "autoencoder = Autoencoder(input_dim)\n",
        "criterion = torch.nn.MSELoss()\n",
        "optimizer = torch.optim.Adam(autoencoder.parameters(), lr=1e-3, weight_decay=1e-5)\n",
        "\n",
        "autoencoder = autoencoder.to(DEVICE)\n",
        "epochs = 100\n",
        "autoencoder_loss_history = train_autoencoder(autoencoder, criterion, optimizer, epochs, task_loader)"
      ],
      "metadata": {
        "colab": {
          "base_uri": "https://localhost:8080/"
        },
        "id": "kO5UWmaolDby",
        "outputId": "a1837cfc-89d0-475e-f529-9634878572a9"
      },
      "execution_count": 68,
      "outputs": [
        {
          "output_type": "stream",
          "name": "stdout",
          "text": [
            "Epoch 0 / 100: avg. loss of last 5 iterations 0.43541717529296875\n",
            "Epoch 1 / 100: avg. loss of last 5 iterations 0.3171946585178375\n",
            "Epoch 2 / 100: avg. loss of last 5 iterations 0.2610952377319336\n",
            "Epoch 3 / 100: avg. loss of last 5 iterations 0.2343302071094513\n",
            "Epoch 4 / 100: avg. loss of last 5 iterations 0.21191810071468353\n",
            "Epoch 5 / 100: avg. loss of last 5 iterations 0.19477333426475524\n",
            "Epoch 6 / 100: avg. loss of last 5 iterations 0.19137744307518006\n",
            "Epoch 7 / 100: avg. loss of last 5 iterations 0.17933377325534822\n",
            "Epoch 8 / 100: avg. loss of last 5 iterations 0.17125119566917418\n",
            "Epoch 9 / 100: avg. loss of last 5 iterations 0.16759904325008393\n",
            "Epoch 10 / 100: avg. loss of last 5 iterations 0.16109607815742494\n",
            "Epoch 11 / 100: avg. loss of last 5 iterations 0.15652016103267669\n",
            "Epoch 12 / 100: avg. loss of last 5 iterations 0.15166289806365968\n",
            "Epoch 13 / 100: avg. loss of last 5 iterations 0.14723241925239564\n",
            "Epoch 14 / 100: avg. loss of last 5 iterations 0.1458130568265915\n",
            "Epoch 15 / 100: avg. loss of last 5 iterations 0.14302743077278138\n",
            "Epoch 16 / 100: avg. loss of last 5 iterations 0.14010394513607025\n",
            "Epoch 17 / 100: avg. loss of last 5 iterations 0.13828059136867524\n",
            "Epoch 18 / 100: avg. loss of last 5 iterations 0.1347833454608917\n",
            "Epoch 19 / 100: avg. loss of last 5 iterations 0.13487455248832703\n",
            "Epoch 20 / 100: avg. loss of last 5 iterations 0.1320911169052124\n",
            "Epoch 21 / 100: avg. loss of last 5 iterations 0.13089316785335542\n",
            "Epoch 22 / 100: avg. loss of last 5 iterations 0.13028952479362488\n",
            "Epoch 23 / 100: avg. loss of last 5 iterations 0.12771615535020828\n",
            "Epoch 24 / 100: avg. loss of last 5 iterations 0.12820693850517273\n",
            "Epoch 25 / 100: avg. loss of last 5 iterations 0.12770347595214843\n",
            "Epoch 26 / 100: avg. loss of last 5 iterations 0.1248165488243103\n",
            "Epoch 27 / 100: avg. loss of last 5 iterations 0.12329807579517364\n",
            "Epoch 28 / 100: avg. loss of last 5 iterations 0.12530947774648665\n",
            "Epoch 29 / 100: avg. loss of last 5 iterations 0.12323924750089646\n",
            "Epoch 30 / 100: avg. loss of last 5 iterations 0.12281727641820908\n",
            "Epoch 31 / 100: avg. loss of last 5 iterations 0.1222746804356575\n",
            "Epoch 32 / 100: avg. loss of last 5 iterations 0.12082750648260117\n",
            "Epoch 33 / 100: avg. loss of last 5 iterations 0.11976439207792282\n",
            "Epoch 34 / 100: avg. loss of last 5 iterations 0.11847652941942215\n",
            "Epoch 35 / 100: avg. loss of last 5 iterations 0.11780115365982055\n",
            "Epoch 36 / 100: avg. loss of last 5 iterations 0.1169019877910614\n",
            "Epoch 37 / 100: avg. loss of last 5 iterations 0.12133649289608002\n",
            "Epoch 38 / 100: avg. loss of last 5 iterations 0.11765012592077255\n",
            "Epoch 39 / 100: avg. loss of last 5 iterations 0.11584273427724838\n",
            "Epoch 40 / 100: avg. loss of last 5 iterations 0.11494693309068679\n",
            "Epoch 41 / 100: avg. loss of last 5 iterations 0.11499486565589905\n",
            "Epoch 42 / 100: avg. loss of last 5 iterations 0.11432073563337326\n",
            "Epoch 43 / 100: avg. loss of last 5 iterations 0.11447359174489975\n",
            "Epoch 44 / 100: avg. loss of last 5 iterations 0.11329271197319031\n",
            "Epoch 45 / 100: avg. loss of last 5 iterations 0.113028022646904\n",
            "Epoch 46 / 100: avg. loss of last 5 iterations 0.11256052553653717\n",
            "Epoch 47 / 100: avg. loss of last 5 iterations 0.11321867257356644\n",
            "Epoch 48 / 100: avg. loss of last 5 iterations 0.11352675408124924\n",
            "Epoch 49 / 100: avg. loss of last 5 iterations 0.11329945921897888\n",
            "Epoch 50 / 100: avg. loss of last 5 iterations 0.11171415895223617\n",
            "Epoch 51 / 100: avg. loss of last 5 iterations 0.11283364742994309\n",
            "Epoch 52 / 100: avg. loss of last 5 iterations 0.1112000361084938\n",
            "Epoch 53 / 100: avg. loss of last 5 iterations 0.11396244317293167\n",
            "Epoch 54 / 100: avg. loss of last 5 iterations 0.11219718307256699\n",
            "Epoch 55 / 100: avg. loss of last 5 iterations 0.11087038218975068\n",
            "Epoch 56 / 100: avg. loss of last 5 iterations 0.11169171631336212\n",
            "Epoch 57 / 100: avg. loss of last 5 iterations 0.11086092293262481\n",
            "Epoch 58 / 100: avg. loss of last 5 iterations 0.10995565354824066\n",
            "Epoch 59 / 100: avg. loss of last 5 iterations 0.10972743332386017\n",
            "Epoch 60 / 100: avg. loss of last 5 iterations 0.10751592814922332\n",
            "Epoch 61 / 100: avg. loss of last 5 iterations 0.10867494940757752\n",
            "Epoch 62 / 100: avg. loss of last 5 iterations 0.10704096257686616\n",
            "Epoch 63 / 100: avg. loss of last 5 iterations 0.11018108576536179\n",
            "Epoch 64 / 100: avg. loss of last 5 iterations 0.1083612635731697\n",
            "Epoch 65 / 100: avg. loss of last 5 iterations 0.10597401559352874\n",
            "Epoch 66 / 100: avg. loss of last 5 iterations 0.10727907419204712\n",
            "Epoch 67 / 100: avg. loss of last 5 iterations 0.1085796296596527\n",
            "Epoch 68 / 100: avg. loss of last 5 iterations 0.10925601422786713\n",
            "Epoch 69 / 100: avg. loss of last 5 iterations 0.10766094326972961\n",
            "Epoch 70 / 100: avg. loss of last 5 iterations 0.10833047777414322\n",
            "Epoch 71 / 100: avg. loss of last 5 iterations 0.10736739188432694\n",
            "Epoch 72 / 100: avg. loss of last 5 iterations 0.10741682052612304\n",
            "Epoch 73 / 100: avg. loss of last 5 iterations 0.10659614652395248\n",
            "Epoch 74 / 100: avg. loss of last 5 iterations 0.10552835166454315\n",
            "Epoch 75 / 100: avg. loss of last 5 iterations 0.10791720896959305\n",
            "Epoch 76 / 100: avg. loss of last 5 iterations 0.10601535737514496\n",
            "Epoch 77 / 100: avg. loss of last 5 iterations 0.10614268630743026\n",
            "Epoch 78 / 100: avg. loss of last 5 iterations 0.10572702586650848\n",
            "Epoch 79 / 100: avg. loss of last 5 iterations 0.10535186976194381\n",
            "Epoch 80 / 100: avg. loss of last 5 iterations 0.10589011907577514\n",
            "Epoch 81 / 100: avg. loss of last 5 iterations 0.10703245550394058\n",
            "Epoch 82 / 100: avg. loss of last 5 iterations 0.10435520112514496\n",
            "Epoch 83 / 100: avg. loss of last 5 iterations 0.10695182085037232\n",
            "Epoch 84 / 100: avg. loss of last 5 iterations 0.10515178143978118\n",
            "Epoch 85 / 100: avg. loss of last 5 iterations 0.10550762712955475\n",
            "Epoch 86 / 100: avg. loss of last 5 iterations 0.10497695654630661\n",
            "Epoch 87 / 100: avg. loss of last 5 iterations 0.10510677099227905\n",
            "Epoch 88 / 100: avg. loss of last 5 iterations 0.10482681691646575\n",
            "Epoch 89 / 100: avg. loss of last 5 iterations 0.10327869057655334\n",
            "Epoch 90 / 100: avg. loss of last 5 iterations 0.1042625516653061\n",
            "Epoch 91 / 100: avg. loss of last 5 iterations 0.10349562168121337\n",
            "Epoch 92 / 100: avg. loss of last 5 iterations 0.10568477362394332\n",
            "Epoch 93 / 100: avg. loss of last 5 iterations 0.10453162491321563\n",
            "Epoch 94 / 100: avg. loss of last 5 iterations 0.10356194078922272\n",
            "Epoch 95 / 100: avg. loss of last 5 iterations 0.1050442710518837\n",
            "Epoch 96 / 100: avg. loss of last 5 iterations 0.10341725647449493\n",
            "Epoch 97 / 100: avg. loss of last 5 iterations 0.10398263484239578\n",
            "Epoch 98 / 100: avg. loss of last 5 iterations 0.10551801025867462\n",
            "Epoch 99 / 100: avg. loss of last 5 iterations 0.10459120571613312\n"
          ]
        }
      ]
    },
    {
      "cell_type": "code",
      "source": [
        "# Plot autoencoder loss history\n",
        "plt.plot(autoencoder_loss_history)\n",
        "plt.xlabel('Iteration number')\n",
        "plt.ylabel('Loss value')\n",
        "plt.show()"
      ],
      "metadata": {
        "colab": {
          "base_uri": "https://localhost:8080/",
          "height": 279
        },
        "id": "ZHyGoBYCvj0k",
        "outputId": "657933f0-47d3-47c2-ddc8-5884b947dfb0"
      },
      "execution_count": 69,
      "outputs": [
        {
          "output_type": "display_data",
          "data": {
            "text/plain": [
              "<Figure size 432x288 with 1 Axes>"
            ],
            "image/png": "[encoded data removed]"
          },
          "metadata": {
            "needs_background": "light"
          }
        }
      ]
    },
    {
      "cell_type": "markdown",
      "source": [
        "## 3.2. Generative Zero-shot Learning\n",
        "\n",
        "In this phase, we train a modified GAN together with a classifier. The paper uses a special type of autoencoder called \"Meta-conditional Generative Adversarial Network\". We will be using a standard GAN modified to our needs."
      ],
      "metadata": {
        "id": "BR2Q8y2kw1kq"
      }
    },
    {
      "cell_type": "markdown",
      "source": [
        "### 3.2.1. GAN Training\n",
        "We will cut some corners and train GAN before the classifier."
      ],
      "metadata": {
        "id": "XDoq6F5ZHXiu"
      }
    },
    {
      "cell_type": "code",
      "source": [
        "class Generator(nn.Module):\n",
        "  def __init__(self, input_dim, output_dim):\n",
        "    super(Generator, self).__init__()\n",
        "    self.model = nn.Sequential(\n",
        "        nn.Linear(input_dim, 512),\n",
        "        nn.LeakyReLU(0.1, True),\n",
        "        nn.Linear(512, 2048),\n",
        "        nn.LeakyReLU(0.1, True),\n",
        "        nn.Linear(2048, output_dim),\n",
        "        nn.Sigmoid()\n",
        "    )\n",
        "\n",
        "  def forward(self, a, z):\n",
        "    x = torch.cat((a, z), 2)\n",
        "    y = self.model(x)\n",
        "    return y\n",
        "\n",
        "\n",
        "class Discriminator(nn.Module):\n",
        "  def __init__(self, input_dim):\n",
        "    super(Discriminator, self).__init__()\n",
        "    self.model = nn.Sequential(\n",
        "        nn.Linear(input_dim, 512),\n",
        "        nn.LeakyReLU(0.1, True),\n",
        "        nn.Linear(512, 1),\n",
        "        nn.Sigmoid()\n",
        "    )\n",
        "\n",
        "  def forward(self, a, e):\n",
        "    x = torch.cat((a, e), 2)\n",
        "    y = self.model(x)\n",
        "    return y"
      ],
      "metadata": {
        "id": "5Agj9X5SxT6x"
      },
      "execution_count": 70,
      "outputs": []
    },
    {
      "cell_type": "code",
      "source": [
        "def train_gan(\n",
        "    autoencoder, \n",
        "    gen, gen_criterion, gen_optimizer, \n",
        "    disc, disc_criterion, disc_optimizer,\n",
        "    epochs, dataloader, verbose=True):\n",
        "  disc_loss_history = [] \n",
        "  gen_loss_history = []\n",
        "  for epoch in range(epochs):\n",
        "    for i, data in enumerate(dataloader, 0):\n",
        "      # Our batch:\n",
        "      inputs, attrs, labels = data\n",
        "      inputs = inputs.to(DEVICE)\n",
        "      attrs = attrs.to(DEVICE)\n",
        "      labels = labels.to(DEVICE)\n",
        "      # Obtain the encodings\n",
        "      with torch.no_grad():\n",
        "        outputs, encodings = autoencoder(inputs)\n",
        "\n",
        "      encodings = encodings.to(DEVICE)\n",
        "      inp_shape = encodings.shape[:2]\n",
        "\n",
        "      real_labels = torch.ones(*inp_shape, 1).to(DEVICE)\n",
        "      fake_labels = torch.zeros(*inp_shape, 1).to(DEVICE)\n",
        "\n",
        "      if not disc_loss_history or (gen_loss_history and gen_loss_history[-1] <= disc_loss_history[-1]):\n",
        "        # Train the discriminator\n",
        "        real_outputs = disc(attrs, encodings)\n",
        "        noise = ((torch.rand(encodings.shape) - 0.5) / 0.5).to(DEVICE)\n",
        "        fake_encodings = gen(attrs, noise)\n",
        "        fake_outputs = disc(attrs, fake_encodings)\n",
        "\n",
        "        disc_outputs = torch.cat((real_outputs, fake_outputs), 0)\n",
        "        disc_targets = torch.cat((real_labels, fake_labels), 0)\n",
        "\n",
        "        disc_loss = disc_criterion(disc_outputs, disc_targets)\n",
        "        disc_optimizer.zero_grad()\n",
        "        disc_loss.backward()\n",
        "        disc_optimizer.step()\n",
        "\n",
        "        disc_loss_history.append(disc_loss.item())\n",
        "\n",
        "      if not gen_loss_history or (disc_loss_history and disc_loss_history[-1] <= gen_loss_history[-1]):\n",
        "        # Train the generator\n",
        "        noise = ((torch.rand(encodings.shape) - 0.5) / 0.5).to(DEVICE)\n",
        "        fake_encodings = gen(attrs, noise)\n",
        "        fake_outputs = disc(attrs, fake_encodings)\n",
        "        gen_targets = torch.ones(*inp_shape, 1).to(DEVICE)\n",
        "\n",
        "        gen_loss = gen_criterion(fake_outputs, gen_targets)\n",
        "        gen_optimizer.zero_grad()\n",
        "        gen_loss.backward()\n",
        "        gen_optimizer.step()\n",
        "        \n",
        "        gen_loss_history.append(gen_loss.item())\n",
        "    \n",
        "    if verbose:\n",
        "      disc_loss_avg = np.sum(disc_loss_history[:-6:-1])/5\n",
        "      gen_loss_avg = np.sum(gen_loss_history[:-6:-1])/5\n",
        "      print(f'Epoch {epoch} / {epochs}: avg. loss of last 5 iterations discriminator: {disc_loss_avg}, generator: {gen_loss_avg}')\n",
        "\n",
        "  return disc_loss_history, gen_loss_history"
      ],
      "metadata": {
        "id": "RD4Nhg0H0eAL"
      },
      "execution_count": 71,
      "outputs": []
    },
    {
      "cell_type": "code",
      "source": [
        "# Train the GAN\n",
        "attr_dim = 85\n",
        "encoding_dim = 43\n",
        "\n",
        "generator = Generator(attr_dim + encoding_dim, encoding_dim)\n",
        "discriminator = Discriminator(attr_dim + encoding_dim)\n",
        "\n",
        "gen_criterion = torch.nn.BCELoss()\n",
        "gen_optimizer = torch.optim.Adam(generator.parameters(), lr=1e-4, weight_decay=1e-5)\n",
        "\n",
        "disc_criterion = torch.nn.BCELoss()\n",
        "disc_optimizer = torch.optim.Adam(discriminator.parameters(), lr=1e-4, weight_decay=1e-5)\n",
        "\n",
        "generator = generator.to(DEVICE)\n",
        "discriminator = discriminator.to(DEVICE)\n",
        "epochs = 100\n",
        "disc_loss_hist, gen_loss_hist = train_gan(\n",
        "    autoencoder, \n",
        "    generator, gen_criterion, gen_optimizer, \n",
        "    discriminator, disc_criterion, disc_optimizer,\n",
        "    epochs, task_loader)"
      ],
      "metadata": {
        "colab": {
          "base_uri": "https://localhost:8080/"
        },
        "id": "fSUMFgyC4kBX",
        "outputId": "0d00b80b-d36f-4012-9b50-2a2e933f24d4"
      },
      "execution_count": 72,
      "outputs": [
        {
          "output_type": "stream",
          "name": "stdout",
          "text": [
            "Epoch 0 / 100: avg. loss of last 5 iterations discriminator: 0.581873869895935, generator: 0.5688533425331116\n",
            "Epoch 1 / 100: avg. loss of last 5 iterations discriminator: 0.5662084698677063, generator: 0.5572820663452148\n",
            "Epoch 2 / 100: avg. loss of last 5 iterations discriminator: 0.5662084698677063, generator: 0.5555656433105469\n",
            "Epoch 3 / 100: avg. loss of last 5 iterations discriminator: 0.5662084698677063, generator: 0.5553562879562378\n",
            "Epoch 4 / 100: avg. loss of last 5 iterations discriminator: 0.5662084698677063, generator: 0.5552940249443055\n",
            "Epoch 5 / 100: avg. loss of last 5 iterations discriminator: 0.5662084698677063, generator: 0.5551740646362304\n",
            "Epoch 6 / 100: avg. loss of last 5 iterations discriminator: 0.5662084698677063, generator: 0.5551154255867005\n",
            "Epoch 7 / 100: avg. loss of last 5 iterations discriminator: 0.5662084698677063, generator: 0.5550238251686096\n",
            "Epoch 8 / 100: avg. loss of last 5 iterations discriminator: 0.5662084698677063, generator: 0.555366313457489\n",
            "Epoch 9 / 100: avg. loss of last 5 iterations discriminator: 0.5662084698677063, generator: 0.5550763130187988\n",
            "Epoch 10 / 100: avg. loss of last 5 iterations discriminator: 0.5662084698677063, generator: 0.555016565322876\n",
            "Epoch 11 / 100: avg. loss of last 5 iterations discriminator: 0.5662084698677063, generator: 0.554892647266388\n",
            "Epoch 12 / 100: avg. loss of last 5 iterations discriminator: 0.5662084698677063, generator: 0.5549632430076599\n",
            "Epoch 13 / 100: avg. loss of last 5 iterations discriminator: 0.5662084698677063, generator: 0.555231261253357\n",
            "Epoch 14 / 100: avg. loss of last 5 iterations discriminator: 0.5662084698677063, generator: 0.5548649907112122\n",
            "Epoch 15 / 100: avg. loss of last 5 iterations discriminator: 0.5662084698677063, generator: 0.5550186157226562\n",
            "Epoch 16 / 100: avg. loss of last 5 iterations discriminator: 0.5662084698677063, generator: 0.5549559354782104\n",
            "Epoch 17 / 100: avg. loss of last 5 iterations discriminator: 0.5662084698677063, generator: 0.5549577355384827\n",
            "Epoch 18 / 100: avg. loss of last 5 iterations discriminator: 0.5662084698677063, generator: 0.5549916982650757\n",
            "Epoch 19 / 100: avg. loss of last 5 iterations discriminator: 0.5662084698677063, generator: 0.55495765209198\n",
            "Epoch 20 / 100: avg. loss of last 5 iterations discriminator: 0.5662084698677063, generator: 0.5548558473587036\n",
            "Epoch 21 / 100: avg. loss of last 5 iterations discriminator: 0.5662084698677063, generator: 0.5550041675567627\n",
            "Epoch 22 / 100: avg. loss of last 5 iterations discriminator: 0.5662084698677063, generator: 0.554995858669281\n",
            "Epoch 23 / 100: avg. loss of last 5 iterations discriminator: 0.5662084698677063, generator: 0.5547980308532715\n",
            "Epoch 24 / 100: avg. loss of last 5 iterations discriminator: 0.5662084698677063, generator: 0.5549511075019836\n",
            "Epoch 25 / 100: avg. loss of last 5 iterations discriminator: 0.5662084698677063, generator: 0.5548912048339844\n",
            "Epoch 26 / 100: avg. loss of last 5 iterations discriminator: 0.5662084698677063, generator: 0.5549318432807923\n",
            "Epoch 27 / 100: avg. loss of last 5 iterations discriminator: 0.5662084698677063, generator: 0.554915988445282\n",
            "Epoch 28 / 100: avg. loss of last 5 iterations discriminator: 0.5662084698677063, generator: 0.5547647833824157\n",
            "Epoch 29 / 100: avg. loss of last 5 iterations discriminator: 0.5662084698677063, generator: 0.5548181056976318\n",
            "Epoch 30 / 100: avg. loss of last 5 iterations discriminator: 0.5662084698677063, generator: 0.5545476913452149\n",
            "Epoch 31 / 100: avg. loss of last 5 iterations discriminator: 0.5662084698677063, generator: 0.5547426342964172\n",
            "Epoch 32 / 100: avg. loss of last 5 iterations discriminator: 0.5662084698677063, generator: 0.5546825766563416\n",
            "Epoch 33 / 100: avg. loss of last 5 iterations discriminator: 0.5662084698677063, generator: 0.5545340061187745\n",
            "Epoch 34 / 100: avg. loss of last 5 iterations discriminator: 0.5662084698677063, generator: 0.5544954657554626\n",
            "Epoch 35 / 100: avg. loss of last 5 iterations discriminator: 0.5662084698677063, generator: 0.5546487689018249\n",
            "Epoch 36 / 100: avg. loss of last 5 iterations discriminator: 0.5662084698677063, generator: 0.5548964262008667\n",
            "Epoch 37 / 100: avg. loss of last 5 iterations discriminator: 0.5662084698677063, generator: 0.5545715451240539\n",
            "Epoch 38 / 100: avg. loss of last 5 iterations discriminator: 0.5662084698677063, generator: 0.5546858191490174\n",
            "Epoch 39 / 100: avg. loss of last 5 iterations discriminator: 0.5662084698677063, generator: 0.5546357035636902\n",
            "Epoch 40 / 100: avg. loss of last 5 iterations discriminator: 0.5662084698677063, generator: 0.5545060396194458\n",
            "Epoch 41 / 100: avg. loss of last 5 iterations discriminator: 0.5662084698677063, generator: 0.5546043753623963\n",
            "Epoch 42 / 100: avg. loss of last 5 iterations discriminator: 0.5662084698677063, generator: 0.5544084906578064\n",
            "Epoch 43 / 100: avg. loss of last 5 iterations discriminator: 0.5662084698677063, generator: 0.5547762393951416\n",
            "Epoch 44 / 100: avg. loss of last 5 iterations discriminator: 0.5662084698677063, generator: 0.5545637845993042\n",
            "Epoch 45 / 100: avg. loss of last 5 iterations discriminator: 0.5662084698677063, generator: 0.5547699093818664\n",
            "Epoch 46 / 100: avg. loss of last 5 iterations discriminator: 0.5662084698677063, generator: 0.5545541405677795\n",
            "Epoch 47 / 100: avg. loss of last 5 iterations discriminator: 0.5662084698677063, generator: 0.5546081304550171\n",
            "Epoch 48 / 100: avg. loss of last 5 iterations discriminator: 0.5662084698677063, generator: 0.5546329140663147\n",
            "Epoch 49 / 100: avg. loss of last 5 iterations discriminator: 0.5662084698677063, generator: 0.5545336246490479\n",
            "Epoch 50 / 100: avg. loss of last 5 iterations discriminator: 0.5662084698677063, generator: 0.5544052004814148\n",
            "Epoch 51 / 100: avg. loss of last 5 iterations discriminator: 0.5662084698677063, generator: 0.5543247342109681\n",
            "Epoch 52 / 100: avg. loss of last 5 iterations discriminator: 0.5662084698677063, generator: 0.5546257376670838\n",
            "Epoch 53 / 100: avg. loss of last 5 iterations discriminator: 0.5662084698677063, generator: 0.5545226097106933\n",
            "Epoch 54 / 100: avg. loss of last 5 iterations discriminator: 0.5662084698677063, generator: 0.5543003082275391\n",
            "Epoch 55 / 100: avg. loss of last 5 iterations discriminator: 0.5662084698677063, generator: 0.5544725179672241\n",
            "Epoch 56 / 100: avg. loss of last 5 iterations discriminator: 0.5662084698677063, generator: 0.5544654488563537\n",
            "Epoch 57 / 100: avg. loss of last 5 iterations discriminator: 0.5662084698677063, generator: 0.5545567274093628\n",
            "Epoch 58 / 100: avg. loss of last 5 iterations discriminator: 0.5662084698677063, generator: 0.5546725511550903\n",
            "Epoch 59 / 100: avg. loss of last 5 iterations discriminator: 0.5662084698677063, generator: 0.5544761776924133\n",
            "Epoch 60 / 100: avg. loss of last 5 iterations discriminator: 0.5662084698677063, generator: 0.5545239448547363\n",
            "Epoch 61 / 100: avg. loss of last 5 iterations discriminator: 0.5662084698677063, generator: 0.5545835971832276\n",
            "Epoch 62 / 100: avg. loss of last 5 iterations discriminator: 0.5662084698677063, generator: 0.5546606183052063\n",
            "Epoch 63 / 100: avg. loss of last 5 iterations discriminator: 0.5662084698677063, generator: 0.5544216513633728\n",
            "Epoch 64 / 100: avg. loss of last 5 iterations discriminator: 0.5662084698677063, generator: 0.5545396089553833\n",
            "Epoch 65 / 100: avg. loss of last 5 iterations discriminator: 0.5662084698677063, generator: 0.5545981884002685\n",
            "Epoch 66 / 100: avg. loss of last 5 iterations discriminator: 0.5662084698677063, generator: 0.554334306716919\n",
            "Epoch 67 / 100: avg. loss of last 5 iterations discriminator: 0.5662084698677063, generator: 0.5546217918395996\n",
            "Epoch 68 / 100: avg. loss of last 5 iterations discriminator: 0.5662084698677063, generator: 0.5543427348136902\n",
            "Epoch 69 / 100: avg. loss of last 5 iterations discriminator: 0.5662084698677063, generator: 0.5545931816101074\n",
            "Epoch 70 / 100: avg. loss of last 5 iterations discriminator: 0.5662084698677063, generator: 0.5546453118324279\n",
            "Epoch 71 / 100: avg. loss of last 5 iterations discriminator: 0.5662084698677063, generator: 0.5544928073883056\n",
            "Epoch 72 / 100: avg. loss of last 5 iterations discriminator: 0.5662084698677063, generator: 0.5545257806777955\n",
            "Epoch 73 / 100: avg. loss of last 5 iterations discriminator: 0.5662084698677063, generator: 0.5544966936111451\n",
            "Epoch 74 / 100: avg. loss of last 5 iterations discriminator: 0.5662084698677063, generator: 0.5544370174407959\n",
            "Epoch 75 / 100: avg. loss of last 5 iterations discriminator: 0.5662084698677063, generator: 0.5545462965965271\n",
            "Epoch 76 / 100: avg. loss of last 5 iterations discriminator: 0.5662084698677063, generator: 0.5544710874557495\n",
            "Epoch 77 / 100: avg. loss of last 5 iterations discriminator: 0.5662084698677063, generator: 0.5545052409172058\n",
            "Epoch 78 / 100: avg. loss of last 5 iterations discriminator: 0.5662084698677063, generator: 0.5545907497406006\n",
            "Epoch 79 / 100: avg. loss of last 5 iterations discriminator: 0.5662084698677063, generator: 0.5545215010643005\n",
            "Epoch 80 / 100: avg. loss of last 5 iterations discriminator: 0.5662084698677063, generator: 0.5546846866607666\n",
            "Epoch 81 / 100: avg. loss of last 5 iterations discriminator: 0.5662084698677063, generator: 0.5543580412864685\n",
            "Epoch 82 / 100: avg. loss of last 5 iterations discriminator: 0.5662084698677063, generator: 0.5545508146286011\n",
            "Epoch 83 / 100: avg. loss of last 5 iterations discriminator: 0.5662084698677063, generator: 0.5546033978462219\n",
            "Epoch 84 / 100: avg. loss of last 5 iterations discriminator: 0.5662084698677063, generator: 0.5545598268508911\n",
            "Epoch 85 / 100: avg. loss of last 5 iterations discriminator: 0.5662084698677063, generator: 0.5544103622436524\n",
            "Epoch 86 / 100: avg. loss of last 5 iterations discriminator: 0.5662084698677063, generator: 0.5545583009719849\n",
            "Epoch 87 / 100: avg. loss of last 5 iterations discriminator: 0.5662084698677063, generator: 0.5543069124221802\n",
            "Epoch 88 / 100: avg. loss of last 5 iterations discriminator: 0.5662084698677063, generator: 0.5545048475265503\n",
            "Epoch 89 / 100: avg. loss of last 5 iterations discriminator: 0.5662084698677063, generator: 0.554499351978302\n",
            "Epoch 90 / 100: avg. loss of last 5 iterations discriminator: 0.5662084698677063, generator: 0.554281759262085\n",
            "Epoch 91 / 100: avg. loss of last 5 iterations discriminator: 0.5662084698677063, generator: 0.5544397354125976\n",
            "Epoch 92 / 100: avg. loss of last 5 iterations discriminator: 0.5662084698677063, generator: 0.554413640499115\n",
            "Epoch 93 / 100: avg. loss of last 5 iterations discriminator: 0.5662084698677063, generator: 0.5546817183494568\n",
            "Epoch 94 / 100: avg. loss of last 5 iterations discriminator: 0.5662084698677063, generator: 0.5545382976531983\n",
            "Epoch 95 / 100: avg. loss of last 5 iterations discriminator: 0.5662084698677063, generator: 0.5544007420539856\n",
            "Epoch 96 / 100: avg. loss of last 5 iterations discriminator: 0.5662084698677063, generator: 0.5543243765830994\n",
            "Epoch 97 / 100: avg. loss of last 5 iterations discriminator: 0.5662084698677063, generator: 0.5544990420341491\n",
            "Epoch 98 / 100: avg. loss of last 5 iterations discriminator: 0.5662084698677063, generator: 0.5543672442436218\n",
            "Epoch 99 / 100: avg. loss of last 5 iterations discriminator: 0.5662084698677063, generator: 0.5543487668037415\n"
          ]
        }
      ]
    },
    {
      "cell_type": "code",
      "source": [
        "# Plot discriminator loss history\n",
        "plt.plot(disc_loss_hist)\n",
        "plt.xlabel('Iteration number')\n",
        "plt.ylabel('Loss value')\n",
        "plt.show()"
      ],
      "metadata": {
        "colab": {
          "base_uri": "https://localhost:8080/",
          "height": 279
        },
        "id": "pUzmj6AnAvVr",
        "outputId": "e866bf18-9e85-46d3-f49c-fac2c1b22ccc"
      },
      "execution_count": 73,
      "outputs": [
        {
          "output_type": "display_data",
          "data": {
            "text/plain": [
              "<Figure size 432x288 with 1 Axes>"
            ],
            "image/png": "[encoded data removed]"
          },
          "metadata": {
            "needs_background": "light"
          }
        }
      ]
    },
    {
      "cell_type": "code",
      "source": [
        "# Plot generator loss history\n",
        "plt.plot(gen_loss_hist)\n",
        "plt.xlabel('Iteration number')\n",
        "plt.ylabel('Loss value')\n",
        "plt.show()"
      ],
      "metadata": {
        "colab": {
          "base_uri": "https://localhost:8080/",
          "height": 279
        },
        "id": "03ogGdbDA18S",
        "outputId": "2c8a8245-40ae-42e9-d045-0e688a5670ef"
      },
      "execution_count": 74,
      "outputs": [
        {
          "output_type": "display_data",
          "data": {
            "text/plain": [
              "<Figure size 432x288 with 1 Axes>"
            ],
            "image/png": "[encoded data removed]"
          },
          "metadata": {
            "needs_background": "light"
          }
        }
      ]
    },
    {
      "cell_type": "markdown",
      "source": [
        "### 3.2.2. Classifier Training\n",
        "We will be using the GAN to synthesize data for unseen classes and train the classifier with that."
      ],
      "metadata": {
        "id": "q3LgKx5PHVqh"
      }
    },
    {
      "cell_type": "code",
      "source": [
        "class Classifier(nn.Module):\n",
        "  def __init__(self, input_dim, output_dim):\n",
        "    super(Classifier, self).__init__()\n",
        "    self.model = nn.Sequential(\n",
        "        nn.Linear(input_dim, 512),\n",
        "        nn.ReLU(True),\n",
        "        nn.Linear(512, 2048),\n",
        "        nn.ReLU(True),\n",
        "        nn.Linear(2048, output_dim),\n",
        "        nn.Sigmoid()\n",
        "    )\n",
        "\n",
        "  def forward(self, e):\n",
        "    y = self.model(e)\n",
        "    return y"
      ],
      "metadata": {
        "id": "PRyPZ7fqJhXc"
      },
      "execution_count": 75,
      "outputs": []
    },
    {
      "cell_type": "code",
      "source": [
        "def train_classifier(autoencoder, generator, model, criterion, optimizer, epochs, dataloader, verbose=True):\n",
        "  loss_history = [] \n",
        "  for epoch in range(epochs):\n",
        "    for i, data in enumerate(dataloader, 0): \n",
        "      # Our batch:\n",
        "      inputs, attrs, labels = data\n",
        "      inputs = inputs.squeeze(0)\n",
        "      attrs = attrs.squeeze(0)\n",
        "      labels = labels.squeeze(0)\n",
        "      label_indices = F.one_hot(labels, num_classes=len(all_classes))\n",
        "      inputs = inputs.to(DEVICE)\n",
        "      attrs = attrs.to(DEVICE)\n",
        "\n",
        "      with torch.no_grad():\n",
        "        # Drop decoded value, put encodings into inputs\n",
        "        _, inputs = autoencoder(inputs)\n",
        "\n",
        "        # Replace inputs of unseen classes by synthesized ones\n",
        "        for j, batch_idx in enumerate(label_indices):\n",
        "          for i, label_idx in enumerate(label_indices[j]):\n",
        "            label_idx = label_idx.squeeze().item()\n",
        "            if label_idx in unseen_classes:\n",
        "              noise = ((torch.rand(inputs.shape[1]) - 0.5) / 0.5).unsqueeze(0).unsqueeze(0).to(DEVICE)\n",
        "              attr = attrs[i].unsqueeze(0)\n",
        "              fake_encodings = generator(attr, noise)\n",
        "              inputs[i] = fake_encodings\n",
        "\n",
        "      inputs = inputs.to(DEVICE)\n",
        "      labels = labels.to(torch.float32).to(DEVICE)\n",
        "      # zero the gradients as PyTorch accumulates them\n",
        "      optimizer.zero_grad()\n",
        "      # Obtain the scores\n",
        "      outputs = model(inputs)\n",
        "      # Calculate loss\n",
        "      loss = criterion(outputs.to(DEVICE), labels.to(torch.int64))\n",
        "      # Backpropagate\n",
        "      loss.backward()\n",
        "      # Update the weights\n",
        "      optimizer.step()\n",
        "      loss_history.append(loss.item())\n",
        "    \n",
        "    if verbose: print(f'Epoch {epoch} / {epochs}: avg. loss of last 5 iterations {np.sum(loss_history[:-6:-1])/5}')\n",
        "\n",
        "  return loss_history"
      ],
      "metadata": {
        "id": "P52vdW-OKNjz"
      },
      "execution_count": 76,
      "outputs": []
    },
    {
      "cell_type": "code",
      "source": [
        "# Train the classifier\n",
        "labels_dim = len(all_classes)\n",
        "encoding_dim = 43\n",
        "\n",
        "classifier = Classifier(encoding_dim, labels_dim)\n",
        "criterion = nn.CrossEntropyLoss()\n",
        "optimizer = torch.optim.Adam(classifier.parameters(), lr=1e-4, weight_decay=3e-4)\n",
        "\n",
        "classifier = classifier.to(DEVICE)\n",
        "generator = generator.to(DEVICE)\n",
        "epochs = 20\n",
        "classifier_trainer_loader = DataLoader(task_set, batch_size=1, shuffle=True)\n",
        "classifier_loss_hist = train_classifier(\n",
        "    autoencoder, generator, classifier, criterion, optimizer, epochs, classifier_trainer_loader)"
      ],
      "metadata": {
        "colab": {
          "base_uri": "https://localhost:8080/"
        },
        "id": "tC13VK3CK_Kc",
        "outputId": "0d86140f-a4ff-45ac-8a30-0d64a24f74a8"
      },
      "execution_count": 77,
      "outputs": [
        {
          "output_type": "stream",
          "name": "stdout",
          "text": [
            "Epoch 0 / 20: avg. loss of last 5 iterations 2.9864196300506594\n",
            "Epoch 1 / 20: avg. loss of last 5 iterations 2.9844921112060545\n",
            "Epoch 2 / 20: avg. loss of last 5 iterations 2.976469850540161\n",
            "Epoch 3 / 20: avg. loss of last 5 iterations 2.971938467025757\n",
            "Epoch 4 / 20: avg. loss of last 5 iterations 2.9799551010131835\n",
            "Epoch 5 / 20: avg. loss of last 5 iterations 2.975139045715332\n",
            "Epoch 6 / 20: avg. loss of last 5 iterations 2.973511981964111\n",
            "Epoch 7 / 20: avg. loss of last 5 iterations 2.9783533096313475\n",
            "Epoch 8 / 20: avg. loss of last 5 iterations 2.980174207687378\n",
            "Epoch 9 / 20: avg. loss of last 5 iterations 2.9625845909118653\n",
            "Epoch 10 / 20: avg. loss of last 5 iterations 2.9642796516418457\n",
            "Epoch 11 / 20: avg. loss of last 5 iterations 2.9659432888031008\n",
            "Epoch 12 / 20: avg. loss of last 5 iterations 2.974790096282959\n",
            "Epoch 13 / 20: avg. loss of last 5 iterations 2.972892427444458\n",
            "Epoch 14 / 20: avg. loss of last 5 iterations 2.970254898071289\n",
            "Epoch 15 / 20: avg. loss of last 5 iterations 2.96476731300354\n",
            "Epoch 16 / 20: avg. loss of last 5 iterations 2.9691144943237306\n",
            "Epoch 17 / 20: avg. loss of last 5 iterations 2.964226245880127\n",
            "Epoch 18 / 20: avg. loss of last 5 iterations 2.9629289150238036\n",
            "Epoch 19 / 20: avg. loss of last 5 iterations 2.965802001953125\n"
          ]
        }
      ]
    },
    {
      "cell_type": "code",
      "source": [
        "# Plot classifier loss history\n",
        "plt.plot(classifier_loss_hist)\n",
        "plt.xlabel('Iteration number')\n",
        "plt.ylabel('Loss value')\n",
        "plt.show()"
      ],
      "metadata": {
        "colab": {
          "base_uri": "https://localhost:8080/",
          "height": 279
        },
        "id": "YOZFA3OabMcI",
        "outputId": "3548f216-d97f-49ca-f96d-d09f743f2593"
      },
      "execution_count": 78,
      "outputs": [
        {
          "output_type": "display_data",
          "data": {
            "text/plain": [
              "<Figure size 432x288 with 1 Axes>"
            ],
            "image/png": "[encoded data removed]"
          },
          "metadata": {
            "needs_background": "light"
          }
        }
      ]
    },
    {
      "cell_type": "markdown",
      "source": [
        "# 4. Analysis of the Classifier\n",
        "\n",
        "We will be running the classifier over the test set to see its results."
      ],
      "metadata": {
        "id": "SGz4P536bXJx"
      }
    },
    {
      "cell_type": "code",
      "source": [
        "def test_classifier(autoencoder, generator, model, criterion, optimizer, epochs, dataloader, verbose=True):\n",
        "  with torch.no_grad():\n",
        "    loss_history = []\n",
        "    loss_history_map = defaultdict(list)\n",
        "    for epoch in range(epochs):\n",
        "      for i, data in enumerate(dataloader, 0):  \n",
        "        # Our batch:\n",
        "        inputs, attrs, label_indices, labels = data\n",
        "        inputs = inputs.to(DEVICE)\n",
        "\n",
        "        # Drop decoded value, put encodings into inputs\n",
        "        _, inputs = autoencoder(inputs)\n",
        "\n",
        "        inputs = inputs.to(DEVICE)\n",
        "        labels = labels.to(torch.float32).to(DEVICE)\n",
        "        # Obtain the scores\n",
        "        outputs = model(inputs)\n",
        "        # Calculate loss\n",
        "        loss = criterion(outputs.to(DEVICE), labels)\n",
        "        losses = loss.item()\n",
        "        for label_idx in label_indices:\n",
        "          label_idx = label_idx.squeeze().item()\n",
        "          loss_history_map[label_idx].append(loss.item())\n",
        "        loss_history.append(loss.item())\n",
        "      \n",
        "      if verbose: print(f'Epoch {epoch} / {epochs}: avg. loss of last 5 iterations {np.sum(loss_history[:-6:-1])/5}')\n",
        "\n",
        "  return loss_history, loss_history_map"
      ],
      "metadata": {
        "id": "ymGlqmxfXGNx"
      },
      "execution_count": 79,
      "outputs": []
    },
    {
      "cell_type": "code",
      "source": [
        "# Test the classifier\n",
        "labels_dim = len(all_classes)\n",
        "encoding_dim = 43\n",
        "\n",
        "classifier = Classifier(encoding_dim, labels_dim)\n",
        "criterion = nn.CrossEntropyLoss()\n",
        "\n",
        "classifier = classifier.to(DEVICE)\n",
        "generator = generator.to(DEVICE)\n",
        "epochs = 1\n",
        "classifier_test_loss_hist, classifier_test_loss_hist_map = test_classifier(\n",
        "    autoencoder, generator, classifier, criterion, optimizer, epochs, test_loader)"
      ],
      "metadata": {
        "colab": {
          "base_uri": "https://localhost:8080/"
        },
        "id": "eE1kEuG_bW2g",
        "outputId": "4962a01f-9131-463e-f7dd-151e9a149877"
      },
      "execution_count": 80,
      "outputs": [
        {
          "output_type": "stream",
          "name": "stdout",
          "text": [
            "Epoch 0 / 1: avg. loss of last 5 iterations 3.787090539932251\n"
          ]
        }
      ]
    },
    {
      "cell_type": "code",
      "source": [
        "# Plot classifier loss history\n",
        "plt.plot(classifier_test_loss_hist)\n",
        "plt.xlabel('Iteration number')\n",
        "plt.ylabel('Loss value')\n",
        "plt.show()"
      ],
      "metadata": {
        "colab": {
          "base_uri": "https://localhost:8080/",
          "height": 279
        },
        "id": "YThbiaAQcNST",
        "outputId": "7ae2cbaf-8d0c-4972-b97d-e10d35f80477"
      },
      "execution_count": 81,
      "outputs": [
        {
          "output_type": "display_data",
          "data": {
            "text/plain": [
              "<Figure size 432x288 with 1 Axes>"
            ],
            "image/png": "[encoded data removed]"
          },
          "metadata": {
            "needs_background": "light"
          }
        }
      ]
    },
    {
      "cell_type": "code",
      "source": [
        "# Calculate average loss per class\n",
        "seen_avg_loss_map = dict()\n",
        "seen_losses = []\n",
        "unseen_avg_loss_map = dict()\n",
        "unseen_losses = []\n",
        "for key, val in classifier_test_loss_hist_map.items():\n",
        "  val = np.mean(val)\n",
        "  if key in seen_classes:\n",
        "    seen_avg_loss_map[key] = val\n",
        "    seen_losses.append(val)\n",
        "  else:\n",
        "    unseen_avg_loss_map[key] = val\n",
        "    unseen_losses.append(val)\n",
        "\n",
        "print('Seen losses mean:', np.mean(seen_losses), 'standard deviation:', np.std(seen_losses), 'max:', np.max(seen_losses), 'min', np.min(seen_losses))\n",
        "print('Unseen losses mean:', np.mean(unseen_losses), 'standard deviation:', np.std(unseen_losses), 'max:', np.max(unseen_losses), 'min', np.min(unseen_losses))"
      ],
      "metadata": {
        "colab": {
          "base_uri": "https://localhost:8080/"
        },
        "id": "vRqqqeCGjJJi",
        "outputId": "8635beac-f476-488e-bf9c-577fe38a1298"
      },
      "execution_count": 82,
      "outputs": [
        {
          "output_type": "stream",
          "name": "stdout",
          "text": [
            "Seen losses mean: 3.913821505812004 standard deviation: 0.00593848726435913 max: 3.9256053450246338 min 3.9037706295245793\n",
            "Unseen losses mean: 3.9139209045849923 standard deviation: 0.08892557397426519 max: 4.081586938075737 min 3.8032201988752496\n"
          ]
        }
      ]
    },
    {
      "cell_type": "markdown",
      "source": [
        "# 5. Conclusion\n",
        "\n",
        "We were not able to fully implement the paper but we approximated the overall approach. The GAN seems to be the bottleneck to better performance here.\n",
        "\n",
        "However, there is one thing to note here. That is, we constructed the test set such that seen classes come before unseen classes. That means if we look at the graph above, classification of the unseen classes have higher variance than seen classes but can achieve better performance. \n",
        "\n",
        "The lows tend to be lower and the highs tend to be higher but on the average unseen classes did not perform worse than seen classes. Which should mean that we accomplished zero shot learning.\n",
        "\n",
        "The results would have been better with hyperparameter tuning but I did not have the opportunity."
      ],
      "metadata": {
        "id": "O00p--9fkmp0"
      }
    }
  ]
}