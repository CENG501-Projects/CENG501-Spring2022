{
 "cells": [
  {
   "cell_type": "code",
   "execution_count": 1,
   "id": "749cf8ab-d35c-42ed-83c3-6a564fd92379",
   "metadata": {},
   "outputs": [
    {
     "name": "stdout",
     "output_type": "stream",
     "text": [
      "Cuda (GPU support) is available and enabled!\n"
     ]
    }
   ],
   "source": [
    "import numpy as np\n",
    "#from modules import AttentionBlock\n",
    "import torch\n",
    "import os\n",
    "\n",
    "from PIL import Image\n",
    "import matplotlib.pyplot as plt\n",
    "from torchvision.models.feature_extraction import get_graph_node_names, create_feature_extractor\n",
    "from torchvision import transforms\n",
    "from torch.utils.data import Dataset, DataLoader, TensorDataset\n",
    "import torch.nn.functional as F\n",
    "import glob\n",
    "from stage_1_models import AttentionBlock, Stage1, DiceLoss\n",
    "from torchsummary import summary\n",
    "import pickle\n",
    "device = torch.device(\"cpu\")\n",
    "\n",
    "if torch.cuda.is_available():\n",
    "  print(\"Cuda (GPU support) is available and enabled!\")\n",
    "  device = torch.device(\"cuda\")\n",
    "else:\n",
    "  print(\"Cuda (GPU support) is not available :(\")\n",
    "  device = torch.device(\"cpu\")"
   ]
  },
  {
   "cell_type": "code",
   "execution_count": 2,
   "id": "c9fa5088-8d7d-4dca-a865-a242f238acc9",
   "metadata": {},
   "outputs": [
    {
     "name": "stderr",
     "output_type": "stream",
     "text": [
      "Using cache found in /home/umut/.cache/torch/hub/NVIDIA_DeepLearningExamples_torchhub\n",
      "/home/umut/.cache/torch/hub/NVIDIA_DeepLearningExamples_torchhub/PyTorch/Classification/ConvNets/image_classification/models/common.py:13: UserWarning: pytorch_quantization module not found, quantization will not be available\n",
      "  warnings.warn(\n",
      "/home/umut/.cache/torch/hub/NVIDIA_DeepLearningExamples_torchhub/PyTorch/Classification/ConvNets/image_classification/models/efficientnet.py:17: UserWarning: pytorch_quantization module not found, quantization will not be available\n",
      "  warnings.warn(\n",
      "Using cache found in /home/umut/.cache/torch/hub/NVIDIA_DeepLearningExamples_torchhub\n"
     ]
    }
   ],
   "source": [
    "resnet50 = torch.hub.load('NVIDIA/DeepLearningExamples:torchhub', 'nvidia_resnet50', pretrained=True)\n",
    "utils = torch.hub.load('NVIDIA/DeepLearningExamples:torchhub', 'nvidia_convnets_processing_utils')\n",
    "\n",
    "resnet50.eval().to(device)\n",
    "resnet50 = resnet50.to(device)"
   ]
  },
  {
   "cell_type": "code",
   "execution_count": 3,
   "id": "593ede13-27bb-4739-b4ce-121f412dfc01",
   "metadata": {},
   "outputs": [],
   "source": [
    "class Stage1Dataset(Dataset):\n",
    "  def __init__(self, train_folder):\n",
    "\n",
    "    self.dirs = []\n",
    "    self.lengths = []\n",
    "    self.N = 0\n",
    "\n",
    "    for dir in os.listdir(train_folder):\n",
    "      # take the subfolders\n",
    "      self.dirs.append(os.path.join(train_folder, dir))\n",
    "      self.lengths.append(len(os.listdir(os.path.join(train_folder, dir) + \"/rgb\")))\n",
    "      self.N += self.lengths[-1]\n",
    "\n",
    "\n",
    "  # Find the correct folder and file name given index\n",
    "  def find_index(self, idx):\n",
    "    temp = idx\n",
    "    for i in range(len(self.dirs)):\n",
    "      if temp < self.lengths[i]:\n",
    "        return self.dirs[i], temp\n",
    "      temp -= self.lengths[i]\n",
    "\n",
    "\n",
    "  def __len__(self):\n",
    "    return self.N\n",
    "\n",
    "  def __getitem__(self, idx):\n",
    "    fold, file = self.find_index(idx)\n",
    "\n",
    "    img = Image.open(os.path.join(fold, \"rgb\") + \"/\" + str(file).zfill(4) + \".png\").resize((480,640))\n",
    "    convert_tensor = transforms.Compose([transforms.ToTensor(), transforms.Resize((480, 640))])\n",
    "\n",
    "    image = convert_tensor(img)\n",
    "    return image"
   ]
  },
  {
   "cell_type": "code",
   "execution_count": 4,
   "id": "300dd0a4-3c19-454c-ba1a-0cb91c97fcaf",
   "metadata": {},
   "outputs": [],
   "source": [
    "rgb_folder = \"/home/umut/Desktop/501/dataset/T-LESS/t-less_v2/train_primesense/\"\n",
    "\n",
    "dataset = Stage1Dataset(rgb_folder)"
   ]
  },
  {
   "cell_type": "code",
   "execution_count": 5,
   "id": "c89168ba-2041-4929-8325-81dcf47d2b7b",
   "metadata": {},
   "outputs": [],
   "source": [
    "nodes, _ = get_graph_node_names(resnet50)\n",
    "\n",
    "return_nodes = {\n",
    "    'layers.0.0.downsample.1': 'layer1',\n",
    "    'layers.1.0.downsample.1': 'layer2',\n",
    "    'layers.2.0.downsample.1': 'layer3'\n",
    "}\n",
    "\n",
    "extractor = create_feature_extractor(resnet50, return_nodes=return_nodes)"
   ]
  },
  {
   "cell_type": "code",
   "execution_count": 6,
   "id": "f5413f6b-2105-4798-97cd-68885f9cfabe",
   "metadata": {},
   "outputs": [],
   "source": [
    "def get_spatial_average(val):\n",
    "    print(val.shape)\n",
    "    val = torch.mean(val, dim=3)\n",
    "    val = torch.mean(val, dim=2)\n",
    "    diff = torch.mean(val, dim=1)\n",
    "\n",
    "    res = val - diff\n",
    "\n",
    "    return res"
   ]
  },
  {
   "cell_type": "code",
   "execution_count": null,
   "id": "e68b4a0d-b8c3-47a5-b676-014f8dbea1ac",
   "metadata": {},
   "outputs": [],
   "source": [
    "features_dict = None\n",
    "with open('data/features.pkl', 'rb') as f:\n",
    "    features_dict = pickle.load(f)\n",
    "features = {}\n",
    "features[\"o1\"] = features_dict[\"layer1\"]\n",
    "features[\"o2\"] = features_dict[\"layer2\"]\n",
    "features[\"o3\"] = features_dict[\"layer3\"]\n",
    "\n",
    "model = Stage1(features, extractor, resnet50)\n",
    "model = model.to(device)\n",
    "summary(model, input_size=[(256,120,160), (512, 60, 80), (1024, 30, 40)], device=\"cuda\")"
   ]
  },
  {
   "cell_type": "code",
   "execution_count": 22,
   "id": "5d48d7cd-2a61-447f-8c6c-3c4424234603",
   "metadata": {},
   "outputs": [],
   "source": [
    "# Your implementation comes here\n",
    "def train(model, criterion, optimizer, epochs, dataloader, verbose=True):\n",
    "  \"\"\"\n",
    "    Define the trainer function. We can use this for training any model.\n",
    "    The parameter names are self-explanatory.\n",
    "\n",
    "    Returns: the loss history.\n",
    "  \"\"\"\n",
    "  loss_history = []\n",
    "\n",
    "  for epoch in range(epochs):\n",
    "    for i, data in enumerate(dataloader, 0):    \n",
    "      \n",
    "      # Our batch:\n",
    "      inputs, labels = data\n",
    "      inputs = inputs.to(device)\n",
    "      labels = labels.to(device)\n",
    "\n",
    "      # zero the gradients as PyTorch accumulates them\n",
    "      optimizer.zero_grad()\n",
    "      input_features = model.extractor(inputs)\n",
    "        \n",
    "      # Obtain the scores\n",
    "      outputs = model(input_features[\"layer1\"], input_features[\"layer2\"], input_features[\"layer3\"])\n",
    "\n",
    "      # Calculate loss\n",
    "      loss = criterion(outputs.to(device), labels)\n",
    "\n",
    "      # Backpropagate\n",
    "      loss.backward()\n",
    "\n",
    "      # Update the weights\n",
    "      optimizer.step()\n",
    "\n",
    "      loss_history.append(loss.item())\n",
    "    if epoch % 100 == 0:\n",
    "        torch.save(model, model_path + \"train_\" + str(epoch) + \".pth\")\n",
    "        with open(model_path + \"hist_\" + str(epoch) + \".txt\", \"w\") as f:\n",
    "            f.write(str(loss_history))\n",
    "    if verbose: \n",
    "      print(f'Epoch {epoch} / {epochs}: avg. loss of last 5 iterations {np.sum(loss_history[:-6:-1])/5}')\n",
    "\n",
    "  return model, loss_history"
   ]
  },
  {
   "cell_type": "code",
   "execution_count": null,
   "id": "db609c55-d695-4b85-85d3-6f210fd1b867",
   "metadata": {},
   "outputs": [],
   "source": [
    "loss = DiceLoss()\n",
    "model = Stage1(features, extractor, resnet50)\n",
    "optim = torch.optim.Adam(model.parameters(), lr=2e-4)\n",
    "dataloader = torch.utils.data.DataLoader(dataset, batch_size=32, shuffle=True, num_workers=10)\n",
    "train_model = True\n",
    "\n",
    "if train_model:\n",
    "    model, loss_history = train(model, loss, optim, 100, dataloader)\n",
    "else:\n",
    "    model = torch.load(model_path + \"train.pth\")"
   ]
  }
 ],
 "metadata": {
  "kernelspec": {
   "display_name": "Python 3 (ipykernel)",
   "language": "python",
   "name": "python3"
  },
  "language_info": {
   "codemirror_mode": {
    "name": "ipython",
    "version": 3
   },
   "file_extension": ".py",
   "mimetype": "text/x-python",
   "name": "python",
   "nbconvert_exporter": "python",
   "pygments_lexer": "ipython3",
   "version": "3.9.13"
  }
 },
 "nbformat": 4,
 "nbformat_minor": 5
}
