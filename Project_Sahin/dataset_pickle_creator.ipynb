{
 "cells": [
  {
   "cell_type": "code",
   "execution_count": 2,
   "id": "376cd574-d5f3-4af8-9699-c89c613acf12",
   "metadata": {},
   "outputs": [],
   "source": [
    "import os\n",
    "import pickle"
   ]
  },
  {
   "cell_type": "code",
   "execution_count": 3,
   "id": "91840f60-e8a0-4fb0-bc1a-d5d6881683ff",
   "metadata": {},
   "outputs": [],
   "source": [
    "path = '/home/mehmet/Desktop/DL/data/render'"
   ]
  },
  {
   "cell_type": "code",
   "execution_count": 4,
   "id": "c5fd79b3-6d6b-4554-9c19-5dd2f3f24036",
   "metadata": {},
   "outputs": [],
   "source": [
    "list1 = os.listdir(path)"
   ]
  },
  {
   "cell_type": "code",
   "execution_count": 5,
   "id": "2fbaaf88-4340-4b53-b14a-6d5214c1ff8e",
   "metadata": {},
   "outputs": [],
   "source": [
    "list2 = []\n",
    "for patch in list1:\n",
    "    new_path = path +\"/\"+ patch +\"/\"+ \"rendering\"\n",
    "    list2.append(new_path)"
   ]
  },
  {
   "cell_type": "code",
   "execution_count": 6,
   "id": "45c3162e-7ac8-43c4-96b1-344e677f6652",
   "metadata": {},
   "outputs": [],
   "source": [
    "list3 = []\n",
    "for folder in list2:\n",
    "    image_filenames = os.listdir(folder)\n",
    "    image_filenames = [folder + \"/\" + img for img in image_filenames if \".png\" in img]\n",
    "    list3 += image_filenames"
   ]
  },
  {
   "cell_type": "code",
   "execution_count": 7,
   "id": "11f84358-86a6-4e83-884c-91c7d984a71f",
   "metadata": {},
   "outputs": [],
   "source": [
    "train_img = list3[:80000]\n",
    "test_img = list3[-20000:]"
   ]
  },
  {
   "cell_type": "code",
   "execution_count": 8,
   "id": "f559d68f-ec11-42c2-b472-86916689dcc7",
   "metadata": {},
   "outputs": [],
   "source": [
    "with open(\"train_img_mini\", \"wb\") as f:\n",
    "    pickle.dump(train_img, f)"
   ]
  },
  {
   "cell_type": "code",
   "execution_count": 17,
   "id": "cebd8d25-0435-4bcd-9a3f-092d1c1cc4ff",
   "metadata": {},
   "outputs": [],
   "source": [
    "with open(\"test_img_mini\", \"wb\") as f:\n",
    "    pickle.dump(test_img, f)"
   ]
  },
  {
   "cell_type": "code",
   "execution_count": 24,
   "id": "0006fc9d-9857-46c6-a919-eabb7d668eec",
   "metadata": {},
   "outputs": [],
   "source": [
    "list4 = []\n",
    "for patch in list1:\n",
    "    for i in range(24):\n",
    "        new_path = path +\"/\"+ patch +\"/\"+ \"model.binvox\"\n",
    "        list5.append(new_path)\n",
    "        "
   ]
  },
  {
   "cell_type": "code",
   "execution_count": 26,
   "id": "dad98a09-3716-455e-9494-b0757e5a5dea",
   "metadata": {},
   "outputs": [],
   "source": [
    "train_vox = list5[:80000]"
   ]
  },
  {
   "cell_type": "code",
   "execution_count": 31,
   "id": "7a31b652-2775-4464-975e-8641c7f17f48",
   "metadata": {},
   "outputs": [],
   "source": [
    "test_vox = list5[-20000:]"
   ]
  },
  {
   "cell_type": "code",
   "execution_count": null,
   "id": "4d8e6875-fad5-4a2c-a77d-0aacc067d4de",
   "metadata": {},
   "outputs": [],
   "source": [
    "with open(\"train_vox_mini\", \"wb\") as f:\n",
    "    pickle.dump(train_vox, f)"
   ]
  },
  {
   "cell_type": "code",
   "execution_count": 32,
   "id": "d9ede445-9051-4ebe-9209-33236a928676",
   "metadata": {},
   "outputs": [],
   "source": [
    "with open(\"test_vox_mini\", \"wb\") as f:\n",
    "    pickle.dump(test_vox, f)"
   ]
  }
 ],
 "metadata": {
  "kernelspec": {
   "display_name": "Python 3 (ipykernel)",
   "language": "python",
   "name": "python3"
  },
  "language_info": {
   "codemirror_mode": {
    "name": "ipython",
    "version": 3
   },
   "file_extension": ".py",
   "mimetype": "text/x-python",
   "name": "python",
   "nbconvert_exporter": "python",
   "pygments_lexer": "ipython3",
   "version": "3.10.4"
  }
 },
 "nbformat": 4,
 "nbformat_minor": 5
}
