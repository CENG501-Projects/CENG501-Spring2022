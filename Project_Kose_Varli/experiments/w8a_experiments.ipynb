{
  "nbformat": 4,
  "nbformat_minor": 0,
  "metadata": {
    "colab": {
      "name": "SMG-w8a",
      "provenance": [],
      "collapsed_sections": [],
      "toc_visible": true,
      "include_colab_link": true
    },
    "kernelspec": {
      "name": "python3",
      "display_name": "Python 3"
    },
    "language_info": {
      "name": "python"
    },
    "accelerator": "GPU",
    "gpuClass": "standard"
  },
  "cells": [
    {
      "cell_type": "markdown",
      "metadata": {
        "id": "view-in-github",
        "colab_type": "text"
      },
      "source": [
        "<a href=\"https://colab.research.google.com/github/yigitv4rli/CENG501-Spring2022/blob/main/Project_Kose_Varli/experiments/w8a_experiments.ipynb\" target=\"_parent\"><img src=\"https://colab.research.google.com/assets/colab-badge.svg\" alt=\"Open In Colab\"/></a>"
      ]
    },
    {
      "cell_type": "code",
      "execution_count": 1,
      "metadata": {
        "colab": {
          "base_uri": "https://localhost:8080/"
        },
        "id": "e8Ws6EERU5Jh",
        "outputId": "2fe5296a-efc2-4952-f07b-1ae9de320b80"
      },
      "outputs": [
        {
          "output_type": "stream",
          "name": "stdout",
          "text": [
            "Mounted at /content/gdrive\n",
            "--2022-07-06 21:54:18--  https://www.csie.ntu.edu.tw/~cjlin/libsvmtools/datasets/binary/w8a\n",
            "Resolving www.csie.ntu.edu.tw (www.csie.ntu.edu.tw)... 140.112.30.26\n",
            "Connecting to www.csie.ntu.edu.tw (www.csie.ntu.edu.tw)|140.112.30.26|:443... connected.\n",
            "HTTP request sent, awaiting response... 200 OK\n",
            "Length: 3478238 (3.3M)\n",
            "Saving to: ‘w8a’\n",
            "\n",
            "w8a                 100%[===================>]   3.32M  7.95MB/s    in 0.4s    \n",
            "\n",
            "2022-07-06 21:54:19 (7.95 MB/s) - ‘w8a’ saved [3478238/3478238]\n",
            "\n",
            "--2022-07-06 21:54:19--  https://www.csie.ntu.edu.tw/~cjlin/libsvmtools/datasets/binary/w8a.t\n",
            "Resolving www.csie.ntu.edu.tw (www.csie.ntu.edu.tw)... 140.112.30.26\n",
            "Connecting to www.csie.ntu.edu.tw (www.csie.ntu.edu.tw)|140.112.30.26|:443... connected.\n",
            "HTTP request sent, awaiting response... 200 OK\n",
            "Length: 1045870 (1021K) [text/troff]\n",
            "Saving to: ‘w8a.t’\n",
            "\n",
            "w8a.t               100%[===================>]   1021K  3.17MB/s    in 0.3s    \n",
            "\n",
            "2022-07-06 21:54:20 (3.17 MB/s) - ‘w8a.t’ saved [1045870/1045870]\n",
            "\n",
            "--2022-07-06 21:54:20--  https://www.csie.ntu.edu.tw/~cjlin/libsvmtools/datasets/binary/ijcnn1.tr.bz2\n",
            "Resolving www.csie.ntu.edu.tw (www.csie.ntu.edu.tw)... 140.112.30.26\n",
            "Connecting to www.csie.ntu.edu.tw (www.csie.ntu.edu.tw)|140.112.30.26|:443... connected.\n",
            "HTTP request sent, awaiting response... 200 OK\n",
            "Length: 964465 (942K) [application/x-bzip2]\n",
            "Saving to: ‘ijcnn1.tr.bz2’\n",
            "\n",
            "ijcnn1.tr.bz2       100%[===================>] 941.86K  3.17MB/s    in 0.3s    \n",
            "\n",
            "2022-07-06 21:54:20 (3.17 MB/s) - ‘ijcnn1.tr.bz2’ saved [964465/964465]\n",
            "\n",
            "--2022-07-06 21:54:20--  https://www.csie.ntu.edu.tw/~cjlin/libsvmtools/datasets/binary/ijcnn1.t.bz2\n",
            "Resolving www.csie.ntu.edu.tw (www.csie.ntu.edu.tw)... 140.112.30.26\n",
            "Connecting to www.csie.ntu.edu.tw (www.csie.ntu.edu.tw)|140.112.30.26|:443... connected.\n",
            "HTTP request sent, awaiting response... 200 OK\n",
            "Length: 2597597 (2.5M) [application/x-bzip2]\n",
            "Saving to: ‘ijcnn1.t.bz2’\n",
            "\n",
            "ijcnn1.t.bz2        100%[===================>]   2.48M  6.86MB/s    in 0.4s    \n",
            "\n",
            "2022-07-06 21:54:21 (6.86 MB/s) - ‘ijcnn1.t.bz2’ saved [2597597/2597597]\n",
            "\n",
            "--2022-07-06 21:54:21--  https://www.csie.ntu.edu.tw/~cjlin/libsvmtools/datasets/binary/ijcnn1.val.bz2\n",
            "Resolving www.csie.ntu.edu.tw (www.csie.ntu.edu.tw)... 140.112.30.26\n",
            "Connecting to www.csie.ntu.edu.tw (www.csie.ntu.edu.tw)|140.112.30.26|:443... connected.\n",
            "HTTP request sent, awaiting response... 200 OK\n",
            "Length: 429604 (420K) [application/x-bzip2]\n",
            "Saving to: ‘ijcnn1.val.bz2’\n",
            "\n",
            "ijcnn1.val.bz2      100%[===================>] 419.54K  2.28MB/s    in 0.2s    \n",
            "\n",
            "2022-07-06 21:54:21 (2.28 MB/s) - ‘ijcnn1.val.bz2’ saved [429604/429604]\n",
            "\n"
          ]
        }
      ],
      "source": [
        "# import libraries here\n",
        "import torch \n",
        "import math\n",
        "import json\n",
        "import pandas as pd\n",
        "import random\n",
        "import torch.nn as nn\n",
        "import matplotlib.pyplot as plt\n",
        "import numpy as np\n",
        "import torchvision \n",
        "import torchvision.transforms as transforms\n",
        "import torch.optim as optim\n",
        "from torch.utils.data import DataLoader\n",
        "from google.colab import drive\n",
        "\n",
        "torch.backends.cudnn.deterministic = True\n",
        "torch.backends.cudnn.benchmark = False\n",
        "seed_alg = random.randint(0,100)\n",
        "torch.manual_seed(seed_alg)\n",
        "drive.mount('/content/gdrive')\n",
        "\n",
        "! wget https://www.csie.ntu.edu.tw/~cjlin/libsvmtools/datasets/binary/w8a\n",
        "! wget https://www.csie.ntu.edu.tw/~cjlin/libsvmtools/datasets/binary/w8a.t\n",
        "! wget https://www.csie.ntu.edu.tw/~cjlin/libsvmtools/datasets/binary/ijcnn1.tr.bz2\n",
        "! wget https://www.csie.ntu.edu.tw/~cjlin/libsvmtools/datasets/binary/ijcnn1.t.bz2\n",
        "! wget https://www.csie.ntu.edu.tw/~cjlin/libsvmtools/datasets/binary/ijcnn1.val.bz2\n",
        "! bunzip2 ijcnn1.tr.bz2\n",
        "! bunzip2 ijcnn1.t.bz2\n",
        "! bunzip2 ijcnn1.val.bz2"
      ]
    },
    {
      "cell_type": "markdown",
      "source": [
        "# Utility Functions\n",
        "\n",
        "This section includes utility functions for overall model\n",
        "1. Learning Schedulers\n",
        "2. Data Loaders\n",
        "3. Train and Test Accuracy\n",
        "4. Result Saving\n",
        "5. Plotting"
      ],
      "metadata": {
        "id": "Ir5xs3XRco95"
      }
    },
    {
      "cell_type": "code",
      "source": [
        "# scheduler functions\n",
        "def constant_learning_rate_scheduler(lr):\n",
        "    def scheduler(_):\n",
        "        return lr\n",
        "    return scheduler\n",
        "\n",
        "def cosine_learning_rate_scheduler(lr, epoch_count):\n",
        "    def scheduler(current_epoch):\n",
        "        return lr * (1 + math.cos(current_epoch * math.pi / epoch_count))\n",
        "    return scheduler\n",
        "\n",
        "def diminishing_learning_rate_scheduler(lr, alpha):\n",
        "    def scheduler(current_epoch):\n",
        "        return lr / ((current_epoch + alpha) ** (1/3))\n",
        "    return scheduler\n",
        "\n",
        "def exponential_learning_rate_scheduler(lr, alpha):\n",
        "    def scheduler(current_epoch):\n",
        "        return lr * (alpha ** current_epoch)\n",
        "    return scheduler\n",
        "\n",
        "def save_history_json(file_name, history):\n",
        "  with open(file_name, \"w\") as out:\n",
        "    json.dump(history, out)"
      ],
      "metadata": {
        "id": "0P-PJF1Uca_a"
      },
      "execution_count": null,
      "outputs": []
    },
    {
      "cell_type": "code",
      "source": [
        "# data loaders for cifar10 and fashionmnist\n",
        "def create_w8a_row(line):\n",
        "    row = [0] * 300\n",
        "\n",
        "    for non_zero in line[1:]:\n",
        "        loc, value = non_zero.split(\":\")\n",
        "        loc, value = int(loc), float(value)\n",
        "        row[loc-1] = value\n",
        "    return row\n",
        "\n",
        "\n",
        "def w8a_data_create():\n",
        "    w8a_x_train, w8a_y_train = list(), list()\n",
        "    with open(\"w8a\", \"r\") as f:\n",
        "        lines = f.readlines()\n",
        "\n",
        "        for line in lines:\n",
        "            line = line.strip().split()\n",
        "            w8a_y_train.append(float(line[0]))\n",
        "            row = create_w8a_row(line)\n",
        "            w8a_x_train.append(row)\n",
        "\n",
        "    w8a_x_test, w8a_y_test = list(), list()\n",
        "    with open(\"w8a.t\", \"r\") as f:\n",
        "        lines = f.readlines()\n",
        "\n",
        "        for line in lines:\n",
        "            line = line.strip().split()\n",
        "            w8a_y_test.append(float(line[0]))\n",
        "            row = create_w8a_row(line)\n",
        "            w8a_x_test.append(row)\n",
        "\n",
        "    return w8a_x_train, w8a_y_train, w8a_x_test, w8a_y_test\n",
        "\n",
        "def w8a_data_loader(X_train, Y_train, X_test, Y_test, batch_size, ssmg):\n",
        "    transform = transforms.Compose([transforms.ToTensor()])\n",
        "    \n",
        "    train_set = torch.utils.data.TensorDataset(X_train, Y_train)\n",
        "    train_loader = torch.utils.data.DataLoader(train_set, batch_size=batch_size, shuffle=True)\n",
        "\n",
        "    # a check if the loader is called for Single Shuffling Momentum Gradient (SSMG)\n",
        "    # we do shuffling once at the beginning then we create the train loader\n",
        "    if ssmg:\n",
        "        shuffled_set = torch.utils.data.Subset(train_set, torch.randperm(len(train_set)))\n",
        "        train_loader = torch.utils.data.DataLoader(shuffled_set, batch_size=batch_size,\n",
        "                                            shuffle=False, num_workers=2)\n",
        "\n",
        "    test_set = torch.utils.data.TensorDataset(X_test, Y_test)\n",
        "    test_loader = torch.utils.data.DataLoader(test_set, batch_size=batch_size, shuffle=False)\n",
        "\n",
        "    return train_loader, test_loader\n",
        "\n",
        "w8a_x_train, w8a_y_train, w8a_x_test, w8a_y_test = w8a_data_create()\n",
        "w8a_X_train, w8a_Y_train = torch.Tensor(w8a_x_train), torch.Tensor(w8a_y_train)\n",
        "w8a_X_test, w8a_Y_test = torch.Tensor(w8a_x_test), torch.Tensor(w8a_y_test)\n",
        "w8a_X_train = torch.reshape(w8a_X_train, (w8a_X_train.shape[0], w8a_X_train.shape[1], 1))\n",
        "w8a_Y_train = torch.reshape(w8a_Y_train, (w8a_Y_train.shape[0], 1))\n",
        "\n",
        "w8a_X_test = torch.reshape(w8a_X_test, (w8a_X_test.shape[0], w8a_X_test.shape[1], 1))\n",
        "w8a_Y_test = torch.reshape(w8a_Y_test, (w8a_Y_test.shape[0], 1))\n",
        "\n",
        "# loaders for w8a\n",
        "w8a_train_loader, w8a_test_loader = w8a_data_loader(w8a_X_train, w8a_Y_train, w8a_X_test, w8a_Y_test, 128, False)"
      ],
      "metadata": {
        "id": "5AT_ORoRcl03"
      },
      "execution_count": null,
      "outputs": []
    },
    {
      "cell_type": "code",
      "source": [
        "def create_ijcnn1_row(line):\n",
        "    row = [0] * 22\n",
        "    \n",
        "    for non_zero in line[1:]:\n",
        "        loc, value = non_zero.split(\":\")\n",
        "        loc, value = int(loc), float(value)\n",
        "        row[loc-1] = value\n",
        "    return row\n",
        "\n",
        "def ijcnn1_data_create():\n",
        "    ijcnn1_x_train, ijcnn1_y_train = list(), list()\n",
        "    with open(\"ijcnn1.tr\", \"r\") as f:\n",
        "        lines = f.readlines()\n",
        "\n",
        "        for line in lines:\n",
        "            line = line.strip().split()\n",
        "            row = create_ijcnn1_row(line)\n",
        "            ijcnn1_x_train.append(row)\n",
        "            ijcnn1_y_train.append(float(line[0]))\n",
        "    \n",
        "    with open(\"ijcnn1.val\", \"r\") as f:\n",
        "        lines = f.readlines()\n",
        "\n",
        "        for line in lines:\n",
        "            line = line.strip().split()\n",
        "            row = create_ijcnn1_row(line)\n",
        "            ijcnn1_x_train.append(row)\n",
        "            ijcnn1_y_train.append(float(line[0]))\n",
        "\n",
        "    ijcnn1_x_test, ijcnn1_y_test = list(), list()\n",
        "    with open(\"ijcnn1.t\", \"r\") as f:\n",
        "        lines = f.readlines()\n",
        "\n",
        "        for line in lines:\n",
        "            line = line.strip().split()\n",
        "            row = create_ijcnn1_row(line)\n",
        "            ijcnn1_x_test.append(row)\n",
        "            ijcnn1_y_test.append(float(line[0]))\n",
        "    \n",
        "    return ijcnn1_x_train, ijcnn1_y_train, ijcnn1_x_test, ijcnn1_y_test\n",
        "\n",
        "def ijcnn1_data_loader(X_train, Y_train, X_test, Y_test, batch_size, ssmg):\n",
        "    transform = transforms.Compose([transforms.ToTensor()])\n",
        "    \n",
        "    train_set = torch.utils.data.TensorDataset(X_train, Y_train)\n",
        "    train_loader = torch.utils.data.DataLoader(train_set, batch_size=batch_size, shuffle=True)\n",
        "\n",
        "    # a check if the loader is called for Single Shuffling Momentum Gradient (SSMG)\n",
        "    # we do shuffling once at the beginning then we create the train loader\n",
        "    if ssmg:\n",
        "        shuffled_set = torch.utils.data.Subset(train_set, torch.randperm(len(train_set)))\n",
        "        train_loader = torch.utils.data.DataLoader(shuffled_set, batch_size=batch_size,\n",
        "                                            shuffle=False, num_workers=2)\n",
        "\n",
        "    test_set = torch.utils.data.TensorDataset(X_test, Y_test)\n",
        "    test_loader = torch.utils.data.DataLoader(test_set, batch_size=batch_size, shuffle=False)\n",
        "\n",
        "    return train_loader, test_loader\n",
        " \n",
        "ijcnn1_x_train, ijcnn1_y_train, ijcnn1_x_test, ijcnn1_y_test = ijcnn1_data_create()\n",
        "ijcnn1_X_train, ijcnn1_Y_train = torch.Tensor(ijcnn1_x_train), torch.Tensor(ijcnn1_y_train)\n",
        "ijcnn1_X_test, ijcnn1_Y_test = torch.Tensor(ijcnn1_x_test), torch.Tensor(ijcnn1_y_test)\n",
        "\n",
        "# loaders for ijcnn1\n",
        "ijcnn1_train_loader, ijcnn1_test_loader = ijcnn1_data_loader(ijcnn1_X_train, ijcnn1_Y_train, ijcnn1_X_test, ijcnn1_Y_test, 128, False)"
      ],
      "metadata": {
        "id": "FUjYX6SExfli"
      },
      "execution_count": null,
      "outputs": []
    },
    {
      "cell_type": "code",
      "source": [
        "def train_and_test_accuracy(model, train_loader, test_loader):\n",
        "    total, correct = 0, 0\n",
        "    with torch.no_grad():\n",
        "        for data in test_loader:\n",
        "            images, labels = data\n",
        "            images = images.to(device)\n",
        "            labels = labels.to(device) # 128-1 -1 veya 1\n",
        "            predicted = torch.zeros(labels.shape)\n",
        "            outputs = model(images) #128 - 1 scores\n",
        "            for i, b in enumerate(outputs):\n",
        "              if b < 0:\n",
        "                predicted[i] = -1\n",
        "              else:\n",
        "                predicted[i] = 1\n",
        "            total += labels.size(0)\n",
        "            correct += (predicted == labels).sum().item()\n",
        "    \n",
        "    test_accuracy = 100 * correct / total\n",
        "\n",
        "    total, correct = 0, 0\n",
        "    with torch.no_grad():\n",
        "        for data in train_loader:\n",
        "            images, labels = data\n",
        "            images = images.to(device)\n",
        "            labels = labels.to(device)\n",
        "            predicted = torch.zeros(labels.shape)\n",
        "            outputs = model(images)\n",
        "            for i, b in enumerate(outputs):\n",
        "              if b < 0:\n",
        "                predicted[i] = -1\n",
        "              else:\n",
        "                predicted[i] = 1\n",
        "            total += labels.size(0)\n",
        "            correct += (predicted == labels).sum().item()\n",
        "    \n",
        "    train_accuracy = 100 * correct / total\n",
        "\n",
        "    return train_accuracy, test_accuracy\n"
      ],
      "metadata": {
        "id": "qrYWoX8xc7dR"
      },
      "execution_count": null,
      "outputs": []
    },
    {
      "cell_type": "code",
      "source": [
        "def plot_loss(history):\n",
        "    plt.legend(fontsize = 18)\n",
        "    plt.xticks(size = 18)\n",
        "    plt.yticks(size = 18)\n",
        "    plt.xlabel('Number of effective passes', fontsize = 25)\n",
        "    plt.ylabel('Train Loss', fontsize = 25)\n",
        "    plt.yscale('log')\n",
        "    loss_history = history['loss_history']\n",
        "    x = [i for i in range(3,50, 3)]\n",
        "    y = [np.sum(loss_history[y:y+3])/3 for y in range(0,47,3)]\n",
        "    plt.plot(x, y, '-ok', color='blue')\n",
        "    plt.show()\n",
        "\n",
        "def plot_norm_square_grad(history):\n",
        "    plt.xticks(size = 18)\n",
        "    plt.yticks(size = 18)\n",
        "    plt.xlabel('Number of effective passes', fontsize = 18)\n",
        "    plt.ylabel('Grad loss', fontsize = 18)\n",
        "    plt.yscale('log')\n",
        "    grad_history = history['grad_history']\n",
        "    x = [i for i in range(3,50, 3)]\n",
        "    y = [np.sum(grad_history[y:y+3])/3 for y in range(0,47,3)]\n",
        "    plt.plot(x, y, '-ok', color='red')\n",
        "    plt.show()"
      ],
      "metadata": {
        "id": "bEql9BSzc-n_"
      },
      "execution_count": 5,
      "outputs": []
    },
    {
      "cell_type": "markdown",
      "source": [
        "# Network\n"
      ],
      "metadata": {
        "id": "vuRqzs6U8_J5"
      }
    },
    {
      "cell_type": "code",
      "source": [
        "#This is a very basic single layer network which will be used for non-convex logistic regression problem\n",
        "class NonconvexLogisticNet (nn.Module):\n",
        "    def __init__ (self, I, O, batch_size):\n",
        "        super().__init__()\n",
        "        self.fc = nn.Linear(I, O, bias=True)\n",
        "        self.batch_size = batch_size\n",
        "        self.I = I\n",
        "\n",
        "\n",
        "\n",
        "\n",
        "    def forward (self, x):\n",
        "      #Flatten \n",
        "      #x = torch.reshape(x, (self.batch_size, self.I))\n",
        "      x = torch.flatten(x, 1)\n",
        "      x = torch.tanh(self.fc(x))\n",
        "      return x"
      ],
      "metadata": {
        "id": "Hy_TV7KL9gz6"
      },
      "execution_count": null,
      "outputs": []
    },
    {
      "cell_type": "markdown",
      "source": [
        "# Trainers Code Section"
      ],
      "metadata": {
        "id": "7QZMh-U19AdW"
      }
    },
    {
      "cell_type": "markdown",
      "source": [
        "## SMG Train Function"
      ],
      "metadata": {
        "id": "HAWWKi2sirsg"
      }
    },
    {
      "cell_type": "code",
      "source": [
        "# This trainer trains the net using the SMG algorithm proposed in the paper.\n",
        "# We named the variables identical with the paper's algorithm notation. Different from paper\n",
        "# the types we used are PyTorch tensors.\n",
        "def SMG_train(model, criterion, epochs, train_loader, test_loader, scheduler, beta, verbose=True):\n",
        "  \"\"\"\n",
        "    Define the trainer function. We can use this for training any model.\n",
        "    The parameter names are self-explanatory.\n",
        "\n",
        "    Returns: the dictionary of history that includes loss, grads, test and train accuracies.\n",
        "  \"\"\"\n",
        "  history = dict()\n",
        "  history['loss_history'], history['grad_history'] = list(), list()\n",
        "  history['test_acc_history'], history['train_acc_history'] = list(), list()\n",
        "  \n",
        "  #Note that velocity depends on gradient. So, per each different weight gradient we will have a different velocity, thus different momentum.\n",
        "  #Therefore, we store velocity and momentum per weight seperately.\n",
        "  m = dict()\n",
        "  v = dict()\n",
        "  # Initialize momentum and velocity dictionaries for weights with zeros.\n",
        "  for n, w in model.named_parameters():\n",
        "    m[n] = torch.zeros_like(w.data, memory_format = torch.preserve_format)\n",
        "    v[n] = torch.zeros_like(w.data, memory_format = torch.preserve_format)\n",
        "\n",
        "\n",
        "\n",
        "  #Note that we have activated shuffling. When iterator advances to the end\n",
        "  #of the batches reshuffles. This is effectively shuffling the batch\n",
        "  #before every batch.\n",
        "  for epoch in range(epochs):\n",
        "    total_loss = 0\n",
        "    total_grad_norm = 0\n",
        "    lr = scheduler(epoch+1)\n",
        "    # At the beginning of each epoch\n",
        "    # Set m = v\n",
        "    for n, w in model.named_parameters():\n",
        "      m[n] = v[n]\n",
        "    \n",
        "    # Set v = 0\n",
        "    for n, w in model.named_parameters():\n",
        "      v[n] = torch.zeros_like(w.data, memory_format = torch.preserve_format)\n",
        "\n",
        "\n",
        "    for i, data in enumerate(train_loader, 0):    \n",
        "      # Our batch:\n",
        "      inputs, labels = data\n",
        "      inputs = inputs.to(device)\n",
        "      labels = labels.to(device)\n",
        "      \n",
        "\n",
        "      normalizer = labels.size(0) / len(train_loader.dataset)\n",
        "\n",
        "      # zero the gradients as PyTorch accumulates them\n",
        "      model.zero_grad()\n",
        "\n",
        "      # Obtain the scores\n",
        "      outputs = model(inputs)\n",
        "\n",
        "\n",
        "      #Compute regularizing term\n",
        "      reg = 0 #Will be accumulated\n",
        "      l = 0.01 # Given in the paper\n",
        "\n",
        "      \n",
        "      #Obtain regularizer term from weights.\n",
        "      for w in model.parameters():\n",
        "        #For Nonconvex Logistic Regression Problem we also have regularization term to loss \n",
        "        with torch.no_grad():\n",
        "          w_sq = w.data.detach().data.norm(2) ** 2\n",
        "          reg += w_sq / 1 + w_sq  \n",
        "\n",
        "      #Find the average value for batch\n",
        "      reg /= labels.size(0)\n",
        "      # Calculate loss with regularization term\n",
        "      loss = criterion(outputs.to(device), labels) + (l/2.0)*reg \n",
        "      \n",
        "\n",
        "      #Accumulate the loss of each iteration\n",
        "      total_loss += loss.item() * normalizer\n",
        "\n",
        "      # Backpropagate (Regularizer is on computation graph now so it will also be differentiated)\n",
        "      loss.backward()\n",
        "\n",
        "      \n",
        "      # Paper proposes an alternative scheme to update the weights using momentum with batch shuffling. \n",
        "      for n, w in model.named_parameters():\n",
        "        with torch.no_grad():\n",
        "          #Pytorch computes a batch gradient which is 1/batch_size * grad. In update scheme we use 1/n so we set a grad_scale to compansate that.\n",
        "          g_scale = labels.size(0) / len(train_loader.dataset) #batch_size / dataset_size\n",
        "          #Update v\n",
        "          v[n] += g_scale * w.grad.data\n",
        "          delta = beta * m[n] + (1-beta) * w.grad.data #weight_update\n",
        "          w.data += -lr * delta\n",
        "\n",
        "\n",
        "\n",
        "      #Measure grad_square\n",
        "      for p in model.parameters():\n",
        "          param_norm = p.grad.detach().data.norm(2)\n",
        "          total_grad_norm += param_norm.item() ** 2 * normalizer\n",
        "      \n",
        "    \n",
        "    \n",
        "    history['grad_history'].append(total_grad_norm)\n",
        "    history['loss_history'].append(total_loss)\n",
        "    \n",
        "    train_acc, test_acc = train_and_test_accuracy(model, train_loader, test_loader)\n",
        "    history['train_acc_history'].append(train_acc)\n",
        "    history['test_acc_history'].append(test_acc)\n",
        "    loss_history = history['loss_history']\n",
        "    if verbose: print(f'Epoch {epoch+1} / {epochs}: avg. loss of last epoch {total_loss}')\n",
        "    if verbose: print(f'avg. grad_norm of last epoch {total_grad_norm}')\n",
        "    if verbose: print(f'Current train acc: {train_acc}%, test acc: {test_acc}%')\n",
        "    \n",
        "  return history"
      ],
      "metadata": {
        "id": "VvpXPzUu91Wn"
      },
      "execution_count": null,
      "outputs": []
    },
    {
      "cell_type": "markdown",
      "source": [
        "## SSMG Train Function"
      ],
      "metadata": {
        "id": "Kx8w6FKhizXz"
      }
    },
    {
      "cell_type": "code",
      "source": [
        "# This trainer trains the net using the SSMG algorithm proposed in the paper.\n",
        "# We named the variables identical with the paper's algorithm notation. Different from paper\n",
        "# the types we used are PyTorch tensors. Also, SSMG is single shuffle variant of SMG so batches wont \n",
        "# be reshuffled every epoch.\n",
        "def SSMG_train(model, criterion, epochs, train_loader, test_loader, scheduler, beta, verbose=True):\n",
        "  \"\"\"\n",
        "    Define the trainer function. We can use this for training any model.\n",
        "    The parameter names are self-explanatory.\n",
        "\n",
        "    Returns: the dictionary of history that includes loss, grads, test and train accuracies.\n",
        "  \"\"\"\n",
        "  history = dict()\n",
        "  history['loss_history'], history['grad_history'] = list(), list()\n",
        "  history['test_acc_history'], history['train_acc_history'] = list(), list()\n",
        "  \n",
        "\n",
        "\n",
        "  m = dict()\n",
        "  # Initialize momentum dictionaries for weights with zeros.\n",
        "  for n, w in model.named_parameters():\n",
        "    m[n] = torch.zeros_like(w.data, memory_format = torch.preserve_format)\n",
        "\n",
        "\n",
        "\n",
        "  #Note that we have activated shuffling. When iterator advances to the end\n",
        "  #of the batches reshuffles. This is effectively shuffling the batch\n",
        "  #before every batch.\n",
        "  for epoch in range(epochs):\n",
        "    total_loss = 0\n",
        "    total_grad_norm = 0\n",
        "    lr = scheduler(epoch+1)\n",
        "  \n",
        "    for i, data in enumerate(train_loader, 0):    \n",
        "      # Our batch:\n",
        "      inputs, labels = data\n",
        "      inputs = inputs.to(device)\n",
        "      labels = labels.to(device)\n",
        "\n",
        "      #There is no momentum update here. We want to preserve the momentum value of the\n",
        "      #previous epoch.\n",
        "\n",
        "      normalizer = labels.size(0) / len(train_loader.dataset)\n",
        "\n",
        "      # zero the gradients as PyTorch accumulates them\n",
        "      model.zero_grad()\n",
        "\n",
        "      # Obtain the scores\n",
        "      outputs = model(inputs)\n",
        "\n",
        "      #Compute regularizing term\n",
        "      reg = 0 #Will be accumulated\n",
        "      l = 0.01 # Given in the paper\n",
        "\n",
        "      \n",
        "      #Obtain regularizer term from weights.\n",
        "      for w in model.parameters():\n",
        "        #For Nonconvex Logistic Regression Problem we also have regularization term to loss \n",
        "        with torch.no_grad():\n",
        "          w_sq = w.data.detach().data.norm(2) ** 2\n",
        "          reg += w_sq / 1 + w_sq  \n",
        "\n",
        "      \n",
        "      #Find the average value for batch\n",
        "      reg /= labels.size(0)\n",
        "      # Calculate loss with regularization term\n",
        "      loss = criterion(outputs.to(device), labels) + (l/2.0)*reg \n",
        "\n",
        "      #Accumulate the loss of each iteration\n",
        "      total_loss += loss.item()* normalizer\n",
        "\n",
        "      # Backpropagate\n",
        "      loss.backward()\n",
        "\n",
        "      # Paper proposes an alternative scheme to update the weights using momentum with single batch shuffling. \n",
        "      for n, w in model.named_parameters():\n",
        "        with torch.no_grad():\n",
        "          g_scale = labels.size(0) / len(train_loader.dataset) #batch_size / dataset_size\n",
        "          #Update momentum in every iteration (Most important difference from SMG)\n",
        "          m[n] = beta * m[n] + (1-beta) * w.grad.data\n",
        "          w.data += -lr * m[n] #weight_update using the momentum directly\n",
        "\n",
        "\n",
        "\n",
        "      #Measure grad_square\n",
        "      for p in model.parameters():\n",
        "          param_norm = p.grad.detach().data.norm(2)\n",
        "          total_grad_norm += param_norm.item() ** 2 * normalizer\n",
        "      \n",
        "    \n",
        "    \n",
        "    history['grad_history'].append(total_grad_norm)\n",
        "    history['loss_history'].append(total_loss)\n",
        "    \n",
        "    train_acc, test_acc = train_and_test_accuracy(model, train_loader, test_loader)\n",
        "    history['train_acc_history'].append(train_acc)\n",
        "    history['test_acc_history'].append(test_acc)\n",
        "    loss_history = history['loss_history']\n",
        "    if verbose: print(f'Epoch {epoch+1} / {epochs}: avg. loss of last epoch {total_loss}')\n",
        "    if verbose: print(f'avg. grad_norm of last epoch {total_grad_norm}')\n",
        "    if verbose: print(f'Current train acc: {train_acc}%, test acc: {test_acc}%')\n",
        "    \n",
        "  return history"
      ],
      "metadata": {
        "id": "0HFRBOvZ92Ox"
      },
      "execution_count": null,
      "outputs": []
    },
    {
      "cell_type": "markdown",
      "source": [
        "## Train Function for Other Optimizers"
      ],
      "metadata": {
        "id": "1c82v24Di4Gz"
      }
    },
    {
      "cell_type": "code",
      "source": [
        "# This is a general trainer that uses PyTorch's built-in optimizers.\n",
        "# This function will be used compare other optimizers with SMG\n",
        "def train(model, criterion, optimizer, epochs, train_loader, test_loader, scheduler, verbose=True):\n",
        "  \"\"\"\n",
        "    Define the trainer function. We can use this for training any model.\n",
        "    The parameter names are self-explanatory.\n",
        "\n",
        "    Returns: the dictionary of history that includes loss, grads, test and train accuracies.\n",
        "  \"\"\"\n",
        "\n",
        "\n",
        "  history = dict()\n",
        "  history['loss_history'], history['grad_history'] = list(), list()\n",
        "  history['test_acc_history'], history['train_acc_history'] = list(), list()\n",
        "  #Note that we have activated shuffling. When iterator advances to the end\n",
        "  #of the batches reshuffles. This is effectively shuffling the batch\n",
        "  #before every batch.\n",
        "  for epoch in range(epochs):\n",
        "    total_loss = 0\n",
        "    total_grad_norm = 0\n",
        "    lr = scheduler(epoch+1)\n",
        "    for param_group in optimizer.param_groups:\n",
        "        param_group['lr'] = lr \n",
        "\n",
        "    for i, data in enumerate(train_loader, 0):    \n",
        "      # Our batch:\n",
        "      inputs, labels = data\n",
        "      inputs = inputs.to(device)\n",
        "      labels = labels.to(device)\n",
        "\n",
        "      normalizer = labels.size(0) / len(train_loader.dataset)\n",
        "\n",
        "\n",
        "      # zero the gradients as PyTorch accumulates them\n",
        "      optimizer.zero_grad()\n",
        "\n",
        "      # Obtain the scores\n",
        "      outputs = model(inputs)\n",
        "\n",
        "      #Find the average value for batch\n",
        "      reg = 0 #Will be accumulated\n",
        "      l = 0.01 # Given in the paper\n",
        "\n",
        "      \n",
        "      #Obtain regularizer term from weights.\n",
        "      for w in model.parameters():\n",
        "        #For Nonconvex Logistic Regression Problem we also have regularization term to loss \n",
        "        with torch.no_grad():\n",
        "          w_sq = w.data.detach().data.norm(2) ** 2\n",
        "          reg += w_sq / 1 + w_sq  \n",
        "\n",
        "      \n",
        "      #Find the average value for batch\n",
        "      reg /= labels.size(0)\n",
        "      # Calculate loss with regularization term\n",
        "      loss = criterion(outputs.to(device), labels) + (l/2.0)*reg \n",
        "\n",
        "      #Accumulate the loss of each iteration\n",
        "      total_loss += loss.item()* normalizer\n",
        "\n",
        "      # Backpropagate\n",
        "      loss.backward()\n",
        "\n",
        "      # Update the weights\n",
        "      optimizer.step()\n",
        "\n",
        "      \n",
        "      #Measure grad_square\n",
        "      for p in model.parameters():\n",
        "          param_norm = p.grad.detach().data.norm(2)\n",
        "          total_grad_norm += param_norm.item() ** 2 * normalizer\n",
        "      \n",
        "\n",
        "    history['grad_history'].append(total_grad_norm)\n",
        "    history['loss_history'].append(total_loss)\n",
        "\n",
        "    train_acc, test_acc = train_and_test_accuracy(model, train_loader, test_loader)\n",
        "    history['train_acc_history'].append(train_acc)\n",
        "    history['test_acc_history'].append(test_acc)\n",
        "    loss_history = history['loss_history']\n",
        "    if verbose: print(f'Epoch {epoch+1} / {epochs}: avg. loss of last epoch {total_loss}')\n",
        "    if verbose: print(f'Epoch {epoch+1} / {epochs}: avg. grad_norm of last epoch {total_grad_norm}')\n",
        "    if verbose: print(f'Current train acc: {train_acc}%, test acc: {test_acc}%')  \n",
        "\n",
        "  return history"
      ],
      "metadata": {
        "id": "k-F4bNJA94yg"
      },
      "execution_count": null,
      "outputs": []
    },
    {
      "cell_type": "markdown",
      "source": [
        "# Get GPU"
      ],
      "metadata": {
        "id": "p_NrwXB8-BZE"
      }
    },
    {
      "cell_type": "code",
      "source": [
        "if torch.cuda.is_available():\n",
        "  print(\"Cuda (GPU support) is available and enabled!\")\n",
        "  device = torch.device(\"cuda\")\n",
        "else:\n",
        "  print(\"Cuda (GPU support) is not available :(\")\n",
        "  device = torch.device(\"cpu\")"
      ],
      "metadata": {
        "colab": {
          "base_uri": "https://localhost:8080/"
        },
        "id": "tLZKcAKRAG2p",
        "outputId": "489c1816-a6e8-4aaf-e8b5-94cb5304954c"
      },
      "execution_count": null,
      "outputs": [
        {
          "output_type": "stream",
          "name": "stdout",
          "text": [
            "Cuda (GPU support) is not available :(\n"
          ]
        }
      ]
    },
    {
      "cell_type": "markdown",
      "source": [
        "# 1- Train and Plot Different Learning Schedulers over SMG"
      ],
      "metadata": {
        "id": "Py4EUb94rYpE"
      }
    },
    {
      "cell_type": "markdown",
      "source": [
        "## SMG with Constant Learning Rate Scheduler"
      ],
      "metadata": {
        "id": "pO4-kpdvrdIR"
      }
    },
    {
      "cell_type": "code",
      "source": [
        "import torch.optim as optim\n",
        "\n",
        "criterion = nn.SoftMarginLoss()\n",
        "\n",
        "model = NonconvexLogisticNet(300, 1, 128)\n",
        "model = model.to(device)\n",
        "epoch_count = 50\n",
        "\n",
        "\n",
        "scheduler = constant_learning_rate_scheduler(0.001)\n",
        "\n",
        "# beta is proposed in paper and epoch_count is inferenced from the graphs\n",
        "history = SMG_train(model, criterion, epoch_count, w8a_train_loader, w8a_test_loader, \n",
        "                    scheduler, beta=0.5, verbose=True)"
      ],
      "metadata": {
        "colab": {
          "base_uri": "https://localhost:8080/"
        },
        "id": "d0t3_ymCregO",
        "outputId": "daf12ca8-d417-4a47-9fdf-2091adf6dfdc"
      },
      "execution_count": null,
      "outputs": [
        {
          "output_type": "stream",
          "name": "stdout",
          "text": [
            "Epoch 1 / 50: avg. loss of last epoch 0.6339063819356822\n",
            "avg. grad_norm of last epoch 0.43608979341864573\n",
            "Current train acc: 94.96874309031337%, test acc: 94.89666243060665%\n",
            "Epoch 2 / 50: avg. loss of last epoch 0.5410898220872404\n",
            "avg. grad_norm of last epoch 0.2200527006388736\n",
            "Current train acc: 97.02707592112404%, test acc: 96.96341381847368%\n",
            "Epoch 3 / 50: avg. loss of last epoch 0.4743387737778137\n",
            "avg. grad_norm of last epoch 0.09330561575566283\n",
            "Current train acc: 97.02707592112404%, test acc: 96.96341381847368%\n",
            "Epoch 4 / 50: avg. loss of last epoch 0.4424162003306946\n",
            "avg. grad_norm of last epoch 0.05262929013809948\n",
            "Current train acc: 97.02707592112404%, test acc: 96.96341381847368%\n",
            "Epoch 5 / 50: avg. loss of last epoch 0.4242198776839598\n",
            "avg. grad_norm of last epoch 0.03491758449810763\n",
            "Current train acc: 97.02707592112404%, test acc: 96.96341381847368%\n",
            "Epoch 6 / 50: avg. loss of last epoch 0.4121363443147837\n",
            "avg. grad_norm of last epoch 0.025176417185188104\n",
            "Current train acc: 97.02707592112404%, test acc: 96.96341381847368%\n",
            "Epoch 7 / 50: avg. loss of last epoch 0.40337167029241916\n",
            "avg. grad_norm of last epoch 0.019126987336307976\n",
            "Current train acc: 97.02707592112404%, test acc: 96.96341381847368%\n",
            "Epoch 8 / 50: avg. loss of last epoch 0.39669208842168807\n",
            "avg. grad_norm of last epoch 0.01509133349041462\n",
            "Current train acc: 97.02707592112404%, test acc: 96.96341381847368%\n",
            "Epoch 9 / 50: avg. loss of last epoch 0.39139288423104446\n",
            "avg. grad_norm of last epoch 0.01223817351762872\n",
            "Current train acc: 97.02707592112404%, test acc: 96.96341381847368%\n",
            "Epoch 10 / 50: avg. loss of last epoch 0.38710641448693167\n",
            "avg. grad_norm of last epoch 0.010148530921246676\n",
            "Current train acc: 97.02707592112404%, test acc: 96.96341381847368%\n",
            "Epoch 11 / 50: avg. loss of last epoch 0.38353472426178753\n",
            "avg. grad_norm of last epoch 0.008544478744766694\n",
            "Current train acc: 97.02707592112404%, test acc: 96.96341381847368%\n",
            "Epoch 12 / 50: avg. loss of last epoch 0.38052774372669995\n",
            "avg. grad_norm of last epoch 0.0073187481329548935\n",
            "Current train acc: 97.02707592112404%, test acc: 96.96341381847368%\n",
            "Epoch 13 / 50: avg. loss of last epoch 0.37794729075220185\n",
            "avg. grad_norm of last epoch 0.006332918289226026\n",
            "Current train acc: 97.02707592112404%, test acc: 96.96341381847368%\n",
            "Epoch 14 / 50: avg. loss of last epoch 0.3757135623922185\n",
            "avg. grad_norm of last epoch 0.005530360537469114\n",
            "Current train acc: 97.02707592112404%, test acc: 96.96341381847368%\n",
            "Epoch 15 / 50: avg. loss of last epoch 0.37376093048709513\n",
            "avg. grad_norm of last epoch 0.0048732564816568215\n",
            "Current train acc: 97.02707592112404%, test acc: 96.96341381847368%\n",
            "Epoch 16 / 50: avg. loss of last epoch 0.37203729095409904\n",
            "avg. grad_norm of last epoch 0.004339865674070103\n",
            "Current train acc: 97.02707592112404%, test acc: 96.96341381847368%\n",
            "Epoch 17 / 50: avg. loss of last epoch 0.3705036586839476\n",
            "avg. grad_norm of last epoch 0.0038871241426402196\n",
            "Current train acc: 97.02707592112404%, test acc: 96.96341381847368%\n",
            "Epoch 18 / 50: avg. loss of last epoch 0.3691304651601187\n",
            "avg. grad_norm of last epoch 0.0035027437824552087\n",
            "Current train acc: 97.02707592112404%, test acc: 96.96341381847368%\n",
            "Epoch 19 / 50: avg. loss of last epoch 0.36789134882457764\n",
            "avg. grad_norm of last epoch 0.0031738005309768056\n",
            "Current train acc: 97.02707592112404%, test acc: 96.96341381847368%\n",
            "Epoch 20 / 50: avg. loss of last epoch 0.36676946859634935\n",
            "avg. grad_norm of last epoch 0.0028865386507674617\n",
            "Current train acc: 97.02707592112404%, test acc: 96.96341381847368%\n",
            "Epoch 21 / 50: avg. loss of last epoch 0.36574885930441603\n",
            "avg. grad_norm of last epoch 0.002639158180991348\n",
            "Current train acc: 97.02707592112404%, test acc: 96.96341381847368%\n",
            "Epoch 22 / 50: avg. loss of last epoch 0.36481399373034445\n",
            "avg. grad_norm of last epoch 0.0024256906255625092\n",
            "Current train acc: 97.02707592112404%, test acc: 96.96341381847368%\n",
            "Epoch 23 / 50: avg. loss of last epoch 0.3639571003307492\n",
            "avg. grad_norm of last epoch 0.002235328118464356\n",
            "Current train acc: 97.02707592112404%, test acc: 96.96341381847368%\n",
            "Epoch 24 / 50: avg. loss of last epoch 0.36316762255501833\n",
            "avg. grad_norm of last epoch 0.0020604365287976607\n",
            "Current train acc: 97.02707592112404%, test acc: 96.96341381847368%\n",
            "Epoch 25 / 50: avg. loss of last epoch 0.36243890007202706\n",
            "avg. grad_norm of last epoch 0.0019195266088195806\n",
            "Current train acc: 97.02707592112404%, test acc: 96.96341381847368%\n",
            "Epoch 26 / 50: avg. loss of last epoch 0.3617632358588748\n",
            "avg. grad_norm of last epoch 0.0017832979496146507\n",
            "Current train acc: 97.02707592112404%, test acc: 96.96341381847368%\n",
            "Epoch 27 / 50: avg. loss of last epoch 0.3611337913821366\n",
            "avg. grad_norm of last epoch 0.0016631093775297196\n",
            "Current train acc: 97.02707592112404%, test acc: 96.96341381847368%\n",
            "Epoch 28 / 50: avg. loss of last epoch 0.36054708756198384\n",
            "avg. grad_norm of last epoch 0.0015547349575615493\n",
            "Current train acc: 97.02707592112404%, test acc: 96.96341381847368%\n",
            "Epoch 29 / 50: avg. loss of last epoch 0.3599985003083182\n",
            "avg. grad_norm of last epoch 0.001451773323661139\n",
            "Current train acc: 97.02707592112404%, test acc: 96.96341381847368%\n",
            "Epoch 30 / 50: avg. loss of last epoch 0.3594851249139987\n",
            "avg. grad_norm of last epoch 0.0013666037325523758\n",
            "Current train acc: 97.02707592112404%, test acc: 96.96341381847368%\n",
            "Epoch 31 / 50: avg. loss of last epoch 0.3590033535314047\n",
            "avg. grad_norm of last epoch 0.0012862297031896138\n",
            "Current train acc: 97.02707592112404%, test acc: 96.96341381847368%\n",
            "Epoch 32 / 50: avg. loss of last epoch 0.3585494469027033\n",
            "avg. grad_norm of last epoch 0.001209674401860341\n",
            "Current train acc: 97.02707592112404%, test acc: 96.96341381847368%\n",
            "Epoch 33 / 50: avg. loss of last epoch 0.3581226815944746\n",
            "avg. grad_norm of last epoch 0.0011470962372182466\n",
            "Current train acc: 97.02707592112404%, test acc: 96.96341381847368%\n",
            "Epoch 34 / 50: avg. loss of last epoch 0.35771876280685233\n",
            "avg. grad_norm of last epoch 0.0010795704455924303\n",
            "Current train acc: 97.02707592112404%, test acc: 96.96341381847368%\n",
            "Epoch 35 / 50: avg. loss of last epoch 0.3573377023837288\n",
            "avg. grad_norm of last epoch 0.0010267480691241158\n",
            "Current train acc: 97.02707592112404%, test acc: 96.96341381847368%\n",
            "Epoch 36 / 50: avg. loss of last epoch 0.3569763311681012\n",
            "avg. grad_norm of last epoch 0.0009735682399447316\n",
            "Current train acc: 97.02707592112404%, test acc: 96.96341381847368%\n",
            "Epoch 37 / 50: avg. loss of last epoch 0.3566328925500215\n",
            "avg. grad_norm of last epoch 0.0009249031106342694\n",
            "Current train acc: 97.02707592112404%, test acc: 96.96341381847368%\n",
            "Epoch 38 / 50: avg. loss of last epoch 0.35630778983879646\n",
            "avg. grad_norm of last epoch 0.0008803813417873872\n",
            "Current train acc: 97.02707592112404%, test acc: 96.96341381847368%\n",
            "Epoch 39 / 50: avg. loss of last epoch 0.35599896408387316\n",
            "avg. grad_norm of last epoch 0.0008403998170476418\n",
            "Current train acc: 97.02707592112404%, test acc: 96.96341381847368%\n",
            "Epoch 40 / 50: avg. loss of last epoch 0.3557037894100485\n",
            "avg. grad_norm of last epoch 0.000799570429508116\n",
            "Current train acc: 97.02707592112404%, test acc: 96.96341381847368%\n",
            "Epoch 41 / 50: avg. loss of last epoch 0.35542327188906864\n",
            "avg. grad_norm of last epoch 0.0007647958615894758\n",
            "Current train acc: 97.02707592112404%, test acc: 96.96341381847368%\n",
            "Epoch 42 / 50: avg. loss of last epoch 0.35515469922025233\n",
            "avg. grad_norm of last epoch 0.0007291015781038013\n",
            "Current train acc: 97.02707592112404%, test acc: 96.96341381847368%\n",
            "Epoch 43 / 50: avg. loss of last epoch 0.3548985611054378\n",
            "avg. grad_norm of last epoch 0.0006989459642541908\n",
            "Current train acc: 97.02707592112404%, test acc: 96.96341381847368%\n",
            "Epoch 44 / 50: avg. loss of last epoch 0.35465343183516373\n",
            "avg. grad_norm of last epoch 0.0006687817704561988\n",
            "Current train acc: 97.02707592112404%, test acc: 96.96341381847368%\n",
            "Epoch 45 / 50: avg. loss of last epoch 0.3544184897947044\n",
            "avg. grad_norm of last epoch 0.0006416001902506301\n",
            "Current train acc: 97.02707592112404%, test acc: 96.96341381847368%\n",
            "Epoch 46 / 50: avg. loss of last epoch 0.35419377595993173\n",
            "avg. grad_norm of last epoch 0.0006164951544050099\n",
            "Current train acc: 97.02707592112404%, test acc: 96.96341381847368%\n",
            "Epoch 47 / 50: avg. loss of last epoch 0.353978050958236\n",
            "avg. grad_norm of last epoch 0.0005916746037754643\n",
            "Current train acc: 97.02707592112404%, test acc: 96.96341381847368%\n",
            "Epoch 48 / 50: avg. loss of last epoch 0.3537709446636914\n",
            "avg. grad_norm of last epoch 0.000569376509531362\n",
            "Current train acc: 97.02707592112404%, test acc: 96.96341381847368%\n",
            "Epoch 49 / 50: avg. loss of last epoch 0.3535723438168097\n",
            "avg. grad_norm of last epoch 0.0005472563889093605\n",
            "Current train acc: 97.02707592112404%, test acc: 96.96341381847368%\n",
            "Epoch 50 / 50: avg. loss of last epoch 0.35338124603961035\n",
            "avg. grad_norm of last epoch 0.0005264801441252284\n",
            "Current train acc: 97.02707592112404%, test acc: 96.96341381847368%\n"
          ]
        }
      ]
    },
    {
      "cell_type": "code",
      "source": [
        "#Save the history\n",
        "save_history_json(\"/content/gdrive/MyDrive/SMGExperiments/SMG-w8a-History/SMG_constantLR.json\", history)"
      ],
      "metadata": {
        "id": "yKE8Y3bHriIc"
      },
      "execution_count": null,
      "outputs": []
    },
    {
      "cell_type": "code",
      "source": [
        "plot_loss(history)\n",
        "plot_norm_square_grad(history)"
      ],
      "metadata": {
        "colab": {
          "base_uri": "https://localhost:8080/",
          "height": 596
        },
        "id": "yMrFZMLIrtwk",
        "outputId": "f1b509e9-abee-4764-eb18-2a582ae5bf56"
      },
      "execution_count": 7,
      "outputs": [
        {
          "output_type": "stream",
          "name": "stderr",
          "text": [
            "No handles with labels found to put in legend.\n"
          ]
        },
        {
          "output_type": "display_data",
          "data": {
            "text/plain": [
              "<Figure size 432x288 with 1 Axes>"
            ],
            "image/png": "[encoded data removed]"
          },
          "metadata": {
            "needs_background": "light"
          }
        },
        {
          "output_type": "display_data",
          "data": {
            "text/plain": [
              "<Figure size 432x288 with 1 Axes>"
            ],
            "image/png": "[encoded data removed]"
          },
          "metadata": {
            "needs_background": "light"
          }
        }
      ]
    },
    {
      "cell_type": "markdown",
      "source": [
        "## SMG with Diminishing Learning Rate Scheduler"
      ],
      "metadata": {
        "id": "WGKpKogGrvym"
      }
    },
    {
      "cell_type": "code",
      "source": [
        "criterion = nn.SoftMarginLoss()\n",
        "\n",
        "model = NonconvexLogisticNet(300, 1, 128)\n",
        "model = model.to(device)\n",
        "epoch_count = 50\n",
        "\n",
        "\n",
        "scheduler = diminishing_learning_rate_scheduler(0.01, 8)\n",
        "\n",
        "# beta is proposed in paper and epoch_count is inferenced from the graphs\n",
        "history = SMG_train(model, criterion, epoch_count, w8a_train_loader, w8a_test_loader, \n",
        "                    scheduler, beta=0.5, verbose=True)"
      ],
      "metadata": {
        "colab": {
          "base_uri": "https://localhost:8080/"
        },
        "id": "wKxmw34rrwOA",
        "outputId": "8f0839e2-a3bb-4154-9eba-f6fe452e0922"
      },
      "execution_count": null,
      "outputs": [
        {
          "output_type": "stream",
          "name": "stdout",
          "text": [
            "Epoch 1 / 50: avg. loss of last epoch 0.5470482443296221\n",
            "avg. grad_norm of last epoch 0.2465252926009233\n",
            "Current train acc: 97.02707592112404%, test acc: 96.96341381847368%\n",
            "Epoch 2 / 50: avg. loss of last epoch 0.41301976477597324\n",
            "avg. grad_norm of last epoch 0.029896737798467667\n",
            "Current train acc: 97.02707592112404%, test acc: 96.96341381847368%\n",
            "Epoch 3 / 50: avg. loss of last epoch 0.3731838704580064\n",
            "avg. grad_norm of last epoch 0.004662036323248069\n",
            "Current train acc: 97.02707592112404%, test acc: 96.96341381847368%\n",
            "Epoch 4 / 50: avg. loss of last epoch 0.365047615924316\n",
            "avg. grad_norm of last epoch 0.0024387915133243267\n",
            "Current train acc: 97.02707592112404%, test acc: 96.96341381847368%\n",
            "Epoch 5 / 50: avg. loss of last epoch 0.3614265227088253\n",
            "avg. grad_norm of last epoch 0.001692090518395656\n",
            "Current train acc: 97.02707592112404%, test acc: 96.96341381847368%\n",
            "Epoch 6 / 50: avg. loss of last epoch 0.3590114738785965\n",
            "avg. grad_norm of last epoch 0.0012679540915811706\n",
            "Current train acc: 97.02707592112404%, test acc: 96.96341381847368%\n",
            "Epoch 7 / 50: avg. loss of last epoch 0.35724680904453227\n",
            "avg. grad_norm of last epoch 0.0009990128450762176\n",
            "Current train acc: 97.02707592112404%, test acc: 96.96341381847368%\n",
            "Epoch 8 / 50: avg. loss of last epoch 0.35588315591929254\n",
            "avg. grad_norm of last epoch 0.0008146497775311271\n",
            "Current train acc: 97.02707592112404%, test acc: 96.96341381847368%\n",
            "Epoch 9 / 50: avg. loss of last epoch 0.35479975224569216\n",
            "avg. grad_norm of last epoch 0.0006793660572394209\n",
            "Current train acc: 97.02707592112404%, test acc: 96.96341381847368%\n",
            "Epoch 10 / 50: avg. loss of last epoch 0.35390920535665393\n",
            "avg. grad_norm of last epoch 0.0005775131522744734\n",
            "Current train acc: 97.02707592112404%, test acc: 96.96341381847368%\n",
            "Epoch 11 / 50: avg. loss of last epoch 0.3531655303591897\n",
            "avg. grad_norm of last epoch 0.0004996935923541807\n",
            "Current train acc: 97.02707592112404%, test acc: 96.96341381847368%\n",
            "Epoch 12 / 50: avg. loss of last epoch 0.3525341026618705\n",
            "avg. grad_norm of last epoch 0.0004382505631317876\n",
            "Current train acc: 97.02707592112404%, test acc: 96.96341381847368%\n",
            "Epoch 13 / 50: avg. loss of last epoch 0.35199183688939845\n",
            "avg. grad_norm of last epoch 0.0003878837932415396\n",
            "Current train acc: 97.02707592112404%, test acc: 96.96341381847368%\n",
            "Epoch 14 / 50: avg. loss of last epoch 0.35151854994325826\n",
            "avg. grad_norm of last epoch 0.0003445107069289465\n",
            "Current train acc: 97.02707592112404%, test acc: 96.96341381847368%\n",
            "Epoch 15 / 50: avg. loss of last epoch 0.35110284371142025\n",
            "avg. grad_norm of last epoch 0.0003112990940243003\n",
            "Current train acc: 97.02707592112404%, test acc: 96.96341381847368%\n",
            "Epoch 16 / 50: avg. loss of last epoch 0.35073374345287295\n",
            "avg. grad_norm of last epoch 0.00028237007500776806\n",
            "Current train acc: 97.02707592112404%, test acc: 96.96341381847368%\n",
            "Epoch 17 / 50: avg. loss of last epoch 0.3504047700382528\n",
            "avg. grad_norm of last epoch 0.00025665705933571904\n",
            "Current train acc: 97.02707592112404%, test acc: 96.96341381847368%\n",
            "Epoch 18 / 50: avg. loss of last epoch 0.3501077587556502\n",
            "avg. grad_norm of last epoch 0.00023607631727748344\n",
            "Current train acc: 97.02707592112404%, test acc: 96.96341381847368%\n",
            "Epoch 19 / 50: avg. loss of last epoch 0.3498399577542603\n",
            "avg. grad_norm of last epoch 0.00021757734372496756\n",
            "Current train acc: 97.02707592112404%, test acc: 96.96341381847368%\n",
            "Epoch 20 / 50: avg. loss of last epoch 0.34959581673268686\n",
            "avg. grad_norm of last epoch 0.00020167594023684382\n",
            "Current train acc: 97.02707592112404%, test acc: 96.96341381847368%\n",
            "Epoch 21 / 50: avg. loss of last epoch 0.34937267629747365\n",
            "avg. grad_norm of last epoch 0.00018702643796997408\n",
            "Current train acc: 97.02707592112404%, test acc: 96.96341381847368%\n",
            "Epoch 22 / 50: avg. loss of last epoch 0.349167629586083\n",
            "avg. grad_norm of last epoch 0.0001747627464840272\n",
            "Current train acc: 97.02707592112404%, test acc: 96.96341381847368%\n",
            "Epoch 23 / 50: avg. loss of last epoch 0.3489796867149964\n",
            "avg. grad_norm of last epoch 0.00016301929520579888\n",
            "Current train acc: 97.02707592112404%, test acc: 96.96341381847368%\n",
            "Epoch 24 / 50: avg. loss of last epoch 0.3488054994161473\n",
            "avg. grad_norm of last epoch 0.00015305748525901988\n",
            "Current train acc: 97.02707592112404%, test acc: 96.96341381847368%\n",
            "Epoch 25 / 50: avg. loss of last epoch 0.34864379933890205\n",
            "avg. grad_norm of last epoch 0.00014365233483880807\n",
            "Current train acc: 97.02707592112404%, test acc: 96.96341381847368%\n",
            "Epoch 26 / 50: avg. loss of last epoch 0.3484934898214164\n",
            "avg. grad_norm of last epoch 0.00013577492583654783\n",
            "Current train acc: 97.02707592112404%, test acc: 96.96341381847368%\n",
            "Epoch 27 / 50: avg. loss of last epoch 0.3483532229994607\n",
            "avg. grad_norm of last epoch 0.00012822212242228107\n",
            "Current train acc: 97.02707592112404%, test acc: 96.96341381847368%\n",
            "Epoch 28 / 50: avg. loss of last epoch 0.3482224646423397\n",
            "avg. grad_norm of last epoch 0.0001222215711552913\n",
            "Current train acc: 97.02707592112404%, test acc: 96.96341381847368%\n",
            "Epoch 29 / 50: avg. loss of last epoch 0.34809912590372477\n",
            "avg. grad_norm of last epoch 0.00011528574932051883\n",
            "Current train acc: 97.02707592112404%, test acc: 96.96341381847368%\n",
            "Epoch 30 / 50: avg. loss of last epoch 0.3479839203290553\n",
            "avg. grad_norm of last epoch 0.0001096176042184066\n",
            "Current train acc: 97.02707592112404%, test acc: 96.96341381847368%\n",
            "Epoch 31 / 50: avg. loss of last epoch 0.34787477380992327\n",
            "avg. grad_norm of last epoch 0.00010466465421324242\n",
            "Current train acc: 97.02707592112404%, test acc: 96.96341381847368%\n",
            "Epoch 32 / 50: avg. loss of last epoch 0.34777222958559295\n",
            "avg. grad_norm of last epoch 9.966591912628046e-05\n",
            "Current train acc: 97.02707592112404%, test acc: 96.96341381847368%\n",
            "Epoch 33 / 50: avg. loss of last epoch 0.3476753472663639\n",
            "avg. grad_norm of last epoch 9.548017748981397e-05\n",
            "Current train acc: 97.02707592112404%, test acc: 96.96341381847368%\n",
            "Epoch 34 / 50: avg. loss of last epoch 0.3475833534733126\n",
            "avg. grad_norm of last epoch 9.128615659690284e-05\n",
            "Current train acc: 97.02707592112404%, test acc: 96.96341381847368%\n",
            "Epoch 35 / 50: avg. loss of last epoch 0.3474963230498127\n",
            "avg. grad_norm of last epoch 8.714878483745128e-05\n",
            "Current train acc: 97.02707592112404%, test acc: 96.96341381847368%\n",
            "Epoch 36 / 50: avg. loss of last epoch 0.34741369689245827\n",
            "avg. grad_norm of last epoch 8.373045688492026e-05\n",
            "Current train acc: 97.02707592112404%, test acc: 96.96341381847368%\n",
            "Epoch 37 / 50: avg. loss of last epoch 0.3473350471385285\n",
            "avg. grad_norm of last epoch 8.038277116823726e-05\n",
            "Current train acc: 97.02707592112404%, test acc: 96.96341381847368%\n",
            "Epoch 38 / 50: avg. loss of last epoch 0.3472600395573945\n",
            "avg. grad_norm of last epoch 7.758898892338649e-05\n",
            "Current train acc: 97.02707592112404%, test acc: 96.96341381847368%\n",
            "Epoch 39 / 50: avg. loss of last epoch 0.3471886780057644\n",
            "avg. grad_norm of last epoch 7.47574733993143e-05\n",
            "Current train acc: 97.02707592112404%, test acc: 96.96341381847368%\n",
            "Epoch 40 / 50: avg. loss of last epoch 0.3471207432641309\n",
            "avg. grad_norm of last epoch 7.193750356834453e-05\n",
            "Current train acc: 97.02707592112404%, test acc: 96.96341381847368%\n",
            "Epoch 41 / 50: avg. loss of last epoch 0.347055367806892\n",
            "avg. grad_norm of last epoch 6.918647105761132e-05\n",
            "Current train acc: 97.02707592112404%, test acc: 96.96341381847368%\n",
            "Epoch 42 / 50: avg. loss of last epoch 0.34699299054451643\n",
            "avg. grad_norm of last epoch 6.67940924697114e-05\n",
            "Current train acc: 97.02707592112404%, test acc: 96.96341381847368%\n",
            "Epoch 43 / 50: avg. loss of last epoch 0.34693336933650537\n",
            "avg. grad_norm of last epoch 6.467258865055241e-05\n",
            "Current train acc: 97.02707592112404%, test acc: 96.96341381847368%\n",
            "Epoch 44 / 50: avg. loss of last epoch 0.3468760582251216\n",
            "avg. grad_norm of last epoch 6.257211057894453e-05\n",
            "Current train acc: 97.02707592112404%, test acc: 96.96341381847368%\n",
            "Epoch 45 / 50: avg. loss of last epoch 0.3468211676537012\n",
            "avg. grad_norm of last epoch 6.0376128542012306e-05\n",
            "Current train acc: 97.02707592112404%, test acc: 96.96341381847368%\n",
            "Epoch 46 / 50: avg. loss of last epoch 0.34676819116487567\n",
            "avg. grad_norm of last epoch 5.8629397611039495e-05\n",
            "Current train acc: 97.02707592112404%, test acc: 96.96341381847368%\n",
            "Epoch 47 / 50: avg. loss of last epoch 0.34671762874024403\n",
            "avg. grad_norm of last epoch 5.679385672369376e-05\n",
            "Current train acc: 97.02707592112404%, test acc: 96.96341381847368%\n",
            "Epoch 48 / 50: avg. loss of last epoch 0.34666881707640107\n",
            "avg. grad_norm of last epoch 5.506875201390723e-05\n",
            "Current train acc: 97.02707592112404%, test acc: 96.96341381847368%\n",
            "Epoch 49 / 50: avg. loss of last epoch 0.34662175991144173\n",
            "avg. grad_norm of last epoch 5.336800167679859e-05\n",
            "Current train acc: 97.02707592112404%, test acc: 96.96341381847368%\n",
            "Epoch 50 / 50: avg. loss of last epoch 0.3465763596463399\n",
            "avg. grad_norm of last epoch 5.1906710893213796e-05\n",
            "Current train acc: 97.02707592112404%, test acc: 96.96341381847368%\n"
          ]
        }
      ]
    },
    {
      "cell_type": "code",
      "source": [
        "#Save the history\n",
        "save_history_json(\"/content/gdrive/MyDrive/SMGExperiments/SMG-w8a-History/SMG_diminishingLR.json\", history)"
      ],
      "metadata": {
        "id": "xferf5LkryWW"
      },
      "execution_count": null,
      "outputs": []
    },
    {
      "cell_type": "code",
      "source": [
        "plot_loss(history)\n",
        "plot_norm_square_grad(history)"
      ],
      "metadata": {
        "colab": {
          "base_uri": "https://localhost:8080/",
          "height": 596
        },
        "id": "zoMKNehXscWz",
        "outputId": "2da1921f-a849-4874-e842-806c1590245c"
      },
      "execution_count": 8,
      "outputs": [
        {
          "output_type": "stream",
          "name": "stderr",
          "text": [
            "No handles with labels found to put in legend.\n"
          ]
        },
        {
          "output_type": "display_data",
          "data": {
            "text/plain": [
              "<Figure size 432x288 with 1 Axes>"
            ],
            "image/png": "[encoded data removed]"
          },
          "metadata": {
            "needs_background": "light"
          }
        },
        {
          "output_type": "display_data",
          "data": {
            "text/plain": [
              "<Figure size 432x288 with 1 Axes>"
            ],
            "image/png": "[encoded data removed]"
          },
          "metadata": {
            "needs_background": "light"
          }
        }
      ]
    },
    {
      "cell_type": "markdown",
      "source": [
        "## SMG with Exponential Learning Rate Scheduler"
      ],
      "metadata": {
        "id": "Moxes0yIsjRw"
      }
    },
    {
      "cell_type": "code",
      "source": [
        "criterion = nn.SoftMarginLoss()\n",
        "\n",
        "model = NonconvexLogisticNet(300, 1, 128)\n",
        "model = model.to(device)\n",
        "epoch_count = 50\n",
        "\n",
        "scheduler = exponential_learning_rate_scheduler(0.005, 0.99)\n",
        "\n",
        "# beta is proposed in paper and epoch_count is inferenced from the graphs\n",
        "history = SMG_train(model, criterion, epoch_count, w8a_train_loader, w8a_test_loader, \n",
        "                    scheduler, beta=0.5, verbose=True)"
      ],
      "metadata": {
        "colab": {
          "base_uri": "https://localhost:8080/"
        },
        "id": "fMcfOUFCslI9",
        "outputId": "e424171d-3202-46ce-fc96-8680ba62797a"
      },
      "execution_count": null,
      "outputs": [
        {
          "output_type": "stream",
          "name": "stdout",
          "text": [
            "Epoch 1 / 50: avg. loss of last epoch 0.5749054435267585\n",
            "avg. grad_norm of last epoch 0.2949131204937286\n",
            "Current train acc: 97.02707592112404%, test acc: 96.96341381847368%\n",
            "Epoch 2 / 50: avg. loss of last epoch 0.4138227862272675\n",
            "avg. grad_norm of last epoch 0.03085534706657932\n",
            "Current train acc: 97.02707592112404%, test acc: 96.96341381847368%\n",
            "Epoch 3 / 50: avg. loss of last epoch 0.37106131244578944\n",
            "avg. grad_norm of last epoch 0.003985816024398351\n",
            "Current train acc: 97.02707592112404%, test acc: 96.96341381847368%\n",
            "Epoch 4 / 50: avg. loss of last epoch 0.3632876393635616\n",
            "avg. grad_norm of last epoch 0.002030474698153323\n",
            "Current train acc: 97.02707592112404%, test acc: 96.96341381847368%\n",
            "Epoch 5 / 50: avg. loss of last epoch 0.35992572270277584\n",
            "avg. grad_norm of last epoch 0.0014063076152495164\n",
            "Current train acc: 97.02707592112404%, test acc: 96.96341381847368%\n",
            "Epoch 6 / 50: avg. loss of last epoch 0.357677304045505\n",
            "avg. grad_norm of last epoch 0.001046849621157754\n",
            "Current train acc: 97.02707592112404%, test acc: 96.96341381847368%\n",
            "Epoch 7 / 50: avg. loss of last epoch 0.3560114267969919\n",
            "avg. grad_norm of last epoch 0.0008193595289090876\n",
            "Current train acc: 97.02707592112404%, test acc: 96.96341381847368%\n",
            "Epoch 8 / 50: avg. loss of last epoch 0.35472270155538166\n",
            "avg. grad_norm of last epoch 0.0006593129343938829\n",
            "Current train acc: 97.02707592112404%, test acc: 96.96341381847368%\n",
            "Epoch 9 / 50: avg. loss of last epoch 0.3536930534585104\n",
            "avg. grad_norm of last epoch 0.0005453290220943011\n",
            "Current train acc: 97.02707592112404%, test acc: 96.96341381847368%\n",
            "Epoch 10 / 50: avg. loss of last epoch 0.3528474891407892\n",
            "avg. grad_norm of last epoch 0.0004598579194572028\n",
            "Current train acc: 97.02707592112404%, test acc: 96.96341381847368%\n",
            "Epoch 11 / 50: avg. loss of last epoch 0.3521419508913329\n",
            "avg. grad_norm of last epoch 0.00039390206535658674\n",
            "Current train acc: 97.02707592112404%, test acc: 96.96341381847368%\n",
            "Epoch 12 / 50: avg. loss of last epoch 0.35154493544067666\n",
            "avg. grad_norm of last epoch 0.0003430131677885929\n",
            "Current train acc: 97.02707592112404%, test acc: 96.96341381847368%\n",
            "Epoch 13 / 50: avg. loss of last epoch 0.35103049969854794\n",
            "avg. grad_norm of last epoch 0.00030086907143001\n",
            "Current train acc: 97.02707592112404%, test acc: 96.96341381847368%\n",
            "Epoch 14 / 50: avg. loss of last epoch 0.3505838915255492\n",
            "avg. grad_norm of last epoch 0.0002660181838464332\n",
            "Current train acc: 97.02707592112404%, test acc: 96.96341381847368%\n",
            "Epoch 15 / 50: avg. loss of last epoch 0.3501919617667078\n",
            "avg. grad_norm of last epoch 0.00023796556060988564\n",
            "Current train acc: 97.02707592112404%, test acc: 96.96341381847368%\n",
            "Epoch 16 / 50: avg. loss of last epoch 0.3498459167390758\n",
            "avg. grad_norm of last epoch 0.00021444629602101868\n",
            "Current train acc: 97.02707592112404%, test acc: 96.96341381847368%\n",
            "Epoch 17 / 50: avg. loss of last epoch 0.34953730663030397\n",
            "avg. grad_norm of last epoch 0.0001942952091991471\n",
            "Current train acc: 97.02707592112404%, test acc: 96.96341381847368%\n",
            "Epoch 18 / 50: avg. loss of last epoch 0.34926132990460007\n",
            "avg. grad_norm of last epoch 0.00017707227033315797\n",
            "Current train acc: 97.02707592112404%, test acc: 96.96341381847368%\n",
            "Epoch 19 / 50: avg. loss of last epoch 0.3490118258314376\n",
            "avg. grad_norm of last epoch 0.00016289440982512237\n",
            "Current train acc: 97.02707592112404%, test acc: 96.96341381847368%\n",
            "Epoch 20 / 50: avg. loss of last epoch 0.34878515078112343\n",
            "avg. grad_norm of last epoch 0.00015005392012887076\n",
            "Current train acc: 97.02707592112404%, test acc: 96.96341381847368%\n",
            "Epoch 21 / 50: avg. loss of last epoch 0.3485797083815864\n",
            "avg. grad_norm of last epoch 0.00013819212753140683\n",
            "Current train acc: 97.02707592112404%, test acc: 96.96341381847368%\n",
            "Epoch 22 / 50: avg. loss of last epoch 0.3483918994361424\n",
            "avg. grad_norm of last epoch 0.00012812437942319373\n",
            "Current train acc: 97.02707592112404%, test acc: 96.96341381847368%\n",
            "Epoch 23 / 50: avg. loss of last epoch 0.3482191051827522\n",
            "avg. grad_norm of last epoch 0.00011914565423682595\n",
            "Current train acc: 97.02707592112404%, test acc: 96.96341381847368%\n",
            "Epoch 24 / 50: avg. loss of last epoch 0.3480596935876771\n",
            "avg. grad_norm of last epoch 0.00011157431295856549\n",
            "Current train acc: 97.02707592112404%, test acc: 96.96341381847368%\n",
            "Epoch 25 / 50: avg. loss of last epoch 0.3479135491389882\n",
            "avg. grad_norm of last epoch 0.00010463708313925856\n",
            "Current train acc: 97.02707592112404%, test acc: 96.96341381847368%\n",
            "Epoch 26 / 50: avg. loss of last epoch 0.3477769522679487\n",
            "avg. grad_norm of last epoch 9.847668626220426e-05\n",
            "Current train acc: 97.02707592112404%, test acc: 96.96341381847368%\n",
            "Epoch 27 / 50: avg. loss of last epoch 0.3476501752360768\n",
            "avg. grad_norm of last epoch 9.237945686675755e-05\n",
            "Current train acc: 97.02707592112404%, test acc: 96.96341381847368%\n",
            "Epoch 28 / 50: avg. loss of last epoch 0.3475325269935986\n",
            "avg. grad_norm of last epoch 8.72362593264654e-05\n",
            "Current train acc: 97.02707592112404%, test acc: 96.96341381847368%\n",
            "Epoch 29 / 50: avg. loss of last epoch 0.3474225863742762\n",
            "avg. grad_norm of last epoch 8.279069494621831e-05\n",
            "Current train acc: 97.02707592112404%, test acc: 96.96341381847368%\n",
            "Epoch 30 / 50: avg. loss of last epoch 0.347319563991276\n",
            "avg. grad_norm of last epoch 7.840179380129806e-05\n",
            "Current train acc: 97.02707592112404%, test acc: 96.96341381847368%\n",
            "Epoch 31 / 50: avg. loss of last epoch 0.34722316399653674\n",
            "avg. grad_norm of last epoch 7.487169222504573e-05\n",
            "Current train acc: 97.02707592112404%, test acc: 96.96341381847368%\n",
            "Epoch 32 / 50: avg. loss of last epoch 0.3471322853383488\n",
            "avg. grad_norm of last epoch 7.092053758017695e-05\n",
            "Current train acc: 97.02707592112404%, test acc: 96.96341381847368%\n",
            "Epoch 33 / 50: avg. loss of last epoch 0.34704704531621877\n",
            "avg. grad_norm of last epoch 6.775217266989418e-05\n",
            "Current train acc: 97.02707592112404%, test acc: 96.96341381847368%\n",
            "Epoch 34 / 50: avg. loss of last epoch 0.34696657600797054\n",
            "avg. grad_norm of last epoch 6.476236983373456e-05\n",
            "Current train acc: 97.02707592112404%, test acc: 96.96341381847368%\n",
            "Epoch 35 / 50: avg. loss of last epoch 0.3468903873265766\n",
            "avg. grad_norm of last epoch 6.18860594514521e-05\n",
            "Current train acc: 97.02707592112404%, test acc: 96.96341381847368%\n",
            "Epoch 36 / 50: avg. loss of last epoch 0.3468184404587486\n",
            "avg. grad_norm of last epoch 5.9209249629221016e-05\n",
            "Current train acc: 97.02707592112404%, test acc: 96.96341381847368%\n",
            "Epoch 37 / 50: avg. loss of last epoch 0.346750312657085\n",
            "avg. grad_norm of last epoch 5.6755584574694316e-05\n",
            "Current train acc: 97.02707592112404%, test acc: 96.96341381847368%\n",
            "Epoch 38 / 50: avg. loss of last epoch 0.3466857339250886\n",
            "avg. grad_norm of last epoch 5.447811763272839e-05\n",
            "Current train acc: 97.02707592112404%, test acc: 96.96341381847368%\n",
            "Epoch 39 / 50: avg. loss of last epoch 0.3466243948287616\n",
            "avg. grad_norm of last epoch 5.264103737885982e-05\n",
            "Current train acc: 97.02707592112404%, test acc: 96.96341381847368%\n",
            "Epoch 40 / 50: avg. loss of last epoch 0.34656602958175603\n",
            "avg. grad_norm of last epoch 5.040921833272693e-05\n",
            "Current train acc: 97.02707592112404%, test acc: 96.96341381847368%\n",
            "Epoch 41 / 50: avg. loss of last epoch 0.34651055350244025\n",
            "avg. grad_norm of last epoch 4.870177455612959e-05\n",
            "Current train acc: 97.02707592112404%, test acc: 96.96341381847368%\n",
            "Epoch 42 / 50: avg. loss of last epoch 0.3464575246083977\n",
            "avg. grad_norm of last epoch 4.6945018411790266e-05\n",
            "Current train acc: 97.02707592112404%, test acc: 96.96341381847368%\n",
            "Epoch 43 / 50: avg. loss of last epoch 0.3464069786385729\n",
            "avg. grad_norm of last epoch 4.536497205271746e-05\n",
            "Current train acc: 97.02707592112404%, test acc: 96.96341381847368%\n",
            "Epoch 44 / 50: avg. loss of last epoch 0.3463588101044019\n",
            "avg. grad_norm of last epoch 4.409334289367528e-05\n",
            "Current train acc: 97.02707592112404%, test acc: 96.96341381847368%\n",
            "Epoch 45 / 50: avg. loss of last epoch 0.34631280503768264\n",
            "avg. grad_norm of last epoch 4.2440314286180285e-05\n",
            "Current train acc: 97.02707592112404%, test acc: 96.96341381847368%\n",
            "Epoch 46 / 50: avg. loss of last epoch 0.34626858126432075\n",
            "avg. grad_norm of last epoch 4.116110952138532e-05\n",
            "Current train acc: 97.02707592112404%, test acc: 96.96341381847368%\n",
            "Epoch 47 / 50: avg. loss of last epoch 0.346226402930455\n",
            "avg. grad_norm of last epoch 3.982134407753216e-05\n",
            "Current train acc: 97.02707592112404%, test acc: 96.96341381847368%\n",
            "Epoch 48 / 50: avg. loss of last epoch 0.34618595303184474\n",
            "avg. grad_norm of last epoch 3.860650541198905e-05\n",
            "Current train acc: 97.02707592112404%, test acc: 96.96341381847368%\n",
            "Epoch 49 / 50: avg. loss of last epoch 0.3461471265777395\n",
            "avg. grad_norm of last epoch 3.75418657996919e-05\n",
            "Current train acc: 97.02707592112404%, test acc: 96.96341381847368%\n",
            "Epoch 50 / 50: avg. loss of last epoch 0.3461097785701879\n",
            "avg. grad_norm of last epoch 3.651082455867311e-05\n",
            "Current train acc: 97.02707592112404%, test acc: 96.96341381847368%\n"
          ]
        }
      ]
    },
    {
      "cell_type": "code",
      "source": [
        "#Save the history\n",
        "save_history_json(\"/content/gdrive/MyDrive/SMGExperiments/SMG-w8a-History/SMG_ExponentialLR.json\", history)"
      ],
      "metadata": {
        "id": "UB-7n_hdsoYr"
      },
      "execution_count": null,
      "outputs": []
    },
    {
      "cell_type": "code",
      "source": [
        "plot_loss(history)\n",
        "plot_norm_square_grad(history)"
      ],
      "metadata": {
        "colab": {
          "base_uri": "https://localhost:8080/",
          "height": 596
        },
        "id": "5tCZowlwsqPN",
        "outputId": "d2d5ecba-a61d-45fa-f0e6-77d5b6313367"
      },
      "execution_count": 10,
      "outputs": [
        {
          "output_type": "stream",
          "name": "stderr",
          "text": [
            "No handles with labels found to put in legend.\n"
          ]
        },
        {
          "output_type": "display_data",
          "data": {
            "text/plain": [
              "<Figure size 432x288 with 1 Axes>"
            ],
            "image/png": "[encoded data removed]"
          },
          "metadata": {
            "needs_background": "light"
          }
        },
        {
          "output_type": "display_data",
          "data": {
            "text/plain": [
              "<Figure size 432x288 with 1 Axes>"
            ],
            "image/png": "[encoded data removed]"
          },
          "metadata": {
            "needs_background": "light"
          }
        }
      ]
    },
    {
      "cell_type": "markdown",
      "source": [
        "## SMG with Cosine Learning Rate Scheduler"
      ],
      "metadata": {
        "id": "__OOwEXXsrxX"
      }
    },
    {
      "cell_type": "code",
      "source": [
        "criterion = nn.SoftMarginLoss()\n",
        "\n",
        "model = NonconvexLogisticNet(300, 1, 128)\n",
        "model = model.to(device)\n",
        "epoch_count = 50\n",
        "\n",
        "\n",
        "scheduler = cosine_learning_rate_scheduler(0.005, epoch_count)\n",
        "\n",
        "# beta is proposed in paper and epoch_count is inferred from the graphs\n",
        "history = SMG_train(model, criterion, epoch_count, w8a_train_loader, w8a_test_loader, \n",
        "                    scheduler, beta=0.5, verbose=True)"
      ],
      "metadata": {
        "colab": {
          "base_uri": "https://localhost:8080/"
        },
        "id": "OF08jLwRssJL",
        "outputId": "eb894f99-5271-453e-c76d-28f9ed3fa3d6"
      },
      "execution_count": null,
      "outputs": [
        {
          "output_type": "stream",
          "name": "stdout",
          "text": [
            "Epoch 1 / 50: avg. loss of last epoch 0.4962061557618281\n",
            "avg. grad_norm of last epoch 0.13379296651287315\n",
            "Current train acc: 97.02707592112404%, test acc: 96.96341381847368%\n",
            "Epoch 2 / 50: avg. loss of last epoch 0.38058679785490557\n",
            "avg. grad_norm of last epoch 0.008729383016011307\n",
            "Current train acc: 97.02707592112404%, test acc: 96.96341381847368%\n",
            "Epoch 3 / 50: avg. loss of last epoch 0.35554021436601824\n",
            "avg. grad_norm of last epoch 0.0007587778383892463\n",
            "Current train acc: 97.02707592112404%, test acc: 96.96341381847368%\n",
            "Epoch 4 / 50: avg. loss of last epoch 0.3522479550958615\n",
            "avg. grad_norm of last epoch 0.0003998508710299713\n",
            "Current train acc: 97.02707592112404%, test acc: 96.96341381847368%\n",
            "Epoch 5 / 50: avg. loss of last epoch 0.3509162488477369\n",
            "avg. grad_norm of last epoch 0.00028814087357385896\n",
            "Current train acc: 97.02707592112404%, test acc: 96.96341381847368%\n",
            "Epoch 6 / 50: avg. loss of last epoch 0.3499930535938979\n",
            "avg. grad_norm of last epoch 0.00022180085134557373\n",
            "Current train acc: 97.02707592112404%, test acc: 96.96341381847368%\n",
            "Epoch 7 / 50: avg. loss of last epoch 0.34929322058149204\n",
            "avg. grad_norm of last epoch 0.00017714701041013502\n",
            "Current train acc: 97.02707592112404%, test acc: 96.96341381847368%\n",
            "Epoch 8 / 50: avg. loss of last epoch 0.348740251135013\n",
            "avg. grad_norm of last epoch 0.00014562737307732528\n",
            "Current train acc: 97.02707592112404%, test acc: 96.96341381847368%\n",
            "Epoch 9 / 50: avg. loss of last epoch 0.3482945871083816\n",
            "avg. grad_norm of last epoch 0.00012200423011007812\n",
            "Current train acc: 97.02707592112404%, test acc: 96.96341381847368%\n",
            "Epoch 10 / 50: avg. loss of last epoch 0.34792703840250416\n",
            "avg. grad_norm of last epoch 0.00010456030832005063\n",
            "Current train acc: 97.02707592112404%, test acc: 96.96341381847368%\n",
            "Epoch 11 / 50: avg. loss of last epoch 0.347620378365677\n",
            "avg. grad_norm of last epoch 9.012235726293354e-05\n",
            "Current train acc: 97.02707592112404%, test acc: 96.96341381847368%\n",
            "Epoch 12 / 50: avg. loss of last epoch 0.34736120082433025\n",
            "avg. grad_norm of last epoch 7.932039217583412e-05\n",
            "Current train acc: 97.02707592112404%, test acc: 96.96341381847368%\n",
            "Epoch 13 / 50: avg. loss of last epoch 0.3471392457666209\n",
            "avg. grad_norm of last epoch 7.053017062176358e-05\n",
            "Current train acc: 97.02707592112404%, test acc: 96.96341381847368%\n",
            "Epoch 14 / 50: avg. loss of last epoch 0.3469475987308643\n",
            "avg. grad_norm of last epoch 6.332217231004172e-05\n",
            "Current train acc: 97.02707592112404%, test acc: 96.96341381847368%\n",
            "Epoch 15 / 50: avg. loss of last epoch 0.34678068900710274\n",
            "avg. grad_norm of last epoch 5.7505324317293276e-05\n",
            "Current train acc: 97.02707592112404%, test acc: 96.96341381847368%\n",
            "Epoch 16 / 50: avg. loss of last epoch 0.34663487979904684\n",
            "avg. grad_norm of last epoch 5.232032437472954e-05\n",
            "Current train acc: 97.02707592112404%, test acc: 96.96341381847368%\n",
            "Epoch 17 / 50: avg. loss of last epoch 0.3465058921230469\n",
            "avg. grad_norm of last epoch 4.7976782437484754e-05\n",
            "Current train acc: 97.02707592112404%, test acc: 96.96341381847368%\n",
            "Epoch 18 / 50: avg. loss of last epoch 0.3463924391260961\n",
            "avg. grad_norm of last epoch 4.453911791689594e-05\n",
            "Current train acc: 97.02707592112404%, test acc: 96.96341381847368%\n",
            "Epoch 19 / 50: avg. loss of last epoch 0.3462918557369086\n",
            "avg. grad_norm of last epoch 4.1254547704766986e-05\n",
            "Current train acc: 97.02707592112404%, test acc: 96.96341381847368%\n",
            "Epoch 20 / 50: avg. loss of last epoch 0.34620243129295275\n",
            "avg. grad_norm of last epoch 3.8774865328644594e-05\n",
            "Current train acc: 97.02707592112404%, test acc: 96.96341381847368%\n",
            "Epoch 21 / 50: avg. loss of last epoch 0.3461220770257785\n",
            "avg. grad_norm of last epoch 3.640030860270841e-05\n",
            "Current train acc: 97.02707592112404%, test acc: 96.96341381847368%\n",
            "Epoch 22 / 50: avg. loss of last epoch 0.3460507124039983\n",
            "avg. grad_norm of last epoch 3.443587656649434e-05\n",
            "Current train acc: 97.02707592112404%, test acc: 96.96341381847368%\n",
            "Epoch 23 / 50: avg. loss of last epoch 0.34598663043069094\n",
            "avg. grad_norm of last epoch 3.291729591860109e-05\n",
            "Current train acc: 97.02707592112404%, test acc: 96.96341381847368%\n",
            "Epoch 24 / 50: avg. loss of last epoch 0.3459290710193369\n",
            "avg. grad_norm of last epoch 3.128355974001342e-05\n",
            "Current train acc: 97.02707592112404%, test acc: 96.96341381847368%\n",
            "Epoch 25 / 50: avg. loss of last epoch 0.3458775272363205\n",
            "avg. grad_norm of last epoch 2.9761930160823116e-05\n",
            "Current train acc: 97.02707592112404%, test acc: 96.96341381847368%\n",
            "Epoch 26 / 50: avg. loss of last epoch 0.34583131952351354\n",
            "avg. grad_norm of last epoch 2.8647263082972005e-05\n",
            "Current train acc: 97.02707592112404%, test acc: 96.96341381847368%\n",
            "Epoch 27 / 50: avg. loss of last epoch 0.3457897609891731\n",
            "avg. grad_norm of last epoch 2.7489634151221207e-05\n",
            "Current train acc: 97.02707592112404%, test acc: 96.96341381847368%\n",
            "Epoch 28 / 50: avg. loss of last epoch 0.34575258931247854\n",
            "avg. grad_norm of last epoch 2.6786383070482864e-05\n",
            "Current train acc: 97.02707592112404%, test acc: 96.96341381847368%\n",
            "Epoch 29 / 50: avg. loss of last epoch 0.34571925694337347\n",
            "avg. grad_norm of last epoch 2.5879805858888728e-05\n",
            "Current train acc: 97.02707592112404%, test acc: 96.96341381847368%\n",
            "Epoch 30 / 50: avg. loss of last epoch 0.34568958349960105\n",
            "avg. grad_norm of last epoch 2.5060873085262586e-05\n",
            "Current train acc: 97.02707592112404%, test acc: 96.96341381847368%\n",
            "Epoch 31 / 50: avg. loss of last epoch 0.3456631333588976\n",
            "avg. grad_norm of last epoch 2.4480550041791756e-05\n",
            "Current train acc: 97.02707592112404%, test acc: 96.96341381847368%\n",
            "Epoch 32 / 50: avg. loss of last epoch 0.34563953146452564\n",
            "avg. grad_norm of last epoch 2.395463159333842e-05\n",
            "Current train acc: 97.02707592112404%, test acc: 96.96341381847368%\n",
            "Epoch 33 / 50: avg. loss of last epoch 0.3456187675624844\n",
            "avg. grad_norm of last epoch 2.354430242846905e-05\n",
            "Current train acc: 97.02707592112404%, test acc: 96.96341381847368%\n",
            "Epoch 34 / 50: avg. loss of last epoch 0.3456004716772089\n",
            "avg. grad_norm of last epoch 2.3060295879064945e-05\n",
            "Current train acc: 97.02707592112404%, test acc: 96.96341381847368%\n",
            "Epoch 35 / 50: avg. loss of last epoch 0.3455844213537037\n",
            "avg. grad_norm of last epoch 2.276542366150667e-05\n",
            "Current train acc: 97.02707592112404%, test acc: 96.96341381847368%\n",
            "Epoch 36 / 50: avg. loss of last epoch 0.3455704601059638\n",
            "avg. grad_norm of last epoch 2.2406339423118957e-05\n",
            "Current train acc: 97.02707592112404%, test acc: 96.96341381847368%\n",
            "Epoch 37 / 50: avg. loss of last epoch 0.34555841211352595\n",
            "avg. grad_norm of last epoch 2.2103931920276088e-05\n",
            "Current train acc: 97.02707592112404%, test acc: 96.96341381847368%\n",
            "Epoch 38 / 50: avg. loss of last epoch 0.3455481568761405\n",
            "avg. grad_norm of last epoch 2.191941025395314e-05\n",
            "Current train acc: 97.02707592112404%, test acc: 96.96341381847368%\n",
            "Epoch 39 / 50: avg. loss of last epoch 0.3455394841960482\n",
            "avg. grad_norm of last epoch 2.157763996513828e-05\n",
            "Current train acc: 97.02707592112404%, test acc: 96.96341381847368%\n",
            "Epoch 40 / 50: avg. loss of last epoch 0.34553224534319266\n",
            "avg. grad_norm of last epoch 2.148850907678518e-05\n",
            "Current train acc: 97.02707592112404%, test acc: 96.96341381847368%\n",
            "Epoch 41 / 50: avg. loss of last epoch 0.3455263492218745\n",
            "avg. grad_norm of last epoch 2.1379214331784613e-05\n",
            "Current train acc: 97.02707592112404%, test acc: 96.96341381847368%\n",
            "Epoch 42 / 50: avg. loss of last epoch 0.3455216095833042\n",
            "avg. grad_norm of last epoch 2.1206481376536038e-05\n",
            "Current train acc: 97.02707592112404%, test acc: 96.96341381847368%\n",
            "Epoch 43 / 50: avg. loss of last epoch 0.34551792529164194\n",
            "avg. grad_norm of last epoch 2.1211444334103254e-05\n",
            "Current train acc: 97.02707592112404%, test acc: 96.96341381847368%\n",
            "Epoch 44 / 50: avg. loss of last epoch 0.3455151444496341\n",
            "avg. grad_norm of last epoch 2.1144594601736378e-05\n",
            "Current train acc: 97.02707592112404%, test acc: 96.96341381847368%\n",
            "Epoch 45 / 50: avg. loss of last epoch 0.34551315867828214\n",
            "avg. grad_norm of last epoch 2.1030635212783063e-05\n",
            "Current train acc: 97.02707592112404%, test acc: 96.96341381847368%\n",
            "Epoch 46 / 50: avg. loss of last epoch 0.3455118140800934\n",
            "avg. grad_norm of last epoch 2.113824295601425e-05\n",
            "Current train acc: 97.02707592112404%, test acc: 96.96341381847368%\n",
            "Epoch 47 / 50: avg. loss of last epoch 0.34551098714217676\n",
            "avg. grad_norm of last epoch 2.1104438107061557e-05\n",
            "Current train acc: 97.02707592112404%, test acc: 96.96341381847368%\n",
            "Epoch 48 / 50: avg. loss of last epoch 0.3455105871857728\n",
            "avg. grad_norm of last epoch 2.1007925375198337e-05\n",
            "Current train acc: 97.02707592112404%, test acc: 96.96341381847368%\n",
            "Epoch 49 / 50: avg. loss of last epoch 0.3455104761481744\n",
            "avg. grad_norm of last epoch 2.1007668834796114e-05\n",
            "Current train acc: 97.02707592112404%, test acc: 96.96341381847368%\n",
            "Epoch 50 / 50: avg. loss of last epoch 0.34551047597804346\n",
            "avg. grad_norm of last epoch 2.1026842621950325e-05\n",
            "Current train acc: 97.02707592112404%, test acc: 96.96341381847368%\n"
          ]
        }
      ]
    },
    {
      "cell_type": "code",
      "source": [
        "#Save the history\n",
        "save_history_json(\"/content/gdrive/MyDrive/SMGExperiments/SMG-w8a-History/SMG_CosineLR.json\", history)"
      ],
      "metadata": {
        "id": "I9ASGur9stQO"
      },
      "execution_count": null,
      "outputs": []
    },
    {
      "cell_type": "code",
      "source": [
        "plot_loss(history)\n",
        "plot_norm_square_grad(history)"
      ],
      "metadata": {
        "colab": {
          "base_uri": "https://localhost:8080/",
          "height": 596
        },
        "id": "0dpNSj5rsugX",
        "outputId": "4b8e1952-ab50-4b34-b198-35bef47eb178"
      },
      "execution_count": 12,
      "outputs": [
        {
          "output_type": "stream",
          "name": "stderr",
          "text": [
            "No handles with labels found to put in legend.\n"
          ]
        },
        {
          "output_type": "display_data",
          "data": {
            "text/plain": [
              "<Figure size 432x288 with 1 Axes>"
            ],
            "image/png": "[encoded data removed]"
          },
          "metadata": {
            "needs_background": "light"
          }
        },
        {
          "output_type": "display_data",
          "data": {
            "text/plain": [
              "<Figure size 432x288 with 1 Axes>"
            ],
            "image/png": "[encoded data removed]"
          },
          "metadata": {
            "needs_background": "light"
          }
        }
      ]
    },
    {
      "cell_type": "markdown",
      "source": [
        "# 2- Train Other Models and Compare over SMG"
      ],
      "metadata": {
        "id": "l52Pi7-ZswU6"
      }
    },
    {
      "cell_type": "markdown",
      "source": [
        "## Training with Adam\n"
      ],
      "metadata": {
        "id": "uhI-E6sds0Ll"
      }
    },
    {
      "cell_type": "code",
      "source": [
        "import torch.optim as optim\n",
        "\n",
        "criterion = nn.SoftMarginLoss()\n",
        "\n",
        "model = NonconvexLogisticNet(300, 1, 128)\n",
        "model = model.to(device)\n",
        "epochs = 50\n",
        "\n",
        "\n",
        "scheduler = constant_learning_rate_scheduler(0.0001)\n",
        "optimizer = optim.Adam(model.parameters(), lr=0.0001, betas=(0.9, 0.999))\n",
        "\n",
        "adam_history = train(model, criterion, optimizer, epochs, w8a_train_loader, w8a_test_loader, scheduler)"
      ],
      "metadata": {
        "colab": {
          "base_uri": "https://localhost:8080/"
        },
        "id": "CvHx251Os24l",
        "outputId": "73e6333c-b396-453a-ea29-9f2f541be9c1"
      },
      "execution_count": null,
      "outputs": [
        {
          "output_type": "stream",
          "name": "stdout",
          "text": [
            "Epoch 1 / 50: avg. loss of last epoch 0.6439646287032381\n",
            "Epoch 1 / 50: avg. grad_norm of last epoch 0.41329613808205345\n",
            "Current train acc: 86.38967617439546%, test acc: 86.3754932780416%\n",
            "Epoch 2 / 50: avg. loss of last epoch 0.5392904060553415\n",
            "Epoch 2 / 50: avg. grad_norm of last epoch 0.16906824391355676\n",
            "Current train acc: 97.09340891274196%, test acc: 97.01023342920206%\n",
            "Epoch 3 / 50: avg. loss of last epoch 0.4916950777865251\n",
            "Epoch 3 / 50: avg. grad_norm of last epoch 0.09024795585313954\n",
            "Current train acc: 97.09943918470724%, test acc: 97.0169219450204%\n",
            "Epoch 4 / 50: avg. loss of last epoch 0.46361852027010825\n",
            "Epoch 4 / 50: avg. grad_norm of last epoch 0.056794291920426086\n",
            "Current train acc: 97.1034593660174%, test acc: 97.0169219450204%\n",
            "Epoch 5 / 50: avg. loss of last epoch 0.44455006945557085\n",
            "Epoch 5 / 50: avg. grad_norm of last epoch 0.03924938930156994\n",
            "Current train acc: 97.1054694566725%, test acc: 97.0169219450204%\n",
            "Epoch 6 / 50: avg. loss of last epoch 0.43045848247266827\n",
            "Epoch 6 / 50: avg. grad_norm of last epoch 0.028762677567974904\n",
            "Current train acc: 97.18185290156586%, test acc: 97.10387265065881%\n",
            "Epoch 7 / 50: avg. loss of last epoch 0.41945023762189937\n",
            "Epoch 7 / 50: avg. grad_norm of last epoch 0.02183930441108186\n",
            "Current train acc: 97.1919033548413%, test acc: 97.11056116647715%\n",
            "Epoch 8 / 50: avg. loss of last epoch 0.4105188001389263\n",
            "Epoch 8 / 50: avg. grad_norm of last epoch 0.017106219415757025\n",
            "Current train acc: 97.25823634645923%, test acc: 97.19082335629724%\n",
            "Epoch 9 / 50: avg. loss of last epoch 0.4030704561832642\n",
            "Epoch 9 / 50: avg. grad_norm of last epoch 0.013651696159506552\n",
            "Current train acc: 97.28637761563047%, test acc: 97.20420038793392%\n",
            "Epoch 10 / 50: avg. loss of last epoch 0.39672945263843495\n",
            "Epoch 10 / 50: avg. grad_norm of last epoch 0.011088676087686404\n",
            "Current train acc: 97.32054915676697%, test acc: 97.23764296702562%\n",
            "Epoch 11 / 50: avg. loss of last epoch 0.3912479064220589\n",
            "Epoch 11 / 50: avg. grad_norm of last epoch 0.009098527188207466\n",
            "Current train acc: 97.35472069790347%, test acc: 97.26439703029898%\n",
            "Epoch 12 / 50: avg. loss of last epoch 0.38645758973109406\n",
            "Epoch 12 / 50: avg. grad_norm of last epoch 0.007558399113572692\n",
            "Current train acc: 97.36477115117891%, test acc: 97.27108554611732%\n",
            "Epoch 13 / 50: avg. loss of last epoch 0.38223244595564554\n",
            "Epoch 13 / 50: avg. grad_norm of last epoch 0.006306461187352247\n",
            "Current train acc: 97.37683169510944%, test acc: 97.27777406193566%\n",
            "Epoch 14 / 50: avg. loss of last epoch 0.3784799201498941\n",
            "Epoch 14 / 50: avg. grad_norm of last epoch 0.005316127574449109\n",
            "Current train acc: 97.39291242035016%, test acc: 97.29783960939068%\n",
            "Epoch 15 / 50: avg. loss of last epoch 0.3751287717051612\n",
            "Epoch 15 / 50: avg. grad_norm of last epoch 0.004497286778821218\n",
            "Current train acc: 97.40497296428069%, test acc: 97.30452812520902%\n",
            "Epoch 16 / 50: avg. loss of last epoch 0.3721220406915134\n",
            "Epoch 16 / 50: avg. grad_norm of last epoch 0.0038247046579801005\n",
            "Current train acc: 97.41703350821122%, test acc: 97.31121664102736%\n",
            "Epoch 17 / 50: avg. loss of last epoch 0.3694178566144036\n",
            "Epoch 17 / 50: avg. grad_norm of last epoch 0.0032542044731995235\n",
            "Current train acc: 97.44316468672737%, test acc: 97.3513477359374%\n",
            "Epoch 18 / 50: avg. loss of last epoch 0.36697636268331\n",
            "Epoch 18 / 50: avg. grad_norm of last epoch 0.0027812906734323885\n",
            "Current train acc: 97.4733160465537%, test acc: 97.37810179921075%\n",
            "Epoch 19 / 50: avg. loss of last epoch 0.36476639373287745\n",
            "Epoch 19 / 50: avg. grad_norm of last epoch 0.002405868478666987\n",
            "Current train acc: 97.48135640917405%, test acc: 97.39147883084743%\n",
            "Epoch 20 / 50: avg. loss of last epoch 0.36276388455700986\n",
            "Epoch 20 / 50: avg. grad_norm of last epoch 0.002065326476696629\n",
            "Current train acc: 97.4893967717944%, test acc: 97.39816734666577%\n",
            "Epoch 21 / 50: avg. loss of last epoch 0.36094868873784997\n",
            "Epoch 21 / 50: avg. grad_norm of last epoch 0.001774658827742417\n",
            "Current train acc: 97.49743713441477%, test acc: 97.40485586248411%\n",
            "Epoch 22 / 50: avg. loss of last epoch 0.3592958334640116\n",
            "Epoch 22 / 50: avg. grad_norm of last epoch 0.0015589052271365183\n",
            "Current train acc: 97.50547749703512%, test acc: 97.41154437830245%\n",
            "Epoch 23 / 50: avg. loss of last epoch 0.3577911450183842\n",
            "Epoch 23 / 50: avg. grad_norm of last epoch 0.0013473374273463407\n",
            "Current train acc: 97.51954813162074%, test acc: 97.42492140993913%\n",
            "Epoch 24 / 50: avg. loss of last epoch 0.35641864324162853\n",
            "Epoch 24 / 50: avg. grad_norm of last epoch 0.0011824749849312897\n",
            "Current train acc: 97.52758849424109%, test acc: 97.42492140993913%\n",
            "Epoch 25 / 50: avg. loss of last epoch 0.3551669816709254\n",
            "Epoch 25 / 50: avg. grad_norm of last epoch 0.0010246422149416926\n",
            "Current train acc: 97.53160867555127%, test acc: 97.43160992575747%\n",
            "Epoch 26 / 50: avg. loss of last epoch 0.3540244555728043\n",
            "Epoch 26 / 50: avg. grad_norm of last epoch 0.0009046175836263391\n",
            "Current train acc: 97.53964903817162%, test acc: 97.43829844157581%\n",
            "Epoch 27 / 50: avg. loss of last epoch 0.3529808294696663\n",
            "Epoch 27 / 50: avg. grad_norm of last epoch 0.000797709521566214\n",
            "Current train acc: 97.5436692194818%, test acc: 97.44498695739415%\n",
            "Epoch 28 / 50: avg. loss of last epoch 0.3520237001170515\n",
            "Epoch 28 / 50: avg. grad_norm of last epoch 0.0006960878729941852\n",
            "Current train acc: 97.54567931013689%, test acc: 97.44498695739415%\n",
            "Epoch 29 / 50: avg. loss of last epoch 0.3511446495177544\n",
            "Epoch 29 / 50: avg. grad_norm of last epoch 0.000619508089831599\n",
            "Current train acc: 97.54567931013689%, test acc: 97.44498695739415%\n",
            "Epoch 30 / 50: avg. loss of last epoch 0.35033735471691063\n",
            "Epoch 30 / 50: avg. grad_norm of last epoch 0.0005413560300336619\n",
            "Current train acc: 97.54768940079198%, test acc: 97.44498695739415%\n",
            "Epoch 31 / 50: avg. loss of last epoch 0.3495953078180002\n",
            "Epoch 31 / 50: avg. grad_norm of last epoch 0.00048695996606568125\n",
            "Current train acc: 97.55773985406742%, test acc: 97.45167547321249%\n",
            "Epoch 32 / 50: avg. loss of last epoch 0.3489090486393182\n",
            "Epoch 32 / 50: avg. grad_norm of last epoch 0.0004406920461863163\n",
            "Current train acc: 97.56176003537759%, test acc: 97.45167547321249%\n",
            "Epoch 33 / 50: avg. loss of last epoch 0.3482790106537236\n",
            "Epoch 33 / 50: avg. grad_norm of last epoch 0.0003877489092184135\n",
            "Current train acc: 97.56980039799795%, test acc: 97.45836398903083%\n",
            "Epoch 34 / 50: avg. loss of last epoch 0.3476960078969395\n",
            "Epoch 34 / 50: avg. grad_norm of last epoch 0.000346901584548196\n",
            "Current train acc: 97.56980039799795%, test acc: 97.45836398903083%\n",
            "Epoch 35 / 50: avg. loss of last epoch 0.34715607754848543\n",
            "Epoch 35 / 50: avg. grad_norm of last epoch 0.0003148845661849648\n",
            "Current train acc: 97.58387103258357%, test acc: 97.47842953648585%\n",
            "Epoch 36 / 50: avg. loss of last epoch 0.34665822998842727\n",
            "Epoch 36 / 50: avg. grad_norm of last epoch 0.00029163729158160817\n",
            "Current train acc: 97.58588112323866%, test acc: 97.47842953648585%\n",
            "Epoch 37 / 50: avg. loss of last epoch 0.34619669939022496\n",
            "Epoch 37 / 50: avg. grad_norm of last epoch 0.0002592060104543834\n",
            "Current train acc: 97.59191139520392%, test acc: 97.47842953648585%\n",
            "Epoch 38 / 50: avg. loss of last epoch 0.34577029337283754\n",
            "Epoch 38 / 50: avg. grad_norm of last epoch 0.00024357174594279662\n",
            "Current train acc: 97.60196184847936%, test acc: 97.49180656812253%\n",
            "Epoch 39 / 50: avg. loss of last epoch 0.3453748422355856\n",
            "Epoch 39 / 50: avg. grad_norm of last epoch 0.00022214235275668762\n",
            "Current train acc: 97.62407284568535%, test acc: 97.5185606313959%\n",
            "Epoch 40 / 50: avg. loss of last epoch 0.34500925999296006\n",
            "Epoch 40 / 50: avg. grad_norm of last epoch 0.00020804095092076747\n",
            "Current train acc: 97.6321132083057%, test acc: 97.53193766303258%\n",
            "Epoch 41 / 50: avg. loss of last epoch 0.3446705107001288\n",
            "Epoch 41 / 50: avg. grad_norm of last epoch 0.00019234965203617527\n",
            "Current train acc: 97.63814348027095%, test acc: 97.53193766303258%\n",
            "Epoch 42 / 50: avg. loss of last epoch 0.344357661084148\n",
            "Epoch 42 / 50: avg. grad_norm of last epoch 0.00017652257470385216\n",
            "Current train acc: 97.64417375223623%, test acc: 97.53862617885092%\n",
            "Epoch 43 / 50: avg. loss of last epoch 0.3440672532477285\n",
            "Epoch 43 / 50: avg. grad_norm of last epoch 0.00016970133199293008\n",
            "Current train acc: 97.65020402420149%, test acc: 97.54531469466926%\n",
            "Epoch 44 / 50: avg. loss of last epoch 0.3438003193178585\n",
            "Epoch 44 / 50: avg. grad_norm of last epoch 0.00015901593502954428\n",
            "Current train acc: 97.65221411485658%, test acc: 97.54531469466926%\n",
            "Epoch 45 / 50: avg. loss of last epoch 0.3435507566236982\n",
            "Epoch 45 / 50: avg. grad_norm of last epoch 0.00015318268791913563\n",
            "Current train acc: 97.66829484009729%, test acc: 97.55869172630594%\n",
            "Epoch 46 / 50: avg. loss of last epoch 0.34332276446636845\n",
            "Epoch 46 / 50: avg. grad_norm of last epoch 0.0001455315627574069\n",
            "Current train acc: 97.67231502140747%, test acc: 97.56538024212428%\n",
            "Epoch 47 / 50: avg. loss of last epoch 0.34311140351993846\n",
            "Epoch 47 / 50: avg. grad_norm of last epoch 0.000139740978902433\n",
            "Current train acc: 97.67834529337273%, test acc: 97.57206875794262%\n",
            "Epoch 48 / 50: avg. loss of last epoch 0.34291789836278647\n",
            "Epoch 48 / 50: avg. grad_norm of last epoch 0.00014116809237305433\n",
            "Current train acc: 97.684375565338%, test acc: 97.57875727376096%\n",
            "Epoch 49 / 50: avg. loss of last epoch 0.34273741653716583\n",
            "Epoch 49 / 50: avg. grad_norm of last epoch 0.00013354093816481767\n",
            "Current train acc: 97.68839574664817%, test acc: 97.57875727376096%\n",
            "Epoch 50 / 50: avg. loss of last epoch 0.3425725600861261\n",
            "Epoch 50 / 50: avg. grad_norm of last epoch 0.0001288252935420783\n",
            "Current train acc: 97.7004562905787%, test acc: 97.59213430539764%\n"
          ]
        }
      ]
    },
    {
      "cell_type": "code",
      "source": [
        "#Save the history\n",
        "save_history_json(\"/content/gdrive/MyDrive/SMGExperiments/w8a-Other-Optimizers/ADAM_constantLR.json\", adam_history)"
      ],
      "metadata": {
        "id": "RzzT03MetA7y"
      },
      "execution_count": null,
      "outputs": []
    },
    {
      "cell_type": "code",
      "source": [
        "plot_loss(adam_history)\n",
        "plot_norm_square_grad(adam_history)"
      ],
      "metadata": {
        "colab": {
          "base_uri": "https://localhost:8080/",
          "height": 596
        },
        "id": "-Jqk9jnItE00",
        "outputId": "e0f89ad7-184a-42e7-fca6-de1cd2360d10"
      },
      "execution_count": 13,
      "outputs": [
        {
          "output_type": "stream",
          "name": "stderr",
          "text": [
            "No handles with labels found to put in legend.\n"
          ]
        },
        {
          "output_type": "display_data",
          "data": {
            "text/plain": [
              "<Figure size 432x288 with 1 Axes>"
            ],
            "image/png": "[encoded data removed]"
          },
          "metadata": {
            "needs_background": "light"
          }
        },
        {
          "output_type": "display_data",
          "data": {
            "text/plain": [
              "<Figure size 432x288 with 1 Axes>"
            ],
            "image/png": "[encoded data removed]"
          },
          "metadata": {
            "needs_background": "light"
          }
        }
      ]
    },
    {
      "cell_type": "markdown",
      "source": [
        "## Training with SGD\n"
      ],
      "metadata": {
        "id": "XpPT7a5ptIFk"
      }
    },
    {
      "cell_type": "code",
      "source": [
        "import torch.optim as optim\n",
        "criterion = nn.SoftMarginLoss()\n",
        "\n",
        "model = NonconvexLogisticNet(300, 1, 128)\n",
        "model = model.to(device)\n",
        "epochs = 50\n",
        "\n",
        "\n",
        "scheduler = constant_learning_rate_scheduler(0.001)\n",
        "optimizer = optim.SGD(model.parameters(), lr=0.001)\n",
        "\n",
        "sgd_history = train(model, criterion, optimizer, epochs, w8a_train_loader, w8a_test_loader, scheduler)"
      ],
      "metadata": {
        "colab": {
          "base_uri": "https://localhost:8080/"
        },
        "id": "K5nYym5itJSH",
        "outputId": "dffdc234-01bd-40da-b2e0-f425054b6efa"
      },
      "execution_count": null,
      "outputs": [
        {
          "output_type": "stream",
          "name": "stdout",
          "text": [
            "Epoch 1 / 50: avg. loss of last epoch 0.643019724101641\n",
            "Epoch 1 / 50: avg. grad_norm of last epoch 0.43146427075153165\n",
            "Current train acc: 96.67732014713863%, test acc: 96.70925021737676%\n",
            "Epoch 2 / 50: avg. loss of last epoch 0.5326413777946178\n",
            "Epoch 2 / 50: avg. grad_norm of last epoch 0.19083204773577642\n",
            "Current train acc: 97.02707592112404%, test acc: 96.96341381847368%\n",
            "Epoch 3 / 50: avg. loss of last epoch 0.48089049332546724\n",
            "Epoch 3 / 50: avg. grad_norm of last epoch 0.10049398219267502\n",
            "Current train acc: 97.02707592112404%, test acc: 96.96341381847368%\n",
            "Epoch 4 / 50: avg. loss of last epoch 0.4515290646986128\n",
            "Epoch 4 / 50: avg. grad_norm of last epoch 0.06197338527856167\n",
            "Current train acc: 97.02707592112404%, test acc: 96.96341381847368%\n",
            "Epoch 5 / 50: avg. loss of last epoch 0.4325875822297364\n",
            "Epoch 5 / 50: avg. grad_norm of last epoch 0.04211180583533166\n",
            "Current train acc: 97.02707592112404%, test acc: 96.96341381847368%\n",
            "Epoch 6 / 50: avg. loss of last epoch 0.4193362405865457\n",
            "Epoch 6 / 50: avg. grad_norm of last epoch 0.030480845909285584\n",
            "Current train acc: 97.02707592112404%, test acc: 96.96341381847368%\n",
            "Epoch 7 / 50: avg. loss of last epoch 0.4095427149493369\n",
            "Epoch 7 / 50: avg. grad_norm of last epoch 0.02306971140208716\n",
            "Current train acc: 97.02707592112404%, test acc: 96.96341381847368%\n",
            "Epoch 8 / 50: avg. loss of last epoch 0.4020044304661569\n",
            "Epoch 8 / 50: avg. grad_norm of last epoch 0.01811743687997217\n",
            "Current train acc: 97.02707592112404%, test acc: 96.96341381847368%\n",
            "Epoch 9 / 50: avg. loss of last epoch 0.3960222059770927\n",
            "Epoch 9 / 50: avg. grad_norm of last epoch 0.014590555568403985\n",
            "Current train acc: 97.02707592112404%, test acc: 96.96341381847368%\n",
            "Epoch 10 / 50: avg. loss of last epoch 0.3911585167657501\n",
            "Epoch 10 / 50: avg. grad_norm of last epoch 0.012019920625781298\n",
            "Current train acc: 97.02707592112404%, test acc: 96.96341381847368%\n",
            "Epoch 11 / 50: avg. loss of last epoch 0.38712532092174473\n",
            "Epoch 11 / 50: avg. grad_norm of last epoch 0.010078874399972817\n",
            "Current train acc: 97.02707592112404%, test acc: 96.96341381847368%\n",
            "Epoch 12 / 50: avg. loss of last epoch 0.3837269657073776\n",
            "Epoch 12 / 50: avg. grad_norm of last epoch 0.008566177226504977\n",
            "Current train acc: 97.02707592112404%, test acc: 96.96341381847368%\n",
            "Epoch 13 / 50: avg. loss of last epoch 0.38082345147384855\n",
            "Epoch 13 / 50: avg. grad_norm of last epoch 0.007382136455220482\n",
            "Current train acc: 97.02707592112404%, test acc: 96.96341381847368%\n",
            "Epoch 14 / 50: avg. loss of last epoch 0.3783141096117904\n",
            "Epoch 14 / 50: avg. grad_norm of last epoch 0.0064229376672775\n",
            "Current train acc: 97.02707592112404%, test acc: 96.96341381847368%\n",
            "Epoch 15 / 50: avg. loss of last epoch 0.3761235340303789\n",
            "Epoch 15 / 50: avg. grad_norm of last epoch 0.00563130800420963\n",
            "Current train acc: 97.02707592112404%, test acc: 96.96341381847368%\n",
            "Epoch 16 / 50: avg. loss of last epoch 0.37419414037486337\n",
            "Epoch 16 / 50: avg. grad_norm of last epoch 0.004997091602966208\n",
            "Current train acc: 97.02707592112404%, test acc: 96.96341381847368%\n",
            "Epoch 17 / 50: avg. loss of last epoch 0.3724818010655268\n",
            "Epoch 17 / 50: avg. grad_norm of last epoch 0.004453890520996204\n",
            "Current train acc: 97.02707592112404%, test acc: 96.96341381847368%\n",
            "Epoch 18 / 50: avg. loss of last epoch 0.37095191191470994\n",
            "Epoch 18 / 50: avg. grad_norm of last epoch 0.003992463923008375\n",
            "Current train acc: 97.02707592112404%, test acc: 96.96341381847368%\n",
            "Epoch 19 / 50: avg. loss of last epoch 0.3695768442358136\n",
            "Epoch 19 / 50: avg. grad_norm of last epoch 0.0036085490052877745\n",
            "Current train acc: 97.02707592112404%, test acc: 96.96341381847368%\n",
            "Epoch 20 / 50: avg. loss of last epoch 0.3683336297547595\n",
            "Epoch 20 / 50: avg. grad_norm of last epoch 0.003270863713525081\n",
            "Current train acc: 97.02707592112404%, test acc: 96.96341381847368%\n",
            "Epoch 21 / 50: avg. loss of last epoch 0.3672044044662481\n",
            "Epoch 21 / 50: avg. grad_norm of last epoch 0.002978029888171546\n",
            "Current train acc: 97.02707592112404%, test acc: 96.96341381847368%\n",
            "Epoch 22 / 50: avg. loss of last epoch 0.36617414127242237\n",
            "Epoch 22 / 50: avg. grad_norm of last epoch 0.0027309797204331937\n",
            "Current train acc: 97.02707592112404%, test acc: 96.96341381847368%\n",
            "Epoch 23 / 50: avg. loss of last epoch 0.36523021600920164\n",
            "Epoch 23 / 50: avg. grad_norm of last epoch 0.00250258742062607\n",
            "Current train acc: 97.02707592112404%, test acc: 96.96341381847368%\n",
            "Epoch 24 / 50: avg. loss of last epoch 0.3643621903036931\n",
            "Epoch 24 / 50: avg. grad_norm of last epoch 0.0023148818043234884\n",
            "Current train acc: 97.02707592112404%, test acc: 96.96341381847368%\n",
            "Epoch 25 / 50: avg. loss of last epoch 0.36356139569973234\n",
            "Epoch 25 / 50: avg. grad_norm of last epoch 0.0021357047636928294\n",
            "Current train acc: 97.02707592112404%, test acc: 96.96341381847368%\n",
            "Epoch 26 / 50: avg. loss of last epoch 0.36282004740406426\n",
            "Epoch 26 / 50: avg. grad_norm of last epoch 0.0019849735827539954\n",
            "Current train acc: 97.02707592112404%, test acc: 96.96341381847368%\n",
            "Epoch 27 / 50: avg. loss of last epoch 0.36213210416742525\n",
            "Epoch 27 / 50: avg. grad_norm of last epoch 0.0018467999832244655\n",
            "Current train acc: 97.02707592112404%, test acc: 96.96341381847368%\n",
            "Epoch 28 / 50: avg. loss of last epoch 0.3614917389879123\n",
            "Epoch 28 / 50: avg. grad_norm of last epoch 0.001722711585945328\n",
            "Current train acc: 97.02707592112404%, test acc: 96.96341381847368%\n",
            "Epoch 29 / 50: avg. loss of last epoch 0.3608941927601044\n",
            "Epoch 29 / 50: avg. grad_norm of last epoch 0.0016122080942012785\n",
            "Current train acc: 97.02707592112404%, test acc: 96.96341381847368%\n",
            "Epoch 30 / 50: avg. loss of last epoch 0.36033525696943575\n",
            "Epoch 30 / 50: avg. grad_norm of last epoch 0.0015087174317949073\n",
            "Current train acc: 97.02707592112404%, test acc: 96.96341381847368%\n",
            "Epoch 31 / 50: avg. loss of last epoch 0.35981140840439146\n",
            "Epoch 31 / 50: avg. grad_norm of last epoch 0.0014169029179987376\n",
            "Current train acc: 97.02707592112404%, test acc: 96.96341381847368%\n",
            "Epoch 32 / 50: avg. loss of last epoch 0.3593193398698224\n",
            "Epoch 32 / 50: avg. grad_norm of last epoch 0.0013350463535781215\n",
            "Current train acc: 97.02707592112404%, test acc: 96.96341381847368%\n",
            "Epoch 33 / 50: avg. loss of last epoch 0.358856320152925\n",
            "Epoch 33 / 50: avg. grad_norm of last epoch 0.0012580291355196763\n",
            "Current train acc: 97.02707592112404%, test acc: 96.96341381847368%\n",
            "Epoch 34 / 50: avg. loss of last epoch 0.3584196929675342\n",
            "Epoch 34 / 50: avg. grad_norm of last epoch 0.0011876639421361647\n",
            "Current train acc: 97.02707592112404%, test acc: 96.96341381847368%\n",
            "Epoch 35 / 50: avg. loss of last epoch 0.3580073808253802\n",
            "Epoch 35 / 50: avg. grad_norm of last epoch 0.001124918469381107\n",
            "Current train acc: 97.02707592112404%, test acc: 96.96341381847368%\n",
            "Epoch 36 / 50: avg. loss of last epoch 0.3576172848358023\n",
            "Epoch 36 / 50: avg. grad_norm of last epoch 0.0010638421387443625\n",
            "Current train acc: 97.02707592112404%, test acc: 96.96341381847368%\n",
            "Epoch 37 / 50: avg. loss of last epoch 0.357247786084339\n",
            "Epoch 37 / 50: avg. grad_norm of last epoch 0.0010099195968498356\n",
            "Current train acc: 97.02707592112404%, test acc: 96.96341381847368%\n",
            "Epoch 38 / 50: avg. loss of last epoch 0.35689726032435154\n",
            "Epoch 38 / 50: avg. grad_norm of last epoch 0.0009599979693706005\n",
            "Current train acc: 97.02707592112404%, test acc: 96.96341381847368%\n",
            "Epoch 39 / 50: avg. loss of last epoch 0.3565642011508519\n",
            "Epoch 39 / 50: avg. grad_norm of last epoch 0.0009115670935748513\n",
            "Current train acc: 97.02707592112404%, test acc: 96.96341381847368%\n",
            "Epoch 40 / 50: avg. loss of last epoch 0.35624749028274627\n",
            "Epoch 40 / 50: avg. grad_norm of last epoch 0.0008688849818188565\n",
            "Current train acc: 97.02707592112404%, test acc: 96.96341381847368%\n",
            "Epoch 41 / 50: avg. loss of last epoch 0.35594584349447844\n",
            "Epoch 41 / 50: avg. grad_norm of last epoch 0.0008294021497919665\n",
            "Current train acc: 97.02707592112404%, test acc: 96.96341381847368%\n",
            "Epoch 42 / 50: avg. loss of last epoch 0.35565816746093204\n",
            "Epoch 42 / 50: avg. grad_norm of last epoch 0.0007905399080033423\n",
            "Current train acc: 97.02707592112404%, test acc: 96.96341381847368%\n",
            "Epoch 43 / 50: avg. loss of last epoch 0.3553835314060205\n",
            "Epoch 43 / 50: avg. grad_norm of last epoch 0.0007566176992186386\n",
            "Current train acc: 97.02707592112404%, test acc: 96.96341381847368%\n",
            "Epoch 44 / 50: avg. loss of last epoch 0.35512111440932054\n",
            "Epoch 44 / 50: avg. grad_norm of last epoch 0.0007243819940119535\n",
            "Current train acc: 97.02707592112404%, test acc: 96.96341381847368%\n",
            "Epoch 45 / 50: avg. loss of last epoch 0.3548701100792583\n",
            "Epoch 45 / 50: avg. grad_norm of last epoch 0.0006933290480813374\n",
            "Current train acc: 97.02707592112404%, test acc: 96.96341381847368%\n",
            "Epoch 46 / 50: avg. loss of last epoch 0.35462973990781405\n",
            "Epoch 46 / 50: avg. grad_norm of last epoch 0.0006643213437097466\n",
            "Current train acc: 97.02707592112404%, test acc: 96.96341381847368%\n",
            "Epoch 47 / 50: avg. loss of last epoch 0.35439943457951395\n",
            "Epoch 47 / 50: avg. grad_norm of last epoch 0.0006382784928061897\n",
            "Current train acc: 97.02707592112404%, test acc: 96.96341381847368%\n",
            "Epoch 48 / 50: avg. loss of last epoch 0.3541784949555618\n",
            "Epoch 48 / 50: avg. grad_norm of last epoch 0.0006111965734077929\n",
            "Current train acc: 97.02707592112404%, test acc: 96.96341381847368%\n",
            "Epoch 49 / 50: avg. loss of last epoch 0.353966366566831\n",
            "Epoch 49 / 50: avg. grad_norm of last epoch 0.000588316693186123\n",
            "Current train acc: 97.02707592112404%, test acc: 96.96341381847368%\n",
            "Epoch 50 / 50: avg. loss of last epoch 0.35376257396357264\n",
            "Epoch 50 / 50: avg. grad_norm of last epoch 0.0005678024536295753\n",
            "Current train acc: 97.02707592112404%, test acc: 96.96341381847368%\n"
          ]
        }
      ]
    },
    {
      "cell_type": "code",
      "source": [
        "#Save the history\n",
        "save_history_json(\"/content/gdrive/MyDrive/SMGExperiments/w8a-Other-Optimizers/SGD_constantLR.json\", sgd_history)"
      ],
      "metadata": {
        "id": "D93IzSuMtJtC"
      },
      "execution_count": null,
      "outputs": []
    },
    {
      "cell_type": "code",
      "source": [
        "plot_loss(sgd_history)\n",
        "plot_norm_square_grad(sgd_history)"
      ],
      "metadata": {
        "colab": {
          "base_uri": "https://localhost:8080/",
          "height": 596
        },
        "id": "3mXZinVxtLkv",
        "outputId": "c27a39fc-9ac6-4321-a243-f824ef1195b1"
      },
      "execution_count": 15,
      "outputs": [
        {
          "output_type": "stream",
          "name": "stderr",
          "text": [
            "No handles with labels found to put in legend.\n"
          ]
        },
        {
          "output_type": "display_data",
          "data": {
            "text/plain": [
              "<Figure size 432x288 with 1 Axes>"
            ],
            "image/png": "[encoded data removed]"
          },
          "metadata": {
            "needs_background": "light"
          }
        },
        {
          "output_type": "display_data",
          "data": {
            "text/plain": [
              "<Figure size 432x288 with 1 Axes>"
            ],
            "image/png": "[encoded data removed]"
          },
          "metadata": {
            "needs_background": "light"
          }
        }
      ]
    },
    {
      "cell_type": "markdown",
      "source": [
        "## Training with SGD-M"
      ],
      "metadata": {
        "id": "arrH0B6vtNsZ"
      }
    },
    {
      "cell_type": "code",
      "source": [
        "import torch.optim as optim\n",
        "criterion = nn.SoftMarginLoss()\n",
        "\n",
        "model = NonconvexLogisticNet(300, 1, 128)\n",
        "model = model.to(device)\n",
        "epoch_count = 50\n",
        "\n",
        "\n",
        "scheduler = constant_learning_rate_scheduler(0.001)\n",
        "optimizer = optim.SGD(model.parameters(), lr=0.001, momentum=0.5)\n",
        "\n",
        "sgdm_history = train(model, criterion, optimizer, epochs, w8a_train_loader, w8a_test_loader, scheduler)"
      ],
      "metadata": {
        "colab": {
          "base_uri": "https://localhost:8080/"
        },
        "id": "8DYoUfG7tOK6",
        "outputId": "d7521dea-36c3-43b9-fd60-41a25d3cc0c3"
      },
      "execution_count": null,
      "outputs": [
        {
          "output_type": "stream",
          "name": "stdout",
          "text": [
            "Epoch 1 / 50: avg. loss of last epoch 0.5864996922837082\n",
            "Epoch 1 / 50: avg. grad_norm of last epoch 0.31206565277218473\n",
            "Current train acc: 97.02707592112404%, test acc: 96.96341381847368%\n",
            "Epoch 2 / 50: avg. loss of last epoch 0.4650462274833047\n",
            "Epoch 2 / 50: avg. grad_norm of last epoch 0.08008223683383409\n",
            "Current train acc: 97.02707592112404%, test acc: 96.96341381847368%\n",
            "Epoch 3 / 50: avg. loss of last epoch 0.425380140712516\n",
            "Epoch 3 / 50: avg. grad_norm of last epoch 0.03567372311500818\n",
            "Current train acc: 97.02707592112404%, test acc: 96.96341381847368%\n",
            "Epoch 4 / 50: avg. loss of last epoch 0.4054758497128093\n",
            "Epoch 4 / 50: avg. grad_norm of last epoch 0.020295420065030025\n",
            "Current train acc: 97.02707592112404%, test acc: 96.96341381847368%\n",
            "Epoch 5 / 50: avg. loss of last epoch 0.39343568489535713\n",
            "Epoch 5 / 50: avg. grad_norm of last epoch 0.013133823753886087\n",
            "Current train acc: 97.02707592112404%, test acc: 96.96341381847368%\n",
            "Epoch 6 / 50: avg. loss of last epoch 0.3853502137562401\n",
            "Epoch 6 / 50: avg. grad_norm of last epoch 0.009204181018436168\n",
            "Current train acc: 97.02707592112404%, test acc: 96.96341381847368%\n",
            "Epoch 7 / 50: avg. loss of last epoch 0.3795372276001209\n",
            "Epoch 7 / 50: avg. grad_norm of last epoch 0.006824187013064497\n",
            "Current train acc: 97.02707592112404%, test acc: 96.96341381847368%\n",
            "Epoch 8 / 50: avg. loss of last epoch 0.3751537798900685\n",
            "Epoch 8 / 50: avg. grad_norm of last epoch 0.005260024119068056\n",
            "Current train acc: 97.02707592112404%, test acc: 96.96341381847368%\n",
            "Epoch 9 / 50: avg. loss of last epoch 0.37172857091777645\n",
            "Epoch 9 / 50: avg. grad_norm of last epoch 0.004182753616961648\n",
            "Current train acc: 97.02707592112404%, test acc: 96.96341381847368%\n",
            "Epoch 10 / 50: avg. loss of last epoch 0.36897759966441607\n",
            "Epoch 10 / 50: avg. grad_norm of last epoch 0.0034142737320017142\n",
            "Current train acc: 97.02707592112404%, test acc: 96.96341381847368%\n",
            "Epoch 11 / 50: avg. loss of last epoch 0.36671823249450014\n",
            "Epoch 11 / 50: avg. grad_norm of last epoch 0.0028290827547610554\n",
            "Current train acc: 97.02707592112404%, test acc: 96.96341381847368%\n",
            "Epoch 12 / 50: avg. loss of last epoch 0.3648295283596721\n",
            "Epoch 12 / 50: avg. grad_norm of last epoch 0.0023891759863392654\n",
            "Current train acc: 97.02707592112404%, test acc: 96.96341381847368%\n",
            "Epoch 13 / 50: avg. loss of last epoch 0.36322711306209327\n",
            "Epoch 13 / 50: avg. grad_norm of last epoch 0.0020448807980816535\n",
            "Current train acc: 97.02707592112404%, test acc: 96.96341381847368%\n",
            "Epoch 14 / 50: avg. loss of last epoch 0.36184986761034227\n",
            "Epoch 14 / 50: avg. grad_norm of last epoch 0.0017754621346957905\n",
            "Current train acc: 97.02707592112404%, test acc: 96.96341381847368%\n",
            "Epoch 15 / 50: avg. loss of last epoch 0.3606532637110984\n",
            "Epoch 15 / 50: avg. grad_norm of last epoch 0.0015515297244781791\n",
            "Current train acc: 97.02707592112404%, test acc: 96.96341381847368%\n",
            "Epoch 16 / 50: avg. loss of last epoch 0.3596040325398758\n",
            "Epoch 16 / 50: avg. grad_norm of last epoch 0.0013662673910381587\n",
            "Current train acc: 97.02707592112404%, test acc: 96.96341381847368%\n",
            "Epoch 17 / 50: avg. loss of last epoch 0.3586766002145796\n",
            "Epoch 17 / 50: avg. grad_norm of last epoch 0.0012143023526475611\n",
            "Current train acc: 97.02707592112404%, test acc: 96.96341381847368%\n",
            "Epoch 18 / 50: avg. loss of last epoch 0.35785069745862524\n",
            "Epoch 18 / 50: avg. grad_norm of last epoch 0.0010865553782148443\n",
            "Current train acc: 97.02707592112404%, test acc: 96.96341381847368%\n",
            "Epoch 19 / 50: avg. loss of last epoch 0.3571103700684715\n",
            "Epoch 19 / 50: avg. grad_norm of last epoch 0.00098149993143667\n",
            "Current train acc: 97.02707592112404%, test acc: 96.96341381847368%\n",
            "Epoch 20 / 50: avg. loss of last epoch 0.3564430966411091\n",
            "Epoch 20 / 50: avg. grad_norm of last epoch 0.0008856811972948221\n",
            "Current train acc: 97.02707592112404%, test acc: 96.96341381847368%\n",
            "Epoch 21 / 50: avg. loss of last epoch 0.3558384729281396\n",
            "Epoch 21 / 50: avg. grad_norm of last epoch 0.0008052918152032426\n",
            "Current train acc: 97.02707592112404%, test acc: 96.96341381847368%\n",
            "Epoch 22 / 50: avg. loss of last epoch 0.3552881836682703\n",
            "Epoch 22 / 50: avg. grad_norm of last epoch 0.000735340579075439\n",
            "Current train acc: 97.02707592112404%, test acc: 96.96341381847368%\n",
            "Epoch 23 / 50: avg. loss of last epoch 0.35478500414631264\n",
            "Epoch 23 / 50: avg. grad_norm of last epoch 0.0006745038280323793\n",
            "Current train acc: 97.02707592112404%, test acc: 96.96341381847368%\n",
            "Epoch 24 / 50: avg. loss of last epoch 0.35432330281840524\n",
            "Epoch 24 / 50: avg. grad_norm of last epoch 0.0006203720558914921\n",
            "Current train acc: 97.02707592112404%, test acc: 96.96341381847368%\n",
            "Epoch 25 / 50: avg. loss of last epoch 0.3538980859735265\n",
            "Epoch 25 / 50: avg. grad_norm of last epoch 0.0005747922087453703\n",
            "Current train acc: 97.02707592112404%, test acc: 96.96341381847368%\n",
            "Epoch 26 / 50: avg. loss of last epoch 0.35350507868901265\n",
            "Epoch 26 / 50: avg. grad_norm of last epoch 0.0005303503765090662\n",
            "Current train acc: 97.02707592112404%, test acc: 96.96341381847368%\n",
            "Epoch 27 / 50: avg. loss of last epoch 0.3531409544502327\n",
            "Epoch 27 / 50: avg. grad_norm of last epoch 0.0004938671523611702\n",
            "Current train acc: 97.02707592112404%, test acc: 96.96341381847368%\n",
            "Epoch 28 / 50: avg. loss of last epoch 0.3528024932908477\n",
            "Epoch 28 / 50: avg. grad_norm of last epoch 0.00046054882045326026\n",
            "Current train acc: 97.02707592112404%, test acc: 96.96341381847368%\n",
            "Epoch 29 / 50: avg. loss of last epoch 0.3524870932882171\n",
            "Epoch 29 / 50: avg. grad_norm of last epoch 0.00042956490384526627\n",
            "Current train acc: 97.02707592112404%, test acc: 96.96341381847368%\n",
            "Epoch 30 / 50: avg. loss of last epoch 0.3521925118369008\n",
            "Epoch 30 / 50: avg. grad_norm of last epoch 0.0004021750092202465\n",
            "Current train acc: 97.02707592112404%, test acc: 96.96341381847368%\n",
            "Epoch 31 / 50: avg. loss of last epoch 0.35191682878708774\n",
            "Epoch 31 / 50: avg. grad_norm of last epoch 0.00037715827314855596\n",
            "Current train acc: 97.02707592112404%, test acc: 96.96341381847368%\n",
            "Epoch 32 / 50: avg. loss of last epoch 0.3516581665020105\n",
            "Epoch 32 / 50: avg. grad_norm of last epoch 0.0003541708899627709\n",
            "Current train acc: 97.02707592112404%, test acc: 96.96341381847368%\n",
            "Epoch 33 / 50: avg. loss of last epoch 0.35141503091119497\n",
            "Epoch 33 / 50: avg. grad_norm of last epoch 0.0003336100252055315\n",
            "Current train acc: 97.02707592112404%, test acc: 96.96341381847368%\n",
            "Epoch 34 / 50: avg. loss of last epoch 0.3511860338700437\n",
            "Epoch 34 / 50: avg. grad_norm of last epoch 0.0003160671954199999\n",
            "Current train acc: 97.02707592112404%, test acc: 96.96341381847368%\n",
            "Epoch 35 / 50: avg. loss of last epoch 0.3509699986316167\n",
            "Epoch 35 / 50: avg. grad_norm of last epoch 0.0002967121760670511\n",
            "Current train acc: 97.02707592112404%, test acc: 96.96341381847368%\n",
            "Epoch 36 / 50: avg. loss of last epoch 0.35076588233448536\n",
            "Epoch 36 / 50: avg. grad_norm of last epoch 0.00028292351119678345\n",
            "Current train acc: 97.02707592112404%, test acc: 96.96341381847368%\n",
            "Epoch 37 / 50: avg. loss of last epoch 0.3505726903015034\n",
            "Epoch 37 / 50: avg. grad_norm of last epoch 0.0002671196032885243\n",
            "Current train acc: 97.02707592112404%, test acc: 96.96341381847368%\n",
            "Epoch 38 / 50: avg. loss of last epoch 0.3503896017128883\n",
            "Epoch 38 / 50: avg. grad_norm of last epoch 0.0002536716448433708\n",
            "Current train acc: 97.02707592112404%, test acc: 96.96341381847368%\n",
            "Epoch 39 / 50: avg. loss of last epoch 0.35021581763408743\n",
            "Epoch 39 / 50: avg. grad_norm of last epoch 0.0002412216097711944\n",
            "Current train acc: 97.02707592112404%, test acc: 96.96341381847368%\n",
            "Epoch 40 / 50: avg. loss of last epoch 0.35005064156034416\n",
            "Epoch 40 / 50: avg. grad_norm of last epoch 0.00022991118218937837\n",
            "Current train acc: 97.02707592112404%, test acc: 96.96341381847368%\n",
            "Epoch 41 / 50: avg. loss of last epoch 0.3498934952035574\n",
            "Epoch 41 / 50: avg. grad_norm of last epoch 0.00021919164110776506\n",
            "Current train acc: 97.02707592112404%, test acc: 96.96341381847368%\n",
            "Epoch 42 / 50: avg. loss of last epoch 0.3497437644707876\n",
            "Epoch 42 / 50: avg. grad_norm of last epoch 0.00020864808043021826\n",
            "Current train acc: 97.02707592112404%, test acc: 96.96341381847368%\n",
            "Epoch 43 / 50: avg. loss of last epoch 0.3496009440452635\n",
            "Epoch 43 / 50: avg. grad_norm of last epoch 0.0001996033169207991\n",
            "Current train acc: 97.02707592112404%, test acc: 96.96341381847368%\n",
            "Epoch 44 / 50: avg. loss of last epoch 0.3494646045288901\n",
            "Epoch 44 / 50: avg. grad_norm of last epoch 0.0001909574070556465\n",
            "Current train acc: 97.02707592112404%, test acc: 96.96341381847368%\n",
            "Epoch 45 / 50: avg. loss of last epoch 0.3493343035660404\n",
            "Epoch 45 / 50: avg. grad_norm of last epoch 0.00018248452558177925\n",
            "Current train acc: 97.02707592112404%, test acc: 96.96341381847368%\n",
            "Epoch 46 / 50: avg. loss of last epoch 0.3492096105383455\n",
            "Epoch 46 / 50: avg. grad_norm of last epoch 0.00017475955273360219\n",
            "Current train acc: 97.02707592112404%, test acc: 96.96341381847368%\n",
            "Epoch 47 / 50: avg. loss of last epoch 0.34909021738903073\n",
            "Epoch 47 / 50: avg. grad_norm of last epoch 0.0001680152865048645\n",
            "Current train acc: 97.02707592112404%, test acc: 96.96341381847368%\n",
            "Epoch 48 / 50: avg. loss of last epoch 0.34897579943937984\n",
            "Epoch 48 / 50: avg. grad_norm of last epoch 0.00016141027540643538\n",
            "Current train acc: 97.02707592112404%, test acc: 96.96341381847368%\n",
            "Epoch 49 / 50: avg. loss of last epoch 0.34886602500534103\n",
            "Epoch 49 / 50: avg. grad_norm of last epoch 0.0001548366817634161\n",
            "Current train acc: 97.02707592112404%, test acc: 96.96341381847368%\n",
            "Epoch 50 / 50: avg. loss of last epoch 0.34876063513756744\n",
            "Epoch 50 / 50: avg. grad_norm of last epoch 0.000149186489923899\n",
            "Current train acc: 97.02707592112404%, test acc: 96.96341381847368%\n"
          ]
        }
      ]
    },
    {
      "cell_type": "code",
      "source": [
        "#Save the history\n",
        "save_history_json(\"/content/gdrive/MyDrive/SMGExperiments/w8a-Other-Optimizers/SGD-M_constantLR.json\", sgdm_history)"
      ],
      "metadata": {
        "id": "iAifomi3tPGr"
      },
      "execution_count": null,
      "outputs": []
    },
    {
      "cell_type": "code",
      "source": [
        "plot_loss(sgdm_history)\n",
        "plot_norm_square_grad(sgdm_history)"
      ],
      "metadata": {
        "colab": {
          "base_uri": "https://localhost:8080/",
          "height": 601
        },
        "id": "HTi3IcQNtR_4",
        "outputId": "06b8a4c4-69ad-461b-b342-273c14961b21"
      },
      "execution_count": 16,
      "outputs": [
        {
          "output_type": "stream",
          "name": "stderr",
          "text": [
            "No handles with labels found to put in legend.\n"
          ]
        },
        {
          "output_type": "display_data",
          "data": {
            "text/plain": [
              "<Figure size 432x288 with 1 Axes>"
            ],
            "image/png": "[encoded data removed]"
          },
          "metadata": {
            "needs_background": "light"
          }
        },
        {
          "output_type": "display_data",
          "data": {
            "text/plain": [
              "<Figure size 432x288 with 1 Axes>"
            ],
            "image/png": "[encoded data removed]"
          },
          "metadata": {
            "needs_background": "light"
          }
        }
      ]
    },
    {
      "cell_type": "markdown",
      "source": [
        "## Training with SSMG\n"
      ],
      "metadata": {
        "id": "BEoEr51MtSfj"
      }
    },
    {
      "cell_type": "code",
      "source": [
        "import torch.optim as optim\n",
        "\n",
        "criterion = nn.SoftMarginLoss()\n",
        "\n",
        "model = NonconvexLogisticNet(300, 1, 128)\n",
        "model = model.to(device)\n",
        "epoch_count = 50\n",
        "\n",
        "\n",
        "scheduler = constant_learning_rate_scheduler(0.001)\n",
        "\n",
        "#SSMG is single shuffle variant of the SMG (with different optimizer step.) \n",
        "#Thus, reload the batch by shuffling it once and disable shuffling in every epoch\n",
        "w8a_train_loader, w8a_test_loader = w8a_data_loader(w8a_X_train, w8a_Y_train, w8a_X_test, w8a_Y_test, 128, True)\n",
        "\n",
        "# beta is proposed in paper and epoch_count is inferenced from the graphs\n",
        "ssmgHistory = SSMG_train(model, criterion, epoch_count, w8a_train_loader, w8a_test_loader, \n",
        "                    scheduler, beta=0.5, verbose=True)"
      ],
      "metadata": {
        "colab": {
          "base_uri": "https://localhost:8080/"
        },
        "id": "QdMV1Y19tU-m",
        "outputId": "4d405aa2-ab6b-4e97-ff67-9ad12bdc3235"
      },
      "execution_count": null,
      "outputs": [
        {
          "output_type": "stream",
          "name": "stdout",
          "text": [
            "Epoch 1 / 50: avg. loss of last epoch 0.6138935392747689\n",
            "avg. grad_norm of last epoch 0.3630633254230444\n",
            "Current train acc: 97.06727773422581%, test acc: 97.02361046083874%\n",
            "Epoch 2 / 50: avg. loss of last epoch 0.5203456815426\n",
            "avg. grad_norm of last epoch 0.16647438669080156\n",
            "Current train acc: 97.02707592112404%, test acc: 96.96341381847368%\n",
            "Epoch 3 / 50: avg. loss of last epoch 0.4742154539968528\n",
            "avg. grad_norm of last epoch 0.09131220920547806\n",
            "Current train acc: 97.02707592112404%, test acc: 96.96341381847368%\n",
            "Epoch 4 / 50: avg. loss of last epoch 0.447227156298367\n",
            "avg. grad_norm of last epoch 0.05745581615611658\n",
            "Current train acc: 97.02707592112404%, test acc: 96.96341381847368%\n",
            "Epoch 5 / 50: avg. loss of last epoch 0.4295310140346173\n",
            "avg. grad_norm of last epoch 0.03948512893039235\n",
            "Current train acc: 97.02707592112404%, test acc: 96.96341381847368%\n",
            "Epoch 6 / 50: avg. loss of last epoch 0.4170289061135818\n",
            "avg. grad_norm of last epoch 0.028819493268049903\n",
            "Current train acc: 97.02707592112404%, test acc: 96.96341381847368%\n",
            "Epoch 7 / 50: avg. loss of last epoch 0.4077233006647283\n",
            "avg. grad_norm of last epoch 0.021972379359375054\n",
            "Current train acc: 97.02707592112404%, test acc: 96.96341381847368%\n",
            "Epoch 8 / 50: avg. loss of last epoch 0.40052509824065896\n",
            "avg. grad_norm of last epoch 0.01731445188252912\n",
            "Current train acc: 97.02707592112404%, test acc: 96.96341381847368%\n",
            "Epoch 9 / 50: avg. loss of last epoch 0.3947898048016655\n",
            "avg. grad_norm of last epoch 0.0140015609476213\n",
            "Current train acc: 97.02707592112404%, test acc: 96.96341381847368%\n",
            "Epoch 10 / 50: avg. loss of last epoch 0.3901116063195659\n",
            "avg. grad_norm of last epoch 0.011560725978719247\n",
            "Current train acc: 97.02707592112404%, test acc: 96.96341381847368%\n",
            "Epoch 11 / 50: avg. loss of last epoch 0.3862222067044437\n",
            "avg. grad_norm of last epoch 0.009710143015303107\n",
            "Current train acc: 97.02707592112404%, test acc: 96.96341381847368%\n",
            "Epoch 12 / 50: avg. loss of last epoch 0.38293711165823136\n",
            "avg. grad_norm of last epoch 0.008273387622786836\n",
            "Current train acc: 97.02707592112404%, test acc: 96.96341381847368%\n",
            "Epoch 13 / 50: avg. loss of last epoch 0.3801252590670398\n",
            "avg. grad_norm of last epoch 0.007135409345729411\n",
            "Current train acc: 97.02707592112404%, test acc: 96.96341381847368%\n",
            "Epoch 14 / 50: avg. loss of last epoch 0.3776909953157026\n",
            "avg. grad_norm of last epoch 0.0062185765942141084\n",
            "Current train acc: 97.02707592112404%, test acc: 96.96341381847368%\n",
            "Epoch 15 / 50: avg. loss of last epoch 0.3755627523066615\n",
            "avg. grad_norm of last epoch 0.005468923644202188\n",
            "Current train acc: 97.02707592112404%, test acc: 96.96341381847368%\n",
            "Epoch 16 / 50: avg. loss of last epoch 0.37368608676931236\n",
            "avg. grad_norm of last epoch 0.004848046141787381\n",
            "Current train acc: 97.02707592112404%, test acc: 96.96341381847368%\n",
            "Epoch 17 / 50: avg. loss of last epoch 0.37201873465478985\n",
            "avg. grad_norm of last epoch 0.0043279696532681705\n",
            "Current train acc: 97.02707592112404%, test acc: 96.96341381847368%\n",
            "Epoch 18 / 50: avg. loss of last epoch 0.37052743132719335\n",
            "avg. grad_norm of last epoch 0.0038879387309971804\n",
            "Current train acc: 97.02707592112404%, test acc: 96.96341381847368%\n",
            "Epoch 19 / 50: avg. loss of last epoch 0.36918559825663094\n",
            "avg. grad_norm of last epoch 0.00351228158010101\n",
            "Current train acc: 97.02707592112404%, test acc: 96.96341381847368%\n",
            "Epoch 20 / 50: avg. loss of last epoch 0.36797172942016176\n",
            "avg. grad_norm of last epoch 0.00318897931778397\n",
            "Current train acc: 97.02707592112404%, test acc: 96.96341381847368%\n",
            "Epoch 21 / 50: avg. loss of last epoch 0.36686832593331714\n",
            "avg. grad_norm of last epoch 0.002908712982930561\n",
            "Current train acc: 97.02707592112404%, test acc: 96.96341381847368%\n",
            "Epoch 22 / 50: avg. loss of last epoch 0.36586086331926976\n",
            "avg. grad_norm of last epoch 0.0026641330178717158\n",
            "Current train acc: 97.02707592112404%, test acc: 96.96341381847368%\n",
            "Epoch 23 / 50: avg. loss of last epoch 0.3649373267851379\n",
            "avg. grad_norm of last epoch 0.0024494101712380168\n",
            "Current train acc: 97.02707592112404%, test acc: 96.96341381847368%\n",
            "Epoch 24 / 50: avg. loss of last epoch 0.3640875829973688\n",
            "avg. grad_norm of last epoch 0.0022598534602026594\n",
            "Current train acc: 97.02707592112404%, test acc: 96.96341381847368%\n",
            "Epoch 25 / 50: avg. loss of last epoch 0.363303188333037\n",
            "avg. grad_norm of last epoch 0.0020916815117833433\n",
            "Current train acc: 97.02707592112404%, test acc: 96.96341381847368%\n",
            "Epoch 26 / 50: avg. loss of last epoch 0.36257681136512376\n",
            "avg. grad_norm of last epoch 0.0019417738175863094\n",
            "Current train acc: 97.02707592112404%, test acc: 96.96341381847368%\n",
            "Epoch 27 / 50: avg. loss of last epoch 0.361902229537767\n",
            "avg. grad_norm of last epoch 0.001807568744088762\n",
            "Current train acc: 97.02707592112404%, test acc: 96.96341381847368%\n",
            "Epoch 28 / 50: avg. loss of last epoch 0.3612740466585303\n",
            "avg. grad_norm of last epoch 0.0016869341519596536\n",
            "Current train acc: 97.02707592112404%, test acc: 96.96341381847368%\n",
            "Epoch 29 / 50: avg. loss of last epoch 0.3606876726809377\n",
            "avg. grad_norm of last epoch 0.001578101834277078\n",
            "Current train acc: 97.02707592112404%, test acc: 96.96341381847368%\n",
            "Epoch 30 / 50: avg. loss of last epoch 0.36013898414766043\n",
            "avg. grad_norm of last epoch 0.0014795627763480757\n",
            "Current train acc: 97.02707592112404%, test acc: 96.96341381847368%\n",
            "Epoch 31 / 50: avg. loss of last epoch 0.35962445932025644\n",
            "avg. grad_norm of last epoch 0.0013900554450828454\n",
            "Current train acc: 97.02707592112404%, test acc: 96.96341381847368%\n",
            "Epoch 32 / 50: avg. loss of last epoch 0.3591410549616135\n",
            "avg. grad_norm of last epoch 0.0013085138307683548\n",
            "Current train acc: 97.02707592112404%, test acc: 96.96341381847368%\n",
            "Epoch 33 / 50: avg. loss of last epoch 0.35868595408462123\n",
            "avg. grad_norm of last epoch 0.001234005417628889\n",
            "Current train acc: 97.02707592112404%, test acc: 96.96341381847368%\n",
            "Epoch 34 / 50: avg. loss of last epoch 0.3582567710975093\n",
            "avg. grad_norm of last epoch 0.0011657465137985049\n",
            "Current train acc: 97.02707592112404%, test acc: 96.96341381847368%\n",
            "Epoch 35 / 50: avg. loss of last epoch 0.3578513502624158\n",
            "avg. grad_norm of last epoch 0.0011030542984290046\n",
            "Current train acc: 97.02707592112404%, test acc: 96.96341381847368%\n",
            "Epoch 36 / 50: avg. loss of last epoch 0.35746772137919164\n",
            "avg. grad_norm of last epoch 0.001045330931769535\n",
            "Current train acc: 97.02707592112404%, test acc: 96.96341381847368%\n",
            "Epoch 37 / 50: avg. loss of last epoch 0.35710420917799945\n",
            "avg. grad_norm of last epoch 0.0009920683186858217\n",
            "Current train acc: 97.02707592112404%, test acc: 96.96341381847368%\n",
            "Epoch 38 / 50: avg. loss of last epoch 0.356759265547132\n",
            "avg. grad_norm of last epoch 0.0009428157093428046\n",
            "Current train acc: 97.02707592112404%, test acc: 96.96341381847368%\n",
            "Epoch 39 / 50: avg. loss of last epoch 0.35643148389832374\n",
            "avg. grad_norm of last epoch 0.0008971767223619687\n",
            "Current train acc: 97.02707592112404%, test acc: 96.96341381847368%\n",
            "Epoch 40 / 50: avg. loss of last epoch 0.35611959755469824\n",
            "avg. grad_norm of last epoch 0.0008548031306956752\n",
            "Current train acc: 97.02707592112404%, test acc: 96.96341381847368%\n",
            "Epoch 41 / 50: avg. loss of last epoch 0.3558224938620722\n",
            "avg. grad_norm of last epoch 0.0008153912569756355\n",
            "Current train acc: 97.02707592112404%, test acc: 96.96341381847368%\n",
            "Epoch 42 / 50: avg. loss of last epoch 0.35553915125896873\n",
            "avg. grad_norm of last epoch 0.0007786717517326676\n",
            "Current train acc: 97.02707592112404%, test acc: 96.96341381847368%\n",
            "Epoch 43 / 50: avg. loss of last epoch 0.3552686301799833\n",
            "avg. grad_norm of last epoch 0.0007444030085283342\n",
            "Current train acc: 97.02707592112404%, test acc: 96.96341381847368%\n",
            "Epoch 44 / 50: avg. loss of last epoch 0.355010082203936\n",
            "avg. grad_norm of last epoch 0.0007123710833196831\n",
            "Current train acc: 97.02707592112404%, test acc: 96.96341381847368%\n",
            "Epoch 45 / 50: avg. loss of last epoch 0.3547627424632594\n",
            "avg. grad_norm of last epoch 0.0006823860639317103\n",
            "Current train acc: 97.02707592112404%, test acc: 96.96341381847368%\n",
            "Epoch 46 / 50: avg. loss of last epoch 0.3545258372483527\n",
            "avg. grad_norm of last epoch 0.0006542701181573895\n",
            "Current train acc: 97.02707592112404%, test acc: 96.96341381847368%\n",
            "Epoch 47 / 50: avg. loss of last epoch 0.3542987598016892\n",
            "avg. grad_norm of last epoch 0.0006278746883992103\n",
            "Current train acc: 97.02707592112404%, test acc: 96.96341381847368%\n",
            "Epoch 48 / 50: avg. loss of last epoch 0.35408090196215775\n",
            "avg. grad_norm of last epoch 0.0006030606766115144\n",
            "Current train acc: 97.02707592112404%, test acc: 96.96341381847368%\n",
            "Epoch 49 / 50: avg. loss of last epoch 0.35387171131239087\n",
            "avg. grad_norm of last epoch 0.0005797034784056529\n",
            "Current train acc: 97.02707592112404%, test acc: 96.96341381847368%\n",
            "Epoch 50 / 50: avg. loss of last epoch 0.35367069700875675\n",
            "avg. grad_norm of last epoch 0.0005576927452869834\n",
            "Current train acc: 97.02707592112404%, test acc: 96.96341381847368%\n"
          ]
        }
      ]
    },
    {
      "cell_type": "code",
      "source": [
        "#Save the history\n",
        "save_history_json(\"/content/gdrive/MyDrive/SMGExperiments/w8a-Other-Optimizers/SSMG_constantLR.json\", ssmgHistory)"
      ],
      "metadata": {
        "id": "Da3CwruJtViP"
      },
      "execution_count": null,
      "outputs": []
    },
    {
      "cell_type": "code",
      "source": [
        "plot_loss(ssmgHistory)\n",
        "plot_norm_square_grad(ssmgHistory)"
      ],
      "metadata": {
        "colab": {
          "base_uri": "https://localhost:8080/",
          "height": 596
        },
        "id": "YdY5wdgmtdxa",
        "outputId": "73768e1e-d595-4305-df2b-79ca28eba6e4"
      },
      "execution_count": 17,
      "outputs": [
        {
          "output_type": "stream",
          "name": "stderr",
          "text": [
            "No handles with labels found to put in legend.\n"
          ]
        },
        {
          "output_type": "display_data",
          "data": {
            "text/plain": [
              "<Figure size 432x288 with 1 Axes>"
            ],
            "image/png": "[encoded data removed]"
          },
          "metadata": {
            "needs_background": "light"
          }
        },
        {
          "output_type": "display_data",
          "data": {
            "text/plain": [
              "<Figure size 432x288 with 1 Axes>"
            ],
            "image/png": "[encoded data removed]"
          },
          "metadata": {
            "needs_background": "light"
          }
        }
      ]
    },
    {
      "cell_type": "code",
      "source": [
        ""
      ],
      "metadata": {
        "id": "Z585sO6ijRTO"
      },
      "execution_count": null,
      "outputs": []
    }
  ]
}