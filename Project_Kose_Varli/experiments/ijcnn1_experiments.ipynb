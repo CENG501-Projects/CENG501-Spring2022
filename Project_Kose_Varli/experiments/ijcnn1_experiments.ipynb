{
  "nbformat": 4,
  "nbformat_minor": 0,
  "metadata": {
    "colab": {
      "name": "SMG ijcnn1",
      "provenance": [],
      "collapsed_sections": [],
      "toc_visible": true,
      "include_colab_link": true
    },
    "kernelspec": {
      "name": "python3",
      "display_name": "Python 3"
    },
    "language_info": {
      "name": "python"
    }
  },
  "cells": [
    {
      "cell_type": "markdown",
      "metadata": {
        "id": "view-in-github",
        "colab_type": "text"
      },
      "source": [
        "<a href=\"https://colab.research.google.com/github/yigitv4rli/CENG501-Spring2022/blob/main/Project_Kose_Varli/experiments/ijcnn1_experiments.ipynb\" target=\"_parent\"><img src=\"https://colab.research.google.com/assets/colab-badge.svg\" alt=\"Open In Colab\"/></a>"
      ]
    },
    {
      "cell_type": "code",
      "execution_count": 1,
      "metadata": {
        "colab": {
          "base_uri": "https://localhost:8080/"
        },
        "id": "e8Ws6EERU5Jh",
        "outputId": "37f8aa9b-65ef-47ca-ec50-b3ee6912275e"
      },
      "outputs": [
        {
          "output_type": "stream",
          "name": "stdout",
          "text": [
            "Mounted at /content/gdrive\n",
            "--2022-07-06 22:14:23--  https://www.csie.ntu.edu.tw/~cjlin/libsvmtools/datasets/binary/w8a\n",
            "Resolving www.csie.ntu.edu.tw (www.csie.ntu.edu.tw)... 140.112.30.26\n",
            "Connecting to www.csie.ntu.edu.tw (www.csie.ntu.edu.tw)|140.112.30.26|:443... connected.\n",
            "HTTP request sent, awaiting response... 200 OK\n",
            "Length: 3478238 (3.3M)\n",
            "Saving to: ‘w8a’\n",
            "\n",
            "w8a                 100%[===================>]   3.32M  3.40MB/s    in 1.0s    \n",
            "\n",
            "2022-07-06 22:14:25 (3.40 MB/s) - ‘w8a’ saved [3478238/3478238]\n",
            "\n",
            "--2022-07-06 22:14:25--  https://www.csie.ntu.edu.tw/~cjlin/libsvmtools/datasets/binary/w8a.t\n",
            "Resolving www.csie.ntu.edu.tw (www.csie.ntu.edu.tw)... 140.112.30.26\n",
            "Connecting to www.csie.ntu.edu.tw (www.csie.ntu.edu.tw)|140.112.30.26|:443... connected.\n",
            "HTTP request sent, awaiting response... 200 OK\n",
            "Length: 1045870 (1021K) [text/troff]\n",
            "Saving to: ‘w8a.t’\n",
            "\n",
            "w8a.t               100%[===================>]   1021K  1.21MB/s    in 0.8s    \n",
            "\n",
            "2022-07-06 22:14:27 (1.21 MB/s) - ‘w8a.t’ saved [1045870/1045870]\n",
            "\n",
            "--2022-07-06 22:14:27--  https://www.csie.ntu.edu.tw/~cjlin/libsvmtools/datasets/binary/ijcnn1.tr.bz2\n",
            "Resolving www.csie.ntu.edu.tw (www.csie.ntu.edu.tw)... 140.112.30.26\n",
            "Connecting to www.csie.ntu.edu.tw (www.csie.ntu.edu.tw)|140.112.30.26|:443... connected.\n",
            "HTTP request sent, awaiting response... 200 OK\n",
            "Length: 964465 (942K) [application/x-bzip2]\n",
            "Saving to: ‘ijcnn1.tr.bz2’\n",
            "\n",
            "ijcnn1.tr.bz2       100%[===================>] 941.86K  1.12MB/s    in 0.8s    \n",
            "\n",
            "2022-07-06 22:14:28 (1.12 MB/s) - ‘ijcnn1.tr.bz2’ saved [964465/964465]\n",
            "\n",
            "--2022-07-06 22:14:28--  https://www.csie.ntu.edu.tw/~cjlin/libsvmtools/datasets/binary/ijcnn1.t.bz2\n",
            "Resolving www.csie.ntu.edu.tw (www.csie.ntu.edu.tw)... 140.112.30.26\n",
            "Connecting to www.csie.ntu.edu.tw (www.csie.ntu.edu.tw)|140.112.30.26|:443... connected.\n",
            "HTTP request sent, awaiting response... 200 OK\n",
            "Length: 2597597 (2.5M) [application/x-bzip2]\n",
            "Saving to: ‘ijcnn1.t.bz2’\n",
            "\n",
            "ijcnn1.t.bz2        100%[===================>]   2.48M  2.53MB/s    in 1.0s    \n",
            "\n",
            "2022-07-06 22:14:30 (2.53 MB/s) - ‘ijcnn1.t.bz2’ saved [2597597/2597597]\n",
            "\n",
            "--2022-07-06 22:14:30--  https://www.csie.ntu.edu.tw/~cjlin/libsvmtools/datasets/binary/ijcnn1.val.bz2\n",
            "Resolving www.csie.ntu.edu.tw (www.csie.ntu.edu.tw)... 140.112.30.26\n",
            "Connecting to www.csie.ntu.edu.tw (www.csie.ntu.edu.tw)|140.112.30.26|:443... connected.\n",
            "HTTP request sent, awaiting response... 200 OK\n",
            "Length: 429604 (420K) [application/x-bzip2]\n",
            "Saving to: ‘ijcnn1.val.bz2’\n",
            "\n",
            "ijcnn1.val.bz2      100%[===================>] 419.54K   607KB/s    in 0.7s    \n",
            "\n",
            "2022-07-06 22:14:31 (607 KB/s) - ‘ijcnn1.val.bz2’ saved [429604/429604]\n",
            "\n"
          ]
        }
      ],
      "source": [
        "# import libraries here\n",
        "import torch \n",
        "import math\n",
        "import json\n",
        "import pandas as pd\n",
        "import random\n",
        "import torch.nn as nn\n",
        "import matplotlib.pyplot as plt\n",
        "import numpy as np\n",
        "import torchvision \n",
        "import torchvision.transforms as transforms\n",
        "import torch.optim as optim\n",
        "from torch.utils.data import DataLoader\n",
        "from google.colab import drive\n",
        "torch.backends.cudnn.deterministic = True\n",
        "torch.backends.cudnn.benchmark = False\n",
        "seed_alg = random.randint(0,100)\n",
        "torch.manual_seed(seed_alg)\n",
        "drive.mount('/content/gdrive')\n",
        "\n",
        "! wget https://www.csie.ntu.edu.tw/~cjlin/libsvmtools/datasets/binary/w8a\n",
        "! wget https://www.csie.ntu.edu.tw/~cjlin/libsvmtools/datasets/binary/w8a.t\n",
        "! wget https://www.csie.ntu.edu.tw/~cjlin/libsvmtools/datasets/binary/ijcnn1.tr.bz2\n",
        "! wget https://www.csie.ntu.edu.tw/~cjlin/libsvmtools/datasets/binary/ijcnn1.t.bz2\n",
        "! wget https://www.csie.ntu.edu.tw/~cjlin/libsvmtools/datasets/binary/ijcnn1.val.bz2\n",
        "! bunzip2 ijcnn1.tr.bz2\n",
        "! bunzip2 ijcnn1.t.bz2\n",
        "! bunzip2 ijcnn1.val.bz2"
      ]
    },
    {
      "cell_type": "markdown",
      "source": [
        "# Utility Functions\n",
        "\n",
        "This section includes utility functions for overall model\n",
        "1. Learning Schedulers\n",
        "2. Data Loaders\n",
        "3. Train and Test Accuracy\n",
        "4. Result Saving\n",
        "5. Plotting"
      ],
      "metadata": {
        "id": "Ir5xs3XRco95"
      }
    },
    {
      "cell_type": "code",
      "source": [
        "# scheduler functions\n",
        "def constant_learning_rate_scheduler(lr):\n",
        "    def scheduler(_):\n",
        "        return lr\n",
        "    return scheduler\n",
        "\n",
        "def cosine_learning_rate_scheduler(lr, epoch_count):\n",
        "    def scheduler(current_epoch):\n",
        "        return lr * (1 + math.cos(current_epoch * math.pi / epoch_count))\n",
        "    return scheduler\n",
        "\n",
        "def diminishing_learning_rate_scheduler(lr, alpha):\n",
        "    def scheduler(current_epoch):\n",
        "        return lr / ((current_epoch + alpha) ** (1/3))\n",
        "    return scheduler\n",
        "\n",
        "def exponential_learning_rate_scheduler(lr, alpha):\n",
        "    def scheduler(current_epoch):\n",
        "        return lr * (alpha ** current_epoch)\n",
        "    return scheduler\n",
        "\n",
        "def save_history_json(file_name, history):\n",
        "  with open(file_name, \"w\") as out:\n",
        "    json.dump(history, out)"
      ],
      "metadata": {
        "id": "0P-PJF1Uca_a"
      },
      "execution_count": null,
      "outputs": []
    },
    {
      "cell_type": "code",
      "source": [
        "# data loaders for cifar10 and fashionmnist\n",
        "def create_w8a_row(line):\n",
        "    row = [0] * 300\n",
        "\n",
        "    for non_zero in line[1:]:\n",
        "        loc, value = non_zero.split(\":\")\n",
        "        loc, value = int(loc), float(value)\n",
        "        row[loc-1] = value\n",
        "    return row\n",
        "\n",
        "\n",
        "def w8a_data_create():\n",
        "    w8a_x_train, w8a_y_train = list(), list()\n",
        "    with open(\"w8a\", \"r\") as f:\n",
        "        lines = f.readlines()\n",
        "\n",
        "        for line in lines:\n",
        "            line = line.strip().split()\n",
        "            w8a_y_train.append(float(line[0]))\n",
        "            row = create_w8a_row(line)\n",
        "            w8a_x_train.append(row)\n",
        "\n",
        "    w8a_x_test, w8a_y_test = list(), list()\n",
        "    with open(\"w8a.t\", \"r\") as f:\n",
        "        lines = f.readlines()\n",
        "\n",
        "        for line in lines:\n",
        "            line = line.strip().split()\n",
        "            w8a_y_test.append(float(line[0]))\n",
        "            row = create_w8a_row(line)\n",
        "            w8a_x_test.append(row)\n",
        "\n",
        "    return w8a_x_train, w8a_y_train, w8a_x_test, w8a_y_test\n",
        "\n",
        "def w8a_data_loader(X_train, Y_train, X_test, Y_test, batch_size, ssmg):\n",
        "    transform = transforms.Compose([transforms.ToTensor()])\n",
        "    \n",
        "    train_set = torch.utils.data.TensorDataset(X_train, Y_train)\n",
        "    train_loader = torch.utils.data.DataLoader(train_set, batch_size=batch_size, shuffle=True)\n",
        "\n",
        "    # a check if the loader is called for Single Shuffling Momentum Gradient (SSMG)\n",
        "    # we do shuffling once at the beginning then we create the train loader\n",
        "    if ssmg:\n",
        "        shuffled_set = torch.utils.data.Subset(train_set, torch.randperm(len(train_set)))\n",
        "        train_loader = torch.utils.data.DataLoader(shuffled_set, batch_size=batch_size,\n",
        "                                            shuffle=False, num_workers=2)\n",
        "\n",
        "    test_set = torch.utils.data.TensorDataset(X_test, Y_test)\n",
        "    test_loader = torch.utils.data.DataLoader(test_set, batch_size=batch_size, shuffle=False)\n",
        "\n",
        "    return train_loader, test_loader\n",
        "\n",
        "w8a_x_train, w8a_y_train, w8a_x_test, w8a_y_test = w8a_data_create()\n",
        "w8a_X_train, w8a_Y_train = torch.Tensor(w8a_x_train), torch.Tensor(w8a_y_train)\n",
        "w8a_X_test, w8a_Y_test = torch.Tensor(w8a_x_test), torch.Tensor(w8a_y_test)\n",
        "w8a_X_train = torch.reshape(w8a_X_train, (w8a_X_train.shape[0], w8a_X_train.shape[1], 1))\n",
        "w8a_Y_train = torch.reshape(w8a_Y_train, (w8a_Y_train.shape[0], 1))\n",
        "\n",
        "w8a_X_test = torch.reshape(w8a_X_test, (w8a_X_test.shape[0], w8a_X_test.shape[1], 1))\n",
        "w8a_Y_test = torch.reshape(w8a_Y_test, (w8a_Y_test.shape[0], 1))\n",
        "\n",
        "# loaders for w8a\n",
        "w8a_train_loader, w8a_test_loader = w8a_data_loader(w8a_X_train, w8a_Y_train, w8a_X_test, w8a_Y_test, 128, False)"
      ],
      "metadata": {
        "id": "5AT_ORoRcl03"
      },
      "execution_count": null,
      "outputs": []
    },
    {
      "cell_type": "code",
      "source": [
        "def create_ijcnn1_row(line):\n",
        "    row = [0] * 22\n",
        "    \n",
        "    for non_zero in line[1:]:\n",
        "        loc, value = non_zero.split(\":\")\n",
        "        loc, value = int(loc), float(value)\n",
        "        row[loc-1] = value\n",
        "    return row\n",
        "\n",
        "def ijcnn1_data_create():\n",
        "    ijcnn1_x_train, ijcnn1_y_train = list(), list()\n",
        "    with open(\"ijcnn1.tr\", \"r\") as f:\n",
        "        lines = f.readlines()\n",
        "\n",
        "        for line in lines:\n",
        "            line = line.strip().split()\n",
        "            row = create_ijcnn1_row(line)\n",
        "            ijcnn1_x_train.append(row)\n",
        "            ijcnn1_y_train.append(float(line[0]))\n",
        "    \n",
        "    with open(\"ijcnn1.val\", \"r\") as f:\n",
        "        lines = f.readlines()\n",
        "\n",
        "        for line in lines:\n",
        "            line = line.strip().split()\n",
        "            row = create_ijcnn1_row(line)\n",
        "            ijcnn1_x_train.append(row)\n",
        "            ijcnn1_y_train.append(float(line[0]))\n",
        "\n",
        "    ijcnn1_x_test, ijcnn1_y_test = list(), list()\n",
        "    with open(\"ijcnn1.t\", \"r\") as f:\n",
        "        lines = f.readlines()\n",
        "\n",
        "        for line in lines:\n",
        "            line = line.strip().split()\n",
        "            row = create_ijcnn1_row(line)\n",
        "            ijcnn1_x_test.append(row)\n",
        "            ijcnn1_y_test.append(float(line[0]))\n",
        "    \n",
        "    return ijcnn1_x_train, ijcnn1_y_train, ijcnn1_x_test, ijcnn1_y_test\n",
        "\n",
        "def ijcnn1_data_loader(X_train, Y_train, X_test, Y_test, batch_size, ssmg):\n",
        "    transform = transforms.Compose([transforms.ToTensor()])\n",
        "    \n",
        "    train_set = torch.utils.data.TensorDataset(X_train, Y_train)\n",
        "    train_loader = torch.utils.data.DataLoader(train_set, batch_size=batch_size, shuffle=True)\n",
        "\n",
        "    # a check if the loader is called for Single Shuffling Momentum Gradient (SSMG)\n",
        "    # we do shuffling once at the beginning then we create the train loader\n",
        "    if ssmg:\n",
        "        shuffled_set = torch.utils.data.Subset(train_set, torch.randperm(len(train_set)))\n",
        "        train_loader = torch.utils.data.DataLoader(shuffled_set, batch_size=batch_size,\n",
        "                                            shuffle=False, num_workers=2)\n",
        "\n",
        "    test_set = torch.utils.data.TensorDataset(X_test, Y_test)\n",
        "    test_loader = torch.utils.data.DataLoader(test_set, batch_size=batch_size, shuffle=False)\n",
        "\n",
        "    return train_loader, test_loader\n",
        " \n",
        "ijcnn1_x_train, ijcnn1_y_train, ijcnn1_x_test, ijcnn1_y_test = ijcnn1_data_create()\n",
        "ijcnn1_X_train, ijcnn1_Y_train = torch.Tensor(ijcnn1_x_train), torch.Tensor(ijcnn1_y_train)\n",
        "ijcnn1_X_test, ijcnn1_Y_test = torch.Tensor(ijcnn1_x_test), torch.Tensor(ijcnn1_y_test)\n",
        "\n",
        "ijcnn1_X_train = torch.reshape(ijcnn1_X_train, (ijcnn1_X_train.shape[0], ijcnn1_X_train.shape[1], 1))\n",
        "ijcnn1_Y_train = torch.reshape(ijcnn1_Y_train, (ijcnn1_Y_train.shape[0], 1))\n",
        "\n",
        "ijcnn1_X_test = torch.reshape(ijcnn1_X_test, (ijcnn1_X_test.shape[0], ijcnn1_X_test.shape[1], 1))\n",
        "ijcnn1_Y_test = torch.reshape(ijcnn1_Y_test, (ijcnn1_Y_test.shape[0], 1))\n",
        "\n",
        "\n",
        "# loaders for ijcnn1\n",
        "ijcnn1_train_loader, ijcnn1_test_loader = ijcnn1_data_loader(ijcnn1_X_train, ijcnn1_Y_train, ijcnn1_X_test, ijcnn1_Y_test, 128, False)"
      ],
      "metadata": {
        "id": "FUjYX6SExfli"
      },
      "execution_count": null,
      "outputs": []
    },
    {
      "cell_type": "code",
      "source": [
        "def train_and_test_accuracy(model, train_loader, test_loader):\n",
        "    total, correct = 0, 0\n",
        "    with torch.no_grad():\n",
        "        for data in test_loader:\n",
        "            images, labels = data\n",
        "            images = images.to(device)\n",
        "            labels = labels.to(device) # 128-1 -1 veya 1\n",
        "            predicted = torch.zeros(labels.shape)\n",
        "            outputs = model(images) #128 - 1 scores\n",
        "            for i, b in enumerate(outputs):\n",
        "              if b < 0:\n",
        "                predicted[i] = -1\n",
        "              else:\n",
        "                predicted[i] = 1\n",
        "            total += labels.size(0)\n",
        "            correct += (predicted == labels).sum().item()\n",
        "    \n",
        "    test_accuracy = 100 * correct / total\n",
        "\n",
        "    total, correct = 0, 0\n",
        "    with torch.no_grad():\n",
        "        for data in train_loader:\n",
        "            images, labels = data\n",
        "            images = images.to(device)\n",
        "            labels = labels.to(device)\n",
        "            predicted = torch.zeros(labels.shape)\n",
        "            outputs = model(images)\n",
        "            for i, b in enumerate(outputs):\n",
        "              if b < 0:\n",
        "                predicted[i] = -1\n",
        "              else:\n",
        "                predicted[i] = 1\n",
        "            total += labels.size(0)\n",
        "            correct += (predicted == labels).sum().item()\n",
        "    \n",
        "    train_accuracy = 100 * correct / total\n",
        "\n",
        "    return train_accuracy, test_accuracy\n",
        "\n"
      ],
      "metadata": {
        "id": "qrYWoX8xc7dR"
      },
      "execution_count": null,
      "outputs": []
    },
    {
      "cell_type": "code",
      "source": [
        "def plot_loss(history):\n",
        "    plt.legend(fontsize = 18)\n",
        "    plt.xticks(size = 18)\n",
        "    plt.yticks(size = 18)\n",
        "    plt.xlabel('Number of effective passes', fontsize = 18)\n",
        "    plt.ylabel('Train Loss', fontsize = 18)\n",
        "    plt.yscale('log')\n",
        "    loss_history = history['loss_history']\n",
        "    x = [i for i in range(3,50, 3)]\n",
        "    y = [np.sum(loss_history[y:y+3])/3 for y in range(0,47,3)]\n",
        "    plt.plot(x, y, '-ok', color='blue')\n",
        "    plt.show()\n",
        "\n",
        "def plot_norm_square_grad(history):\n",
        "    plt.xticks(size = 18)\n",
        "    plt.yticks(size = 18)\n",
        "    plt.xlabel('Number of effective passes', fontsize = 18)\n",
        "    plt.ylabel('Grad loss', fontsize = 18)\n",
        "    plt.yscale('log')\n",
        "    grad_history = history['grad_history']\n",
        "    x = [i for i in range(3,50, 3)]\n",
        "    y = [np.sum(grad_history[y:y+3])/3 for y in range(0,47,3)]\n",
        "    plt.plot(x, y, '-ok', color='red')\n",
        "    plt.show()"
      ],
      "metadata": {
        "id": "mRr6lYWpRBis"
      },
      "execution_count": 11,
      "outputs": []
    },
    {
      "cell_type": "markdown",
      "source": [
        "# Network\n"
      ],
      "metadata": {
        "id": "vuRqzs6U8_J5"
      }
    },
    {
      "cell_type": "code",
      "source": [
        "#This is a very basic single layer network which will be used for non-convex logistic regression problem\n",
        "class NonconvexLogisticNet (nn.Module):\n",
        "    def __init__ (self, I, O, batch_size):\n",
        "        super().__init__()\n",
        "        self.fc = nn.Linear(I, O, bias=True)\n",
        "        self.batch_size = batch_size\n",
        "        self.I = I\n",
        "\n",
        "\n",
        "\n",
        "\n",
        "    def forward (self, x):\n",
        "      #Flatten \n",
        "      #x = torch.reshape(x, (self.batch_size, self.I))\n",
        "      x = torch.flatten(x, 1)\n",
        "      x = torch.tanh(self.fc(x))\n",
        "      return x"
      ],
      "metadata": {
        "id": "Hy_TV7KL9gz6"
      },
      "execution_count": null,
      "outputs": []
    },
    {
      "cell_type": "markdown",
      "source": [
        "# Trainers Code Section"
      ],
      "metadata": {
        "id": "7QZMh-U19AdW"
      }
    },
    {
      "cell_type": "markdown",
      "source": [
        "## SMG Train Function"
      ],
      "metadata": {
        "id": "X1O2va3Dki2W"
      }
    },
    {
      "cell_type": "code",
      "source": [
        "# This trainer trains the net using the SMG algorithm proposed in the paper.\n",
        "# We named the variables identical with the paper's algorithm notation. Different from paper\n",
        "# the types we used are PyTorch tensors.\n",
        "def SMG_train(model, criterion, epochs, train_loader, test_loader, scheduler, beta, verbose=True):\n",
        "  \"\"\"\n",
        "    Define the trainer function. We can use this for training any model.\n",
        "    The parameter names are self-explanatory.\n",
        "\n",
        "    Returns: the dictionary of history that includes loss, grads, test and train accuracies.\n",
        "  \"\"\"\n",
        "  history = dict()\n",
        "  history['loss_history'], history['grad_history'] = list(), list()\n",
        "  history['test_acc_history'], history['train_acc_history'] = list(), list()\n",
        "  \n",
        "  #Note that velocity depends on gradient. So, per each different weight gradient we will have a different velocity, thus different momentum.\n",
        "  #Therefore, we store velocity and momentum per weight seperately.\n",
        "  m = dict()\n",
        "  v = dict()\n",
        "  # Initialize momentum and velocity dictionaries for weights with zeros.\n",
        "  for n, w in model.named_parameters():\n",
        "    m[n] = torch.zeros_like(w.data, memory_format = torch.preserve_format)\n",
        "    v[n] = torch.zeros_like(w.data, memory_format = torch.preserve_format)\n",
        "\n",
        "\n",
        "\n",
        "  #Note that we have activated shuffling. When iterator advances to the end\n",
        "  #of the batches reshuffles. This is effectively shuffling the batch\n",
        "  #before every batch.\n",
        "  for epoch in range(epochs):\n",
        "    total_loss = 0\n",
        "    total_grad_norm = 0\n",
        "    lr = scheduler(epoch+1)\n",
        "    # At the beginning of each epoch\n",
        "    # Set m = v\n",
        "    for n, w in model.named_parameters():\n",
        "      m[n] = v[n]\n",
        "    \n",
        "    # Set v = 0\n",
        "    for n, w in model.named_parameters():\n",
        "      v[n] = torch.zeros_like(w.data, memory_format = torch.preserve_format)\n",
        "\n",
        "\n",
        "    for i, data in enumerate(train_loader, 0):    \n",
        "      # Our batch:\n",
        "      inputs, labels = data\n",
        "      inputs = inputs.to(device)\n",
        "      labels = labels.to(device)\n",
        "      \n",
        "\n",
        "      normalizer = labels.size(0) / len(train_loader.dataset)\n",
        "\n",
        "      # zero the gradients as PyTorch accumulates them\n",
        "      model.zero_grad()\n",
        "\n",
        "      # Obtain the scores\n",
        "      outputs = model(inputs)\n",
        "\n",
        "\n",
        "      #Compute regularizing term\n",
        "      reg = 0 #Will be accumulated\n",
        "      l = 0.01 # Given in the paper\n",
        "\n",
        "      \n",
        "      #Obtain regularizer term from weights.\n",
        "      for w in model.parameters():\n",
        "        #For Nonconvex Logistic Regression Problem we also have regularization term to loss \n",
        "        with torch.no_grad():\n",
        "          w_sq = w.data.detach().data.norm(2) ** 2\n",
        "          reg += w_sq / 1 + w_sq  \n",
        "\n",
        "      #Find the average value for batch\n",
        "      reg /= labels.size(0)\n",
        "      # Calculate loss with regularization term\n",
        "      loss = criterion(outputs.to(device), labels) + (l/2.0)*reg \n",
        "      \n",
        "\n",
        "      #Accumulate the loss of each iteration\n",
        "      total_loss += loss.item() * normalizer\n",
        "\n",
        "      # Backpropagate (Regularizer is on computation graph now so it will also be differentiated)\n",
        "      loss.backward()\n",
        "\n",
        "      \n",
        "      # Paper proposes an alternative scheme to update the weights using momentum with batch shuffling. \n",
        "      for n, w in model.named_parameters():\n",
        "        with torch.no_grad():\n",
        "          #Pytorch computes a batch gradient which is 1/batch_size * grad. In update scheme we use 1/n so we set a grad_scale to compansate that.\n",
        "          g_scale = labels.size(0) / len(train_loader.dataset) #batch_size / dataset_size\n",
        "          #Update v\n",
        "          v[n] += g_scale * w.grad.data\n",
        "          delta = beta * m[n] + (1-beta) * w.grad.data #weight_update\n",
        "          w.data += -lr * delta\n",
        "\n",
        "\n",
        "\n",
        "      #Measure grad_square\n",
        "      for p in model.parameters():\n",
        "          param_norm = p.grad.detach().data.norm(2)\n",
        "          total_grad_norm += param_norm.item() ** 2 * normalizer\n",
        "      \n",
        "    \n",
        "    \n",
        "    history['grad_history'].append(total_grad_norm)\n",
        "    history['loss_history'].append(total_loss)\n",
        "    \n",
        "    train_acc, test_acc = train_and_test_accuracy(model, train_loader, test_loader)\n",
        "    history['train_acc_history'].append(train_acc)\n",
        "    history['test_acc_history'].append(test_acc)\n",
        "    loss_history = history['loss_history']\n",
        "    if verbose: print(f'Epoch {epoch+1} / {epochs}: avg. loss of last epoch {total_loss}')\n",
        "    if verbose: print(f'avg. grad_norm of last epoch {total_grad_norm}')\n",
        "    if verbose: print(f'Current train acc: {train_acc}%, test acc: {test_acc}%')\n",
        "    \n",
        "  return history"
      ],
      "metadata": {
        "id": "VvpXPzUu91Wn"
      },
      "execution_count": null,
      "outputs": []
    },
    {
      "cell_type": "markdown",
      "source": [
        "## SSMG Train Function"
      ],
      "metadata": {
        "id": "arkmW7e_klRv"
      }
    },
    {
      "cell_type": "code",
      "source": [
        "# This trainer trains the net using the SSMG algorithm proposed in the paper.\n",
        "# We named the variables identical with the paper's algorithm notation. Different from paper\n",
        "# the types we used are PyTorch tensors. Also, SSMG is single shuffle variant of SMG so batches wont \n",
        "# be reshuffled every epoch.\n",
        "def SSMG_train(model, criterion, epochs, train_loader, test_loader, scheduler, beta, verbose=True):\n",
        "  \"\"\"\n",
        "    Define the trainer function. We can use this for training any model.\n",
        "    The parameter names are self-explanatory.\n",
        "\n",
        "    Returns: the dictionary of history that includes loss, grads, test and train accuracies.\n",
        "  \"\"\"\n",
        "  history = dict()\n",
        "  history['loss_history'], history['grad_history'] = list(), list()\n",
        "  history['test_acc_history'], history['train_acc_history'] = list(), list()\n",
        "  \n",
        "\n",
        "\n",
        "  m = dict()\n",
        "  # Initialize momentum dictionaries for weights with zeros.\n",
        "  for n, w in model.named_parameters():\n",
        "    m[n] = torch.zeros_like(w.data, memory_format = torch.preserve_format)\n",
        "\n",
        "\n",
        "\n",
        "  #Note that we have activated shuffling. When iterator advances to the end\n",
        "  #of the batches reshuffles. This is effectively shuffling the batch\n",
        "  #before every batch.\n",
        "  for epoch in range(epochs):\n",
        "    total_loss = 0\n",
        "    total_grad_norm = 0\n",
        "    lr = scheduler(epoch+1)\n",
        "  \n",
        "    for i, data in enumerate(train_loader, 0):    \n",
        "      # Our batch:\n",
        "      inputs, labels = data\n",
        "      inputs = inputs.to(device)\n",
        "      labels = labels.to(device)\n",
        "\n",
        "      #There is no momentum update here. We want to preserve the momentum value of the\n",
        "      #previous epoch.\n",
        "\n",
        "      normalizer = labels.size(0) / len(train_loader.dataset)\n",
        "\n",
        "      # zero the gradients as PyTorch accumulates them\n",
        "      model.zero_grad()\n",
        "\n",
        "      # Obtain the scores\n",
        "      outputs = model(inputs)\n",
        "\n",
        "      #Compute regularizing term\n",
        "      reg = 0 #Will be accumulated\n",
        "      l = 0.01 # Given in the paper\n",
        "\n",
        "      \n",
        "      #Obtain regularizer term from weights.\n",
        "      for w in model.parameters():\n",
        "        #For Nonconvex Logistic Regression Problem we also have regularization term to loss \n",
        "        with torch.no_grad():\n",
        "          w_sq = w.data.detach().data.norm(2) ** 2\n",
        "          reg += w_sq / 1 + w_sq  \n",
        "\n",
        "      \n",
        "      #Find the average value for batch\n",
        "      reg /= labels.size(0)\n",
        "      # Calculate loss with regularization term\n",
        "      loss = criterion(outputs.to(device), labels) + (l/2.0)*reg \n",
        "\n",
        "      #Accumulate the loss of each iteration\n",
        "      total_loss += loss.item()* normalizer\n",
        "\n",
        "      # Backpropagate\n",
        "      loss.backward()\n",
        "\n",
        "      # Paper proposes an alternative scheme to update the weights using momentum with single batch shuffling. \n",
        "      for n, w in model.named_parameters():\n",
        "        with torch.no_grad():\n",
        "          g_scale = labels.size(0) / len(train_loader.dataset) #batch_size / dataset_size\n",
        "          #Update momentum in every iteration (Most important difference from SMG)\n",
        "          m[n] = beta * m[n] + (1-beta) * w.grad.data\n",
        "          w.data += -lr * m[n] #weight_update using the momentum directly\n",
        "\n",
        "\n",
        "\n",
        "      #Measure grad_square\n",
        "      for p in model.parameters():\n",
        "          param_norm = p.grad.detach().data.norm(2)\n",
        "          total_grad_norm += param_norm.item() ** 2 * normalizer\n",
        "      \n",
        "    \n",
        "    \n",
        "    history['grad_history'].append(total_grad_norm)\n",
        "    history['loss_history'].append(total_loss)\n",
        "    \n",
        "    train_acc, test_acc = train_and_test_accuracy(model, train_loader, test_loader)\n",
        "    history['train_acc_history'].append(train_acc)\n",
        "    history['test_acc_history'].append(test_acc)\n",
        "    loss_history = history['loss_history']\n",
        "    if verbose: print(f'Epoch {epoch+1} / {epochs}: avg. loss of last epoch {total_loss}')\n",
        "    if verbose: print(f'avg. grad_norm of last epoch {total_grad_norm}')\n",
        "    if verbose: print(f'Current train acc: {train_acc}%, test acc: {test_acc}%')\n",
        "    \n",
        "  return history"
      ],
      "metadata": {
        "id": "0HFRBOvZ92Ox"
      },
      "execution_count": null,
      "outputs": []
    },
    {
      "cell_type": "markdown",
      "source": [
        "## Train Function for Other Optimizers"
      ],
      "metadata": {
        "id": "LvBhe3gDknpr"
      }
    },
    {
      "cell_type": "code",
      "source": [
        "# This is a general trainer that uses PyTorch's built-in optimizers.\n",
        "# This function will be used compare other optimizers with SMG\n",
        "def train(model, criterion, optimizer, epochs, train_loader, test_loader, scheduler, verbose=True):\n",
        "  \"\"\"\n",
        "    Define the trainer function. We can use this for training any model.\n",
        "    The parameter names are self-explanatory.\n",
        "\n",
        "    Returns: the dictionary of history that includes loss, grads, test and train accuracies.\n",
        "  \"\"\"\n",
        "\n",
        "\n",
        "  history = dict()\n",
        "  history['loss_history'], history['grad_history'] = list(), list()\n",
        "  history['test_acc_history'], history['train_acc_history'] = list(), list()\n",
        "  #Note that we have activated shuffling. When iterator advances to the end\n",
        "  #of the batches reshuffles. This is effectively shuffling the batch\n",
        "  #before every batch.\n",
        "  for epoch in range(epochs):\n",
        "    total_loss = 0\n",
        "    total_grad_norm = 0\n",
        "    lr = scheduler(epoch+1)\n",
        "    for param_group in optimizer.param_groups:\n",
        "        param_group['lr'] = lr \n",
        "\n",
        "    for i, data in enumerate(train_loader, 0):    \n",
        "      # Our batch:\n",
        "      inputs, labels = data\n",
        "      inputs = inputs.to(device)\n",
        "      labels = labels.to(device)\n",
        "\n",
        "      normalizer = labels.size(0) / len(train_loader.dataset)\n",
        "\n",
        "\n",
        "      # zero the gradients as PyTorch accumulates them\n",
        "      optimizer.zero_grad()\n",
        "\n",
        "      # Obtain the scores\n",
        "      outputs = model(inputs)\n",
        "\n",
        "      #Find the average value for batch\n",
        "      reg = 0 #Will be accumulated\n",
        "      l = 0.01 # Given in the paper\n",
        "\n",
        "      \n",
        "      #Obtain regularizer term from weights.\n",
        "      for w in model.parameters():\n",
        "        #For Nonconvex Logistic Regression Problem we also have regularization term to loss \n",
        "        with torch.no_grad():\n",
        "          w_sq = w.data.detach().data.norm(2) ** 2\n",
        "          reg += w_sq / 1 + w_sq  \n",
        "\n",
        "      \n",
        "      #Find the average value for batch\n",
        "      reg /= labels.size(0)\n",
        "      # Calculate loss with regularization term\n",
        "      loss = criterion(outputs.to(device), labels) + (l/2.0)*reg \n",
        "\n",
        "      #Accumulate the loss of each iteration\n",
        "      total_loss += loss.item()* normalizer\n",
        "\n",
        "      # Backpropagate\n",
        "      loss.backward()\n",
        "\n",
        "      # Update the weights\n",
        "      optimizer.step()\n",
        "\n",
        "      \n",
        "      #Measure grad_square\n",
        "      for p in model.parameters():\n",
        "          param_norm = p.grad.detach().data.norm(2)\n",
        "          total_grad_norm += param_norm.item() ** 2 * normalizer\n",
        "      \n",
        "\n",
        "    history['grad_history'].append(total_grad_norm)\n",
        "    history['loss_history'].append(total_loss)\n",
        "\n",
        "    train_acc, test_acc = train_and_test_accuracy(model, train_loader, test_loader)\n",
        "    history['train_acc_history'].append(train_acc)\n",
        "    history['test_acc_history'].append(test_acc)\n",
        "    loss_history = history['loss_history']\n",
        "    if verbose: print(f'Epoch {epoch+1} / {epochs}: avg. loss of last epoch {total_loss}')\n",
        "    if verbose: print(f'Epoch {epoch+1} / {epochs}: avg. grad_norm of last epoch {total_grad_norm}')\n",
        "    if verbose: print(f'Current train acc: {train_acc}%, test acc: {test_acc}%')  \n",
        "\n",
        "  return history"
      ],
      "metadata": {
        "id": "k-F4bNJA94yg"
      },
      "execution_count": null,
      "outputs": []
    },
    {
      "cell_type": "markdown",
      "source": [
        "# Get GPU"
      ],
      "metadata": {
        "id": "p_NrwXB8-BZE"
      }
    },
    {
      "cell_type": "code",
      "source": [
        "if torch.cuda.is_available():\n",
        "  print(\"Cuda (GPU support) is available and enabled!\")\n",
        "  device = torch.device(\"cuda\")\n",
        "else:\n",
        "  print(\"Cuda (GPU support) is not available :(\")\n",
        "  device = torch.device(\"cpu\")"
      ],
      "metadata": {
        "colab": {
          "base_uri": "https://localhost:8080/"
        },
        "id": "tLZKcAKRAG2p",
        "outputId": "dc54e333-55a2-4c0f-b691-405485fe21dc"
      },
      "execution_count": null,
      "outputs": [
        {
          "output_type": "stream",
          "name": "stdout",
          "text": [
            "Cuda (GPU support) is not available :(\n"
          ]
        }
      ]
    },
    {
      "cell_type": "markdown",
      "source": [
        "# 1- Train and Plot Different Learning Schedulers over SMG"
      ],
      "metadata": {
        "id": "Tds8rA6UwLfg"
      }
    },
    {
      "cell_type": "markdown",
      "source": [
        "## SMG with Constant Learning Rate Scheduler"
      ],
      "metadata": {
        "id": "EUgGN_K6wM4n"
      }
    },
    {
      "cell_type": "code",
      "source": [
        "import torch.optim as optim\n",
        "\n",
        "criterion = nn.SoftMarginLoss()\n",
        "\n",
        "model = NonconvexLogisticNet(22, 1, 128)\n",
        "model = model.to(device)\n",
        "epochs = 50\n",
        "\n",
        "\n",
        "scheduler = constant_learning_rate_scheduler(0.001)\n",
        "\n",
        "# beta is proposed in paper and epoch_count is inferenced from the graphs\n",
        "history = SMG_train(model, criterion, epochs, ijcnn1_train_loader, ijcnn1_test_loader, \n",
        "                    scheduler, beta=0.5, verbose=True)"
      ],
      "metadata": {
        "id": "sJBmQwpRwOSG",
        "colab": {
          "base_uri": "https://localhost:8080/"
        },
        "outputId": "0b8c0e45-42b0-486c-ce3c-d13777ed8fcf"
      },
      "execution_count": null,
      "outputs": [
        {
          "output_type": "stream",
          "name": "stdout",
          "text": [
            "Epoch 1 / 50: avg. loss of last epoch 0.641296901801129\n",
            "avg. grad_norm of last epoch 0.15205899994165947\n",
            "Current train acc: 80.15203040608121%, test acc: 83.89766741911211%\n",
            "Epoch 2 / 50: avg. loss of last epoch 0.6016439236839142\n",
            "avg. grad_norm of last epoch 0.1201391920308493\n",
            "Current train acc: 88.11762352470494%, test acc: 88.83763535839304%\n",
            "Epoch 3 / 50: avg. loss of last epoch 0.5598061055010576\n",
            "avg. grad_norm of last epoch 0.08425007774874725\n",
            "Current train acc: 89.82796559311862%, test acc: 90.04481957666765%\n",
            "Epoch 4 / 50: avg. loss of last epoch 0.5300698331318562\n",
            "avg. grad_norm of last epoch 0.059179066157096345\n",
            "Current train acc: 90.29205841168233%, test acc: 90.38178427716164%\n",
            "Epoch 5 / 50: avg. loss of last epoch 0.5091023524705591\n",
            "avg. grad_norm of last epoch 0.04265589338584686\n",
            "Current train acc: 90.29205841168233%, test acc: 90.49301534334413%\n",
            "Epoch 6 / 50: avg. loss of last epoch 0.49390103770008237\n",
            "avg. grad_norm of last epoch 0.03173545200511271\n",
            "Current train acc: 90.29205841168233%, test acc: 90.49955834723721%\n",
            "Epoch 7 / 50: avg. loss of last epoch 0.48253483215459086\n",
            "avg. grad_norm of last epoch 0.024286096269232057\n",
            "Current train acc: 90.29205841168233%, test acc: 90.49955834723721%\n",
            "Epoch 8 / 50: avg. loss of last epoch 0.47383556626133505\n",
            "avg. grad_norm of last epoch 0.019166617455625184\n",
            "Current train acc: 90.29205841168233%, test acc: 90.49955834723721%\n",
            "Epoch 9 / 50: avg. loss of last epoch 0.46693088982219255\n",
            "avg. grad_norm of last epoch 0.015454885914368324\n",
            "Current train acc: 90.29205841168233%, test acc: 90.49955834723721%\n",
            "Epoch 10 / 50: avg. loss of last epoch 0.46137151826403344\n",
            "avg. grad_norm of last epoch 0.01272786071474775\n",
            "Current train acc: 90.29205841168233%, test acc: 90.49955834723721%\n",
            "Epoch 11 / 50: avg. loss of last epoch 0.4567832365277339\n",
            "avg. grad_norm of last epoch 0.010617940932274611\n",
            "Current train acc: 90.29205841168233%, test acc: 90.49955834723721%\n",
            "Epoch 12 / 50: avg. loss of last epoch 0.45295849997035303\n",
            "avg. grad_norm of last epoch 0.008989658635200761\n",
            "Current train acc: 90.29205841168233%, test acc: 90.49955834723721%\n",
            "Epoch 13 / 50: avg. loss of last epoch 0.449710850995597\n",
            "avg. grad_norm of last epoch 0.00769982279348837\n",
            "Current train acc: 90.29205841168233%, test acc: 90.49955834723721%\n",
            "Epoch 14 / 50: avg. loss of last epoch 0.44692378398608545\n",
            "avg. grad_norm of last epoch 0.006662462441179214\n",
            "Current train acc: 90.29205841168233%, test acc: 90.49955834723721%\n",
            "Epoch 15 / 50: avg. loss of last epoch 0.4445048881187559\n",
            "avg. grad_norm of last epoch 0.005839553803717536\n",
            "Current train acc: 90.29205841168233%, test acc: 90.49955834723721%\n",
            "Epoch 16 / 50: avg. loss of last epoch 0.44239221283210983\n",
            "avg. grad_norm of last epoch 0.005147246066606025\n",
            "Current train acc: 90.29205841168233%, test acc: 90.49955834723721%\n",
            "Epoch 17 / 50: avg. loss of last epoch 0.440521586878487\n",
            "avg. grad_norm of last epoch 0.004577546798940752\n",
            "Current train acc: 90.29205841168233%, test acc: 90.49955834723721%\n",
            "Epoch 18 / 50: avg. loss of last epoch 0.43886495999251135\n",
            "avg. grad_norm of last epoch 0.0040836557254018465\n",
            "Current train acc: 90.29205841168233%, test acc: 90.49955834723721%\n",
            "Epoch 19 / 50: avg. loss of last epoch 0.43738111818664205\n",
            "avg. grad_norm of last epoch 0.0036775691480179264\n",
            "Current train acc: 90.29205841168233%, test acc: 90.49955834723721%\n",
            "Epoch 20 / 50: avg. loss of last epoch 0.43604348029082085\n",
            "avg. grad_norm of last epoch 0.0033278085170887956\n",
            "Current train acc: 90.29205841168233%, test acc: 90.49955834723721%\n",
            "Epoch 21 / 50: avg. loss of last epoch 0.4348341640161739\n",
            "avg. grad_norm of last epoch 0.0030293613766485127\n",
            "Current train acc: 90.29205841168233%, test acc: 90.49955834723721%\n",
            "Epoch 22 / 50: avg. loss of last epoch 0.43373881998146074\n",
            "avg. grad_norm of last epoch 0.0027563376899557845\n",
            "Current train acc: 90.29205841168233%, test acc: 90.49955834723721%\n",
            "Epoch 23 / 50: avg. loss of last epoch 0.4327359309647651\n",
            "avg. grad_norm of last epoch 0.002526190201771535\n",
            "Current train acc: 90.29205841168233%, test acc: 90.49955834723721%\n",
            "Epoch 24 / 50: avg. loss of last epoch 0.431816260618886\n",
            "avg. grad_norm of last epoch 0.002323337872477395\n",
            "Current train acc: 90.29205841168233%, test acc: 90.49955834723721%\n",
            "Epoch 25 / 50: avg. loss of last epoch 0.43097199547598425\n",
            "avg. grad_norm of last epoch 0.002142727305360797\n",
            "Current train acc: 90.29205841168233%, test acc: 90.49955834723721%\n",
            "Epoch 26 / 50: avg. loss of last epoch 0.43019190274803465\n",
            "avg. grad_norm of last epoch 0.0019869598726535175\n",
            "Current train acc: 90.29205841168233%, test acc: 90.49955834723721%\n",
            "Epoch 27 / 50: avg. loss of last epoch 0.42947122537033305\n",
            "avg. grad_norm of last epoch 0.0018435289066553243\n",
            "Current train acc: 90.29205841168233%, test acc: 90.49955834723721%\n",
            "Epoch 28 / 50: avg. loss of last epoch 0.42880108797876876\n",
            "avg. grad_norm of last epoch 0.001715821096407934\n",
            "Current train acc: 90.29205841168233%, test acc: 90.49955834723721%\n",
            "Epoch 29 / 50: avg. loss of last epoch 0.428178158386346\n",
            "avg. grad_norm of last epoch 0.001599314822892286\n",
            "Current train acc: 90.29205841168233%, test acc: 90.49955834723721%\n",
            "Epoch 30 / 50: avg. loss of last epoch 0.42759677802927404\n",
            "avg. grad_norm of last epoch 0.0014991592375034508\n",
            "Current train acc: 90.29205841168233%, test acc: 90.49955834723721%\n",
            "Epoch 31 / 50: avg. loss of last epoch 0.42705184292688325\n",
            "avg. grad_norm of last epoch 0.0014025965734033082\n",
            "Current train acc: 90.29205841168233%, test acc: 90.49955834723721%\n",
            "Epoch 32 / 50: avg. loss of last epoch 0.42654183053283556\n",
            "avg. grad_norm of last epoch 0.0013176489423409004\n",
            "Current train acc: 90.29205841168233%, test acc: 90.49955834723721%\n",
            "Epoch 33 / 50: avg. loss of last epoch 0.42606359158403595\n",
            "avg. grad_norm of last epoch 0.001239251149195628\n",
            "Current train acc: 90.29205841168233%, test acc: 90.49955834723721%\n",
            "Epoch 34 / 50: avg. loss of last epoch 0.42561304268538397\n",
            "avg. grad_norm of last epoch 0.0011691495085575992\n",
            "Current train acc: 90.29205841168233%, test acc: 90.49955834723721%\n",
            "Epoch 35 / 50: avg. loss of last epoch 0.425186946460499\n",
            "avg. grad_norm of last epoch 0.0011047618975801917\n",
            "Current train acc: 90.29205841168233%, test acc: 90.49955834723721%\n",
            "Epoch 36 / 50: avg. loss of last epoch 0.4247870305188299\n",
            "avg. grad_norm of last epoch 0.0010467527753518172\n",
            "Current train acc: 90.29205841168233%, test acc: 90.49955834723721%\n",
            "Epoch 37 / 50: avg. loss of last epoch 0.4244078476206255\n",
            "avg. grad_norm of last epoch 0.0009886714729256802\n",
            "Current train acc: 90.29205841168233%, test acc: 90.49955834723721%\n",
            "Epoch 38 / 50: avg. loss of last epoch 0.4240480632060863\n",
            "avg. grad_norm of last epoch 0.0009404513138530526\n",
            "Current train acc: 90.29205841168233%, test acc: 90.49955834723721%\n",
            "Epoch 39 / 50: avg. loss of last epoch 0.4237074833878231\n",
            "avg. grad_norm of last epoch 0.0008908679119023006\n",
            "Current train acc: 90.29205841168233%, test acc: 90.49955834723721%\n",
            "Epoch 40 / 50: avg. loss of last epoch 0.4233842288596459\n",
            "avg. grad_norm of last epoch 0.000851522789820419\n",
            "Current train acc: 90.29205841168233%, test acc: 90.49955834723721%\n",
            "Epoch 41 / 50: avg. loss of last epoch 0.42307631552851294\n",
            "avg. grad_norm of last epoch 0.0008069388267850988\n",
            "Current train acc: 90.29205841168233%, test acc: 90.49955834723721%\n",
            "Epoch 42 / 50: avg. loss of last epoch 0.4227832543001006\n",
            "avg. grad_norm of last epoch 0.0007698373766342752\n",
            "Current train acc: 90.29205841168233%, test acc: 90.49955834723721%\n",
            "Epoch 43 / 50: avg. loss of last epoch 0.422503562548514\n",
            "avg. grad_norm of last epoch 0.000736146353830432\n",
            "Current train acc: 90.29205841168233%, test acc: 90.49955834723721%\n",
            "Epoch 44 / 50: avg. loss of last epoch 0.42223680327119406\n",
            "avg. grad_norm of last epoch 0.0007022745250135285\n",
            "Current train acc: 90.29205841168233%, test acc: 90.49955834723721%\n",
            "Epoch 45 / 50: avg. loss of last epoch 0.4219819251812326\n",
            "avg. grad_norm of last epoch 0.0006692151250891535\n",
            "Current train acc: 90.29205841168233%, test acc: 90.49955834723721%\n",
            "Epoch 46 / 50: avg. loss of last epoch 0.42173847090866495\n",
            "avg. grad_norm of last epoch 0.0006406698146307776\n",
            "Current train acc: 90.29205841168233%, test acc: 90.49955834723721%\n",
            "Epoch 47 / 50: avg. loss of last epoch 0.42150542331256957\n",
            "avg. grad_norm of last epoch 0.0006177825661984847\n",
            "Current train acc: 90.29205841168233%, test acc: 90.49955834723721%\n",
            "Epoch 48 / 50: avg. loss of last epoch 0.4212819340038735\n",
            "avg. grad_norm of last epoch 0.0005921733975009644\n",
            "Current train acc: 90.29205841168233%, test acc: 90.49955834723721%\n",
            "Epoch 49 / 50: avg. loss of last epoch 0.42106719056256536\n",
            "avg. grad_norm of last epoch 0.0005688859851632406\n",
            "Current train acc: 90.29205841168233%, test acc: 90.49955834723721%\n",
            "Epoch 50 / 50: avg. loss of last epoch 0.4208617250057049\n",
            "avg. grad_norm of last epoch 0.0005459715135926473\n",
            "Current train acc: 90.29205841168233%, test acc: 90.49955834723721%\n"
          ]
        }
      ]
    },
    {
      "cell_type": "code",
      "source": [
        "#Save the history\n",
        "save_history_json(\"/content/gdrive/MyDrive/SMGExperiments/SMG-ijcnn1-History/SMG_constantLR.json\", history)"
      ],
      "metadata": {
        "id": "DTfjzWjDwO67"
      },
      "execution_count": null,
      "outputs": []
    },
    {
      "cell_type": "code",
      "source": [
        "plot_loss(history)\n",
        "plot_norm_square_grad(history)"
      ],
      "metadata": {
        "id": "TCc96lwGxpuY",
        "colab": {
          "base_uri": "https://localhost:8080/",
          "height": 590
        },
        "outputId": "51472099-3c2a-4b22-c831-e7393e89d316"
      },
      "execution_count": 3,
      "outputs": [
        {
          "output_type": "stream",
          "name": "stderr",
          "text": [
            "No handles with labels found to put in legend.\n"
          ]
        },
        {
          "output_type": "display_data",
          "data": {
            "text/plain": [
              "<Figure size 432x288 with 1 Axes>"
            ],
            "image/png": "[encoded data removed]"
          },
          "metadata": {
            "needs_background": "light"
          }
        },
        {
          "output_type": "display_data",
          "data": {
            "text/plain": [
              "<Figure size 432x288 with 1 Axes>"
            ],
            "image/png": "[encoded data removed]"
          },
          "metadata": {
            "needs_background": "light"
          }
        }
      ]
    },
    {
      "cell_type": "markdown",
      "source": [
        "## SMG with Diminishing Learning Rate Scheduler"
      ],
      "metadata": {
        "id": "_CM6hvorxrI-"
      }
    },
    {
      "cell_type": "code",
      "source": [
        "criterion = nn.SoftMarginLoss()\n",
        "\n",
        "model = NonconvexLogisticNet(22, 1, 128)\n",
        "model = model.to(device)\n",
        "epochs = 50\n",
        "\n",
        "\n",
        "scheduler = diminishing_learning_rate_scheduler(0.001, 8)\n",
        "\n",
        "# beta is proposed in paper and epoch_count is inferenced from the graphs\n",
        "history = SMG_train(model, criterion, epochs, ijcnn1_train_loader, ijcnn1_test_loader,\n",
        "                    scheduler, beta=0.5, verbose=True)"
      ],
      "metadata": {
        "id": "luiNTz3FxsoN",
        "colab": {
          "base_uri": "https://localhost:8080/"
        },
        "outputId": "06838574-8021-4003-af29-1355db167417"
      },
      "execution_count": null,
      "outputs": [
        {
          "output_type": "stream",
          "name": "stdout",
          "text": [
            "Epoch 1 / 50: avg. loss of last epoch 0.6810922811140556\n",
            "avg. grad_norm of last epoch 0.1848743896999222\n",
            "Current train acc: 63.85477095419084%, test acc: 66.59578412449156%\n",
            "Epoch 2 / 50: avg. loss of last epoch 0.657006043018067\n",
            "avg. grad_norm of last epoch 0.16845549304262955\n",
            "Current train acc: 80.28605721144228%, test acc: 80.02093761245789%\n",
            "Epoch 3 / 50: avg. loss of last epoch 0.6285947405116323\n",
            "avg. grad_norm of last epoch 0.14661744558394588\n",
            "Current train acc: 85.57111422284457%, test acc: 85.00561607834156%\n",
            "Epoch 4 / 50: avg. loss of last epoch 0.6045397039221914\n",
            "avg. grad_norm of last epoch 0.12624473683625326\n",
            "Current train acc: 90.07001400280056%, test acc: 90.15932214479668%\n",
            "Epoch 5 / 50: avg. loss of last epoch 0.5844647329076339\n",
            "avg. grad_norm of last epoch 0.10833208983551516\n",
            "Current train acc: 90.29205841168233%, test acc: 90.46357182582524%\n",
            "Epoch 6 / 50: avg. loss of last epoch 0.5676203232332333\n",
            "avg. grad_norm of last epoch 0.09326774125345559\n",
            "Current train acc: 90.29205841168233%, test acc: 90.49737734593953%\n",
            "Epoch 7 / 50: avg. loss of last epoch 0.5534855518991597\n",
            "avg. grad_norm of last epoch 0.0806776413440202\n",
            "Current train acc: 90.29205841168233%, test acc: 90.49955834723721%\n",
            "Epoch 8 / 50: avg. loss of last epoch 0.5415224113853533\n",
            "avg. grad_norm of last epoch 0.07016976330829838\n",
            "Current train acc: 90.29205841168233%, test acc: 90.49955834723721%\n",
            "Epoch 9 / 50: avg. loss of last epoch 0.5313360726268176\n",
            "avg. grad_norm of last epoch 0.061338963343727584\n",
            "Current train acc: 90.29205841168233%, test acc: 90.49955834723721%\n",
            "Epoch 10 / 50: avg. loss of last epoch 0.5225844373176468\n",
            "avg. grad_norm of last epoch 0.054039320682222995\n",
            "Current train acc: 90.29205841168233%, test acc: 90.49955834723721%\n",
            "Epoch 11 / 50: avg. loss of last epoch 0.5150154876956987\n",
            "avg. grad_norm of last epoch 0.048047400855405285\n",
            "Current train acc: 90.29205841168233%, test acc: 90.49955834723721%\n",
            "Epoch 12 / 50: avg. loss of last epoch 0.5084096397583804\n",
            "avg. grad_norm of last epoch 0.04276897897305386\n",
            "Current train acc: 90.29205841168233%, test acc: 90.49955834723721%\n",
            "Epoch 13 / 50: avg. loss of last epoch 0.5026168234278188\n",
            "avg. grad_norm of last epoch 0.0384407021347061\n",
            "Current train acc: 90.29205841168233%, test acc: 90.49955834723721%\n",
            "Epoch 14 / 50: avg. loss of last epoch 0.497498011166965\n",
            "avg. grad_norm of last epoch 0.03469172038993726\n",
            "Current train acc: 90.29205841168233%, test acc: 90.49955834723721%\n",
            "Epoch 15 / 50: avg. loss of last epoch 0.4929356663518965\n",
            "avg. grad_norm of last epoch 0.03150055669397355\n",
            "Current train acc: 90.29205841168233%, test acc: 90.49955834723721%\n",
            "Epoch 16 / 50: avg. loss of last epoch 0.48886444998111805\n",
            "avg. grad_norm of last epoch 0.028728119608430178\n",
            "Current train acc: 90.29205841168233%, test acc: 90.49955834723721%\n",
            "Epoch 17 / 50: avg. loss of last epoch 0.4851986087043422\n",
            "avg. grad_norm of last epoch 0.026326476508072842\n",
            "Current train acc: 90.29205841168233%, test acc: 90.49955834723721%\n",
            "Epoch 18 / 50: avg. loss of last epoch 0.48188442291558137\n",
            "avg. grad_norm of last epoch 0.02419174026309185\n",
            "Current train acc: 90.29205841168233%, test acc: 90.49955834723721%\n",
            "Epoch 19 / 50: avg. loss of last epoch 0.47887408024526873\n",
            "avg. grad_norm of last epoch 0.022299548583868196\n",
            "Current train acc: 90.29205841168233%, test acc: 90.49955834723721%\n",
            "Epoch 20 / 50: avg. loss of last epoch 0.47613026672040126\n",
            "avg. grad_norm of last epoch 0.0207098682276658\n",
            "Current train acc: 90.29205841168233%, test acc: 90.49955834723721%\n",
            "Epoch 21 / 50: avg. loss of last epoch 0.4736135529980559\n",
            "avg. grad_norm of last epoch 0.01925376832437328\n",
            "Current train acc: 90.29205841168233%, test acc: 90.49955834723721%\n",
            "Epoch 22 / 50: avg. loss of last epoch 0.4713041924290431\n",
            "avg. grad_norm of last epoch 0.017911937683900477\n",
            "Current train acc: 90.29205841168233%, test acc: 90.49955834723721%\n",
            "Epoch 23 / 50: avg. loss of last epoch 0.4691732603505889\n",
            "avg. grad_norm of last epoch 0.01671861246881058\n",
            "Current train acc: 90.29205841168233%, test acc: 90.49955834723721%\n",
            "Epoch 24 / 50: avg. loss of last epoch 0.46720481820763693\n",
            "avg. grad_norm of last epoch 0.01567442515859646\n",
            "Current train acc: 90.29205841168233%, test acc: 90.49955834723721%\n",
            "Epoch 25 / 50: avg. loss of last epoch 0.4653742264833279\n",
            "avg. grad_norm of last epoch 0.014733187529453438\n",
            "Current train acc: 90.29205841168233%, test acc: 90.49955834723721%\n",
            "Epoch 26 / 50: avg. loss of last epoch 0.4636771229749493\n",
            "avg. grad_norm of last epoch 0.0138787926546325\n",
            "Current train acc: 90.29205841168233%, test acc: 90.49955834723721%\n",
            "Epoch 27 / 50: avg. loss of last epoch 0.4620941874813527\n",
            "avg. grad_norm of last epoch 0.013118478551353379\n",
            "Current train acc: 90.29205841168233%, test acc: 90.49955834723721%\n",
            "Epoch 28 / 50: avg. loss of last epoch 0.46061052411741016\n",
            "avg. grad_norm of last epoch 0.01240024201822208\n",
            "Current train acc: 90.29205841168233%, test acc: 90.49955834723721%\n",
            "Epoch 29 / 50: avg. loss of last epoch 0.4592197120237359\n",
            "avg. grad_norm of last epoch 0.011728232123009986\n",
            "Current train acc: 90.29205841168233%, test acc: 90.49955834723721%\n",
            "Epoch 30 / 50: avg. loss of last epoch 0.45791747579934194\n",
            "avg. grad_norm of last epoch 0.011147859134377464\n",
            "Current train acc: 90.29205841168233%, test acc: 90.49955834723721%\n",
            "Epoch 31 / 50: avg. loss of last epoch 0.45669056062794705\n",
            "avg. grad_norm of last epoch 0.010597205837860306\n",
            "Current train acc: 90.29205841168233%, test acc: 90.49955834723721%\n",
            "Epoch 32 / 50: avg. loss of last epoch 0.4555343686544699\n",
            "avg. grad_norm of last epoch 0.010096686522782597\n",
            "Current train acc: 90.29205841168233%, test acc: 90.49955834723721%\n",
            "Epoch 33 / 50: avg. loss of last epoch 0.4544414397942396\n",
            "avg. grad_norm of last epoch 0.009616629727443973\n",
            "Current train acc: 90.29205841168233%, test acc: 90.49955834723721%\n",
            "Epoch 34 / 50: avg. loss of last epoch 0.4534094581582067\n",
            "avg. grad_norm of last epoch 0.009194399951042704\n",
            "Current train acc: 90.29205841168233%, test acc: 90.49955834723721%\n",
            "Epoch 35 / 50: avg. loss of last epoch 0.4524312452796365\n",
            "avg. grad_norm of last epoch 0.008778913125758967\n",
            "Current train acc: 90.29205841168233%, test acc: 90.49955834723721%\n",
            "Epoch 36 / 50: avg. loss of last epoch 0.45150217755028266\n",
            "avg. grad_norm of last epoch 0.008418354259753407\n",
            "Current train acc: 90.29205841168233%, test acc: 90.49955834723721%\n",
            "Epoch 37 / 50: avg. loss of last epoch 0.4506194557302308\n",
            "avg. grad_norm of last epoch 0.008060851914853152\n",
            "Current train acc: 90.29205841168233%, test acc: 90.49955834723721%\n",
            "Epoch 38 / 50: avg. loss of last epoch 0.4497808250314496\n",
            "avg. grad_norm of last epoch 0.0077505178203888985\n",
            "Current train acc: 90.29205841168233%, test acc: 90.49955834723721%\n",
            "Epoch 39 / 50: avg. loss of last epoch 0.4489793108925624\n",
            "avg. grad_norm of last epoch 0.007443614002615322\n",
            "Current train acc: 90.29205841168233%, test acc: 90.49955834723721%\n",
            "Epoch 40 / 50: avg. loss of last epoch 0.4482164868714214\n",
            "avg. grad_norm of last epoch 0.007155284656474861\n",
            "Current train acc: 90.29205841168233%, test acc: 90.49955834723721%\n",
            "Epoch 41 / 50: avg. loss of last epoch 0.44748943301648403\n",
            "avg. grad_norm of last epoch 0.00687923942967125\n",
            "Current train acc: 90.29205841168233%, test acc: 90.49955834723721%\n",
            "Epoch 42 / 50: avg. loss of last epoch 0.4467919712496846\n",
            "avg. grad_norm of last epoch 0.00663453304994457\n",
            "Current train acc: 90.29205841168233%, test acc: 90.49955834723721%\n",
            "Epoch 43 / 50: avg. loss of last epoch 0.44612734101609847\n",
            "avg. grad_norm of last epoch 0.006420749522011158\n",
            "Current train acc: 90.29205841168233%, test acc: 90.49955834723721%\n",
            "Epoch 44 / 50: avg. loss of last epoch 0.4454867033749541\n",
            "avg. grad_norm of last epoch 0.006172637396435915\n",
            "Current train acc: 90.29205841168233%, test acc: 90.49955834723721%\n",
            "Epoch 45 / 50: avg. loss of last epoch 0.4448749201885339\n",
            "avg. grad_norm of last epoch 0.0059687363106711334\n",
            "Current train acc: 90.29205841168233%, test acc: 90.49955834723721%\n",
            "Epoch 46 / 50: avg. loss of last epoch 0.44428668372939656\n",
            "avg. grad_norm of last epoch 0.0057778229584883375\n",
            "Current train acc: 90.29205841168233%, test acc: 90.49955834723721%\n",
            "Epoch 47 / 50: avg. loss of last epoch 0.44372232383216587\n",
            "avg. grad_norm of last epoch 0.005591408579717065\n",
            "Current train acc: 90.29205841168233%, test acc: 90.49955834723721%\n",
            "Epoch 48 / 50: avg. loss of last epoch 0.443178510271232\n",
            "avg. grad_norm of last epoch 0.0054028666441604\n",
            "Current train acc: 90.29205841168233%, test acc: 90.49955834723721%\n",
            "Epoch 49 / 50: avg. loss of last epoch 0.44265622600218524\n",
            "avg. grad_norm of last epoch 0.0052348181052230035\n",
            "Current train acc: 90.29205841168233%, test acc: 90.49955834723721%\n",
            "Epoch 50 / 50: avg. loss of last epoch 0.44215267323379304\n",
            "avg. grad_norm of last epoch 0.005086811992768151\n",
            "Current train acc: 90.29205841168233%, test acc: 90.49955834723721%\n"
          ]
        }
      ]
    },
    {
      "cell_type": "code",
      "source": [
        "#Save the history\n",
        "save_history_json(\"/content/gdrive/MyDrive/SMGExperiments/SMG-ijcnn1-History/SMG_diminishingLR.json\", history)"
      ],
      "metadata": {
        "id": "IMN_iVAdxuya"
      },
      "execution_count": null,
      "outputs": []
    },
    {
      "cell_type": "code",
      "source": [
        "plot_loss(history)\n",
        "plot_norm_square_grad(history)"
      ],
      "metadata": {
        "id": "_1hs7MTrxxHJ",
        "colab": {
          "base_uri": "https://localhost:8080/",
          "height": 590
        },
        "outputId": "be651735-abdc-4f0b-b134-0c6a64d2bafe"
      },
      "execution_count": 4,
      "outputs": [
        {
          "output_type": "stream",
          "name": "stderr",
          "text": [
            "No handles with labels found to put in legend.\n"
          ]
        },
        {
          "output_type": "display_data",
          "data": {
            "text/plain": [
              "<Figure size 432x288 with 1 Axes>"
            ],
            "image/png": "[encoded data removed]"
          },
          "metadata": {
            "needs_background": "light"
          }
        },
        {
          "output_type": "display_data",
          "data": {
            "text/plain": [
              "<Figure size 432x288 with 1 Axes>"
            ],
            "image/png": "[encoded data removed]"
          },
          "metadata": {
            "needs_background": "light"
          }
        }
      ]
    },
    {
      "cell_type": "markdown",
      "source": [
        "## SMG with Exponential Learning Rate Scheduler"
      ],
      "metadata": {
        "id": "T1Dt2tOuxyQJ"
      }
    },
    {
      "cell_type": "code",
      "source": [
        "criterion = nn.SoftMarginLoss()\n",
        "\n",
        "model = NonconvexLogisticNet(22, 1, 128)\n",
        "model = model.to(device)\n",
        "epochs = 50\n",
        "\n",
        "scheduler = exponential_learning_rate_scheduler(0.005, 0.99)\n",
        "\n",
        "# beta is proposed in paper and epoch_count is inferenced from the graphs\n",
        "history = SMG_train(model, criterion, epochs, ijcnn1_train_loader, ijcnn1_test_loader,\n",
        "                    scheduler, beta=0.5, verbose=True)"
      ],
      "metadata": {
        "id": "DuBEF88YxzqW",
        "colab": {
          "base_uri": "https://localhost:8080/"
        },
        "outputId": "69ec1fb4-34e6-4334-edd2-09ac7221eaab"
      },
      "execution_count": null,
      "outputs": [
        {
          "output_type": "stream",
          "name": "stdout",
          "text": [
            "Epoch 1 / 50: avg. loss of last epoch 0.6238250480696881\n",
            "avg. grad_norm of last epoch 0.1374976556667395\n",
            "Current train acc: 90.29005801160233%, test acc: 90.47883883490911%\n",
            "Epoch 2 / 50: avg. loss of last epoch 0.5033391393680863\n",
            "avg. grad_norm of last epoch 0.04026102760837532\n",
            "Current train acc: 90.29205841168233%, test acc: 90.49955834723721%\n",
            "Epoch 3 / 50: avg. loss of last epoch 0.44971089856246343\n",
            "avg. grad_norm of last epoch 0.007872743311910575\n",
            "Current train acc: 90.29205841168233%, test acc: 90.49955834723721%\n",
            "Epoch 4 / 50: avg. loss of last epoch 0.4357909031070741\n",
            "avg. grad_norm of last epoch 0.003278279446828811\n",
            "Current train acc: 90.29205841168233%, test acc: 90.49955834723721%\n",
            "Epoch 5 / 50: avg. loss of last epoch 0.43022876129457516\n",
            "avg. grad_norm of last epoch 0.00198849289419429\n",
            "Current train acc: 90.29205841168233%, test acc: 90.49955834723721%\n",
            "Epoch 6 / 50: avg. loss of last epoch 0.4269510105302941\n",
            "avg. grad_norm of last epoch 0.0013843957134276937\n",
            "Current train acc: 90.29205841168233%, test acc: 90.49955834723721%\n",
            "Epoch 7 / 50: avg. loss of last epoch 0.4246978182713017\n",
            "avg. grad_norm of last epoch 0.001027460362418958\n",
            "Current train acc: 90.29205841168233%, test acc: 90.49955834723721%\n",
            "Epoch 8 / 50: avg. loss of last epoch 0.4230304462226733\n",
            "avg. grad_norm of last epoch 0.0007998585479873255\n",
            "Current train acc: 90.29205841168233%, test acc: 90.49955834723721%\n",
            "Epoch 9 / 50: avg. loss of last epoch 0.421746540767094\n",
            "avg. grad_norm of last epoch 0.0006434556347004858\n",
            "Current train acc: 90.29205841168233%, test acc: 90.49955834723721%\n",
            "Epoch 10 / 50: avg. loss of last epoch 0.42071882691424384\n",
            "avg. grad_norm of last epoch 0.0005267470050298545\n",
            "Current train acc: 90.29205841168233%, test acc: 90.49955834723721%\n",
            "Epoch 11 / 50: avg. loss of last epoch 0.4198843170056515\n",
            "avg. grad_norm of last epoch 0.0004452713077548733\n",
            "Current train acc: 90.29205841168233%, test acc: 90.49955834723721%\n",
            "Epoch 12 / 50: avg. loss of last epoch 0.41918815683307464\n",
            "avg. grad_norm of last epoch 0.0003795209494626508\n",
            "Current train acc: 90.29205841168233%, test acc: 90.49955834723721%\n",
            "Epoch 13 / 50: avg. loss of last epoch 0.418598401914909\n",
            "avg. grad_norm of last epoch 0.0003278940487582069\n",
            "Current train acc: 90.29205841168233%, test acc: 90.49955834723721%\n",
            "Epoch 14 / 50: avg. loss of last epoch 0.41809233134926527\n",
            "avg. grad_norm of last epoch 0.0002870931103428782\n",
            "Current train acc: 90.29205841168233%, test acc: 90.49955834723721%\n",
            "Epoch 15 / 50: avg. loss of last epoch 0.41765376147591476\n",
            "avg. grad_norm of last epoch 0.00025412716201526453\n",
            "Current train acc: 90.29205841168233%, test acc: 90.49955834723721%\n",
            "Epoch 16 / 50: avg. loss of last epoch 0.41727023466655455\n",
            "avg. grad_norm of last epoch 0.000226517882359731\n",
            "Current train acc: 90.29205841168233%, test acc: 90.49955834723721%\n",
            "Epoch 17 / 50: avg. loss of last epoch 0.41693290072957373\n",
            "avg. grad_norm of last epoch 0.00020384159950264034\n",
            "Current train acc: 90.29205841168233%, test acc: 90.49955834723721%\n",
            "Epoch 18 / 50: avg. loss of last epoch 0.416630598871105\n",
            "avg. grad_norm of last epoch 0.0001848609415349633\n",
            "Current train acc: 90.29205841168233%, test acc: 90.49955834723721%\n",
            "Epoch 19 / 50: avg. loss of last epoch 0.4163608041804516\n",
            "avg. grad_norm of last epoch 0.00016762167702760324\n",
            "Current train acc: 90.29205841168233%, test acc: 90.49955834723721%\n",
            "Epoch 20 / 50: avg. loss of last epoch 0.41611745619945567\n",
            "avg. grad_norm of last epoch 0.00015286069708125716\n",
            "Current train acc: 90.29205841168233%, test acc: 90.49955834723721%\n",
            "Epoch 21 / 50: avg. loss of last epoch 0.41589776865361483\n",
            "avg. grad_norm of last epoch 0.00014150697322614763\n",
            "Current train acc: 90.29205841168233%, test acc: 90.49955834723721%\n",
            "Epoch 22 / 50: avg. loss of last epoch 0.41569751846263253\n",
            "avg. grad_norm of last epoch 0.00012949518803526317\n",
            "Current train acc: 90.29205841168233%, test acc: 90.49955834723721%\n",
            "Epoch 23 / 50: avg. loss of last epoch 0.4155151694673229\n",
            "avg. grad_norm of last epoch 0.00012081340681963333\n",
            "Current train acc: 90.29205841168233%, test acc: 90.49955834723721%\n",
            "Epoch 24 / 50: avg. loss of last epoch 0.41534773574444855\n",
            "avg. grad_norm of last epoch 0.00011226473723470835\n",
            "Current train acc: 90.29205841168233%, test acc: 90.49955834723721%\n",
            "Epoch 25 / 50: avg. loss of last epoch 0.41519351233170215\n",
            "avg. grad_norm of last epoch 0.00010473255678826262\n",
            "Current train acc: 90.29205841168233%, test acc: 90.49955834723721%\n",
            "Epoch 26 / 50: avg. loss of last epoch 0.4150517661861481\n",
            "avg. grad_norm of last epoch 9.789610802706695e-05\n",
            "Current train acc: 90.29205841168233%, test acc: 90.49955834723721%\n",
            "Epoch 27 / 50: avg. loss of last epoch 0.41491992263513505\n",
            "avg. grad_norm of last epoch 9.205622410598923e-05\n",
            "Current train acc: 90.29205841168233%, test acc: 90.49955834723721%\n",
            "Epoch 28 / 50: avg. loss of last epoch 0.4147975485404502\n",
            "avg. grad_norm of last epoch 8.646002764380595e-05\n",
            "Current train acc: 90.29205841168233%, test acc: 90.49955834723721%\n",
            "Epoch 29 / 50: avg. loss of last epoch 0.41468341115904633\n",
            "avg. grad_norm of last epoch 8.146107939945321e-05\n",
            "Current train acc: 90.29205841168233%, test acc: 90.49955834723721%\n",
            "Epoch 30 / 50: avg. loss of last epoch 0.4145775097182902\n",
            "avg. grad_norm of last epoch 7.721216100145698e-05\n",
            "Current train acc: 90.29205841168233%, test acc: 90.49955834723721%\n",
            "Epoch 31 / 50: avg. loss of last epoch 0.41447833297991393\n",
            "avg. grad_norm of last epoch 7.327572708608458e-05\n",
            "Current train acc: 90.29205841168233%, test acc: 90.49955834723721%\n",
            "Epoch 32 / 50: avg. loss of last epoch 0.41438553490789415\n",
            "avg. grad_norm of last epoch 6.928599082709875e-05\n",
            "Current train acc: 90.29205841168233%, test acc: 90.49955834723721%\n",
            "Epoch 33 / 50: avg. loss of last epoch 0.414297862385816\n",
            "avg. grad_norm of last epoch 6.598094067333445e-05\n",
            "Current train acc: 90.29205841168233%, test acc: 90.49955834723721%\n",
            "Epoch 34 / 50: avg. loss of last epoch 0.4142159352399849\n",
            "avg. grad_norm of last epoch 6.29418139834495e-05\n",
            "Current train acc: 90.29205841168233%, test acc: 90.49955834723721%\n",
            "Epoch 35 / 50: avg. loss of last epoch 0.4141383532572565\n",
            "avg. grad_norm of last epoch 5.991874783904326e-05\n",
            "Current train acc: 90.29205841168233%, test acc: 90.49955834723721%\n",
            "Epoch 36 / 50: avg. loss of last epoch 0.4140653777585125\n",
            "avg. grad_norm of last epoch 5.7548712060534625e-05\n",
            "Current train acc: 90.29205841168233%, test acc: 90.49955834723721%\n",
            "Epoch 37 / 50: avg. loss of last epoch 0.4139963501535627\n",
            "avg. grad_norm of last epoch 5.489796383907872e-05\n",
            "Current train acc: 90.29205841168233%, test acc: 90.49955834723721%\n",
            "Epoch 38 / 50: avg. loss of last epoch 0.41393109472972656\n",
            "avg. grad_norm of last epoch 5.263445561130241e-05\n",
            "Current train acc: 90.29205841168233%, test acc: 90.49955834723721%\n",
            "Epoch 39 / 50: avg. loss of last epoch 0.41386891391115627\n",
            "avg. grad_norm of last epoch 5.056533756003869e-05\n",
            "Current train acc: 90.29205841168233%, test acc: 90.49955834723721%\n",
            "Epoch 40 / 50: avg. loss of last epoch 0.41381015667178006\n",
            "avg. grad_norm of last epoch 4.851542430645783e-05\n",
            "Current train acc: 90.29205841168233%, test acc: 90.49955834723721%\n",
            "Epoch 41 / 50: avg. loss of last epoch 0.41375436538170524\n",
            "avg. grad_norm of last epoch 4.646218151761352e-05\n",
            "Current train acc: 90.29205841168233%, test acc: 90.49955834723721%\n",
            "Epoch 42 / 50: avg. loss of last epoch 0.41370099862591464\n",
            "avg. grad_norm of last epoch 4.490870692973274e-05\n",
            "Current train acc: 90.29205841168233%, test acc: 90.49955834723721%\n",
            "Epoch 43 / 50: avg. loss of last epoch 0.4136503474846865\n",
            "avg. grad_norm of last epoch 4.340644376887964e-05\n",
            "Current train acc: 90.29205841168233%, test acc: 90.49955834723721%\n",
            "Epoch 44 / 50: avg. loss of last epoch 0.4136021718713709\n",
            "avg. grad_norm of last epoch 4.1969859512740845e-05\n",
            "Current train acc: 90.29205841168233%, test acc: 90.49955834723721%\n",
            "Epoch 45 / 50: avg. loss of last epoch 0.41355596210604123\n",
            "avg. grad_norm of last epoch 4.0557365598032633e-05\n",
            "Current train acc: 90.29205841168233%, test acc: 90.49955834723721%\n",
            "Epoch 46 / 50: avg. loss of last epoch 0.4135119885653349\n",
            "avg. grad_norm of last epoch 3.9067098965755164e-05\n",
            "Current train acc: 90.29205841168233%, test acc: 90.49955834723721%\n",
            "Epoch 47 / 50: avg. loss of last epoch 0.41346980307216163\n",
            "avg. grad_norm of last epoch 3.7864287380889805e-05\n",
            "Current train acc: 90.29205841168233%, test acc: 90.49955834723721%\n",
            "Epoch 48 / 50: avg. loss of last epoch 0.4134295441050797\n",
            "avg. grad_norm of last epoch 3.6658171895442806e-05\n",
            "Current train acc: 90.29205841168233%, test acc: 90.49955834723721%\n",
            "Epoch 49 / 50: avg. loss of last epoch 0.4133908873010719\n",
            "avg. grad_norm of last epoch 3.557594279153779e-05\n",
            "Current train acc: 90.29205841168233%, test acc: 90.49955834723721%\n",
            "Epoch 50 / 50: avg. loss of last epoch 0.41335391323789167\n",
            "avg. grad_norm of last epoch 3.450999593196311e-05\n",
            "Current train acc: 90.29205841168233%, test acc: 90.49955834723721%\n"
          ]
        }
      ]
    },
    {
      "cell_type": "code",
      "source": [
        "#Save the history\n",
        "save_history_json(\"/content/gdrive/MyDrive/SMGExperiments/SMG-ijcnn1-History/SMG_ExponentialLR.json\", history)"
      ],
      "metadata": {
        "id": "Jgr3VAD3x2Db"
      },
      "execution_count": null,
      "outputs": []
    },
    {
      "cell_type": "code",
      "source": [
        "plot_loss(history)\n",
        "plot_norm_square_grad(history)"
      ],
      "metadata": {
        "id": "ve45mYuCx4Nb",
        "colab": {
          "base_uri": "https://localhost:8080/",
          "height": 590
        },
        "outputId": "19651d9c-39b6-4c35-9f02-fc605dc5a0de"
      },
      "execution_count": 6,
      "outputs": [
        {
          "output_type": "stream",
          "name": "stderr",
          "text": [
            "No handles with labels found to put in legend.\n"
          ]
        },
        {
          "output_type": "display_data",
          "data": {
            "text/plain": [
              "<Figure size 432x288 with 1 Axes>"
            ],
            "image/png": "[encoded data removed]"
          },
          "metadata": {
            "needs_background": "light"
          }
        },
        {
          "output_type": "display_data",
          "data": {
            "text/plain": [
              "<Figure size 432x288 with 1 Axes>"
            ],
            "image/png": "[encoded data removed]"
          },
          "metadata": {
            "needs_background": "light"
          }
        }
      ]
    },
    {
      "cell_type": "markdown",
      "source": [
        "## SMG with Cosine Learning Rate Scheduler"
      ],
      "metadata": {
        "id": "sNkFgV0Gx5ZC"
      }
    },
    {
      "cell_type": "code",
      "source": [
        "criterion = nn.SoftMarginLoss()\n",
        "\n",
        "model = NonconvexLogisticNet(22, 1, 128)\n",
        "model = model.to(device)\n",
        "epochs = 50\n",
        "\n",
        "\n",
        "scheduler = cosine_learning_rate_scheduler(0.005, epochs)\n",
        "\n",
        "# beta is proposed in paper and epoch_count is inferred from the graphs\n",
        "history = SMG_train(model, criterion, epochs, ijcnn1_train_loader, ijcnn1_test_loader,\n",
        "                    scheduler, beta=0.5, verbose=True)"
      ],
      "metadata": {
        "id": "fZxb_QZ5x77H",
        "colab": {
          "base_uri": "https://localhost:8080/"
        },
        "outputId": "42f629d6-4fad-4c4f-874c-5ad46bd15811"
      },
      "execution_count": null,
      "outputs": [
        {
          "output_type": "stream",
          "name": "stdout",
          "text": [
            "Epoch 1 / 50: avg. loss of last epoch 0.5638828715769667\n",
            "avg. grad_norm of last epoch 0.08817237183838186\n",
            "Current train acc: 90.29205841168233%, test acc: 90.49955834723721%\n",
            "Epoch 2 / 50: avg. loss of last epoch 0.45394178643706407\n",
            "avg. grad_norm of last epoch 0.010866333843714188\n",
            "Current train acc: 90.29205841168233%, test acc: 90.49955834723721%\n",
            "Epoch 3 / 50: avg. loss of last epoch 0.424687924970982\n",
            "avg. grad_norm of last epoch 0.0010459308835357836\n",
            "Current train acc: 90.29205841168233%, test acc: 90.49955834723721%\n",
            "Epoch 4 / 50: avg. loss of last epoch 0.420219849830724\n",
            "avg. grad_norm of last epoch 0.00047534866512584037\n",
            "Current train acc: 90.29205841168233%, test acc: 90.49955834723721%\n",
            "Epoch 5 / 50: avg. loss of last epoch 0.41855777050762544\n",
            "avg. grad_norm of last epoch 0.00032544866356446644\n",
            "Current train acc: 90.29205841168233%, test acc: 90.49955834723721%\n",
            "Epoch 6 / 50: avg. loss of last epoch 0.4174787049175237\n",
            "avg. grad_norm of last epoch 0.0002406291845232508\n",
            "Current train acc: 90.29205841168233%, test acc: 90.49955834723721%\n",
            "Epoch 7 / 50: avg. loss of last epoch 0.4166845468812812\n",
            "avg. grad_norm of last epoch 0.00018689230193942125\n",
            "Current train acc: 90.29205841168233%, test acc: 90.49955834723721%\n",
            "Epoch 8 / 50: avg. loss of last epoch 0.4160763168113185\n",
            "avg. grad_norm of last epoch 0.00015047987963609245\n",
            "Current train acc: 90.29205841168233%, test acc: 90.49955834723721%\n",
            "Epoch 9 / 50: avg. loss of last epoch 0.41559518682024277\n",
            "avg. grad_norm of last epoch 0.00012422926012162647\n",
            "Current train acc: 90.29205841168233%, test acc: 90.49955834723721%\n",
            "Epoch 10 / 50: avg. loss of last epoch 0.4152049300038214\n",
            "avg. grad_norm of last epoch 0.00010480643445007733\n",
            "Current train acc: 90.29205841168233%, test acc: 90.49955834723721%\n",
            "Epoch 11 / 50: avg. loss of last epoch 0.41488162255759337\n",
            "avg. grad_norm of last epoch 8.975684423482522e-05\n",
            "Current train acc: 90.29205841168233%, test acc: 90.49955834723721%\n",
            "Epoch 12 / 50: avg. loss of last epoch 0.4146118189363772\n",
            "avg. grad_norm of last epoch 7.808335469957451e-05\n",
            "Current train acc: 90.29205841168233%, test acc: 90.49955834723721%\n",
            "Epoch 13 / 50: avg. loss of last epoch 0.4143813895258719\n",
            "avg. grad_norm of last epoch 6.89957526705726e-05\n",
            "Current train acc: 90.29205841168233%, test acc: 90.49955834723721%\n",
            "Epoch 14 / 50: avg. loss of last epoch 0.4141850780513099\n",
            "avg. grad_norm of last epoch 6.135361293733463e-05\n",
            "Current train acc: 90.29205841168233%, test acc: 90.49955834723721%\n",
            "Epoch 15 / 50: avg. loss of last epoch 0.4140151154425033\n",
            "avg. grad_norm of last epoch 5.535890691662103e-05\n",
            "Current train acc: 90.29205841168233%, test acc: 90.49955834723721%\n",
            "Epoch 16 / 50: avg. loss of last epoch 0.4138666954773097\n",
            "avg. grad_norm of last epoch 5.005606335401375e-05\n",
            "Current train acc: 90.29205841168233%, test acc: 90.49955834723721%\n",
            "Epoch 17 / 50: avg. loss of last epoch 0.41373718361850714\n",
            "avg. grad_norm of last epoch 4.596665843749442e-05\n",
            "Current train acc: 90.29205841168233%, test acc: 90.49955834723721%\n",
            "Epoch 18 / 50: avg. loss of last epoch 0.4136231977239942\n",
            "avg. grad_norm of last epoch 4.226267435378246e-05\n",
            "Current train acc: 90.29205841168233%, test acc: 90.49955834723721%\n",
            "Epoch 19 / 50: avg. loss of last epoch 0.4135221413920752\n",
            "avg. grad_norm of last epoch 3.898730036248225e-05\n",
            "Current train acc: 90.29205841168233%, test acc: 90.49955834723721%\n",
            "Epoch 20 / 50: avg. loss of last epoch 0.4134327510758196\n",
            "avg. grad_norm of last epoch 3.653919456763649e-05\n",
            "Current train acc: 90.29205841168233%, test acc: 90.49955834723721%\n",
            "Epoch 21 / 50: avg. loss of last epoch 0.4133532105719812\n",
            "avg. grad_norm of last epoch 3.4305148496511485e-05\n",
            "Current train acc: 90.29205841168233%, test acc: 90.49955834723721%\n",
            "Epoch 22 / 50: avg. loss of last epoch 0.41328225476094577\n",
            "avg. grad_norm of last epoch 3.223909295308339e-05\n",
            "Current train acc: 90.29205841168233%, test acc: 90.49955834723721%\n",
            "Epoch 23 / 50: avg. loss of last epoch 0.41321870038260927\n",
            "avg. grad_norm of last epoch 3.05216547692434e-05\n",
            "Current train acc: 90.29205841168233%, test acc: 90.49955834723721%\n",
            "Epoch 24 / 50: avg. loss of last epoch 0.41316217568712854\n",
            "avg. grad_norm of last epoch 2.9017567702264684e-05\n",
            "Current train acc: 90.29205841168233%, test acc: 90.49955834723721%\n",
            "Epoch 25 / 50: avg. loss of last epoch 0.41311139568468896\n",
            "avg. grad_norm of last epoch 2.7747755373754673e-05\n",
            "Current train acc: 90.29205841168233%, test acc: 90.49955834723721%\n",
            "Epoch 26 / 50: avg. loss of last epoch 0.41306580493964773\n",
            "avg. grad_norm of last epoch 2.6635409644685538e-05\n",
            "Current train acc: 90.29205841168233%, test acc: 90.49955834723721%\n",
            "Epoch 27 / 50: avg. loss of last epoch 0.4130250759877351\n",
            "avg. grad_norm of last epoch 2.5576320694120626e-05\n",
            "Current train acc: 90.29205841168233%, test acc: 90.49955834723721%\n",
            "Epoch 28 / 50: avg. loss of last epoch 0.41298869338410427\n",
            "avg. grad_norm of last epoch 2.4731319119973344e-05\n",
            "Current train acc: 90.29205841168233%, test acc: 90.49955834723721%\n",
            "Epoch 29 / 50: avg. loss of last epoch 0.41295603596226965\n",
            "avg. grad_norm of last epoch 2.3940279528021977e-05\n",
            "Current train acc: 90.29205841168233%, test acc: 90.49955834723721%\n",
            "Epoch 30 / 50: avg. loss of last epoch 0.4129270127068094\n",
            "avg. grad_norm of last epoch 2.311737224490685e-05\n",
            "Current train acc: 90.29205841168233%, test acc: 90.49955834723721%\n",
            "Epoch 31 / 50: avg. loss of last epoch 0.41290106837643104\n",
            "avg. grad_norm of last epoch 2.2653006310224727e-05\n",
            "Current train acc: 90.29205841168233%, test acc: 90.49955834723721%\n",
            "Epoch 32 / 50: avg. loss of last epoch 0.4128781355614898\n",
            "avg. grad_norm of last epoch 2.2126325702785324e-05\n",
            "Current train acc: 90.29205841168233%, test acc: 90.49955834723721%\n",
            "Epoch 33 / 50: avg. loss of last epoch 0.41285783640740736\n",
            "avg. grad_norm of last epoch 2.160454924147132e-05\n",
            "Current train acc: 90.29205841168233%, test acc: 90.49955834723721%\n",
            "Epoch 34 / 50: avg. loss of last epoch 0.4128400252148682\n",
            "avg. grad_norm of last epoch 2.1259724339121517e-05\n",
            "Current train acc: 90.29205841168233%, test acc: 90.49955834723721%\n",
            "Epoch 35 / 50: avg. loss of last epoch 0.4128243790468853\n",
            "avg. grad_norm of last epoch 2.0862882403946262e-05\n",
            "Current train acc: 90.29205841168233%, test acc: 90.49955834723721%\n",
            "Epoch 36 / 50: avg. loss of last epoch 0.4128107759029203\n",
            "avg. grad_norm of last epoch 2.0529004767911963e-05\n",
            "Current train acc: 90.29205841168233%, test acc: 90.49955834723721%\n",
            "Epoch 37 / 50: avg. loss of last epoch 0.41279908419251543\n",
            "avg. grad_norm of last epoch 2.0298499738070368e-05\n",
            "Current train acc: 90.29205841168233%, test acc: 90.49955834723721%\n",
            "Epoch 38 / 50: avg. loss of last epoch 0.41278910904341753\n",
            "avg. grad_norm of last epoch 2.006518801778866e-05\n",
            "Current train acc: 90.29205841168233%, test acc: 90.49955834723721%\n",
            "Epoch 39 / 50: avg. loss of last epoch 0.4127806809931477\n",
            "avg. grad_norm of last epoch 1.9811250363587576e-05\n",
            "Current train acc: 90.29205841168233%, test acc: 90.49955834723721%\n",
            "Epoch 40 / 50: avg. loss of last epoch 0.4127736603660469\n",
            "avg. grad_norm of last epoch 1.9757913347093717e-05\n",
            "Current train acc: 90.29205841168233%, test acc: 90.49955834723721%\n",
            "Epoch 41 / 50: avg. loss of last epoch 0.41276791535584706\n",
            "avg. grad_norm of last epoch 1.9568267672121996e-05\n",
            "Current train acc: 90.29205841168233%, test acc: 90.49955834723721%\n",
            "Epoch 42 / 50: avg. loss of last epoch 0.4127633379516325\n",
            "avg. grad_norm of last epoch 1.9472169611539175e-05\n",
            "Current train acc: 90.29205841168233%, test acc: 90.49955834723721%\n",
            "Epoch 43 / 50: avg. loss of last epoch 0.4127597433587364\n",
            "avg. grad_norm of last epoch 1.9422692711633302e-05\n",
            "Current train acc: 90.29205841168233%, test acc: 90.49955834723721%\n",
            "Epoch 44 / 50: avg. loss of last epoch 0.4127570359676834\n",
            "avg. grad_norm of last epoch 1.9323069759972922e-05\n",
            "Current train acc: 90.29205841168233%, test acc: 90.49955834723721%\n",
            "Epoch 45 / 50: avg. loss of last epoch 0.4127551067767324\n",
            "avg. grad_norm of last epoch 1.9295245714322543e-05\n",
            "Current train acc: 90.29205841168233%, test acc: 90.49955834723721%\n",
            "Epoch 46 / 50: avg. loss of last epoch 0.41275379610290547\n",
            "avg. grad_norm of last epoch 1.928002201727955e-05\n",
            "Current train acc: 90.29205841168233%, test acc: 90.49955834723721%\n",
            "Epoch 47 / 50: avg. loss of last epoch 0.41275300347440214\n",
            "avg. grad_norm of last epoch 1.9291790975400523e-05\n",
            "Current train acc: 90.29205841168233%, test acc: 90.49955834723721%\n",
            "Epoch 48 / 50: avg. loss of last epoch 0.41275254425274704\n",
            "avg. grad_norm of last epoch 1.9246900281387337e-05\n",
            "Current train acc: 90.29205841168233%, test acc: 90.49955834723721%\n",
            "Epoch 49 / 50: avg. loss of last epoch 0.41275234385880755\n",
            "avg. grad_norm of last epoch 1.9212289563251654e-05\n",
            "Current train acc: 90.29205841168233%, test acc: 90.49955834723721%\n",
            "Epoch 50 / 50: avg. loss of last epoch 0.41275234244827935\n",
            "avg. grad_norm of last epoch 1.9269824560508453e-05\n",
            "Current train acc: 90.29205841168233%, test acc: 90.49955834723721%\n"
          ]
        }
      ]
    },
    {
      "cell_type": "code",
      "source": [
        "#Save the history\n",
        "save_history_json(\"/content/gdrive/MyDrive/SMGExperiments/SMG-ijcnn1-History/SMG_CosineLR.json\", history)"
      ],
      "metadata": {
        "id": "BG0-hjkWx9Qh"
      },
      "execution_count": null,
      "outputs": []
    },
    {
      "cell_type": "code",
      "source": [
        "plot_loss(history)\n",
        "plot_norm_square_grad(history)"
      ],
      "metadata": {
        "id": "eQ2BkyLuyAEL",
        "colab": {
          "base_uri": "https://localhost:8080/",
          "height": 590
        },
        "outputId": "9379e399-7856-4635-9c57-9f27d33f9cae"
      },
      "execution_count": 8,
      "outputs": [
        {
          "output_type": "stream",
          "name": "stderr",
          "text": [
            "No handles with labels found to put in legend.\n"
          ]
        },
        {
          "output_type": "display_data",
          "data": {
            "text/plain": [
              "<Figure size 432x288 with 1 Axes>"
            ],
            "image/png": "[encoded data removed]"
          },
          "metadata": {
            "needs_background": "light"
          }
        },
        {
          "output_type": "display_data",
          "data": {
            "text/plain": [
              "<Figure size 432x288 with 1 Axes>"
            ],
            "image/png": "[encoded data removed]"
          },
          "metadata": {
            "needs_background": "light"
          }
        }
      ]
    },
    {
      "cell_type": "markdown",
      "source": [
        "# 2- Train Other Models and Compare over SMG"
      ],
      "metadata": {
        "id": "wcBiGviByBYm"
      }
    },
    {
      "cell_type": "markdown",
      "source": [
        "## Training with Adam\n"
      ],
      "metadata": {
        "id": "FCf1zx8JyCo6"
      }
    },
    {
      "cell_type": "code",
      "source": [
        "import torch.optim as optim\n",
        "\n",
        "criterion = nn.SoftMarginLoss()\n",
        "\n",
        "model = NonconvexLogisticNet(22, 1, 128)\n",
        "model = model.to(device)\n",
        "epochs = 50\n",
        "\n",
        "\n",
        "scheduler = constant_learning_rate_scheduler(0.001)\n",
        "optimizer = optim.Adam(model.parameters(), lr=0.001, betas=(0.9, 0.999))\n",
        "\n",
        "adam_history = train(model, criterion, optimizer, epochs, ijcnn1_train_loader, ijcnn1_test_loader, scheduler)"
      ],
      "metadata": {
        "id": "78NBwXMIyD7i",
        "colab": {
          "base_uri": "https://localhost:8080/"
        },
        "outputId": "64aa7dfa-1ca9-4cb1-f2f9-20d6e5b5e2f2"
      },
      "execution_count": null,
      "outputs": [
        {
          "output_type": "stream",
          "name": "stdout",
          "text": [
            "Epoch 1 / 50: avg. loss of last epoch 0.5370973212918317\n",
            "Epoch 1 / 50: avg. grad_norm of last epoch 0.06850565947644957\n",
            "Current train acc: 90.29205841168233%, test acc: 90.50064884788607%\n",
            "Epoch 2 / 50: avg. loss of last epoch 0.45217592751986985\n",
            "Epoch 2 / 50: avg. grad_norm of last epoch 0.00958313569290679\n",
            "Current train acc: 90.29205841168233%, test acc: 90.49955834723721%\n",
            "Epoch 3 / 50: avg. loss of last epoch 0.4308845727604423\n",
            "Epoch 3 / 50: avg. grad_norm of last epoch 0.0023513583066106522\n",
            "Current train acc: 90.29205841168233%, test acc: 90.49955834723721%\n",
            "Epoch 4 / 50: avg. loss of last epoch 0.42257538335302786\n",
            "Epoch 4 / 50: avg. grad_norm of last epoch 0.0008414971048858773\n",
            "Current train acc: 90.29205841168233%, test acc: 90.49955834723721%\n",
            "Epoch 5 / 50: avg. loss of last epoch 0.4184379188149754\n",
            "Epoch 5 / 50: avg. grad_norm of last epoch 0.0003701152392992539\n",
            "Current train acc: 90.29205841168233%, test acc: 90.50064884788607%\n",
            "Epoch 6 / 50: avg. loss of last epoch 0.4160471587174891\n",
            "Epoch 6 / 50: avg. grad_norm of last epoch 0.00019098055956435242\n",
            "Current train acc: 90.29205841168233%, test acc: 90.50392034983261%\n",
            "Epoch 7 / 50: avg. loss of last epoch 0.4145061884481542\n",
            "Epoch 7 / 50: avg. grad_norm of last epoch 0.00011557708649222455\n",
            "Current train acc: 90.29205841168233%, test acc: 90.52245886086303%\n",
            "Epoch 8 / 50: avg. loss of last epoch 0.41339304934837623\n",
            "Epoch 8 / 50: avg. grad_norm of last epoch 8.476600238627275e-05\n",
            "Current train acc: 90.30406081216243%, test acc: 90.55626438097731%\n",
            "Epoch 9 / 50: avg. loss of last epoch 0.4124573508962009\n",
            "Epoch 9 / 50: avg. grad_norm of last epoch 7.564465468548747e-05\n",
            "Current train acc: 90.33606721344269%, test acc: 90.56935038876348%\n",
            "Epoch 10 / 50: avg. loss of last epoch 0.41152052405024087\n",
            "Epoch 10 / 50: avg. grad_norm of last epoch 8.326670784270617e-05\n",
            "Current train acc: 90.3860772154431%, test acc: 90.62387542120588%\n",
            "Epoch 11 / 50: avg. loss of last epoch 0.4104829086151381\n",
            "Epoch 11 / 50: avg. grad_norm of last epoch 0.00010021525509451531\n",
            "Current train acc: 90.51010202040408%, test acc: 90.71656797635795%\n",
            "Epoch 12 / 50: avg. loss of last epoch 0.40929946141568246\n",
            "Epoch 12 / 50: avg. grad_norm of last epoch 0.00013009542931096733\n",
            "Current train acc: 90.68413682736548%, test acc: 90.78745051853306%\n",
            "Epoch 13 / 50: avg. loss of last epoch 0.40805488386424144\n",
            "Epoch 13 / 50: avg. grad_norm of last epoch 0.0001472329764578971\n",
            "Current train acc: 90.81816363272655%, test acc: 90.80926053151002%\n",
            "Epoch 14 / 50: avg. loss of last epoch 0.40683387435896684\n",
            "Epoch 14 / 50: avg. grad_norm of last epoch 0.000178282238141448\n",
            "Current train acc: 90.93618723744748%, test acc: 90.80053652631923%\n",
            "Epoch 15 / 50: avg. loss of last epoch 0.40570507820760493\n",
            "Epoch 15 / 50: avg. grad_norm of last epoch 0.0001991497981665037\n",
            "Current train acc: 91.03220644128825%, test acc: 90.83107054448698%\n",
            "Epoch 16 / 50: avg. loss of last epoch 0.4047103747150189\n",
            "Epoch 16 / 50: avg. grad_norm of last epoch 0.00022885130668431382\n",
            "Current train acc: 91.16823364672935%, test acc: 90.88450507628052%\n",
            "Epoch 17 / 50: avg. loss of last epoch 0.40383708539498425\n",
            "Epoch 17 / 50: avg. grad_norm of last epoch 0.00023825344512427358\n",
            "Current train acc: 91.34626925385076%, test acc: 90.98701213727222%\n",
            "Epoch 18 / 50: avg. loss of last epoch 0.4030903456663699\n",
            "Epoch 18 / 50: avg. grad_norm of last epoch 0.00024544772604893726\n",
            "Current train acc: 91.49029805961192%, test acc: 91.10369570669894%\n",
            "Epoch 19 / 50: avg. loss of last epoch 0.40244345291062916\n",
            "Epoch 19 / 50: avg. grad_norm of last epoch 0.00026311312877108585\n",
            "Current train acc: 91.61032206441288%, test acc: 91.2552752968888%\n",
            "Epoch 20 / 50: avg. loss of last epoch 0.4019035131627498\n",
            "Epoch 20 / 50: avg. grad_norm of last epoch 0.0002645679612876279\n",
            "Current train acc: 91.71034206841368%, test acc: 91.34687735139202%\n",
            "Epoch 21 / 50: avg. loss of last epoch 0.40143766538170184\n",
            "Epoch 21 / 50: avg. grad_norm of last epoch 0.000258463032965123\n",
            "Current train acc: 91.76435287057411%, test acc: 91.39158787799478%\n",
            "Epoch 22 / 50: avg. loss of last epoch 0.40104101076677445\n",
            "Epoch 22 / 50: avg. grad_norm of last epoch 0.0002567145178484734\n",
            "Current train acc: 91.84636927385478%, test acc: 91.46137991952105%\n",
            "Epoch 23 / 50: avg. loss of last epoch 0.400695593445557\n",
            "Epoch 23 / 50: avg. grad_norm of last epoch 0.0002545798961156008\n",
            "Current train acc: 91.86837367473494%, test acc: 91.51154294936805%\n",
            "Epoch 24 / 50: avg. loss of last epoch 0.400383551769625\n",
            "Epoch 24 / 50: avg. grad_norm of last epoch 0.00025500105613973217\n",
            "Current train acc: 91.93038607721545%, test acc: 91.5377149649404%\n",
            "Epoch 25 / 50: avg. loss of last epoch 0.4001254770845906\n",
            "Epoch 25 / 50: avg. grad_norm of last epoch 0.0002732713234729962\n",
            "Current train acc: 91.99439887977596%, test acc: 91.5649774811616%\n",
            "Epoch 26 / 50: avg. loss of last epoch 0.3999014112288341\n",
            "Epoch 26 / 50: avg. grad_norm of last epoch 0.00026640133995423066\n",
            "Current train acc: 92.03040608121624%, test acc: 91.60750700646666%\n",
            "Epoch 27 / 50: avg. loss of last epoch 0.3997149858433717\n",
            "Epoch 27 / 50: avg. grad_norm of last epoch 0.0002563181141393973\n",
            "Current train acc: 92.07241448289658%, test acc: 91.63913152528326%\n",
            "Epoch 28 / 50: avg. loss of last epoch 0.3995534539580415\n",
            "Epoch 28 / 50: avg. grad_norm of last epoch 0.0002540226271557044\n",
            "Current train acc: 92.13242648529706%, test acc: 91.66203203890906%\n",
            "Epoch 29 / 50: avg. loss of last epoch 0.3994097222194931\n",
            "Epoch 29 / 50: avg. grad_norm of last epoch 0.00026233489899427326\n",
            "Current train acc: 92.19443888777755%, test acc: 91.68166105058833%\n",
            "Epoch 30 / 50: avg. loss of last epoch 0.39930109688581833\n",
            "Epoch 30 / 50: avg. grad_norm of last epoch 0.0002704080675573119\n",
            "Current train acc: 92.22244448889778%, test acc: 91.70129006226759%\n",
            "Epoch 31 / 50: avg. loss of last epoch 0.3992178523211414\n",
            "Epoch 31 / 50: avg. grad_norm of last epoch 0.0002621074316008397\n",
            "Current train acc: 92.23644728945789%, test acc: 91.72964307913763%\n",
            "Epoch 32 / 50: avg. loss of last epoch 0.39912909805047386\n",
            "Epoch 32 / 50: avg. grad_norm of last epoch 0.0002651487026574584\n",
            "Current train acc: 92.27045409081816%, test acc: 91.7470910895192%\n",
            "Epoch 33 / 50: avg. loss of last epoch 0.3990989333046606\n",
            "Epoch 33 / 50: avg. grad_norm of last epoch 0.00026765957602541764\n",
            "Current train acc: 92.29045809161832%, test acc: 91.76562960054962%\n",
            "Epoch 34 / 50: avg. loss of last epoch 0.3990673990589687\n",
            "Epoch 34 / 50: avg. grad_norm of last epoch 0.0002672590214884282\n",
            "Current train acc: 92.31446289257852%, test acc: 91.76890110249616%\n",
            "Epoch 35 / 50: avg. loss of last epoch 0.39906068513884163\n",
            "Epoch 35 / 50: avg. grad_norm of last epoch 0.0002731006805145455\n",
            "Current train acc: 92.33446689337867%, test acc: 91.78525861222887%\n",
            "Epoch 36 / 50: avg. loss of last epoch 0.39906785987357746\n",
            "Epoch 36 / 50: avg. grad_norm of last epoch 0.0002728978363126521\n",
            "Current train acc: 92.36447289457891%, test acc: 91.80706862520583%\n",
            "Epoch 37 / 50: avg. loss of last epoch 0.39908543839576754\n",
            "Epoch 37 / 50: avg. grad_norm of last epoch 0.0002609027807826133\n",
            "Current train acc: 92.38847769553911%, test acc: 91.81906413234316%\n",
            "Epoch 38 / 50: avg. loss of last epoch 0.39911880627778307\n",
            "Epoch 38 / 50: avg. grad_norm of last epoch 0.0002563475817856465\n",
            "Current train acc: 92.42048409681937%, test acc: 91.82124513364086%\n",
            "Epoch 39 / 50: avg. loss of last epoch 0.3991704249446404\n",
            "Epoch 39 / 50: avg. grad_norm of last epoch 0.00025580105076054\n",
            "Current train acc: 92.44848969793959%, test acc: 91.83978364467127%\n",
            "Epoch 40 / 50: avg. loss of last epoch 0.39923183501637133\n",
            "Epoch 40 / 50: avg. grad_norm of last epoch 0.00023358576552126147\n",
            "Current train acc: 92.47049409881977%, test acc: 91.85396015310629%\n",
            "Epoch 41 / 50: avg. loss of last epoch 0.39930616461007323\n",
            "Epoch 41 / 50: avg. grad_norm of last epoch 0.0002436234388272187\n",
            "Current train acc: 92.53450690138028%, test acc: 91.86486515959477%\n",
            "Epoch 42 / 50: avg. loss of last epoch 0.399409367268408\n",
            "Epoch 42 / 50: avg. grad_norm of last epoch 0.00027074486597067907\n",
            "Current train acc: 92.54250850170034%, test acc: 91.88013216867864%\n",
            "Epoch 43 / 50: avg. loss of last epoch 0.3995079360477542\n",
            "Epoch 43 / 50: avg. grad_norm of last epoch 0.000286224409404828\n",
            "Current train acc: 92.59051810362072%, test acc: 91.88885617386943%\n",
            "Epoch 44 / 50: avg. loss of last epoch 0.39961417706090485\n",
            "Epoch 44 / 50: avg. grad_norm of last epoch 0.0002331542035264118\n",
            "Current train acc: 92.59251850370075%, test acc: 91.89867067970906%\n",
            "Epoch 45 / 50: avg. loss of last epoch 0.39973437390129046\n",
            "Epoch 45 / 50: avg. grad_norm of last epoch 0.0002633200633315195\n",
            "Current train acc: 92.67253450690139%, test acc: 91.93029519852564%\n",
            "Epoch 46 / 50: avg. loss of last epoch 0.39987601557477137\n",
            "Epoch 46 / 50: avg. grad_norm of last epoch 0.00026654845414835734\n",
            "Current train acc: 92.68653730746149%, test acc: 91.94556220760951%\n",
            "Epoch 47 / 50: avg. loss of last epoch 0.4000105711204285\n",
            "Epoch 47 / 50: avg. grad_norm of last epoch 0.0002463205430874307\n",
            "Current train acc: 92.71654330866173%, test acc: 91.96955322188417%\n",
            "Epoch 48 / 50: avg. loss of last epoch 0.40015712876657555\n",
            "Epoch 48 / 50: avg. grad_norm of last epoch 0.000252708507077269\n",
            "Current train acc: 92.71854370874175%, test acc: 91.97609622577725%\n",
            "Epoch 49 / 50: avg. loss of last epoch 0.4003099116260329\n",
            "Epoch 49 / 50: avg. grad_norm of last epoch 0.00026347647738124224\n",
            "Current train acc: 92.7625525105021%, test acc: 92.0088112452427%\n",
            "Epoch 50 / 50: avg. loss of last epoch 0.40047869139920483\n",
            "Epoch 50 / 50: avg. grad_norm of last epoch 0.00025580626294607726\n",
            "Current train acc: 92.77655531106221%, test acc: 92.02080675238001%\n"
          ]
        }
      ]
    },
    {
      "cell_type": "code",
      "source": [
        "#Save the history\n",
        "save_history_json(\"/content/gdrive/MyDrive/SMGExperiments/ijcnn1-Other-Optimizers/ADAM_constantLR.json\", adam_history)"
      ],
      "metadata": {
        "id": "2Jvvn9aPyJms"
      },
      "execution_count": null,
      "outputs": []
    },
    {
      "cell_type": "code",
      "source": [
        "plot_loss(adam_history)\n",
        "plot_norm_square_grad(adam_history)"
      ],
      "metadata": {
        "id": "d9zTEImDyLyU",
        "colab": {
          "base_uri": "https://localhost:8080/",
          "height": 590
        },
        "outputId": "b2a0bb08-c76a-4341-cbc2-06e447432832"
      },
      "execution_count": 9,
      "outputs": [
        {
          "output_type": "stream",
          "name": "stderr",
          "text": [
            "No handles with labels found to put in legend.\n"
          ]
        },
        {
          "output_type": "display_data",
          "data": {
            "text/plain": [
              "<Figure size 432x288 with 1 Axes>"
            ],
            "image/png": "[encoded data removed]"
          },
          "metadata": {
            "needs_background": "light"
          }
        },
        {
          "output_type": "display_data",
          "data": {
            "text/plain": [
              "<Figure size 432x288 with 1 Axes>"
            ],
            "image/png": "[encoded data removed]"
          },
          "metadata": {
            "needs_background": "light"
          }
        }
      ]
    },
    {
      "cell_type": "markdown",
      "source": [
        "## Training with SGD\n"
      ],
      "metadata": {
        "id": "ATuSheHCyN7Y"
      }
    },
    {
      "cell_type": "code",
      "source": [
        "import torch.optim as optim\n",
        "criterion = nn.SoftMarginLoss()\n",
        "\n",
        "model = NonconvexLogisticNet(22, 1, 128)\n",
        "model = model.to(device)\n",
        "epochs = 50\n",
        "\n",
        "scheduler = constant_learning_rate_scheduler(0.001)\n",
        "optimizer = optim.SGD(model.parameters(), lr=0.001)\n",
        "\n",
        "sgd_history = train(model, criterion, optimizer, epochs, ijcnn1_train_loader, ijcnn1_test_loader, scheduler)"
      ],
      "metadata": {
        "id": "o1XEPB2MyOfD",
        "colab": {
          "base_uri": "https://localhost:8080/"
        },
        "outputId": "89b0853a-6c8e-4c96-dd3f-8e72186f1f3b"
      },
      "execution_count": null,
      "outputs": [
        {
          "output_type": "stream",
          "name": "stdout",
          "text": [
            "Epoch 1 / 50: avg. loss of last epoch 0.7155439224975734\n",
            "Epoch 1 / 50: avg. grad_norm of last epoch 0.20015173017169044\n",
            "Current train acc: 55.30106021204241%, test acc: 50.58723459940459%\n",
            "Epoch 2 / 50: avg. loss of last epoch 0.6462920671559541\n",
            "Epoch 2 / 50: avg. grad_norm of last epoch 0.15859743417687072\n",
            "Current train acc: 85.38107621524306%, test acc: 79.70796392623853%\n",
            "Epoch 3 / 50: avg. loss of last epoch 0.5938662909393098\n",
            "Epoch 3 / 50: avg. grad_norm of last epoch 0.11589656765436691\n",
            "Current train acc: 90.29205841168233%, test acc: 90.49955834723721%\n",
            "Epoch 4 / 50: avg. loss of last epoch 0.5562029058371911\n",
            "Epoch 4 / 50: avg. grad_norm of last epoch 0.08269721705332288\n",
            "Current train acc: 90.29205841168233%, test acc: 90.49955834723721%\n",
            "Epoch 5 / 50: avg. loss of last epoch 0.5293289538287334\n",
            "Epoch 5 / 50: avg. grad_norm of last epoch 0.05951797034789156\n",
            "Current train acc: 90.29205841168233%, test acc: 90.49955834723721%\n",
            "Epoch 6 / 50: avg. loss of last epoch 0.5098343995195029\n",
            "Epoch 6 / 50: avg. grad_norm of last epoch 0.04387339113699506\n",
            "Current train acc: 90.29205841168233%, test acc: 90.49955834723721%\n",
            "Epoch 7 / 50: avg. loss of last epoch 0.49533572624292016\n",
            "Epoch 7 / 50: avg. grad_norm of last epoch 0.03317078292508534\n",
            "Current train acc: 90.29205841168233%, test acc: 90.49955834723721%\n",
            "Epoch 8 / 50: avg. loss of last epoch 0.48426277954284114\n",
            "Epoch 8 / 50: avg. grad_norm of last epoch 0.02571342539717713\n",
            "Current train acc: 90.29205841168233%, test acc: 90.49955834723721%\n",
            "Epoch 9 / 50: avg. loss of last epoch 0.4755972977983259\n",
            "Epoch 9 / 50: avg. grad_norm of last epoch 0.02038013392006154\n",
            "Current train acc: 90.29205841168233%, test acc: 90.49955834723721%\n",
            "Epoch 10 / 50: avg. loss of last epoch 0.46866888835874193\n",
            "Epoch 10 / 50: avg. grad_norm of last epoch 0.016519252217319712\n",
            "Current train acc: 90.29205841168233%, test acc: 90.49955834723721%\n",
            "Epoch 11 / 50: avg. loss of last epoch 0.46302042603731197\n",
            "Epoch 11 / 50: avg. grad_norm of last epoch 0.013591671345907727\n",
            "Current train acc: 90.29205841168233%, test acc: 90.49955834723721%\n",
            "Epoch 12 / 50: avg. loss of last epoch 0.45834161604159\n",
            "Epoch 12 / 50: avg. grad_norm of last epoch 0.011366297734328793\n",
            "Current train acc: 90.29205841168233%, test acc: 90.49955834723721%\n",
            "Epoch 13 / 50: avg. loss of last epoch 0.4544088044949208\n",
            "Epoch 13 / 50: avg. grad_norm of last epoch 0.009624585710498585\n",
            "Current train acc: 90.29205841168233%, test acc: 90.49955834723721%\n",
            "Epoch 14 / 50: avg. loss of last epoch 0.4510603533289056\n",
            "Epoch 14 / 50: avg. grad_norm of last epoch 0.008246770191158749\n",
            "Current train acc: 90.29205841168233%, test acc: 90.49955834723721%\n",
            "Epoch 15 / 50: avg. loss of last epoch 0.4481775465715546\n",
            "Epoch 15 / 50: avg. grad_norm of last epoch 0.007159343432963403\n",
            "Current train acc: 90.29205841168233%, test acc: 90.49955834723721%\n",
            "Epoch 16 / 50: avg. loss of last epoch 0.44567149989627364\n",
            "Epoch 16 / 50: avg. grad_norm of last epoch 0.006251934228632918\n",
            "Current train acc: 90.29205841168233%, test acc: 90.49955834723721%\n",
            "Epoch 17 / 50: avg. loss of last epoch 0.44347482797479054\n",
            "Epoch 17 / 50: avg. grad_norm of last epoch 0.005503583599464784\n",
            "Current train acc: 90.29205841168233%, test acc: 90.49955834723721%\n",
            "Epoch 18 / 50: avg. loss of last epoch 0.4415337001473743\n",
            "Epoch 18 / 50: avg. grad_norm of last epoch 0.004885516787746439\n",
            "Current train acc: 90.29205841168233%, test acc: 90.49955834723721%\n",
            "Epoch 19 / 50: avg. loss of last epoch 0.43980642897554784\n",
            "Epoch 19 / 50: avg. grad_norm of last epoch 0.004369439490544057\n",
            "Current train acc: 90.29205841168233%, test acc: 90.49955834723721%\n",
            "Epoch 20 / 50: avg. loss of last epoch 0.4382605322374534\n",
            "Epoch 20 / 50: avg. grad_norm of last epoch 0.003923066770398546\n",
            "Current train acc: 90.29205841168233%, test acc: 90.49955834723721%\n",
            "Epoch 21 / 50: avg. loss of last epoch 0.43686858154721525\n",
            "Epoch 21 / 50: avg. grad_norm of last epoch 0.003554083475059545\n",
            "Current train acc: 90.29205841168233%, test acc: 90.49955834723721%\n",
            "Epoch 22 / 50: avg. loss of last epoch 0.4356097581768591\n",
            "Epoch 22 / 50: avg. grad_norm of last epoch 0.0032212547265175226\n",
            "Current train acc: 90.29205841168233%, test acc: 90.49955834723721%\n",
            "Epoch 23 / 50: avg. loss of last epoch 0.4344657620314863\n",
            "Epoch 23 / 50: avg. grad_norm of last epoch 0.0029354580037471165\n",
            "Current train acc: 90.29205841168233%, test acc: 90.49955834723721%\n",
            "Epoch 24 / 50: avg. loss of last epoch 0.4334212185633516\n",
            "Epoch 24 / 50: avg. grad_norm of last epoch 0.002686018242404636\n",
            "Current train acc: 90.29205841168233%, test acc: 90.49955834723721%\n",
            "Epoch 25 / 50: avg. loss of last epoch 0.43246385320398084\n",
            "Epoch 25 / 50: avg. grad_norm of last epoch 0.0024654627517311707\n",
            "Current train acc: 90.29205841168233%, test acc: 90.49955834723721%\n",
            "Epoch 26 / 50: avg. loss of last epoch 0.43158350426045705\n",
            "Epoch 26 / 50: avg. grad_norm of last epoch 0.0022734290672225548\n",
            "Current train acc: 90.29205841168233%, test acc: 90.49955834723721%\n",
            "Epoch 27 / 50: avg. loss of last epoch 0.43077099301691496\n",
            "Epoch 27 / 50: avg. grad_norm of last epoch 0.002100590347154437\n",
            "Current train acc: 90.29205841168233%, test acc: 90.49955834723721%\n",
            "Epoch 28 / 50: avg. loss of last epoch 0.430019315733245\n",
            "Epoch 28 / 50: avg. grad_norm of last epoch 0.0019510545728042695\n",
            "Current train acc: 90.29205841168233%, test acc: 90.49955834723721%\n",
            "Epoch 29 / 50: avg. loss of last epoch 0.4293216651738895\n",
            "Epoch 29 / 50: avg. grad_norm of last epoch 0.0018090279719725818\n",
            "Current train acc: 90.29205841168233%, test acc: 90.49955834723721%\n",
            "Epoch 30 / 50: avg. loss of last epoch 0.4286726887761699\n",
            "Epoch 30 / 50: avg. grad_norm of last epoch 0.0016928538047129927\n",
            "Current train acc: 90.29205841168233%, test acc: 90.49955834723721%\n",
            "Epoch 31 / 50: avg. loss of last epoch 0.42806724747029945\n",
            "Epoch 31 / 50: avg. grad_norm of last epoch 0.0015787370571797006\n",
            "Current train acc: 90.29205841168233%, test acc: 90.49955834723721%\n",
            "Epoch 32 / 50: avg. loss of last epoch 0.4275012301406662\n",
            "Epoch 32 / 50: avg. grad_norm of last epoch 0.00147973310132206\n",
            "Current train acc: 90.29205841168233%, test acc: 90.49955834723721%\n",
            "Epoch 33 / 50: avg. loss of last epoch 0.426970880937519\n",
            "Epoch 33 / 50: avg. grad_norm of last epoch 0.0013882318825303743\n",
            "Current train acc: 90.29205841168233%, test acc: 90.49955834723721%\n",
            "Epoch 34 / 50: avg. loss of last epoch 0.4264728912116763\n",
            "Epoch 34 / 50: avg. grad_norm of last epoch 0.001304389001668505\n",
            "Current train acc: 90.29205841168233%, test acc: 90.49955834723721%\n",
            "Epoch 35 / 50: avg. loss of last epoch 0.42600469377236866\n",
            "Epoch 35 / 50: avg. grad_norm of last epoch 0.0012314979875178802\n",
            "Current train acc: 90.29205841168233%, test acc: 90.49955834723721%\n",
            "Epoch 36 / 50: avg. loss of last epoch 0.42556322975310384\n",
            "Epoch 36 / 50: avg. grad_norm of last epoch 0.0011590717877287364\n",
            "Current train acc: 90.29205841168233%, test acc: 90.49955834723721%\n",
            "Epoch 37 / 50: avg. loss of last epoch 0.42514668048250887\n",
            "Epoch 37 / 50: avg. grad_norm of last epoch 0.0010984809526051083\n",
            "Current train acc: 90.29205841168233%, test acc: 90.49955834723721%\n",
            "Epoch 38 / 50: avg. loss of last epoch 0.4247528021658485\n",
            "Epoch 38 / 50: avg. grad_norm of last epoch 0.001039731676843043\n",
            "Current train acc: 90.29205841168233%, test acc: 90.49955834723721%\n",
            "Epoch 39 / 50: avg. loss of last epoch 0.4243799501727831\n",
            "Epoch 39 / 50: avg. grad_norm of last epoch 0.000986969187940293\n",
            "Current train acc: 90.29205841168233%, test acc: 90.49955834723721%\n",
            "Epoch 40 / 50: avg. loss of last epoch 0.4240263223159215\n",
            "Epoch 40 / 50: avg. grad_norm of last epoch 0.0009371937671755634\n",
            "Current train acc: 90.29205841168233%, test acc: 90.49955834723721%\n",
            "Epoch 41 / 50: avg. loss of last epoch 0.42369054660341166\n",
            "Epoch 41 / 50: avg. grad_norm of last epoch 0.0008895416417176113\n",
            "Current train acc: 90.29205841168233%, test acc: 90.49955834723721%\n",
            "Epoch 42 / 50: avg. loss of last epoch 0.4233714437420356\n",
            "Epoch 42 / 50: avg. grad_norm of last epoch 0.0008455189867808828\n",
            "Current train acc: 90.29205841168233%, test acc: 90.49955834723721%\n",
            "Epoch 43 / 50: avg. loss of last epoch 0.4230676563603087\n",
            "Epoch 43 / 50: avg. grad_norm of last epoch 0.0008071966841308455\n",
            "Current train acc: 90.29205841168233%, test acc: 90.49955834723721%\n",
            "Epoch 44 / 50: avg. loss of last epoch 0.4227780869458287\n",
            "Epoch 44 / 50: avg. grad_norm of last epoch 0.0007688360876305504\n",
            "Current train acc: 90.29205841168233%, test acc: 90.49955834723721%\n",
            "Epoch 45 / 50: avg. loss of last epoch 0.4225018679153732\n",
            "Epoch 45 / 50: avg. grad_norm of last epoch 0.000737602409684388\n",
            "Current train acc: 90.29205841168233%, test acc: 90.49955834723721%\n",
            "Epoch 46 / 50: avg. loss of last epoch 0.42223806427368815\n",
            "Epoch 46 / 50: avg. grad_norm of last epoch 0.0007016262270719056\n",
            "Current train acc: 90.29205841168233%, test acc: 90.49955834723721%\n",
            "Epoch 47 / 50: avg. loss of last epoch 0.42198576303714924\n",
            "Epoch 47 / 50: avg. grad_norm of last epoch 0.000671297934933276\n",
            "Current train acc: 90.29205841168233%, test acc: 90.49955834723721%\n",
            "Epoch 48 / 50: avg. loss of last epoch 0.421744311809731\n",
            "Epoch 48 / 50: avg. grad_norm of last epoch 0.0006426796032260291\n",
            "Current train acc: 90.29205841168233%, test acc: 90.49955834723721%\n",
            "Epoch 49 / 50: avg. loss of last epoch 0.421513081219321\n",
            "Epoch 49 / 50: avg. grad_norm of last epoch 0.0006173236453363718\n",
            "Current train acc: 90.29205841168233%, test acc: 90.49955834723721%\n",
            "Epoch 50 / 50: avg. loss of last epoch 0.42129136106328313\n",
            "Epoch 50 / 50: avg. grad_norm of last epoch 0.0005927789782817646\n",
            "Current train acc: 90.29205841168233%, test acc: 90.49955834723721%\n"
          ]
        }
      ]
    },
    {
      "cell_type": "code",
      "source": [
        "#Save the history\n",
        "save_history_json(\"/content/gdrive/MyDrive/SMGExperiments/ijcnn1-Other-Optimizers/SGD_constantLR.json\", sgd_history)"
      ],
      "metadata": {
        "id": "1RvlB-PLyQjA"
      },
      "execution_count": null,
      "outputs": []
    },
    {
      "cell_type": "code",
      "source": [
        "plot_loss(sgd_history)\n",
        "plot_norm_square_grad(sgd_history)"
      ],
      "metadata": {
        "id": "yZu5QW03yTHT",
        "colab": {
          "base_uri": "https://localhost:8080/",
          "height": 590
        },
        "outputId": "3288fdec-4263-4552-c171-669c76419ea4"
      },
      "execution_count": 10,
      "outputs": [
        {
          "output_type": "stream",
          "name": "stderr",
          "text": [
            "No handles with labels found to put in legend.\n"
          ]
        },
        {
          "output_type": "display_data",
          "data": {
            "text/plain": [
              "<Figure size 432x288 with 1 Axes>"
            ],
            "image/png": "[encoded data removed]"
          },
          "metadata": {
            "needs_background": "light"
          }
        },
        {
          "output_type": "display_data",
          "data": {
            "text/plain": [
              "<Figure size 432x288 with 1 Axes>"
            ],
            "image/png": "[encoded data removed]"
          },
          "metadata": {
            "needs_background": "light"
          }
        }
      ]
    },
    {
      "cell_type": "markdown",
      "source": [
        "## Training with SGD-M"
      ],
      "metadata": {
        "id": "63iNQGlVyVZ1"
      }
    },
    {
      "cell_type": "code",
      "source": [
        "import torch.optim as optim\n",
        "criterion = nn.SoftMarginLoss()\n",
        "\n",
        "model = NonconvexLogisticNet(22, 1, 128)\n",
        "model = model.to(device)\n",
        "epochs = 50\n",
        "\n",
        "scheduler = constant_learning_rate_scheduler(0.001)\n",
        "optimizer = optim.SGD(model.parameters(), lr=0.001, momentum=0.5)\n",
        "\n",
        "sgdm_history = train(model, criterion, optimizer, epochs, ijcnn1_train_loader, ijcnn1_test_loader, scheduler)"
      ],
      "metadata": {
        "id": "mehvhHuXyWw3",
        "colab": {
          "base_uri": "https://localhost:8080/"
        },
        "outputId": "e6de7190-9763-48c5-b0e5-26470c69c17f"
      },
      "execution_count": null,
      "outputs": [
        {
          "output_type": "stream",
          "name": "stdout",
          "text": [
            "Epoch 1 / 50: avg. loss of last epoch 0.6086183613623398\n",
            "Epoch 1 / 50: avg. grad_norm of last epoch 0.12678474417781516\n",
            "Current train acc: 90.25205041008202%, test acc: 89.93031700853862%\n",
            "Epoch 2 / 50: avg. loss of last epoch 0.537078802698635\n",
            "Epoch 2 / 50: avg. grad_norm of last epoch 0.06629700518281725\n",
            "Current train acc: 90.29205841168233%, test acc: 90.49301534334413%\n",
            "Epoch 3 / 50: avg. loss of last epoch 0.4994245651519928\n",
            "Epoch 3 / 50: avg. grad_norm of last epoch 0.03641728919431807\n",
            "Current train acc: 90.29205841168233%, test acc: 90.49955834723721%\n",
            "Epoch 4 / 50: avg. loss of last epoch 0.47792705507916555\n",
            "Epoch 4 / 50: avg. grad_norm of last epoch 0.022023782073608392\n",
            "Current train acc: 90.29205841168233%, test acc: 90.49955834723721%\n",
            "Epoch 5 / 50: avg. loss of last epoch 0.4644500734281915\n",
            "Epoch 5 / 50: avg. grad_norm of last epoch 0.014502538951398202\n",
            "Current train acc: 90.29205841168233%, test acc: 90.49955834723721%\n",
            "Epoch 6 / 50: avg. loss of last epoch 0.45533611072161406\n",
            "Epoch 6 / 50: avg. grad_norm of last epoch 0.01016367205446883\n",
            "Current train acc: 90.29205841168233%, test acc: 90.49955834723721%\n",
            "Epoch 7 / 50: avg. loss of last epoch 0.4488064799434687\n",
            "Epoch 7 / 50: avg. grad_norm of last epoch 0.00749173467997252\n",
            "Current train acc: 90.29205841168233%, test acc: 90.49955834723721%\n",
            "Epoch 8 / 50: avg. loss of last epoch 0.44391682987738723\n",
            "Epoch 8 / 50: avg. grad_norm of last epoch 0.005733049705558454\n",
            "Current train acc: 90.29205841168233%, test acc: 90.49955834723721%\n",
            "Epoch 9 / 50: avg. loss of last epoch 0.44012502270308596\n",
            "Epoch 9 / 50: avg. grad_norm of last epoch 0.004531540106170868\n",
            "Current train acc: 90.29205841168233%, test acc: 90.49955834723721%\n",
            "Epoch 10 / 50: avg. loss of last epoch 0.4371027844062823\n",
            "Epoch 10 / 50: avg. grad_norm of last epoch 0.003663534393436958\n",
            "Current train acc: 90.29205841168233%, test acc: 90.49955834723721%\n",
            "Epoch 11 / 50: avg. loss of last epoch 0.43464111141811296\n",
            "Epoch 11 / 50: avg. grad_norm of last epoch 0.0030184584915333686\n",
            "Current train acc: 90.29205841168233%, test acc: 90.49955834723721%\n",
            "Epoch 12 / 50: avg. loss of last epoch 0.43259602241526623\n",
            "Epoch 12 / 50: avg. grad_norm of last epoch 0.0025332103627050597\n",
            "Current train acc: 90.29205841168233%, test acc: 90.49955834723721%\n",
            "Epoch 13 / 50: avg. loss of last epoch 0.4308727870144398\n",
            "Epoch 13 / 50: avg. grad_norm of last epoch 0.0021534019717565364\n",
            "Current train acc: 90.29205841168233%, test acc: 90.49955834723721%\n",
            "Epoch 14 / 50: avg. loss of last epoch 0.4293999722228571\n",
            "Epoch 14 / 50: avg. grad_norm of last epoch 0.0018528673710879228\n",
            "Current train acc: 90.29205841168233%, test acc: 90.49955834723721%\n",
            "Epoch 15 / 50: avg. loss of last epoch 0.4281272847083931\n",
            "Epoch 15 / 50: avg. grad_norm of last epoch 0.0016091184016760406\n",
            "Current train acc: 90.29205841168233%, test acc: 90.49955834723721%\n",
            "Epoch 16 / 50: avg. loss of last epoch 0.42701661556953235\n",
            "Epoch 16 / 50: avg. grad_norm of last epoch 0.0014190640347591429\n",
            "Current train acc: 90.29205841168233%, test acc: 90.49955834723721%\n",
            "Epoch 17 / 50: avg. loss of last epoch 0.4260394483095263\n",
            "Epoch 17 / 50: avg. grad_norm of last epoch 0.0012515284629460181\n",
            "Current train acc: 90.29205841168233%, test acc: 90.49955834723721%\n",
            "Epoch 18 / 50: avg. loss of last epoch 0.42517308888613764\n",
            "Epoch 18 / 50: avg. grad_norm of last epoch 0.001118740241516676\n",
            "Current train acc: 90.29205841168233%, test acc: 90.49955834723721%\n",
            "Epoch 19 / 50: avg. loss of last epoch 0.42439923012559494\n",
            "Epoch 19 / 50: avg. grad_norm of last epoch 0.0010006160425575295\n",
            "Current train acc: 90.29205841168233%, test acc: 90.49955834723721%\n",
            "Epoch 20 / 50: avg. loss of last epoch 0.4237043680894801\n",
            "Epoch 20 / 50: avg. grad_norm of last epoch 0.0009010494049450311\n",
            "Current train acc: 90.29205841168233%, test acc: 90.49955834723721%\n",
            "Epoch 21 / 50: avg. loss of last epoch 0.42307694570544646\n",
            "Epoch 21 / 50: avg. grad_norm of last epoch 0.0008204499226492081\n",
            "Current train acc: 90.29205841168233%, test acc: 90.49955834723721%\n",
            "Epoch 22 / 50: avg. loss of last epoch 0.4225073151229307\n",
            "Epoch 22 / 50: avg. grad_norm of last epoch 0.0007460976166591467\n",
            "Current train acc: 90.29205841168233%, test acc: 90.49955834723721%\n",
            "Epoch 23 / 50: avg. loss of last epoch 0.42198799753527694\n",
            "Epoch 23 / 50: avg. grad_norm of last epoch 0.0006776425911899414\n",
            "Current train acc: 90.29205841168233%, test acc: 90.49955834723721%\n",
            "Epoch 24 / 50: avg. loss of last epoch 0.421512966413311\n",
            "Epoch 24 / 50: avg. grad_norm of last epoch 0.0006250977605108094\n",
            "Current train acc: 90.29205841168233%, test acc: 90.49955834723721%\n",
            "Epoch 25 / 50: avg. loss of last epoch 0.42107654814959594\n",
            "Epoch 25 / 50: avg. grad_norm of last epoch 0.0005758313572428227\n",
            "Current train acc: 90.29205841168233%, test acc: 90.49955834723721%\n",
            "Epoch 26 / 50: avg. loss of last epoch 0.4206744166285212\n",
            "Epoch 26 / 50: avg. grad_norm of last epoch 0.0005309828695883962\n",
            "Current train acc: 90.29205841168233%, test acc: 90.49955834723721%\n",
            "Epoch 27 / 50: avg. loss of last epoch 0.4203024284032183\n",
            "Epoch 27 / 50: avg. grad_norm of last epoch 0.0004913593413536879\n",
            "Current train acc: 90.29205841168233%, test acc: 90.49955834723721%\n",
            "Epoch 28 / 50: avg. loss of last epoch 0.419957454927351\n",
            "Epoch 28 / 50: avg. grad_norm of last epoch 0.00045926322099631485\n",
            "Current train acc: 90.29205841168233%, test acc: 90.49955834723721%\n",
            "Epoch 29 / 50: avg. loss of last epoch 0.4196365668836129\n",
            "Epoch 29 / 50: avg. grad_norm of last epoch 0.0004257615694221007\n",
            "Current train acc: 90.29205841168233%, test acc: 90.49955834723721%\n",
            "Epoch 30 / 50: avg. loss of last epoch 0.41933779051528514\n",
            "Epoch 30 / 50: avg. grad_norm of last epoch 0.00039849050031426364\n",
            "Current train acc: 90.29205841168233%, test acc: 90.49955834723721%\n",
            "Epoch 31 / 50: avg. loss of last epoch 0.4190584787811652\n",
            "Epoch 31 / 50: avg. grad_norm of last epoch 0.00037411695085026953\n",
            "Current train acc: 90.29205841168233%, test acc: 90.49955834723721%\n",
            "Epoch 32 / 50: avg. loss of last epoch 0.41879672221742553\n",
            "Epoch 32 / 50: avg. grad_norm of last epoch 0.000350987395261431\n",
            "Current train acc: 90.29205841168233%, test acc: 90.49955834723721%\n",
            "Epoch 33 / 50: avg. loss of last epoch 0.4185511325628524\n",
            "Epoch 33 / 50: avg. grad_norm of last epoch 0.00032964804541225744\n",
            "Current train acc: 90.29205841168233%, test acc: 90.49955834723721%\n",
            "Epoch 34 / 50: avg. loss of last epoch 0.41832026858333593\n",
            "Epoch 34 / 50: avg. grad_norm of last epoch 0.0003098826255006\n",
            "Current train acc: 90.29205841168233%, test acc: 90.49955834723721%\n",
            "Epoch 35 / 50: avg. loss of last epoch 0.41810288239083365\n",
            "Epoch 35 / 50: avg. grad_norm of last epoch 0.00029281664301058846\n",
            "Current train acc: 90.29205841168233%, test acc: 90.49955834723721%\n",
            "Epoch 36 / 50: avg. loss of last epoch 0.4178976945875642\n",
            "Epoch 36 / 50: avg. grad_norm of last epoch 0.00027639172573336383\n",
            "Current train acc: 90.29205841168233%, test acc: 90.49955834723721%\n",
            "Epoch 37 / 50: avg. loss of last epoch 0.4177037690264818\n",
            "Epoch 37 / 50: avg. grad_norm of last epoch 0.00026223170839927693\n",
            "Current train acc: 90.29205841168233%, test acc: 90.49955834723721%\n",
            "Epoch 38 / 50: avg. loss of last epoch 0.4175202162045434\n",
            "Epoch 38 / 50: avg. grad_norm of last epoch 0.0002488371782952501\n",
            "Current train acc: 90.29205841168233%, test acc: 90.49955834723721%\n",
            "Epoch 39 / 50: avg. loss of last epoch 0.4173462126762496\n",
            "Epoch 39 / 50: avg. grad_norm of last epoch 0.00023703990721218534\n",
            "Current train acc: 90.29205841168233%, test acc: 90.49955834723721%\n",
            "Epoch 40 / 50: avg. loss of last epoch 0.4171811484460666\n",
            "Epoch 40 / 50: avg. grad_norm of last epoch 0.00022450100861580045\n",
            "Current train acc: 90.29205841168233%, test acc: 90.49955834723721%\n",
            "Epoch 41 / 50: avg. loss of last epoch 0.4170242504588027\n",
            "Epoch 41 / 50: avg. grad_norm of last epoch 0.0002133170437280827\n",
            "Current train acc: 90.29205841168233%, test acc: 90.49955834723721%\n",
            "Epoch 42 / 50: avg. loss of last epoch 0.41687487197127393\n",
            "Epoch 42 / 50: avg. grad_norm of last epoch 0.00020369907616081868\n",
            "Current train acc: 90.29205841168233%, test acc: 90.49955834723721%\n",
            "Epoch 43 / 50: avg. loss of last epoch 0.41673259586423683\n",
            "Epoch 43 / 50: avg. grad_norm of last epoch 0.0001936396890785013\n",
            "Current train acc: 90.29205841168233%, test acc: 90.49955834723721%\n",
            "Epoch 44 / 50: avg. loss of last epoch 0.4165969581681744\n",
            "Epoch 44 / 50: avg. grad_norm of last epoch 0.00018557880761566552\n",
            "Current train acc: 90.29205841168233%, test acc: 90.49955834723721%\n",
            "Epoch 45 / 50: avg. loss of last epoch 0.41646733886362425\n",
            "Epoch 45 / 50: avg. grad_norm of last epoch 0.00017728232886805742\n",
            "Current train acc: 90.29205841168233%, test acc: 90.49955834723721%\n",
            "Epoch 46 / 50: avg. loss of last epoch 0.41634354901137305\n",
            "Epoch 46 / 50: avg. grad_norm of last epoch 0.00016983486308259305\n",
            "Current train acc: 90.29205841168233%, test acc: 90.49955834723721%\n",
            "Epoch 47 / 50: avg. loss of last epoch 0.4162250823451418\n",
            "Epoch 47 / 50: avg. grad_norm of last epoch 0.00016223151256659348\n",
            "Current train acc: 90.29205841168233%, test acc: 90.49955834723721%\n",
            "Epoch 48 / 50: avg. loss of last epoch 0.41611162131966317\n",
            "Epoch 48 / 50: avg. grad_norm of last epoch 0.00015477313385945814\n",
            "Current train acc: 90.29205841168233%, test acc: 90.49955834723721%\n",
            "Epoch 49 / 50: avg. loss of last epoch 0.416002926649535\n",
            "Epoch 49 / 50: avg. grad_norm of last epoch 0.00014862595264406478\n",
            "Current train acc: 90.29205841168233%, test acc: 90.49955834723721%\n",
            "Epoch 50 / 50: avg. loss of last epoch 0.41589864196241216\n",
            "Epoch 50 / 50: avg. grad_norm of last epoch 0.0001435904787484489\n",
            "Current train acc: 90.29205841168233%, test acc: 90.49955834723721%\n"
          ]
        }
      ]
    },
    {
      "cell_type": "code",
      "source": [
        "#Save the history\n",
        "save_history_json(\"/content/gdrive/MyDrive/SMGExperiments/ijcnn1-Other-Optimizers/SGD-M_constantLR.json\", sgdm_history)"
      ],
      "metadata": {
        "id": "RnjiqR5ZyX1K"
      },
      "execution_count": null,
      "outputs": []
    },
    {
      "cell_type": "code",
      "source": [
        "plot_loss(sgdm_history)\n",
        "plot_norm_square_grad(sgdm_history)"
      ],
      "metadata": {
        "id": "wK-Cg6GNyZ81",
        "colab": {
          "base_uri": "https://localhost:8080/",
          "height": 597
        },
        "outputId": "c2b56c95-dc56-493b-e8ff-95ad63d979ab"
      },
      "execution_count": 12,
      "outputs": [
        {
          "output_type": "stream",
          "name": "stderr",
          "text": [
            "No handles with labels found to put in legend.\n"
          ]
        },
        {
          "output_type": "display_data",
          "data": {
            "text/plain": [
              "<Figure size 432x288 with 1 Axes>"
            ],
            "image/png": "[encoded data removed]"
          },
          "metadata": {
            "needs_background": "light"
          }
        },
        {
          "output_type": "display_data",
          "data": {
            "text/plain": [
              "<Figure size 432x288 with 1 Axes>"
            ],
            "image/png": "[encoded data removed]"
          },
          "metadata": {
            "needs_background": "light"
          }
        }
      ]
    },
    {
      "cell_type": "markdown",
      "source": [
        "## Training with SSMG\n"
      ],
      "metadata": {
        "id": "62vIHwrIya_v"
      }
    },
    {
      "cell_type": "code",
      "source": [
        "import torch.optim as optim\n",
        "\n",
        "criterion = nn.SoftMarginLoss()\n",
        "\n",
        "model = NonconvexLogisticNet(22, 1, 128)\n",
        "model = model.to(device)\n",
        "epochs = 50\n",
        "\n",
        "\n",
        "scheduler = constant_learning_rate_scheduler(0.001)\n",
        "\n",
        "#SSMG is single shuffle variant of the SMG (with different optimizer step.) \n",
        "#Thus, reload the batch by shuffling it once and disable shuffling in every epoch\n",
        "ijcnn1_train_loader, ijcnn1_test_loader = ijcnn1_data_loader(ijcnn1_X_train, ijcnn1_Y_train, ijcnn1_X_test, ijcnn1_Y_test, 128, True)\n",
        "\n",
        "# beta is proposed in paper and epoch_count is inferenced from the graphs\n",
        "ssmgHistory = SSMG_train(model, criterion, epochs, ijcnn1_train_loader, ijcnn1_test_loader, \n",
        "                    scheduler, beta=0.5, verbose=True)"
      ],
      "metadata": {
        "id": "PY65DDhTycRC",
        "colab": {
          "base_uri": "https://localhost:8080/"
        },
        "outputId": "06ffafd4-5309-4f02-9008-f6feb79b17fb"
      },
      "execution_count": null,
      "outputs": [
        {
          "output_type": "stream",
          "name": "stdout",
          "text": [
            "Epoch 1 / 50: avg. loss of last epoch 0.6411458674348052\n",
            "avg. grad_norm of last epoch 0.1551325892873933\n",
            "Current train acc: 87.06741348269654%, test acc: 86.77004612817744%\n",
            "Epoch 2 / 50: avg. loss of last epoch 0.5900210023808662\n",
            "avg. grad_norm of last epoch 0.11268823939190324\n",
            "Current train acc: 89.9879975995199%, test acc: 89.80709043521881%\n",
            "Epoch 3 / 50: avg. loss of last epoch 0.5534423506100146\n",
            "avg. grad_norm of last epoch 0.08029875899344024\n",
            "Current train acc: 90.29005801160233%, test acc: 90.31962574017732%\n",
            "Epoch 4 / 50: avg. loss of last epoch 0.5273483622572518\n",
            "avg. grad_norm of last epoch 0.0578736883592534\n",
            "Current train acc: 90.29205841168233%, test acc: 90.45920982322984%\n",
            "Epoch 5 / 50: avg. loss of last epoch 0.5083883096704866\n",
            "avg. grad_norm of last epoch 0.04270823808298062\n",
            "Current train acc: 90.29205841168233%, test acc: 90.50173934853491%\n",
            "Epoch 6 / 50: avg. loss of last epoch 0.49425361552317626\n",
            "avg. grad_norm of last epoch 0.032360050701861036\n",
            "Current train acc: 90.29205841168233%, test acc: 90.49955834723721%\n",
            "Epoch 7 / 50: avg. loss of last epoch 0.4834357128593529\n",
            "avg. grad_norm of last epoch 0.025145367675934897\n",
            "Current train acc: 90.29205841168233%, test acc: 90.49955834723721%\n",
            "Epoch 8 / 50: avg. loss of last epoch 0.4749528271564369\n",
            "avg. grad_norm of last epoch 0.01998748825736964\n",
            "Current train acc: 90.29205841168233%, test acc: 90.49955834723721%\n",
            "Epoch 9 / 50: avg. loss of last epoch 0.46815586730489095\n",
            "avg. grad_norm of last epoch 0.016207098409340103\n",
            "Current train acc: 90.29205841168233%, test acc: 90.49955834723721%\n",
            "Epoch 10 / 50: avg. loss of last epoch 0.46260627772264834\n",
            "avg. grad_norm of last epoch 0.013371448378457475\n",
            "Current train acc: 90.29205841168233%, test acc: 90.49955834723721%\n",
            "Epoch 11 / 50: avg. loss of last epoch 0.45800043014460384\n",
            "avg. grad_norm of last epoch 0.011199418946603349\n",
            "Current train acc: 90.29205841168233%, test acc: 90.49955834723721%\n",
            "Epoch 12 / 50: avg. loss of last epoch 0.4541230340484714\n",
            "avg. grad_norm of last epoch 0.009504206849994822\n",
            "Current train acc: 90.29205841168233%, test acc: 90.49955834723721%\n",
            "Epoch 13 / 50: avg. loss of last epoch 0.4508179790617395\n",
            "avg. grad_norm of last epoch 0.00815880685577137\n",
            "Current train acc: 90.29205841168233%, test acc: 90.49955834723721%\n",
            "Epoch 14 / 50: avg. loss of last epoch 0.4479699497879632\n",
            "avg. grad_norm of last epoch 0.007075028644298917\n",
            "Current train acc: 90.29205841168233%, test acc: 90.49955834723721%\n",
            "Epoch 15 / 50: avg. loss of last epoch 0.4454921362006112\n",
            "avg. grad_norm of last epoch 0.006190348770340806\n",
            "Current train acc: 90.29205841168233%, test acc: 90.49955834723721%\n",
            "Epoch 16 / 50: avg. loss of last epoch 0.4433178850819433\n",
            "avg. grad_norm of last epoch 0.005459516002563883\n",
            "Current train acc: 90.29205841168233%, test acc: 90.49955834723721%\n",
            "Epoch 17 / 50: avg. loss of last epoch 0.44139536835952237\n",
            "avg. grad_norm of last epoch 0.004849260170024704\n",
            "Current train acc: 90.29205841168233%, test acc: 90.49955834723721%\n",
            "Epoch 18 / 50: avg. loss of last epoch 0.43968394394516136\n",
            "avg. grad_norm of last epoch 0.004334783952691587\n",
            "Current train acc: 90.29205841168233%, test acc: 90.49955834723721%\n",
            "Epoch 19 / 50: avg. loss of last epoch 0.4381511585644226\n",
            "avg. grad_norm of last epoch 0.0038972781635217527\n",
            "Current train acc: 90.29205841168233%, test acc: 90.49955834723721%\n",
            "Epoch 20 / 50: avg. loss of last epoch 0.436770602509269\n",
            "avg. grad_norm of last epoch 0.0035222283261760307\n",
            "Current train acc: 90.29205841168233%, test acc: 90.49955834723721%\n",
            "Epoch 21 / 50: avg. loss of last epoch 0.435521011767232\n",
            "avg. grad_norm of last epoch 0.003198418699957406\n",
            "Current train acc: 90.29205841168233%, test acc: 90.49955834723721%\n",
            "Epoch 22 / 50: avg. loss of last epoch 0.4343847018786731\n",
            "avg. grad_norm of last epoch 0.002916979160779381\n",
            "Current train acc: 90.29205841168233%, test acc: 90.49955834723721%\n",
            "Epoch 23 / 50: avg. loss of last epoch 0.4333471351109589\n",
            "avg. grad_norm of last epoch 0.0026708948027567964\n",
            "Current train acc: 90.29205841168233%, test acc: 90.49955834723721%\n",
            "Epoch 24 / 50: avg. loss of last epoch 0.4323961115915981\n",
            "avg. grad_norm of last epoch 0.002454527781691681\n",
            "Current train acc: 90.29205841168233%, test acc: 90.49955834723721%\n",
            "Epoch 25 / 50: avg. loss of last epoch 0.43152126972855154\n",
            "avg. grad_norm of last epoch 0.0022632964001277284\n",
            "Current train acc: 90.29205841168233%, test acc: 90.49955834723721%\n",
            "Epoch 26 / 50: avg. loss of last epoch 0.430713836050768\n",
            "avg. grad_norm of last epoch 0.0020934653715138658\n",
            "Current train acc: 90.29205841168233%, test acc: 90.49955834723721%\n",
            "Epoch 27 / 50: avg. loss of last epoch 0.4299664384890947\n",
            "avg. grad_norm of last epoch 0.001941988375027345\n",
            "Current train acc: 90.29205841168233%, test acc: 90.49955834723721%\n",
            "Epoch 28 / 50: avg. loss of last epoch 0.42927264529577525\n",
            "avg. grad_norm of last epoch 0.0018063212491987036\n",
            "Current train acc: 90.29205841168233%, test acc: 90.49955834723721%\n",
            "Epoch 29 / 50: avg. loss of last epoch 0.4286268945669359\n",
            "avg. grad_norm of last epoch 0.0016843413293613412\n",
            "Current train acc: 90.29205841168233%, test acc: 90.49955834723721%\n",
            "Epoch 30 / 50: avg. loss of last epoch 0.42802442924383527\n",
            "avg. grad_norm of last epoch 0.0015742812597761646\n",
            "Current train acc: 90.29205841168233%, test acc: 90.49955834723721%\n",
            "Epoch 31 / 50: avg. loss of last epoch 0.4274610717610423\n",
            "avg. grad_norm of last epoch 0.0014746449519005454\n",
            "Current train acc: 90.29205841168233%, test acc: 90.49955834723721%\n",
            "Epoch 32 / 50: avg. loss of last epoch 0.4269331272947094\n",
            "avg. grad_norm of last epoch 0.0013841548973578756\n",
            "Current train acc: 90.29205841168233%, test acc: 90.49955834723721%\n",
            "Epoch 33 / 50: avg. loss of last epoch 0.4264373764285427\n",
            "avg. grad_norm of last epoch 0.0013017287315160932\n",
            "Current train acc: 90.29205841168233%, test acc: 90.49955834723721%\n",
            "Epoch 34 / 50: avg. loss of last epoch 0.42597099754852796\n",
            "avg. grad_norm of last epoch 0.0012264419124640798\n",
            "Current train acc: 90.29205841168233%, test acc: 90.49955834723721%\n",
            "Epoch 35 / 50: avg. loss of last epoch 0.4255314553468366\n",
            "avg. grad_norm of last epoch 0.001157493746263371\n",
            "Current train acc: 90.29205841168233%, test acc: 90.49955834723721%\n",
            "Epoch 36 / 50: avg. loss of last epoch 0.42511649274020036\n",
            "avg. grad_norm of last epoch 0.0010941907675160471\n",
            "Current train acc: 90.29205841168233%, test acc: 90.49955834723721%\n",
            "Epoch 37 / 50: avg. loss of last epoch 0.42472415007837167\n",
            "avg. grad_norm of last epoch 0.0010359399190722895\n",
            "Current train acc: 90.29205841168233%, test acc: 90.49955834723721%\n",
            "Epoch 38 / 50: avg. loss of last epoch 0.4243526159679684\n",
            "avg. grad_norm of last epoch 0.0009822153923021864\n",
            "Current train acc: 90.29205841168233%, test acc: 90.49955834723721%\n",
            "Epoch 39 / 50: avg. loss of last epoch 0.424000280762844\n",
            "avg. grad_norm of last epoch 0.00093256068090836\n",
            "Current train acc: 90.29205841168233%, test acc: 90.49955834723721%\n",
            "Epoch 40 / 50: avg. loss of last epoch 0.42366568126256826\n",
            "avg. grad_norm of last epoch 0.0008865730554171374\n",
            "Current train acc: 90.29205841168233%, test acc: 90.49955834723721%\n",
            "Epoch 41 / 50: avg. loss of last epoch 0.42334755094415244\n",
            "avg. grad_norm of last epoch 0.000843904658688971\n",
            "Current train acc: 90.29205841168233%, test acc: 90.49955834723721%\n",
            "Epoch 42 / 50: avg. loss of last epoch 0.423044697477427\n",
            "avg. grad_norm of last epoch 0.0008042431471401368\n",
            "Current train acc: 90.29205841168233%, test acc: 90.49955834723721%\n",
            "Epoch 43 / 50: avg. loss of last epoch 0.42275606915816705\n",
            "avg. grad_norm of last epoch 0.0007673146041245416\n",
            "Current train acc: 90.29205841168233%, test acc: 90.49955834723721%\n",
            "Epoch 44 / 50: avg. loss of last epoch 0.42248068535225347\n",
            "avg. grad_norm of last epoch 0.000732873531903366\n",
            "Current train acc: 90.29205841168233%, test acc: 90.49955834723721%\n",
            "Epoch 45 / 50: avg. loss of last epoch 0.42221762909725163\n",
            "avg. grad_norm of last epoch 0.0007006978568486457\n",
            "Current train acc: 90.29205841168233%, test acc: 90.49955834723721%\n",
            "Epoch 46 / 50: avg. loss of last epoch 0.42196613005529215\n",
            "avg. grad_norm of last epoch 0.0006705975142031096\n",
            "Current train acc: 90.29205841168233%, test acc: 90.49955834723721%\n",
            "Epoch 47 / 50: avg. loss of last epoch 0.42172540741983594\n",
            "avg. grad_norm of last epoch 0.0006423934919024469\n",
            "Current train acc: 90.29205841168233%, test acc: 90.49955834723721%\n",
            "Epoch 48 / 50: avg. loss of last epoch 0.42149482033662394\n",
            "avg. grad_norm of last epoch 0.0006159336722341398\n",
            "Current train acc: 90.29205841168233%, test acc: 90.49955834723721%\n",
            "Epoch 49 / 50: avg. loss of last epoch 0.42127374432329695\n",
            "avg. grad_norm of last epoch 0.0005910773113569888\n",
            "Current train acc: 90.29205841168233%, test acc: 90.49955834723721%\n",
            "Epoch 50 / 50: avg. loss of last epoch 0.42106157451492454\n",
            "avg. grad_norm of last epoch 0.0005676944461479547\n",
            "Current train acc: 90.29205841168233%, test acc: 90.49955834723721%\n"
          ]
        }
      ]
    },
    {
      "cell_type": "code",
      "source": [
        "#Save the history\n",
        "save_history_json(\"/content/gdrive/MyDrive/SMGExperiments/ijcnn1-Other-Optimizers/SSMG_constantLR.json\", ssmgHistory)"
      ],
      "metadata": {
        "id": "dKAS7cxSydSk"
      },
      "execution_count": null,
      "outputs": []
    },
    {
      "cell_type": "code",
      "source": [
        "plot_loss(ssmgHistory)\n",
        "plot_norm_square_grad(ssmgHistory)"
      ],
      "metadata": {
        "id": "O1tAbOclygj8",
        "colab": {
          "base_uri": "https://localhost:8080/",
          "height": 590
        },
        "outputId": "f4021670-260d-483f-f172-fddf3dbf2af0"
      },
      "execution_count": 13,
      "outputs": [
        {
          "output_type": "stream",
          "name": "stderr",
          "text": [
            "No handles with labels found to put in legend.\n"
          ]
        },
        {
          "output_type": "display_data",
          "data": {
            "text/plain": [
              "<Figure size 432x288 with 1 Axes>"
            ],
            "image/png": "[encoded data removed]"
          },
          "metadata": {
            "needs_background": "light"
          }
        },
        {
          "output_type": "display_data",
          "data": {
            "text/plain": [
              "<Figure size 432x288 with 1 Axes>"
            ],
            "image/png": "[encoded data removed]"
          },
          "metadata": {
            "needs_background": "light"
          }
        }
      ]
    },
    {
      "cell_type": "code",
      "source": [
        ""
      ],
      "metadata": {
        "id": "sqIIMFdomjnC"
      },
      "execution_count": null,
      "outputs": []
    }
  ]
}