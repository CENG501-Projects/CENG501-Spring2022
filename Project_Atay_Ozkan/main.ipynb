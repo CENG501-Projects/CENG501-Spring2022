{
 "cells": [
  {
   "cell_type": "markdown",
   "id": "e6119a9a",
   "metadata": {},
   "source": [
    "Paper link: https://ojs.aaai.org/index.php/AAAI/article/download/17067/16874\n",
    "\n",
    "Authors: Zhaojing Luo, Shaofeng Cai, Can Cui, Beng Chin Ooi, Yang Yang\n",
    "    \n",
    "\n"
   ]
  },
  {
   "cell_type": "markdown",
   "id": "6f2ccb34",
   "metadata": {},
   "source": [
    "# Adaptive Knowledge Driven Regularization for Deep Neural Networks"
   ]
  },
  {
   "cell_type": "markdown",
   "id": "319488e1",
   "metadata": {},
   "source": [
    "## Introduction"
   ]
  },
  {
   "cell_type": "markdown",
   "id": "559d6573",
   "metadata": {},
   "source": [
    "### Import the Modules"
   ]
  },
  {
   "cell_type": "code",
   "execution_count": 1,
   "id": "fd3aa3da",
   "metadata": {},
   "outputs": [],
   "source": [
    "import matplotlib.pyplot as plt # For plotting\n",
    "from sklearn.model_selection import train_test_split\n",
    "from torch.utils.data import TensorDataset, DataLoader\n",
    "from library.models import * # contains networks that are used in training\n",
    "from library.loss import *  # contains loss calculation functions\n",
    "from metrics.metric import * # contains metric calculation functions\n",
    "from library.dataset import * # contains dataset classes\n",
    "from library.data_structure import * # contains enums \n",
    "from library.regularizer import * # OUR REGULARIZER CLASS\n",
    "import warnings\n",
    "import sys\n",
    "warnings.filterwarnings(\"ignore\")\n",
    "# It automatically reloads your modules whenever\n",
    "%load_ext autoreload\n",
    "%autoreload 2\n"
   ]
  },
  {
   "cell_type": "markdown",
   "id": "3ccc38b5",
   "metadata": {},
   "source": [
    "### Hyperparameters"
   ]
  },
  {
   "cell_type": "code",
   "execution_count": 2,
   "id": "5e5de2ff",
   "metadata": {},
   "outputs": [],
   "source": [
    "# Data Sizes\n",
    "batch_size = 128\n",
    "image_size = 256 \n",
    "mnist_ae_size = 28\n",
    "mnist_lenet_size = 32\n",
    "sentence_polarity_sequence_length = 25 # given from paper\n",
    "\n",
    "# Optimizer and Device Setup\n",
    "sgd_optimizer_momentum = 0.9\n",
    "seed = 0  # manual seed\n",
    "device = 'cuda' \n",
    "\n",
    "# Regularizer variables\n",
    "drop_out_probability = 0.6\n",
    "maxnorm_maximum_val = 5\n",
    "\n",
    "# Out Sizes\n",
    "mnist_out_size = 10\n",
    "polarity_out_size = 2\n",
    "\n",
    "# Hidden Sizes\n",
    "# MLP\n",
    "mlp_hidden_size = 128\n",
    "\n",
    "# LSTM\n",
    "lstm_number_of_layer = 2\n",
    "lstm_hidden_size = 128"
   ]
  },
  {
   "cell_type": "markdown",
   "id": "5ea886a7",
   "metadata": {},
   "source": [
    "### Device Setup"
   ]
  },
  {
   "cell_type": "code",
   "execution_count": 3,
   "id": "82a5fef9",
   "metadata": {},
   "outputs": [
    {
     "data": {
      "text/plain": [
       "<torch._C.Generator at 0x7feaa2492de0>"
      ]
     },
     "execution_count": 3,
     "metadata": {},
     "output_type": "execute_result"
    }
   ],
   "source": [
    "# Select training device\n",
    "device = torch.device(device if (torch.cuda.is_available()) else 'cpu')\n",
    "\n",
    "# Seed for reproducibility\n",
    "torch.manual_seed(seed)"
   ]
  },
  {
   "cell_type": "markdown",
   "id": "ee72b3b0",
   "metadata": {},
   "source": [
    "### Helper Function for Plotting"
   ]
  },
  {
   "cell_type": "code",
   "execution_count": 4,
   "id": "0c6b5f18",
   "metadata": {},
   "outputs": [],
   "source": [
    "\n",
    "# Plot the Table for Performance Comparison (Table 2 and Table 3 in the Paper)\n",
    "def plot_performance_table(results, model_name, metric_type, no_of_decimal_points_to_show = 4):\n",
    "    \n",
    "    # Adjust Table Position\n",
    "    plt.subplots_adjust(left=0.2, top=0.6)\n",
    "    \n",
    "    # Determine Columns and the Rows(also colors)\n",
    "    col_labels = ([str(x)  for x in results.keys()])\n",
    "    col_labels.insert(0, \"Metric\")\n",
    "    row_labels = [model_name]\n",
    "    row_colors = np.full(len(row_labels), '#7AC5CD')\n",
    "    col_colors = np.full(len(col_labels), '#FFD39B')\n",
    "\n",
    "    # Axis Specification \n",
    "    plt.axis('off')\n",
    "    plt.axis('tight')\n",
    "\n",
    "    # Fill the data array \n",
    "    data = [[str( round(x, no_of_decimal_points_to_show)) for x in results.values()]]\n",
    "    \n",
    "    # Add metric type\n",
    "    for i in range(len(data)):\n",
    "        data[i].insert(0,metric_type)\n",
    "\n",
    "    # Plot the Table\n",
    "    table = plt.table(cellText=data,\n",
    "              rowLabels=row_labels,\n",
    "              rowColours=row_colors,\n",
    "              colColours=col_colors,\n",
    "              colLabels=col_labels,\n",
    "              loc='best')\n",
    "\n",
    "    table.scale(2, 3) \n",
    "    plt.title('Performance Comparison Table', x=0.1 , fontweight=\"bold\")\n",
    "    plt.plot()\n",
    "    plt.show()\n",
    "    \n",
    "# Plot Average VPR Table (Table 4 in the paper) \n",
    "def plot_vpr_table(avg_top_item, avg_bottom_item, dist_avg_item, model_name, layers):\n",
    "    plt.subplots_adjust(left=0.2, top=0.6)\n",
    "\n",
    "    # Determine Columns and the Rows(also colors)\n",
    "    col_labels = (['Bottom Avg VPR', 'Top Avg VPR', 'Avg VPR Dist'])\n",
    "    row_labels = [model_name + '-' + str(l) for l in layers]\n",
    "\n",
    "    row_colors = np.full(len(row_labels), '#7AC5CD')\n",
    "    col_colors = np.full(len(col_labels), '#FFD39B')\n",
    "\n",
    "    # Axis Specification \n",
    "    plt.axis('off')\n",
    "    plt.axis('tight')\n",
    "    \n",
    "    # Fill the data array with VPR values\n",
    "    data = np.zeros((len(avg_bottom_item.keys()),3))\n",
    "    for i,(key_top,key_bot,key_dist) in enumerate(zip(avg_top_item.keys(),avg_bottom_item.keys(),dist_avg_item.keys())):\n",
    "        data[i][1] = avg_top_item[key_top]\n",
    "        data[i][0] = avg_bottom_item[key_bot]\n",
    "        data[i][2] = dist_avg_item[key_dist]\n",
    "    \n",
    "    # Plot the Table    \n",
    "    table = plt.table(cellText=data,\n",
    "              rowLabels=row_labels,\n",
    "              rowColours=row_colors,\n",
    "              colColours=col_colors,\n",
    "              colLabels=col_labels,\n",
    "              loc='best')\n",
    "    \n",
    "    table.scale(2, 3) \n",
    "    plt.title('Average VPR for bottom and top model parameters', x=0.1, fontweight=\"bold\")\n",
    "    plt.plot()\n",
    "    plt.show()\n",
    "    \n",
    "# Plot VPR percentage figure (Figure 2 in the paper)\n",
    "def plot_vpr_figure(number_of_top_item, number_of_bottom_item, model_name):\n",
    "    # Determine the x axis \n",
    "    x = np.linspace(0.05, 1, 20)\n",
    "    \n",
    "    # Plot the Figure with percentage of bottom model and top model\n",
    "    plt.plot(x, number_of_top_item, color='green', linewidth = 3,\n",
    "             marker='o', markerfacecolor='blue',label='Top Item', markersize=5)\n",
    "\n",
    "    plt.plot(x, number_of_bottom_item, color='orange', linewidth = 3,\n",
    "             marker='o', markerfacecolor='red',label='Bottom Item', markersize=5)\n",
    "    \n",
    "    # Set The Title and axis labels\n",
    "    plt.xlabel('VPR')\n",
    "    plt.ylabel('Percentage')\n",
    "    plt.title(\"The Distribution of Parameters - \" + model_name, fontweight=\"bold\")\n",
    "    plt.legend()\n",
    "    plt.show()\n",
    "    \n",
    "# Plot the table of t ratio (Table 1)    \n",
    "def plot_t_ratio_table(t_ratio, model_name, layers):\n",
    "    plt.subplots_adjust(left=0.2, top=0.6)\n",
    "\n",
    "    # Determine Columns and the Rows(also colors)\n",
    "    epochs = [0.25,0.5,0.75,1]\n",
    "    col_labels = (['25% Epoch', '50% Epoch', '75% Epoch','100% Epoch'])\n",
    "    row_labels = [model_name + '-' + str(l) for l in layers]\n",
    "    row_colors = np.full(len(row_labels), '#7AC5CD')\n",
    "    col_colors = np.full(len(col_labels), '#FFD39B')\n",
    "\n",
    "    # Axis Specification\n",
    "    plt.axis('off')\n",
    "    plt.axis('tight')\n",
    "    \n",
    "    # Fill the data array with VPR values\n",
    "    data = np.zeros((len(layers),4))\n",
    "    for i,(lyr) in enumerate(layers):\n",
    "        for j, epoch in enumerate(epochs):\n",
    "            if  (epoch,lyr) in t_ratio:\n",
    "                data[i][j] = t_ratio[epoch,lyr]\n",
    "            else:\n",
    "                data[i][j] = 0\n",
    "                \n",
    "    # Plot the Table    \n",
    "    table = plt.table(cellText=data,\n",
    "              rowLabels=row_labels,\n",
    "              rowColours=row_colors,\n",
    "              colColours=col_colors,\n",
    "              colLabels=col_labels,\n",
    "              loc='best')\n",
    "\n",
    "    table.scale(2, 3) \n",
    "    plt.title('Ratio of pairs of neurons with t-values exceeding the critical values.', x=0.1, fontweight=\"bold\")\n",
    "    plt.plot()\n",
    "    plt.show()\n",
    "    \n",
    "# Plot the hyperparameter Effectiveness (Figure 3)    \n",
    "def plot_effectiveness_figure(results, beta, model_name, metrics):\n",
    "#     max_y = 0\n",
    "#     min_y = 100000000000000\n",
    "    for i in range(len(results)):\n",
    "        # Randomly choose colors\n",
    "        color = [\"#\"+''.join([random.choice('0123456789ABCDEF') for j in range(6)])]\n",
    "        marker_color = [\"#\"+''.join([random.choice('0123456789ABCDEF') for j in range(6)])]\n",
    "        lambda_reg,y = [], []\n",
    "        \n",
    "        # Fill data with metric score\n",
    "        for key, val in results[i].items():\n",
    "            lambda_reg.append(key)\n",
    "            y.append(val)\n",
    "#             if val > max_y:\n",
    "#                 max_y = val\n",
    "#             if val < min_y:\n",
    "#                 min_y = val\n",
    "        \n",
    "        # Plot the Table\n",
    "        plt.plot(lambda_reg, y, color=color[0], linewidth=3,\n",
    "            marker='o', markerfacecolor=marker_color[0],label=str(beta[i]), markersize=5)\n",
    "    #plt.ylim(min_y-5, max_y +5)\n",
    "    plt.xscale('log')\n",
    "    plt.xlabel('Hyperparam. Lambda')\n",
    "    plt.ylabel(metrics)\n",
    "    plt.title(model_name, fontweight=\"bold\")\n",
    "    plt.legend()\n",
    "    plt.show()\n",
    "    \n",
    "    "
   ]
  },
  {
   "cell_type": "markdown",
   "id": "69739034",
   "metadata": {},
   "source": [
    "### Load Datasets"
   ]
  },
  {
   "cell_type": "markdown",
   "id": "89875437",
   "metadata": {},
   "source": [
    "#### MNIST Dataset & DataLoader\n"
   ]
  },
  {
   "cell_type": "code",
   "execution_count": 5,
   "id": "ec467bc8",
   "metadata": {
    "scrolled": true
   },
   "outputs": [
    {
     "name": "stdout",
     "output_type": "stream",
     "text": [
      "Length of MNIST Train Dataset: 60000\n",
      "Length of MNIST Test Dataset: 10000\n"
     ]
    }
   ],
   "source": [
    "# Dataset class in library.dataset \n",
    "\n",
    "# MNIST-28 is used in MLP and AE Training\n",
    "mnist_28 = MNIST_Dataset(is_image_2d = False, img_size=mnist_ae_size)\n",
    "mnist_28_train_data = mnist_28.get_train_dataset()\n",
    "mnist_28_test_data = mnist_28.get_test_dataset()\n",
    "\n",
    "# Loading a MNIST-28 Dataset \n",
    "mnist_28_train_loader = DataLoader(mnist_28_train_data, shuffle = True, batch_size=batch_size)\n",
    "mnist_28_test_loader = DataLoader(mnist_28_test_data, shuffle = True, batch_size=batch_size)\n",
    "\n",
    "# MNIST-32 is used in LeNet Training\n",
    "mnist_32 = MNIST_Dataset(is_image_2d = True, img_size=mnist_lenet_size)\n",
    "mnist_32_train_data = mnist_32.get_train_dataset()\n",
    "mnist_32_test_data = mnist_32.get_test_dataset()\n",
    "\n",
    "# Loading a MNIST-32 Dataset \n",
    "mnist_32_train_loader = DataLoader(mnist_32_train_data, shuffle = True, batch_size=batch_size)\n",
    "mnist_32_test_loader = DataLoader(mnist_32_test_data, shuffle = True, batch_size=batch_size)\n",
    "\n",
    "print(\"Length of MNIST Train Dataset: \" + str(len(mnist_28_train_data)))\n",
    "print(\"Length of MNIST Test Dataset: \" + str(len(mnist_28_test_data)))\n"
   ]
  },
  {
   "cell_type": "markdown",
   "id": "17ebbd15",
   "metadata": {},
   "source": [
    "#### CIFAR10 Dataset & DataLoader"
   ]
  },
  {
   "cell_type": "code",
   "execution_count": 6,
   "id": "63211b47",
   "metadata": {},
   "outputs": [
    {
     "name": "stdout",
     "output_type": "stream",
     "text": [
      "Files already downloaded and verified\n",
      "Files already downloaded and verified\n",
      "Length of CIFAR10 Train Dataset: 50000\n",
      "Length of CIFAR10 Test Dataset: 10000\n"
     ]
    }
   ],
   "source": [
    "# CIFAR_10_Dataset is used in VGG Training\n",
    "cifar_10 = CIFAR_10_Dataset()\n",
    "cifar_10_train_data = cifar_10.get_train_dataset()\n",
    "cifar_10_test_data = cifar_10.get_test_dataset()\n",
    "\n",
    "# Loading a CIFAR_10 Dataset \n",
    "cifar_10_train_loader = DataLoader(cifar_10_train_data, shuffle = True, batch_size = batch_size)\n",
    "cifar_10_test_loader = DataLoader(cifar_10_test_data, shuffle = True, batch_size = batch_size)\n",
    "\n",
    "print(\"Length of CIFAR10 Train Dataset: \" + str(len(cifar_10_train_data)))\n",
    "print(\"Length of CIFAR10 Test Dataset: \" + str(len(cifar_10_test_data)))"
   ]
  },
  {
   "cell_type": "markdown",
   "id": "1d30bea5",
   "metadata": {},
   "source": [
    "#### Sentence Polarity Dataset & DataLoader"
   ]
  },
  {
   "cell_type": "markdown",
   "id": "0399900c",
   "metadata": {},
   "source": [
    "Please use download_data.sh script to download Sentence Polarity dataset."
   ]
  },
  {
   "cell_type": "code",
   "execution_count": 7,
   "id": "276615ce",
   "metadata": {},
   "outputs": [
    {
     "name": "stdout",
     "output_type": "stream",
     "text": [
      "Length of Sentence Polarity Train Dataset: 7996\n",
      "Length of Sentence Polarity Test Dataset: 2666\n"
     ]
    }
   ],
   "source": [
    "# Dataset class in library.dataset \n",
    "\n",
    "# Sentence Polarity Dataset is used in LSTM, MLP Training\n",
    "sentence_polarity_dataset = Sentence_Polarity_Dataset(\"dataset/rt-polarity.pos\", \"dataset/rt-polarity.neg\")\n",
    "sentence, label = sentence_polarity_dataset.get_data()\n",
    "\n",
    "# Split train and test data \n",
    "p_sentence_train, p_sentence_test, p_label_train, p_label_test = train_test_split(sentence, label, stratify=label)\n",
    "\n",
    "# Match word to number and create vocabulary table based on the data (util.py)\n",
    "p_sentence_train, p_label_train, p_sentence_test, p_label_test, sentence_vocab_length = preprocess_data(p_sentence_train,\n",
    "                                                                                                        p_label_train, \n",
    "                                                                                                        p_sentence_test,\n",
    "                                                                                                        p_label_test)\n",
    "\n",
    "# Set input sequence length (util.py)\n",
    "p_sentence_train = padding(p_sentence_train, sentence_polarity_sequence_length)\n",
    "p_sentence_test = padding(p_sentence_test, sentence_polarity_sequence_length)\n",
    "\n",
    "# Tensor datasets\n",
    "sentence_p_train_data = TensorDataset(torch.from_numpy(p_sentence_train), torch.from_numpy(p_label_train))\n",
    "sentence_p_test_data = TensorDataset(torch.from_numpy(p_sentence_test), torch.from_numpy(p_label_test))\n",
    "\n",
    "print(\"Length of Sentence Polarity Train Dataset: \" + str(len(p_sentence_train)))\n",
    "print(\"Length of Sentence Polarity Test Dataset: \" + str(len(p_sentence_test)))\n",
    "\n",
    "# Loading a Sentence Polarity Dataset\n",
    "polarity_train_loader = DataLoader(sentence_p_train_data, shuffle=True, batch_size=batch_size)\n",
    "polarity_test_loader = DataLoader(sentence_p_test_data, shuffle=True, batch_size=batch_size)"
   ]
  },
  {
   "cell_type": "markdown",
   "id": "7b709040",
   "metadata": {},
   "source": [
    "### Models  Initialization"
   ]
  },
  {
   "cell_type": "code",
   "execution_count": 8,
   "id": "21b34a60",
   "metadata": {
    "scrolled": true
   },
   "outputs": [],
   "source": [
    "# MLPType, NetworkType enums are defined in library/data_structure.py\n",
    "# Model Classes are defined in library/model.py\n",
    "\n",
    "def init_model(network_type, input_dim = 128, hidden_dim = 128, out_dim = 10, mlp_type = None, \n",
    "               dropout=(False,0.3), lstm_number_of_layer = 2, device='cuda'):\n",
    "    \n",
    "    #   :param: network_type: the model class name\n",
    "    #   :param: input_dim: input dimension of network\n",
    "    #   :param: hidden_dim: hidden dimension of network\n",
    "    #   :param: out_dim: output dimension of network\n",
    "    #   :param: mlp_type: the dataset that is used in MLP if class name specied as MLP\n",
    "    #   :param: dropout: dropout usage situation and the probability\n",
    "    #   :param: lstm_number_of_layer: the number of LSTM layer\n",
    "    #   :param: device: training device\n",
    "\n",
    "    \n",
    "    # Initalize model that will be trained\n",
    "    if network_type == NetworkType.LSTM:\n",
    "        model = LSTM(input_dim, hidden_dim, out_dim, lstm_number_of_layer,device, dropout=dropout)\n",
    "        return model\n",
    "    \n",
    "    elif network_type == NetworkType.MLP:\n",
    "        if mlp_type == MLPType.Polarity:\n",
    "            model = MLP(MLPType.Polarity, input_dim, hidden_dim, out_dim,dropout=dropout)\n",
    "            return model\n",
    "        \n",
    "        elif mlp_type == MLPType.MNIST:\n",
    "            model = MLP(MLPType.MNIST,input_dim, hidden_dim, out_dim, dropout=dropout)\n",
    "            return model\n",
    "        \n",
    "    elif network_type == NetworkType.LeNet:\n",
    "        model = LeNet5(out_dim, dropout=dropout)\n",
    "        return model\n",
    "    \n",
    "    elif network_type == NetworkType.AE:\n",
    "        model = AE(dropout=dropout)\n",
    "        return model\n",
    "    \n",
    "    elif network_type == NetworkType.VGG:\n",
    "        model = VGG(dropout=dropout)\n",
    "        return model\n",
    "    "
   ]
  },
  {
   "cell_type": "markdown",
   "id": "e64efa9e",
   "metadata": {},
   "source": [
    "### Training & Testing"
   ]
  },
  {
   "cell_type": "markdown",
   "id": "061a6d7d",
   "metadata": {},
   "source": [
    "#### L1&L2 Regularization Calculation"
   ]
  },
  {
   "cell_type": "code",
   "execution_count": 9,
   "id": "7fa5153d",
   "metadata": {},
   "outputs": [],
   "source": [
    "# L2 regularization \n",
    "def calc_L2_reg(weight):\n",
    "    return weight.pow(2).sum()\n",
    "\n",
    "# L1 regularization \n",
    "def calc_L1_reg(weight):\n",
    "    return weight.abs().sum()"
   ]
  },
  {
   "cell_type": "markdown",
   "id": "c827f953",
   "metadata": {},
   "source": [
    "#### Lazy Update (Algorithm 1)"
   ]
  },
  {
   "cell_type": "code",
   "execution_count": 10,
   "id": "d4ade681",
   "metadata": {},
   "outputs": [],
   "source": [
    "# Lazy Update Function (Algorith 1 in the paper)\n",
    "\n",
    "def regularize_params(model, regularizer, regularizer_type, activation_val_of_layers, \n",
    "                      epoch_no, total_epoch, device, vpr_tested = False):\n",
    "    \n",
    "    #   :param: model: the model that is under training\n",
    "    #   :param: regularizer: CorrReg regularizer object\n",
    "    #   :param: regularizer_type: The type of the regularizer (L1,L2 or CorrReg)\n",
    "    #   :param: activation_val_of_layers: Activation value of layers \n",
    "    #   :param: epoch_no: the current epoch no\n",
    "    #   :param: total_epoch: total no of epoch\n",
    "    #   :param: device: training device\n",
    "    #   :param: vpr_tested: boolean value to calculate vpr or not\n",
    "    \n",
    "    i, reg_loss = 0, 0.0\n",
    "    weight = []\n",
    "    \n",
    "    # E is the number of the first few epochs without lazy update\n",
    "    # Ts is the update interval for updating significance weights\n",
    "    correg_E = 3\n",
    "    correg_Ts = 10\n",
    "    \n",
    "    if regularizer_type == RegularizerType.CorrReg:    \n",
    "        # Calculate Regularization Loss(Derived From Equation 6 in the paper)     \n",
    "        i = 0    \n",
    "        for model_param_name, model_param_value in model.named_parameters():\n",
    "            if 'weight' in model_param_name and regularizer.regularized_param_name in model_param_name:\n",
    "                i += 1\n",
    "                if i > 1:\n",
    "                    reg_loss += regularizer.lambda_reg * regularizer.calc_Corr_reg(model_param_value, \n",
    "                                                                                   regularizer.theta[i - 2],\n",
    "                                                                                   device)\n",
    "                    weight.append(abs(model_param_value))\n",
    "                    \n",
    "        # Check Epochs Before Updating Significance Weights\n",
    "        # Update Significance Weights (Equation 8)\n",
    "        if epoch_no < correg_E or epoch_no % correg_Ts == 0:\n",
    "            regularizer.update_theta(model, activation_val_of_layers)\n",
    "\n",
    "        # Calculate CPR & VPR in the last epoch, if the boolean value is set to True             \n",
    "        if epoch_no == total_epoch and vpr_tested is True:\n",
    "            regularizer.compute_cpr()\n",
    "            regularizer.compute_vpr(weight)\n",
    "            \n",
    "    # Calculate L2 regularization value\n",
    "    elif regularizer_type == RegularizerType.L2:\n",
    "        for model_param_name, model_param_value in model.named_parameters():\n",
    "            if 'weight' in model_param_name:\n",
    "                reg_loss += regularizer.lambda_reg * calc_L2_reg(model_param_value)\n",
    "                \n",
    "    # Calculate L1 regularization value\n",
    "    elif regularizer_type == RegularizerType.L1:\n",
    "        for model_param_name, model_param_value in model.named_parameters():\n",
    "            if 'weight' in model_param_name:\n",
    "                reg_loss += regularizer.lambda_reg * calc_L1_reg(model_param_value)\n",
    "    return reg_loss\n",
    "\n"
   ]
  },
  {
   "cell_type": "markdown",
   "id": "4bf4db18",
   "metadata": {},
   "source": [
    "#### Test Function (t values and VPR&CPR calculation)"
   ]
  },
  {
   "cell_type": "code",
   "execution_count": 11,
   "id": "481ce39f",
   "metadata": {},
   "outputs": [],
   "source": [
    "# Calculating t-values of correlations\n",
    "\n",
    "def calculate_t_values(regularizer, epoch_no, total_epoch): \n",
    "    regularizer.calculate_ratio_of_t_values(epoch_no/total_epoch)"
   ]
  },
  {
   "cell_type": "markdown",
   "id": "1b3d8d87",
   "metadata": {},
   "source": [
    "#### Training Loop"
   ]
  },
  {
   "cell_type": "code",
   "execution_count": 12,
   "id": "2dfd4be1",
   "metadata": {
    "scrolled": true
   },
   "outputs": [],
   "source": [
    "# Training Loop\n",
    "# The testing values such as t values & VPR & CPR are also calculated here!!!\n",
    "\n",
    "def train(model, optimizer, train_loader,test_loader, total_epoch, regularizer_type, \n",
    "          metric_type, regularizer, device, loss_type=LossType.NLLoss, \n",
    "          maxnorm_maximum_val = 3, activation_names = None, t_value_tested = False, vpr_tested = False):\n",
    "    \n",
    "    # Initialize the Metric Calculator \n",
    "    metric = MetricCalculator()\n",
    "    loss_history = []\n",
    "    \n",
    "    # Load model to device\n",
    "    model.to(device)\n",
    "    \n",
    "    # Initialize Significance Weights if the CorrReg is chosen as regularizer\n",
    "    if regularizer_type == RegularizerType.CorrReg:\n",
    "        regularizer.init_theta(model)\n",
    "        \n",
    "    for epoch in range(total_epoch):\n",
    "        model.train()\n",
    "        for i, (input_batch, label_batch) in enumerate(train_loader):\n",
    "            \n",
    "            # Load batches data to device\n",
    "            input_batch = input_batch.to(device)\n",
    "            label_batch = label_batch.to(device)\n",
    "            \n",
    "            # Run the model\n",
    "            out_batch = model(input_batch)\n",
    "\n",
    "            # Calculate Loss (MSE or NLL loss)\n",
    "            if loss_type == LossType.NLLoss:\n",
    "                loss = calc_nll_loss(label_batch, out_batch)\n",
    "            else:\n",
    "                loss = calc_mse_loss(out_batch, input_batch)\n",
    "                \n",
    "            \n",
    "                                   # Regularize the Model #\n",
    "            #######################################################################\n",
    "            # Regularizer for L1, L2 and CorrReg\n",
    "            reg_loss = regularize_params(model, regularizer, regularizer_type, activation_names, \n",
    "                                         epoch + 1, total_epoch, device = device, vpr_tested = vpr_tested)\n",
    "            loss += reg_loss\n",
    "            \n",
    "            # Regularizer for Max Norm\n",
    "            if regularizer_type == RegularizerType.MaxNorm:\n",
    "                for name, param in model.named_parameters():\n",
    "                    if 'bias' not in name:\n",
    "                        norm = param.norm(maxnorm_maximum_val, dim=0, keepdim=True)\n",
    "                        desired = torch.clamp(norm, 0, 3)\n",
    "                        param.data = param.data * (desired / (1e-8 + norm))\n",
    "           #########################################################################\n",
    "                               \n",
    "            loss_history.append(loss.item())\n",
    "            \n",
    "            # Backpropagation   \n",
    "            model.zero_grad()\n",
    "            loss.backward()\n",
    "            optimizer.step()            \n",
    "            torch.cuda.empty_cache()\n",
    "\n",
    "        # Calculate T value while Regularization Type is CorrRef and the boolean value is set to True\n",
    "        # Only the ratio of current_epoch/total_epoch is 25% or 50% or 75% or 100% \n",
    "        if regularizer_type == RegularizerType.CorrReg and t_value_tested is True:\n",
    "            if ((abs(((epoch+1)/total_epoch)-0.25) < sys.float_info.epsilon) or\n",
    "                (abs(((epoch+1)/total_epoch)-0.5) < sys.float_info.epsilon) or\n",
    "                (abs(((epoch+1)/total_epoch)-0.75) < sys.float_info.epsilon) or\n",
    "                (abs(((epoch+1)/total_epoch)-1.0) < sys.float_info.epsilon)):\n",
    "                \n",
    "                #Initialize t value of correlations\n",
    "                regularizer.init_t_values()\n",
    "                \n",
    "                # Test the all data while model is in eval mode\n",
    "                for i, (input_batch, label_batch) in enumerate(train_loader):\n",
    "                    with torch.no_grad():\n",
    "                        model.eval()\n",
    "                        input_batch = input_batch.to(device)\n",
    "                        out_batch = model(input_batch)\n",
    "                        _ = regularizer.update_theta(model, activation_names, is_t_value_tested=True)\n",
    "                        \n",
    "                # Calculating the t value of correlations\n",
    "                calculate_t_values(regularizer, epoch+1, total_epoch) \n",
    "    \n",
    "                \n",
    "    # Calculate Metric Score in Test Dataset\n",
    "    for i, (input_batch, label_batch) in enumerate(test_loader):\n",
    "        with torch.no_grad():\n",
    "            model.eval()\n",
    "            input_batch = input_batch.to(device)\n",
    "            label_batch = label_batch.to(device)\n",
    "            out_batch = model(input_batch)\n",
    "            \n",
    "            # Calculate Score\n",
    "            metric_score = metric.calc_metric_score(metric_type,input_batch, label_batch, out_batch)\n",
    "            \n",
    "    return loss_history, metric_score\n"
   ]
  },
  {
   "cell_type": "markdown",
   "id": "bbf7ba4d",
   "metadata": {},
   "source": [
    "# Experiments"
   ]
  },
  {
   "cell_type": "markdown",
   "id": "c18d1cf4",
   "metadata": {},
   "source": [
    "### Polarity-LSTM"
   ]
  },
  {
   "cell_type": "code",
   "execution_count": 91,
   "id": "f2671582",
   "metadata": {
    "scrolled": false
   },
   "outputs": [
    {
     "name": "stdout",
     "output_type": "stream",
     "text": [
      "Polarity-LSTM with CorrReg network is being started...\n",
      "Polarity-LSTM with L1 network is being started...\n",
      "Polarity-LSTM with L2 network is being started...\n",
      "Polarity-LSTM with Dropout network is being started...\n",
      "Polarity-LSTM with Maxnorm network is being started...\n"
     ]
    },
    {
     "data": {
      "image/png": "[encoded data removed]",
      "text/plain": [
       "<Figure size 432x288 with 1 Axes>"
      ]
     },
     "metadata": {
      "needs_background": "light"
     },
     "output_type": "display_data"
    }
   ],
   "source": [
    "## LSTM Results Dictionary\n",
    "lstm_polarity_metric_results =  {\n",
    "    \"L1\" : 0,\n",
    "    \"L2\" : 0,\n",
    "    \"Dropout\" : 0,\n",
    "    \"MaxNorm\" : 0,\n",
    "    \"CorrReg\" : 0\n",
    "}\n",
    "\n",
    "\n",
    "num_epochs = 20\n",
    "learning_rate = 0.1\n",
    "lambda_reg = 5e-4\n",
    "beta_reg = 1e-7\n",
    "drop_out_probability = 0.75\n",
    "maxnorm_maximum_val = 2\n",
    "\n",
    "# Regularizer Initialization & LSTM Initialization \n",
    "regularizer = Regularizer(lambda_reg = lambda_reg, beta_reg = beta_reg)\n",
    "model = init_model(NetworkType.LSTM, sentence_vocab_length, lstm_hidden_size, \n",
    "                   out_dim = polarity_out_size,\n",
    "                   lstm_number_of_layer = lstm_number_of_layer,\n",
    "                   device = device)\n",
    "\n",
    "# Register Activation Layer \n",
    "activation_layers_names = []\n",
    "for name, layer in model.named_modules():\n",
    "    if 'hidden' in name: \n",
    "        layer.register_forward_hook(get_activation(name))\n",
    "        activation_layers_names.append(name)\n",
    "        \n",
    "#########################################################################################################\n",
    "######################### Polarity-LSTM with CorrReg Training ###########################################\n",
    "#########################################################################################################\n",
    "\n",
    "print(\"Polarity-LSTM with CorrReg network is being started...\")\n",
    "optimizer = torch.optim.SGD(model.parameters(), lr = learning_rate, momentum = sgd_optimizer_momentum)\n",
    "_, lstm_polarity_metric_results[\"CorrReg\"] = train(model,optimizer, polarity_train_loader,\n",
    "                                                   polarity_test_loader, num_epochs,\n",
    "                                                   RegularizerType.CorrReg, MetricType.AUC, \n",
    "                                                   regularizer, device,\n",
    "                                                   activation_names = activation_layers_names)\n",
    "\n",
    "\n",
    "\n",
    "#########################################################################################################\n",
    "######################### Polarity-LSTM with L1 Training ################################################\n",
    "#########################################################################################################\n",
    "\n",
    "print(\"Polarity-LSTM with L1 network is being started...\")\n",
    "model = init_model(NetworkType.LSTM, sentence_vocab_length, lstm_hidden_size, \n",
    "                   out_dim = polarity_out_size, lstm_number_of_layer = lstm_number_of_layer,\n",
    "                   device = device)\n",
    "\n",
    "optimizer = torch.optim.SGD(model.parameters(), lr = learning_rate, momentum = sgd_optimizer_momentum)\n",
    "train_history, lstm_polarity_metric_results[\"L1\"] = train(model,optimizer, polarity_train_loader, \n",
    "                                                          polarity_test_loader, num_epochs,\n",
    "                                                          RegularizerType.L1, MetricType.AUC, \n",
    "                                                          regularizer, device)\n",
    "\n",
    "\n",
    "#########################################################################################################\n",
    "######################### Polarity-LSTM with L2 Training ################################################\n",
    "#########################################################################################################\n",
    "\n",
    "# Polarity-LSTM with L2 Training \n",
    "print(\"Polarity-LSTM with L2 network is being started...\")\n",
    "model = init_model(NetworkType.LSTM, sentence_vocab_length, lstm_hidden_size,\n",
    "                   out_dim = polarity_out_size,\n",
    "                   lstm_number_of_layer = lstm_number_of_layer,\n",
    "                   device = device)\n",
    "optimizer = torch.optim.SGD(model.parameters(), lr = learning_rate, momentum = sgd_optimizer_momentum)\n",
    "train_history, lstm_polarity_metric_results[\"L2\"] = train(model,optimizer, \n",
    "                                                          polarity_train_loader, polarity_test_loader,\n",
    "                                                          num_epochs,RegularizerType.L2, MetricType.AUC,\n",
    "                                                          regularizer, device)\n",
    "\n",
    "\n",
    "#########################################################################################################\n",
    "######################### Polarity-LSTM with Dropout Training ###########################################\n",
    "#########################################################################################################\n",
    "\n",
    "# Polarity-LSTM with Dropout Training \n",
    "print(\"Polarity-LSTM with Dropout network is being started...\")\n",
    "model = init_model(NetworkType.LSTM, sentence_vocab_length, lstm_hidden_size, \n",
    "                   out_dim = polarity_out_size,\n",
    "                   dropout = (True, drop_out_probability),\n",
    "                   lstm_number_of_layer = lstm_number_of_layer,\n",
    "                   device = device)\n",
    " \n",
    "optimizer = torch.optim.SGD(model.parameters(), lr = learning_rate, momentum = sgd_optimizer_momentum)\n",
    "train_history, lstm_polarity_metric_results[\"Dropout\"] = train(model,optimizer, polarity_train_loader, \n",
    "                                                               polarity_test_loader,num_epochs,\n",
    "                                                               RegularizerType.Dropout, MetricType.AUC, \n",
    "                                                               regularizer, device)\n",
    "\n",
    "\n",
    "#########################################################################################################\n",
    "######################### Polarity-LSTM with Maxnorm Training ###########################################\n",
    "#########################################################################################################\n",
    "# Polarity-LSTM with Maxnorm Training \n",
    "print(\"Polarity-LSTM with Maxnorm network is being started...\") \n",
    "model = init_model(NetworkType.LSTM, sentence_vocab_length, lstm_hidden_size, \n",
    "                   out_dim = polarity_out_size,\n",
    "                   lstm_number_of_layer = lstm_number_of_layer,\n",
    "                   device = device)\n",
    "\n",
    "optimizer = torch.optim.SGD(model.parameters(), lr = learning_rate, momentum = sgd_optimizer_momentum)\n",
    "train_history, lstm_polarity_metric_results[\"MaxNorm\"] = train(model,optimizer, \n",
    "                                                               polarity_train_loader, \n",
    "                                                               polarity_test_loader,num_epochs,\n",
    "                                                               RegularizerType.MaxNorm, MetricType.AUC, \n",
    "                                                               regularizer, device,\n",
    "                                                               maxnorm_maximum_val = maxnorm_maximum_val)\n",
    "\n",
    "\n",
    "#########################################################################################################\n",
    "########################### Plotting Comparison Table ###################################################\n",
    "#########################################################################################################\n",
    "\n",
    "\n",
    "plot_performance_table(lstm_polarity_metric_results, \"Polarity-LSTM\", \"AUC\")"
   ]
  },
  {
   "cell_type": "markdown",
   "id": "0517f090",
   "metadata": {},
   "source": [
    "### Polarity-MLP"
   ]
  },
  {
   "cell_type": "markdown",
   "id": "dac681c6",
   "metadata": {},
   "source": [
    "#### CORR-Reg, L1, L2, Dropout, MaxNorm"
   ]
  },
  {
   "cell_type": "code",
   "execution_count": 92,
   "id": "6d765d07",
   "metadata": {
    "scrolled": false
   },
   "outputs": [
    {
     "name": "stdout",
     "output_type": "stream",
     "text": [
      "Polarity-MLP with CorrReg network is being started...\n",
      "Polarity-MLP with L1 network is being started...\n",
      "Polarity-MLP with L2 network is being started...\n",
      "Polarity-MLP with Dropout network is being started...\n",
      "Polarity-MLP with MaxNorm network is being started...\n"
     ]
    },
    {
     "data": {
      "image/png": "[encoded data removed]",
      "text/plain": [
       "<Figure size 432x288 with 1 Axes>"
      ]
     },
     "metadata": {
      "needs_background": "light"
     },
     "output_type": "display_data"
    }
   ],
   "source": [
    "# MLP Polarity Results Dictionary \n",
    "mlp_polarity_metric_results =  {\n",
    "    \"L1\" : 0,\n",
    "    \"L2\" : 0,\n",
    "    \"Dropout\" : 0,\n",
    "    \"MaxNorm\" : 0,\n",
    "    \"CorrReg\" : 0\n",
    "}\n",
    "\n",
    "# Hyperparameter of Polarity-MLP Training\n",
    "num_epochs = 50\n",
    "learning_rate = 0.1\n",
    "lambda_reg = 1e-3\n",
    "beta_reg = 1e-6\n",
    "drop_out_probability = 0.6\n",
    "maxnorm_maximum_val = 1\n",
    "\n",
    "# Regularizer Initialization & MLP Initialization \n",
    "regularizer = Regularizer(lambda_reg = lambda_reg, beta_reg = beta_reg)\n",
    "model = init_model(NetworkType.MLP, sentence_vocab_length, \n",
    "                   mlp_hidden_size, out_dim = polarity_out_size, \n",
    "                   mlp_type = MLPType.Polarity)\n",
    "\n",
    "# Register Activation Layer \n",
    "activation_layers_names = []\n",
    "for name, layer in model.named_modules():\n",
    "    if 'hidden' in name: \n",
    "        layer.register_forward_hook(get_activation(name))\n",
    "        activation_layers_names.append(name)\n",
    "        \n",
    "#####################################################################################################\n",
    "######################### Polarity-MLP with CorrReg Training ########################################\n",
    "#####################################################################################################\n",
    "\n",
    "print(\"Polarity-MLP with CorrReg network is being started...\")\n",
    "optimizer = torch.optim.SGD(model.parameters(), lr = learning_rate, momentum = sgd_optimizer_momentum)\n",
    "_, mlp_polarity_metric_results[\"CorrReg\"] = train(model,optimizer, \n",
    "                                                  polarity_train_loader, polarity_test_loader, \n",
    "                                                  num_epochs, RegularizerType.CorrReg, MetricType.AUC, \n",
    "                                                  regularizer, device,\n",
    "                                                  activation_names = activation_layers_names)\n",
    "\n",
    "#####################################################################################################\n",
    "######################### Polarity-MLP with L1 Training #############################################\n",
    "#####################################################################################################\n",
    "\n",
    "print(\"Polarity-MLP with L1 network is being started...\")\n",
    "model = init_model(NetworkType.MLP, sentence_vocab_length, mlp_hidden_size, \n",
    "                   out_dim=polarity_out_size,\n",
    "                   mlp_type=MLPType.Polarity)\n",
    "\n",
    "optimizer = torch.optim.SGD(model.parameters(), lr = learning_rate, momentum = sgd_optimizer_momentum)\n",
    "_, mlp_polarity_metric_results[\"L1\"] = train(model,optimizer, polarity_train_loader, \n",
    "                                             polarity_test_loader, num_epochs,RegularizerType.L1, \n",
    "                                             MetricType.AUC, regularizer, device)\n",
    "\n",
    "#####################################################################################################\n",
    "######################### Polarity-MLP with L2 Training #############################################\n",
    "#####################################################################################################\n",
    "\n",
    "print(\"Polarity-MLP with L2 network is being started...\")\n",
    "model = init_model(NetworkType.MLP, sentence_vocab_length, mlp_hidden_size, \n",
    "                   out_dim = polarity_out_size,\n",
    "                   mlp_type = MLPType.Polarity)\n",
    "\n",
    "optimizer = torch.optim.SGD(model.parameters(), lr = learning_rate, momentum = sgd_optimizer_momentum)\n",
    "_, mlp_polarity_metric_results[\"L2\"] = train(model,optimizer, polarity_train_loader, \n",
    "                                             polarity_test_loader, num_epochs,RegularizerType.L2,\n",
    "                                             MetricType.AUC, regularizer, device)\n",
    "\n",
    "\n",
    "#####################################################################################################\n",
    "######################### Polarity-MLP with Dropout Training ########################################\n",
    "#####################################################################################################\n",
    "\n",
    "print(\"Polarity-MLP with Dropout network is being started...\")\n",
    "model = init_model(NetworkType.MLP, sentence_vocab_length, mlp_hidden_size, \n",
    "                   out_dim = polarity_out_size, mlp_type = MLPType.Polarity,\n",
    "                   dropout=(True, drop_out_probability))\n",
    "\n",
    "optimizer = torch.optim.SGD(model.parameters(), lr = learning_rate, momentum = sgd_optimizer_momentum)\n",
    "_, mlp_polarity_metric_results[\"Dropout\"] = train(model,optimizer, polarity_train_loader, \n",
    "                                                  polarity_test_loader, num_epochs,\n",
    "                                                  RegularizerType.Dropout, MetricType.AUC, \n",
    "                                                  regularizer, device)\n",
    "\n",
    "#####################################################################################################\n",
    "######################### Polarity-MLP with MaxNorm Training ########################################\n",
    "#####################################################################################################\n",
    "\n",
    "print(\"Polarity-MLP with MaxNorm network is being started...\")\n",
    "model = init_model(NetworkType.MLP, sentence_vocab_length, mlp_hidden_size, \n",
    "                   out_dim = polarity_out_size, \n",
    "                   mlp_type = MLPType.Polarity)\n",
    "\n",
    "optimizer = torch.optim.SGD(model.parameters(), lr = learning_rate, momentum = sgd_optimizer_momentum)\n",
    "_, mlp_polarity_metric_results[\"MaxNorm\"] = train(model,optimizer, polarity_train_loader, \n",
    "                                                  polarity_test_loader, num_epochs,\n",
    "                                                  RegularizerType.MaxNorm, MetricType.AUC,\n",
    "                                                  regularizer, device,\n",
    "                                                  maxnorm_maximum_val = maxnorm_maximum_val)\n",
    "#########################################################################################################\n",
    "########################### Plotting Comparison Table ###################################################\n",
    "#########################################################################################################\n",
    "plot_performance_table(mlp_polarity_metric_results, \"Polarity-MLP\", \"AUC\")"
   ]
  },
  {
   "cell_type": "markdown",
   "id": "1c079d47",
   "metadata": {},
   "source": [
    "### Mnist-MLP"
   ]
  },
  {
   "cell_type": "markdown",
   "id": "9d255c26",
   "metadata": {},
   "source": [
    "#### CORR-Reg, L1, L2, Dropout, MaxNorm"
   ]
  },
  {
   "cell_type": "code",
   "execution_count": 93,
   "id": "cdbfb9e2",
   "metadata": {},
   "outputs": [
    {
     "name": "stdout",
     "output_type": "stream",
     "text": [
      "MNIST-MLP with CorrReg network is being started...\n",
      "MNIST-MLP with L1 network is being started...\n",
      "MNIST-MLP with L2 network is being started...\n",
      "MNIST-MLP with Dropout network is being started...\n",
      "MNIST-MLP with MaxNorm network is being started...\n"
     ]
    },
    {
     "data": {
      "image/png": "[encoded data removed]",
      "text/plain": [
       "<Figure size 432x288 with 1 Axes>"
      ]
     },
     "metadata": {
      "needs_background": "light"
     },
     "output_type": "display_data"
    },
    {
     "data": {
      "image/png": "[encoded data removed]",
      "text/plain": [
       "<Figure size 432x288 with 1 Axes>"
      ]
     },
     "metadata": {
      "needs_background": "light"
     },
     "output_type": "display_data"
    },
    {
     "data": {
      "image/png": "[encoded data removed]",
      "text/plain": [
       "<Figure size 432x288 with 1 Axes>"
      ]
     },
     "metadata": {
      "needs_background": "light"
     },
     "output_type": "display_data"
    },
    {
     "data": {
      "image/png": "[encoded data removed]",
      "text/plain": [
       "<Figure size 432x288 with 1 Axes>"
      ]
     },
     "metadata": {
      "needs_background": "light"
     },
     "output_type": "display_data"
    }
   ],
   "source": [
    "# MNIST MLP Results Dictionary \n",
    "mlp_mnist_metrics_result =  {\n",
    "    \"L1\" : 0,\n",
    "    \"L2\" : 0,\n",
    "    \"Dropout\" : 0,\n",
    "    \"MaxNorm\" : 0,\n",
    "    \"CorrReg\" : 0\n",
    "}\n",
    "\n",
    "# Hyperparameter of MNIST-MLP Training\n",
    "num_epochs = 12\n",
    "learning_rate = 0.005\n",
    "lambda_reg = 0.0001\n",
    "beta_reg = 1e-6\n",
    "maxnorm_maximum_val = 1\n",
    "drop_out_probability = 0.6\n",
    "\n",
    "# Regularizer Initialization & MLP Initialization \n",
    "regularizer = Regularizer(lambda_reg = lambda_reg, beta_reg = beta_reg)\n",
    "model = init_model(NetworkType.MLP,  mnist_ae_size * mnist_ae_size, \n",
    "                   mlp_hidden_size, out_dim = mnist_out_size,\n",
    "                   mlp_type = MLPType.MNIST)\n",
    "\n",
    "# Register Activation Layer \n",
    "activation_layers_names = []\n",
    "for name, layer in model.named_modules():\n",
    "    if 'hidden' in name: \n",
    "        layer.register_forward_hook(get_activation(name))\n",
    "        activation_layers_names.append(name)\n",
    "\n",
    "#####################################################################################################\n",
    "######################### MNIST-MLP with CorrReg Training ###########################################\n",
    "#####################################################################################################\n",
    "\n",
    "# MNIST-MLP with CorrReg\n",
    "print(\"MNIST-MLP with CorrReg network is being started...\")\n",
    "optimizer = torch.optim.SGD(model.parameters(), lr = learning_rate, momentum = sgd_optimizer_momentum)\n",
    "_, mlp_mnist_metrics_result[\"CorrReg\"] = train(model,optimizer, mnist_28_train_loader,\n",
    "                                               mnist_28_test_loader, num_epochs, RegularizerType.CorrReg,\n",
    "                                               MetricType.Error_Rate, \n",
    "                                               regularizer, device,\n",
    "                                               activation_names = activation_layers_names,\n",
    "                                               t_value_tested = True ,vpr_tested = True)\n",
    "\n",
    "\n",
    "#####################################################################################################\n",
    "######################### MNIST-MLP with L1 Training ################################################\n",
    "#####################################################################################################\n",
    "\n",
    "print(\"MNIST-MLP with L1 network is being started...\")\n",
    "model = init_model(NetworkType.MLP, mnist_ae_size * mnist_ae_size, mlp_hidden_size,\n",
    "                   out_dim = mnist_out_size,mlp_type = MLPType.MNIST)\n",
    "\n",
    "optimizer = torch.optim.SGD(model.parameters(), lr = learning_rate, momentum = sgd_optimizer_momentum)\n",
    "_, mlp_mnist_metrics_result[\"L1\"] = train(model,optimizer, mnist_28_train_loader, \n",
    "                                          mnist_28_test_loader, num_epochs,RegularizerType.L1, \n",
    "                                          MetricType.Error_Rate,regularizer, device)\n",
    "\n",
    "\n",
    "#####################################################################################################\n",
    "######################### MNIST-MLP with L2 Training ################################################\n",
    "#####################################################################################################\n",
    "\n",
    "print(\"MNIST-MLP with L2 network is being started...\")\n",
    "model = init_model(NetworkType.MLP, mnist_ae_size*mnist_ae_size, mlp_hidden_size, \n",
    "                   out_dim = mnist_out_size,\n",
    "                   mlp_type = MLPType.MNIST)\n",
    "optimizer = torch.optim.SGD(model.parameters(), lr = learning_rate, momentum = sgd_optimizer_momentum)\n",
    "\n",
    "_, mlp_mnist_metrics_result[\"L2\"] = train(model,optimizer, mnist_28_train_loader,\n",
    "                                          mnist_28_test_loader, num_epochs, RegularizerType.L2, \n",
    "                                          MetricType.Error_Rate, regularizer, device)\n",
    "\n",
    "\n",
    "#####################################################################################################\n",
    "######################### MNIST-MLP with Dropout Training ##########################################\n",
    "#####################################################################################################\n",
    "\n",
    "print(\"MNIST-MLP with Dropout network is being started...\")\n",
    "model = init_model(NetworkType.MLP, mnist_ae_size * mnist_ae_size, mlp_hidden_size, \n",
    "                   out_dim = mnist_out_size,mlp_type = MLPType.MNIST,\n",
    "                   dropout = (True,drop_out_probability))\n",
    "optimizer = torch.optim.SGD(model.parameters(), lr = learning_rate, momentum = sgd_optimizer_momentum)\n",
    "_, mlp_mnist_metrics_result[\"Dropout\"] = train(model,optimizer, mnist_28_train_loader, \n",
    "                                               mnist_28_test_loader, num_epochs,RegularizerType.Dropout, \n",
    "                                               MetricType.Error_Rate,regularizer, device)\n",
    "\n",
    "\n",
    "#####################################################################################################\n",
    "######################### MNIST-MLP with MaxNorm Training ##########################################\n",
    "#####################################################################################################\n",
    "\n",
    "print(\"MNIST-MLP with MaxNorm network is being started...\")\n",
    "model = init_model(NetworkType.MLP, mnist_ae_size*mnist_ae_size, mlp_hidden_size, \n",
    "                   out_dim = mnist_out_size,mlp_type = MLPType.MNIST)\n",
    "optimizer = torch.optim.SGD(model.parameters(), lr = learning_rate, momentum = sgd_optimizer_momentum)\n",
    "_, mlp_mnist_metrics_result[\"MaxNorm\"] = train(model,optimizer, mnist_28_train_loader,\n",
    "                                               mnist_28_test_loader, num_epochs,RegularizerType.MaxNorm, \n",
    "                                               MetricType.Error_Rate,regularizer, device, \n",
    "                                               maxnorm_maximum_val = maxnorm_maximum_val)\n",
    "\n",
    "\n",
    "\n",
    "#####################################################################################################\n",
    "######## Plotting the Effects of Adaptive Regularization (Table 1, Table 4, Figure 2) ###############\n",
    "#####################################################################################################\n",
    "\n",
    "layers_to_visualize = [0]\n",
    "percentage_layer_no = 0\n",
    "number_of_top_item, number_of_bottom_item, avg_top_item, avg_bottom_item, dist_avg_item = regularizer.get_vpr_values(layers_to_visualize, percentage_layer_no)\n",
    "t_ratio = regularizer.get_t_ratios()\n",
    "\n",
    "model_name = \"MNIST-MLP-\"+str(percentage_layer_no)\n",
    "plot_vpr_figure(number_of_top_item, number_of_bottom_item, model_name)\n",
    "\n",
    "plot_vpr_table(avg_top_item, avg_bottom_item, dist_avg_item, \"MNIST-MLP\", layers_to_visualize)\n",
    "plot_t_ratio_table(t_ratio, \"MNIST-MLP\", layers_to_visualize)\n",
    "\n",
    "plot_performance_table(mlp_mnist_metrics_result, \"MNIST-MLP\", \"Error Rate\")\n"
   ]
  },
  {
   "cell_type": "markdown",
   "id": "d9a5ab7a",
   "metadata": {},
   "source": [
    "### MNIST-AE"
   ]
  },
  {
   "cell_type": "markdown",
   "id": "a6608797",
   "metadata": {},
   "source": [
    "#### CORR-Reg, L1, L2, Dropout, MaxNorm"
   ]
  },
  {
   "cell_type": "code",
   "execution_count": 97,
   "id": "9eac8c3a",
   "metadata": {
    "scrolled": false
   },
   "outputs": [
    {
     "name": "stdout",
     "output_type": "stream",
     "text": [
      "MNIST-AE with CorrReg network is being started...\n",
      "MNIST-AE with L1 network is being started...\n",
      "MNIST-AE with L2 network is being started...\n",
      "MNIST-AE with Dropout network is being started...\n",
      "MNIST-AE with MaxNorm network is being started...\n"
     ]
    },
    {
     "data": {
      "image/png": "[encoded data removed]",
      "text/plain": [
       "<Figure size 432x288 with 1 Axes>"
      ]
     },
     "metadata": {
      "needs_background": "light"
     },
     "output_type": "display_data"
    },
    {
     "data": {
      "image/png": "[encoded data removed]",
      "text/plain": [
       "<Figure size 432x288 with 1 Axes>"
      ]
     },
     "metadata": {
      "needs_background": "light"
     },
     "output_type": "display_data"
    },
    {
     "data": {
      "image/png": "[encoded data removed]",
      "text/plain": [
       "<Figure size 432x288 with 1 Axes>"
      ]
     },
     "metadata": {
      "needs_background": "light"
     },
     "output_type": "display_data"
    },
    {
     "data": {
      "image/png": "[encoded data removed]",
      "text/plain": [
       "<Figure size 432x288 with 1 Axes>"
      ]
     },
     "metadata": {
      "needs_background": "light"
     },
     "output_type": "display_data"
    }
   ],
   "source": [
    "# Autoencoder Results Dictionary \n",
    "ae_mnist_metrics =  {\n",
    "    \"L1\" : 0,\n",
    "    \"L2\" : 0,\n",
    "    \"Dropout\" : 0,\n",
    "    \"MaxNorm\" : 0,\n",
    "    \"CorrReg\" : 0\n",
    "}\n",
    "\n",
    "# Hyperparameter of Autoencoder Training\n",
    "num_epochs = 20\n",
    "learning_rate = 0.1\n",
    "lambda_reg = 1e-4\n",
    "beta_reg = 1e-6\n",
    "maxnorm_maximum_val = 1\n",
    "drop_out_probability = 0.6\n",
    "\n",
    "# Regularizer Initialization & Autoencoder Initialization \n",
    "regularizer = Regularizer(lambda_reg=lambda_reg, beta_reg=beta_reg)\n",
    "model = init_model(NetworkType.AE)\n",
    "\n",
    "# Register Activation Layer \n",
    "activation_layers_names = []\n",
    "for name, layer in model.named_modules():\n",
    "    if 'hidden' in name: \n",
    "        layer.register_forward_hook(get_activation(name))\n",
    "        activation_layers_names.append(name)\n",
    "\n",
    "#####################################################################################################\n",
    "######################### Autoencoder with CorrReg Training #########################################\n",
    "#####################################################################################################\n",
    "\n",
    "print(\"MNIST-AE with CorrReg network is being started...\")\n",
    "optimizer = torch.optim.SGD(model.parameters(), lr=learning_rate, momentum=sgd_optimizer_momentum)\n",
    "_, ae_mnist_metrics[\"CorrReg\"] = train(model,optimizer, mnist_28_train_loader,\n",
    "                                       mnist_28_test_loader, num_epochs, \n",
    "                                       RegularizerType.CorrReg, MetricType.Recon_Err, \n",
    "                                       regularizer, loss_type=LossType.MSELoss, \n",
    "                                       device=device, activation_names=activation_layers_names, \n",
    "                                       t_value_tested=True, vpr_tested=True)\n",
    "\n",
    "#####################################################################################################\n",
    "######################### Autoencoder with L1 Training ##############################################\n",
    "#####################################################################################################\n",
    "\n",
    "print(\"MNIST-AE with L1 network is being started...\")\n",
    "model = init_model(NetworkType.AE)\n",
    "optimizer = torch.optim.SGD(model.parameters(), lr=learning_rate, momentum=sgd_optimizer_momentum)\n",
    "_, ae_mnist_metrics[\"L1\"] = train(model,optimizer, mnist_28_train_loader, mnist_28_test_loader,\n",
    "                                  num_epochs,RegularizerType.L1, MetricType.Recon_Err, regularizer, \n",
    "                                  loss_type=LossType.MSELoss, device=device)\n",
    "\n",
    "#####################################################################################################\n",
    "######################### Autoencoder with L2 Training ##############################################\n",
    "#####################################################################################################\n",
    "\n",
    "print(\"MNIST-AE with L2 network is being started...\")\n",
    "model = init_model(NetworkType.AE)\n",
    "optimizer = torch.optim.SGD(model.parameters(), lr=learning_rate, momentum=sgd_optimizer_momentum)\n",
    "_, ae_mnist_metrics[\"L2\"] = train(model,optimizer, mnist_28_train_loader, mnist_28_test_loader, \n",
    "                                  num_epochs,RegularizerType.L2, MetricType.Recon_Err, regularizer,\n",
    "                                  loss_type=LossType.MSELoss, device=device)\n",
    "\n",
    "#####################################################################################################\n",
    "######################### Autoencoder with Dropout Training #########################################\n",
    "#####################################################################################################\n",
    "\n",
    "print(\"MNIST-AE with Dropout network is being started...\")\n",
    "model = init_model(NetworkType.AE,dropout=(True,drop_out_probability))\n",
    "optimizer = torch.optim.SGD(model.parameters(), lr=learning_rate, momentum=sgd_optimizer_momentum)\n",
    "_, ae_mnist_metrics[\"Dropout\"] = train(model,optimizer, mnist_28_train_loader, mnist_28_test_loader,\n",
    "                                       num_epochs,RegularizerType.Dropout, MetricType.Recon_Err, \n",
    "                                       regularizer, loss_type=LossType.MSELoss, device=device)\n",
    "\n",
    "#####################################################################################################\n",
    "######################### Autoencoder with MaxNorm Training #########################################\n",
    "#####################################################################################################\n",
    "\n",
    "print(\"MNIST-AE with MaxNorm network is being started...\")\n",
    "model = init_model(NetworkType.AE)\n",
    "optimizer = torch.optim.SGD(model.parameters(), lr=learning_rate, momentum=sgd_optimizer_momentum)\n",
    "_, ae_mnist_metrics[\"MaxNorm\"] = train(model,optimizer, mnist_28_train_loader, mnist_28_test_loader, \n",
    "                                       num_epochs,RegularizerType.MaxNorm, MetricType.Recon_Err,\n",
    "                                       regularizer, loss_type=LossType.MSELoss, device=device)\n",
    "\n",
    "plot_performance_table(ae_mnist_metrics, \"MNIST-AE\", \"MSE\")\n",
    "\n",
    "#####################################################################################################\n",
    "######## Plotting the Effects of Adaptive Regularization (Table 1, Table 4, Figure 2) ###############\n",
    "#####################################################################################################\n",
    "\n",
    "layers_to_visualize = [1, 3, 5, 7]\n",
    "percentage_layer_no = 7\n",
    "number_of_top_item, number_of_bottom_item, avg_top_item, avg_bottom_item, dist_avg_item = regularizer.get_vpr_values(layers_to_visualize, percentage_layer_no)\n",
    "t_ratio = regularizer.get_t_ratios()\n",
    "\n",
    "model_name = \"MNIST-AE-\" + str(percentage_layer_no)\n",
    "plot_vpr_figure(number_of_top_item, number_of_bottom_item, model_name)\n",
    "\n",
    "plot_vpr_table(avg_top_item, avg_bottom_item, dist_avg_item, \"MNIST-AE\", layers_to_visualize)\n",
    "\n",
    "plot_t_ratio_table(t_ratio, \"MNIST-AE\", layers_to_visualize)\n"
   ]
  },
  {
   "cell_type": "markdown",
   "id": "c24860b5",
   "metadata": {},
   "source": [
    "### LeNet"
   ]
  },
  {
   "cell_type": "code",
   "execution_count": 98,
   "id": "3a3cfbb4",
   "metadata": {},
   "outputs": [
    {
     "name": "stdout",
     "output_type": "stream",
     "text": [
      "LeNet with CorrReg network is being started...\n",
      "LeNet with L1 network is being started...\n",
      "LeNet with L2 network is being started...\n",
      "LeNet with Dropout network is being started...\n",
      "LeNet with MaxNorm network is being started...\n"
     ]
    },
    {
     "data": {
      "image/png": "[encoded data removed]",
      "text/plain": [
       "<Figure size 432x288 with 1 Axes>"
      ]
     },
     "metadata": {
      "needs_background": "light"
     },
     "output_type": "display_data"
    }
   ],
   "source": [
    "# LeNet Results Dictionary \n",
    "lenet_metrics =  {\n",
    "    \"L1\" : 0,\n",
    "    \"L2\" : 0,\n",
    "    \"Dropout\" : 0,\n",
    "    \"MaxNorm\" : 0,\n",
    "    \"CorrReg\" : 0\n",
    "}\n",
    "\n",
    "# Hyperparameter of Autoencoder Training\n",
    "num_epochs = 20\n",
    "learning_rate = 0.001\n",
    "lambda_reg = 1e-6\n",
    "beta_reg = 1e-6\n",
    "maxnorm_maximum_val = 1\n",
    "drop_out_probability = 0.6\n",
    "\n",
    "# Regularizer Initialization & Autoencoder Initialization \n",
    "regularizer = Regularizer(lambda_reg = lambda_reg, beta_reg = beta_reg)\n",
    "model = init_model(NetworkType.LeNet, out_dim = mnist_out_size)\n",
    "\n",
    "# Register Activation Layer \n",
    "activation_layers_names = []\n",
    "for name, layer in model.named_modules():\n",
    "    if 'hidden' in name: \n",
    "        layer.register_forward_hook(get_activation(name))\n",
    "        activation_layers_names.append(name)\n",
    "        \n",
    "        \n",
    "#####################################################################################################\n",
    "######################### LeNet with CorrReg Training ###############################################\n",
    "#####################################################################################################\n",
    "\n",
    "\n",
    "print(\"LeNet with CorrReg network is being started...\")\n",
    "optimizer = torch.optim.SGD(model.parameters(), lr = learning_rate, momentum = sgd_optimizer_momentum)\n",
    "_, lenet_metrics[\"CorrReg\"] = train(model, optimizer, mnist_32_train_loader, mnist_32_test_loader, num_epochs, \n",
    "                                       RegularizerType.CorrReg, MetricType.Error_Rate, \n",
    "                                       regularizer, device = device, \n",
    "                                       activation_names = activation_layers_names)\n",
    "\n",
    "#####################################################################################################\n",
    "######################### LeNet with L1 Training ####################################################\n",
    "#####################################################################################################\n",
    "\n",
    "\n",
    "print(\"LeNet with L1 network is being started...\")\n",
    "model = init_model(NetworkType.LeNet, out_dim = mnist_out_size)\n",
    "optimizer = torch.optim.SGD(model.parameters(), lr = learning_rate, momentum = sgd_optimizer_momentum)\n",
    "_, lenet_metrics[\"L1\"] = train(model, optimizer, mnist_32_train_loader, \n",
    "                                                   mnist_32_test_loader, num_epochs, RegularizerType.L1,\n",
    "                                                   MetricType.Error_Rate,regularizer, device)\n",
    "\n",
    "\n",
    "#####################################################################################################\n",
    "######################### LeNet with L2 Training ####################################################\n",
    "#####################################################################################################\n",
    "\n",
    "\n",
    "print(\"LeNet with L2 network is being started...\")\n",
    "model = init_model(NetworkType.LeNet, out_dim = mnist_out_size)\n",
    "optimizer = torch.optim.SGD(model.parameters(), lr = learning_rate, momentum = sgd_optimizer_momentum)\n",
    "_, lenet_metrics[\"L2\"] = train(model, optimizer, mnist_32_train_loader, \n",
    "                                                   mnist_32_test_loader, num_epochs, RegularizerType.L2\n",
    "                                                   , MetricType.Error_Rate, regularizer, device)\n",
    "\n",
    "\n",
    "#####################################################################################################\n",
    "######################### LeNet with Dropout Training ###############################################\n",
    "#####################################################################################################\n",
    "\n",
    "\n",
    "print(\"LeNet with Dropout network is being started...\")\n",
    "model = init_model(NetworkType.LeNet, out_dim = mnist_out_size, dropout=(True,drop_out_probability))\n",
    "optimizer = torch.optim.SGD(model.parameters(), lr = learning_rate, momentum=sgd_optimizer_momentum)\n",
    "_, lenet_metrics[\"Dropout\"] = train(model, optimizer, mnist_32_train_loader, \n",
    "                                                        mnist_32_test_loader, num_epochs, RegularizerType.Dropout,\n",
    "                                                        MetricType.Error_Rate,regularizer, device)\n",
    "\n",
    "\n",
    "\n",
    "#####################################################################################################\n",
    "######################### LeNet with MaxNorm Training ###############################################\n",
    "#####################################################################################################\n",
    "\n",
    "print(\"LeNet with MaxNorm network is being started...\")\n",
    "model = init_model(NetworkType.LeNet, out_dim = mnist_out_size)\n",
    "optimizer = torch.optim.SGD(model.parameters(), lr = learning_rate, momentum = sgd_optimizer_momentum)\n",
    "_, lenet_metrics[\"MaxNorm\"] = train(model, optimizer, mnist_32_train_loader, \n",
    "                                                        mnist_32_test_loader, num_epochs, RegularizerType.MaxNorm,\n",
    "                                                        MetricType.Error_Rate,regularizer, device,\n",
    "                                                        maxnorm_maximum_val = maxnorm_maximum_val)\n",
    "\n",
    "\n",
    "#########################################################################################################\n",
    "########################### Plotting Comparison Table ###################################################\n",
    "#########################################################################################################\n",
    "plot_performance_table(lenet_metrics, \"LeNet\", \"Error Rate\", no_of_decimal_points_to_show = 6)\n"
   ]
  },
  {
   "cell_type": "markdown",
   "id": "800f44e7",
   "metadata": {},
   "source": [
    "### VGG"
   ]
  },
  {
   "cell_type": "code",
   "execution_count": 13,
   "id": "40157e5f",
   "metadata": {
    "scrolled": false
   },
   "outputs": [
    {
     "name": "stdout",
     "output_type": "stream",
     "text": [
      "VGG with CorrReg network is being started...\n",
      "0.13539999999999996\n",
      "VGG with L1 network is being started...\n",
      "0.13060000000000005\n",
      "VGG with L2 network is being started...\n",
      "0.13460000000000005\n",
      "VGG with Dropout network is being started...\n",
      "0.135\n",
      "VGG with MaxNorm network is being started...\n",
      "0.1281\n"
     ]
    },
    {
     "data": {
      "image/png": "[encoded data removed]",
      "text/plain": [
       "<Figure size 432x288 with 1 Axes>"
      ]
     },
     "metadata": {
      "needs_background": "light"
     },
     "output_type": "display_data"
    }
   ],
   "source": [
    "# VGG Results Dictionary \n",
    "vgg_metrics =  {\n",
    "    \"L1\" : 0,\n",
    "    \"L2\" : 0,\n",
    "    \"Dropout\" : 0,\n",
    "    \"MaxNorm\" : 0,\n",
    "    \"CorrReg\" : 0\n",
    "}\n",
    "\n",
    "# Hyperparameter of Autoencoder Training\n",
    "num_epochs = 2\n",
    "learning_rate = 0.01\n",
    "lambda_reg = 1e-4\n",
    "beta_reg = 1e-6\n",
    "maxnorm_maximum_val = 1\n",
    "drop_out_probability = 0.6\n",
    "\n",
    "# Regularizer Initialization & Autoencoder Initialization \n",
    "model = init_model(NetworkType.VGG)\n",
    "regularizer = Regularizer(lambda_reg = lambda_reg, beta_reg = beta_reg, regularized_param_name = 'classifier')\n",
    "\n",
    "\n",
    "# Register Activation Layer \n",
    "activation_layers_names = []\n",
    "linear_layer_name_in_vgg = ['base_vgg.classifier.6', 'base_vgg.classifier.3', 'base_vgg.classifier.0']\n",
    "for name, layer in model.named_modules():\n",
    "    if name in linear_layer_name_in_vgg: \n",
    "        layer.register_forward_hook(get_activation(name))\n",
    "        activation_layers_names.append(name)\n",
    "\n",
    "\n",
    "#####################################################################################################\n",
    "######################### VGG with CorrReg Training ################################################\n",
    "#####################################################################################################\n",
    "\n",
    "\n",
    "print(\"VGG with CorrReg network is being started...\")\n",
    "optimizer = torch.optim.SGD(model.parameters(), lr = learning_rate, momentum = sgd_optimizer_momentum)\n",
    "_, vgg_metrics[\"CorrReg\"] = train(model, optimizer, cifar_10_train_loader, cifar_10_test_loader, num_epochs, \n",
    "                                       RegularizerType.CorrReg, MetricType.Error_Rate, \n",
    "                                       regularizer, device = device, \n",
    "                                       activation_names = activation_layers_names)\n",
    "print(vgg_metrics[\"CorrReg\"])\n",
    "\n",
    "\n",
    "#####################################################################################################\n",
    "######################### VGG with L1 Training #####################################################\n",
    "#####################################################################################################\n",
    "\n",
    "\n",
    "print(\"VGG with L1 network is being started...\")    \n",
    "model = init_model(NetworkType.VGG)\n",
    "optimizer = torch.optim.SGD(model.parameters(), lr=learning_rate, momentum=sgd_optimizer_momentum)\n",
    "train_history, vgg_metrics[\"L1\"] = train(model,optimizer, cifar_10_train_loader,\n",
    "                                                 cifar_10_test_loader, num_epochs,RegularizerType.L1,\n",
    "                                                 MetricType.Error_Rate, regularizer, device=device)\n",
    "print(vgg_metrics[\"L1\"])\n",
    "\n",
    "\n",
    "#####################################################################################################\n",
    "######################### VGG with L2 Training ######################################################\n",
    "#####################################################################################################\n",
    "\n",
    "\n",
    "print(\"VGG with L2 network is being started...\")    \n",
    "model = init_model(NetworkType.VGG)\n",
    "optimizer = torch.optim.SGD(model.parameters(), lr=learning_rate, momentum=sgd_optimizer_momentum)\n",
    "train_history, vgg_metrics[\"L2\"] = train(model,optimizer, cifar_10_train_loader,\n",
    "                                                 cifar_10_test_loader, num_epochs,RegularizerType.L2,\n",
    "                                                 MetricType.Error_Rate, regularizer, device=device)\n",
    "print(vgg_metrics[\"L2\"])\n",
    "\n",
    "\n",
    "#####################################################################################################\n",
    "######################### VGG with Dropout Training #################################################\n",
    "#####################################################################################################\n",
    "\n",
    "\n",
    "print(\"VGG with Dropout network is being started...\")    \n",
    "model = init_model(NetworkType.VGG)\n",
    "optimizer = torch.optim.SGD(model.parameters(), lr=learning_rate, momentum=sgd_optimizer_momentum)\n",
    "train_history, vgg_metrics[\"Dropout\"] = train(model,optimizer, cifar_10_train_loader,\n",
    "                                                 cifar_10_test_loader, num_epochs,RegularizerType.Dropout,\n",
    "                       \n",
    "                                         MetricType.Error_Rate, regularizer, device=device)\n",
    "print(vgg_metrics[\"Dropout\"])\n",
    "\n",
    "\n",
    "#####################################################################################################\n",
    "#########################  VGG with MaxNorm Training ################################################\n",
    "#####################################################################################################\n",
    "\n",
    "print(\"VGG with MaxNorm network is being started...\")    \n",
    "model = init_model(NetworkType.VGG)\n",
    "optimizer = torch.optim.SGD(model.parameters(), lr=learning_rate, momentum=sgd_optimizer_momentum)\n",
    "train_history, vgg_metrics[\"MaxNorm\"] = train(model,optimizer, cifar_10_train_loader,\n",
    "                                                 cifar_10_test_loader, num_epochs,RegularizerType.MaxNorm,\n",
    "                                                 MetricType.Error_Rate, regularizer, device=device)\n",
    "print(vgg_metrics[\"MaxNorm\"])\n",
    "\n",
    "#########################################################################################################\n",
    "########################### Plotting Comparison Table ###################################################\n",
    "#########################################################################################################\n",
    "plot_performance_table(vgg_metrics, \"VGG-16\", \"Error Rate\", no_of_decimal_points_to_show = 5)\n"
   ]
  },
  {
   "cell_type": "markdown",
   "id": "51f5e7de",
   "metadata": {},
   "source": [
    "## Effectiveness of Hyperparameters"
   ]
  },
  {
   "cell_type": "markdown",
   "id": "a1bc2b0c",
   "metadata": {},
   "source": [
    "#### Polarity-LSTM"
   ]
  },
  {
   "cell_type": "code",
   "execution_count": 29,
   "id": "4ed7c1e4",
   "metadata": {},
   "outputs": [
    {
     "name": "stdout",
     "output_type": "stream",
     "text": [
      "Lambda Reg: 1e-06, Beta Reg: 1e-05 -- Score = 0.6658655625536137\n",
      "Lambda Reg: 0.001, Beta Reg: 1e-05 -- Score = 0.6677266785436249\n",
      "Lambda Reg: 0.1, Beta Reg: 1e-05 -- Score = 0.6732960100586786\n",
      "Lambda Reg: 1e-06, Beta Reg: 0.001 -- Score = 0.6736410315198245\n",
      "Lambda Reg: 0.001, Beta Reg: 0.001 -- Score = 0.6840613799795671\n",
      "Lambda Reg: 0.1, Beta Reg: 0.001 -- Score = 0.675897673238036\n",
      "Lambda Reg: 1e-06, Beta Reg: 0.1 -- Score = 0.682910264751088\n",
      "Lambda Reg: 0.001, Beta Reg: 0.1 -- Score = 0.6794495305847251\n",
      "Lambda Reg: 0.1, Beta Reg: 0.1 -- Score = 0.6831045105434572\n",
      "Lambda Reg: 1e-06, Beta Reg: 10 -- Score = 0.6831045105434572\n",
      "Lambda Reg: 0.001, Beta Reg: 10 -- Score = 0.6831045105434572\n",
      "Lambda Reg: 0.1, Beta Reg: 10 -- Score = 0.6831045105434572\n"
     ]
    },
    {
     "data": {
      "image/png": "[encoded data removed]",
      "text/plain": [
       "<Figure size 432x288 with 1 Axes>"
      ]
     },
     "metadata": {
      "needs_background": "light"
     },
     "output_type": "display_data"
    }
   ],
   "source": [
    "# Lambda & Beta values \n",
    "num_epochs = 20\n",
    "beta_regs =[1e-5, 1e-3, 1e-1, 10]\n",
    "lambda_regs =[1e-6, 0.001, 0.1]\n",
    "learning_rate = 0.5\n",
    "\n",
    "\n",
    "# Train with different Beta and Lambda Values\n",
    "lstm_polarity_metric_results = []\n",
    "for beta_r in beta_regs:\n",
    "    results = {}\n",
    "    for lambda_r in lambda_regs:\n",
    "        \n",
    "        # Initialize Regularizer and Models\n",
    "        regularizer = Regularizer(lambda_reg = lambda_r, beta_reg = beta_r)\n",
    "\n",
    "        model = init_model(NetworkType.LSTM, sentence_vocab_length, lstm_hidden_size, \n",
    "                           out_dim = polarity_out_size,\n",
    "                           lstm_number_of_layer = lstm_number_of_layer,\n",
    "                           device = device)\n",
    "        \n",
    "        # Register Activation Layer \n",
    "        activation_layers_names = []\n",
    "        for name, layer in model.named_modules():\n",
    "            if 'hidden' in name: \n",
    "                layer.register_forward_hook(get_activation(name))\n",
    "                activation_layers_names.append(name)\n",
    "        \n",
    "        # Train the model and get metric scores\n",
    "        optimizer = torch.optim.SGD(model.parameters(), lr = learning_rate, momentum = sgd_optimizer_momentum)\n",
    "        _, metric_score = train(model,optimizer, polarity_train_loader,\n",
    "                                                   polarity_test_loader, num_epochs,\n",
    "                                                   RegularizerType.CorrReg, MetricType.AUC, \n",
    "                                                   regularizer, device,\n",
    "                                                   activation_names = activation_layers_names)\n",
    "        print(\"Lambda Reg: \" + str(lambda_r) + \", Beta Reg: \" + str(beta_r) + \" -- Score = \" + str(metric_score))\n",
    "        results[lambda_r] = metric_score\n",
    "        \n",
    "        \n",
    "    lstm_polarity_metric_results.append(results)\n",
    "    \n",
    "# Plot the Effectiveness Figure(Figure 3 in paper)\n",
    "plot_effectiveness_figure(lstm_polarity_metric_results, beta_regs, \"Polarity-LSTM\", \"AUC\")"
   ]
  },
  {
   "cell_type": "code",
   "execution_count": null,
   "id": "0112f575",
   "metadata": {},
   "outputs": [],
   "source": []
  }
 ],
 "metadata": {
  "kernelspec": {
   "display_name": "Python 3",
   "language": "python",
   "name": "python3"
  },
  "language_info": {
   "codemirror_mode": {
    "name": "ipython",
    "version": 3
   },
   "file_extension": ".py",
   "mimetype": "text/x-python",
   "name": "python",
   "nbconvert_exporter": "python",
   "pygments_lexer": "ipython3",
   "version": "3.6.9"
  }
 },
 "nbformat": 4,
 "nbformat_minor": 5
}
